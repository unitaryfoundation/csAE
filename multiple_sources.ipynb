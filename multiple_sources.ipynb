{
 "cells": [
  {
   "cell_type": "code",
   "execution_count": 1,
   "metadata": {},
   "outputs": [
    {
     "data": {
      "text/plain": [
       "<Figure size 640x480 with 0 Axes>"
      ]
     },
     "metadata": {},
     "output_type": "display_data"
    }
   ],
   "source": [
    "import numpy as np\n",
    "import matplotlib.pyplot as plt\n",
    "import seaborn as sns\n",
    "from signals import *\n",
    "from frequencyestimator import *\n",
    "import time\n",
    "import copy\n",
    "\n",
    "sns.set_style(\"whitegrid\")\n",
    "sns.despine(left=True, bottom=True)\n",
    "sns.set_context(\"poster\", font_scale = .45, rc={\"grid.linewidth\": 0.8})"
   ]
  },
  {
   "cell_type": "code",
   "execution_count": 2,
   "metadata": {},
   "outputs": [],
   "source": [
    "from math import factorial\n",
    "\n",
    "def index_I(q, N, l, i):\n",
    "    s1 = 0\n",
    "    s2 = 0\n",
    "    for j in range(l):\n",
    "        s1 += N**(q - j - 1) * i[j]\n",
    "    for j in range(q-l):\n",
    "        s2 += N**(q - l - j - 1) * i[q + j]\n",
    "    \n",
    "    return s1 + s2\n",
    "\n",
    "def index_J(q, N, l, i):\n",
    "    s1 = 0\n",
    "    s2 = 0\n",
    "    for j in range(l):\n",
    "        s1 += N**(q - j - 1) * i[2*q - l + j]\n",
    "    for j in range(q-l):\n",
    "        s2 += N**(q - l - j - 1) * i[l + j]\n",
    "    \n",
    "    return s1 + s2\n",
    "\n",
    "def comb_factor(q):\n",
    "    s = 0\n",
    "    for p in range(1, 2*q + 1):\n",
    "        s += (-1)**p * factorial(p-1)\n",
    "    return s\n",
    "\n",
    "def cumulant_signal(signal, i):\n",
    "    res = 1\n",
    "    for n in range(len(i)):\n",
    "        if n < len(i)//2:\n",
    "            res = res * signal[i[n]]\n",
    "        else:\n",
    "            res = res * np.conj(signal[i[n]])\n",
    "    return res\n",
    "    \n",
    "def get_virtual_location(narray, i):\n",
    "    res = 0\n",
    "    for j in range(len(i)//2):\n",
    "        res = res + narray[i[j]]\n",
    "    for j in range(len(i)//2, len(i)):\n",
    "        res = res - narray[i[j]]\n",
    "    return res\n",
    "\n",
    "def sort_tuples_by_last_element(tuple_list):\n",
    "    return sorted(tuple_list, key=lambda x: x[-1])\n",
    "\n",
    "from collections import defaultdict\n",
    "\n",
    "def group_tuples_by_last_element(tuple_list):\n",
    "    groups = defaultdict(list)\n",
    "    for t in tuple_list:\n",
    "        groups[t[-1]].append(t[:-1])  # Store all elements except the last\n",
    "    return dict(groups)"
   ]
  },
  {
   "cell_type": "code",
   "execution_count": 3,
   "metadata": {},
   "outputs": [
    {
     "data": {
      "text/plain": [
       "array([ 0.49090909+0.j, -1.        +0.j,  0.15555556+0.j, -0.9       +0.j,\n",
       "       -0.2       +0.j, -0.06666667+0.j, -0.28      +0.j, -0.9       +0.j,\n",
       "        0.86666667+0.j, -0.8       +0.j,  0.2       +0.j])"
      ]
     },
     "execution_count": 3,
     "metadata": {},
     "output_type": "execute_result"
    }
   ],
   "source": [
    "# Set the array parameters (See Thm. II.2 and Eq. 12) \n",
    "q = 4\n",
    "narray = [2]*(2*q+2)\n",
    "# Set the actual angle\n",
    "theta = 0.5\n",
    "\n",
    "# This sets up the simulation that simulates the measured amplitudes at the various physical locations.\n",
    "# It uses a C=1.5 value, which corresponds to the sampling schedule given in Eq. 16. The variable C here \n",
    "# is the parameter K in the paper.\n",
    "ula_signal = TwoqULASignal(M=narray, C=5)\n",
    "\n",
    "# Sets up the ESPIRIT object to estimate the amplitude\n",
    "espirit = ESPIRIT()\n",
    "\n",
    "signal = ula_signal.estimate_signal(ula_signal.n_samples, theta)\n",
    "\n",
    "signal"
   ]
  },
  {
   "cell_type": "code",
   "execution_count": 4,
   "metadata": {},
   "outputs": [
    {
     "data": {
      "text/plain": [
       "array([  0,   1,   2,   4,   8,  16,  32,  64, 128, 256, 512])"
      ]
     },
     "execution_count": 4,
     "metadata": {},
     "output_type": "execute_result"
    }
   ],
   "source": [
    "depths = ula_signal.depths\n",
    "depths"
   ]
  },
  {
   "cell_type": "code",
   "execution_count": 5,
   "metadata": {},
   "outputs": [],
   "source": [
    "q = 2\n",
    "N = len(depths)\n",
    "l=q//2\n",
    "\n",
    "virtual_locations = []\n",
    "\n",
    "from itertools import product\n",
    "\n",
    "comb = product(list(range(N)), repeat=2*q)\n",
    "\n",
    "I_indices = []\n",
    "J_indices = []\n",
    "\n",
    "R = np.zeros((N**q, N**q), dtype=complex)\n",
    "\n",
    "for i in comb:\n",
    "    # print(i)\n",
    "    I_index = index_I(q, N, l, i)\n",
    "    J_index = index_J(q, N, l, i)\n",
    "    I_indices.append(I_index)\n",
    "    J_indices.append(J_index)\n",
    "\n",
    "    R[I_index][J_index] = cumulant_signal(signal=signal, i=i) #+ R[I_index][J_index] # QUESTION: are the pairs (I_index, J_index) unique for different values of i?\n",
    "    virtual_locations.append((I_index, J_index, get_virtual_location(narray=depths, i=i)))\n"
   ]
  },
  {
   "cell_type": "code",
   "execution_count": 6,
   "metadata": {},
   "outputs": [],
   "source": [
    "index_virtual_location = sort_tuples_by_last_element(virtual_locations)\n",
    "grouped_tuples = group_tuples_by_last_element(index_virtual_location)\n",
    "\n",
    "# Print the result\n",
    "# for key, group in sorted(grouped_tuples.items()):\n",
    "#     print(f\"Group {key}: {group}\")"
   ]
  },
  {
   "cell_type": "code",
   "execution_count": 7,
   "metadata": {},
   "outputs": [],
   "source": [
    "vlocs = np.array(list(grouped_tuples.keys()))\n",
    "# np.diff(vlocs)"
   ]
  },
  {
   "cell_type": "code",
   "execution_count": 8,
   "metadata": {},
   "outputs": [
    {
     "data": {
      "text/plain": [
       "array([-72, -71, -70, -69, -68, -67, -66, -65, -64, -63, -62, -61, -60,\n",
       "       -59, -58, -57, -56, -55, -54, -53, -52, -51, -50, -49, -48, -47,\n",
       "       -46, -45, -44, -43, -42, -41, -40, -39, -38, -37, -36, -35, -34,\n",
       "       -33, -32, -31, -30, -29, -28, -27, -26, -25, -24, -23, -22, -21,\n",
       "       -20, -19, -18, -17, -16, -15, -14, -13, -12, -11, -10,  -9,  -8,\n",
       "        -7,  -6,  -5,  -4,  -3,  -2,  -1,   0,   1,   2,   3,   4,   5,\n",
       "         6,   7,   8,   9,  10,  11,  12,  13,  14,  15,  16,  17,  18,\n",
       "        19,  20,  21,  22,  23,  24,  25,  26,  27,  28,  29,  30,  31,\n",
       "        32,  33,  34,  35,  36,  37,  38,  39,  40,  41,  42,  43,  44,\n",
       "        45,  46,  47,  48,  49,  50,  51,  52,  53,  54,  55,  56,  57,\n",
       "        58,  59,  60,  61,  62,  63,  64,  65,  66,  67,  68,  69,  70,\n",
       "        71,  72])"
      ]
     },
     "execution_count": 8,
     "metadata": {},
     "output_type": "execute_result"
    }
   ],
   "source": [
    "b = np.diff(vlocs)\n",
    "b = b[:len(b)//2]\n",
    "\n",
    "start_idx = np.max(np.argwhere(b>1)) + 1\n",
    "ula = vlocs[start_idx:-start_idx]\n",
    "\n",
    "ula"
   ]
  },
  {
   "cell_type": "code",
   "execution_count": 9,
   "metadata": {},
   "outputs": [],
   "source": [
    "cvec = np.zeros(len(ula), dtype=complex)\n",
    "\n",
    "for i, u in enumerate(ula):\n",
    "    avg_signal = 0\n",
    "    for idx in grouped_tuples[u]:\n",
    "        avg_signal += R[idx]\n",
    "    # avg_signal = avg_signal / len(grouped_tuples[u])\n",
    "    cvec[i] = avg_signal\n",
    "\n",
    "# cvec"
   ]
  },
  {
   "cell_type": "code",
   "execution_count": 10,
   "metadata": {},
   "outputs": [
    {
     "data": {
      "text/plain": [
       "(0.5,\n",
       " 0.5364142726696303,\n",
       " array([-2.14565709,  2.14565709]),\n",
       " 0.5364142726696303,\n",
       " 0.03163164494625792)"
      ]
     },
     "execution_count": 10,
     "metadata": {},
     "output_type": "execute_result"
    }
   ],
   "source": [
    "theta_est, angle = espirit.estimate_theta_toeplitz(cvec[len(cvec)//2:])\n",
    "# R = ula_signal.get_cov_matrix(cvec)\n",
    "# theta_est = music.estimate_theta(R, lanczos = False)\n",
    "# print(angle)\n",
    "# Estimate the error between estimated a and actual a\n",
    "theta_est2 = np.sum(np.abs(angle))/8\n",
    "error = np.abs(np.sin(theta)-np.sin(theta_est2)) \n",
    "theta, theta_est, angle, np.sum(np.abs(angle))/8, error"
   ]
  },
  {
   "cell_type": "code",
   "execution_count": 54,
   "metadata": {},
   "outputs": [
    {
     "data": {
      "text/plain": [
       "(0.45532,\n",
       " 0.6735180386275349,\n",
       " array([-2.69407215,  2.69407215]),\n",
       " 0.6735180386275349,\n",
       " 0.18398991857431712)"
      ]
     },
     "execution_count": 54,
     "metadata": {},
     "output_type": "execute_result"
    }
   ],
   "source": [
    "# Set the array parameters (See Thm. II.2 and Eq. 12) \n",
    "q = 4\n",
    "narray = [2]*(2*q+2)\n",
    "# Set the actual angle\n",
    "theta = 0.45532 #theta between 0.0 and 1.57 approx pi/2\n",
    "\n",
    "# This sets up the simulation that simulates the measured amplitudes at the various physical locations.\n",
    "# It uses a C=1.5 value, which corresponds to the sampling schedule given in Eq. 16. The variable C here \n",
    "# is the parameter K in the paper.\n",
    "ula_signal = TwoqULASignal(M=narray, C=4)\n",
    "depths = ula_signal.depths\n",
    "\n",
    "# Sets up the ESPIRIT object to estimate the amplitude\n",
    "espirit = ESPIRIT()\n",
    "\n",
    "signal = ula_signal.estimate_signal(ula_signal.n_samples, theta)\n",
    "\n",
    "R = ula_signal.get_cov_matrix_toeplitz(signal)\n",
    "# This estimates the angle using the ESPIRIT algorithm\n",
    "theta_est, angle = espirit.estimate_theta_toeplitz(R)\n",
    "# R = ula_signal.get_cov_matrix(signal)\n",
    "# theta_est = music.estimate_theta(R, lanczos = False)\n",
    "# print(angle)\n",
    "# Estimate the error between estimated a and actual a\n",
    "theta_est2 = np.sum(np.abs(angle))/8\n",
    "error = np.abs(np.sin(theta)-np.sin(theta_est)) \n",
    "theta, theta_est, angle, np.sum(np.abs(angle))/8, error"
   ]
  },
  {
   "cell_type": "code",
   "execution_count": 9,
   "metadata": {},
   "outputs": [
    {
     "data": {
      "text/plain": [
       "array([ 0.57142857+0.j, -0.91666667+0.j, -0.2       +0.j, -0.375     +0.j,\n",
       "       -1.        +0.j,  0.25      +0.j, -0.5       +0.j])"
      ]
     },
     "execution_count": 9,
     "metadata": {},
     "output_type": "execute_result"
    }
   ],
   "source": [
    "signal"
   ]
  },
  {
   "cell_type": "code",
   "execution_count": 55,
   "metadata": {},
   "outputs": [],
   "source": [
    "def get_vlocs():\n",
    "    virtual_locations = []\n",
    "    virtual_signals = []\n",
    "    difference_matrix = np.zeros((len(depths), len(depths)), dtype=int)\n",
    "    signal_matrix = np.zeros((len(depths), len(depths)), dtype=complex)\n",
    "    for r, rval in enumerate(depths):\n",
    "        for c, cval in enumerate(depths):\n",
    "            difference_matrix[r][c] = rval-cval\n",
    "            signal_matrix[r][c] = signal[r] * np.conj(signal[c])\n",
    "    depths0 = difference_matrix.flatten(order='F')\n",
    "    signal0 = signal_matrix.flatten(order='F')\n",
    "    new_depths = depths0\n",
    "    new_signal = signal0\n",
    "\n",
    "    virtual_locations.append(depths0)\n",
    "    virtual_signals.append(signal0)\n",
    "    for i in range(q-1):\n",
    "        difference_matrix = np.zeros((len(new_depths), len(depths0)), dtype=int)\n",
    "        signal_matrix = np.zeros((len(new_depths), len(signal0)), dtype=complex)\n",
    "        for r, rval in enumerate(new_depths):\n",
    "            for c, cval in enumerate(depths0):\n",
    "                difference_matrix[r][c] = rval-cval\n",
    "                signal_matrix[r][c] = new_signal[r] * np.conj(signal0[c])\n",
    "        new_depths = difference_matrix.flatten(order='F')\n",
    "        new_signal = signal_matrix.flatten(order='F')\n",
    "        virtual_locations.append(new_depths)\n",
    "        virtual_signals.append(new_signal)\n",
    "\n",
    "    return virtual_locations, virtual_signals"
   ]
  },
  {
   "cell_type": "code",
   "execution_count": 56,
   "metadata": {},
   "outputs": [],
   "source": [
    "virtual_locations, virtual_signals = get_vlocs()"
   ]
  },
  {
   "cell_type": "code",
   "execution_count": 57,
   "metadata": {},
   "outputs": [],
   "source": [
    "virtual_signal = virtual_signals[-1]\n",
    "virtual_location = virtual_locations[-1]"
   ]
  },
  {
   "cell_type": "code",
   "execution_count": 58,
   "metadata": {},
   "outputs": [],
   "source": [
    "sorted_idx = np.argsort(virtual_location)"
   ]
  },
  {
   "cell_type": "code",
   "execution_count": 59,
   "metadata": {},
   "outputs": [
    {
     "data": {
      "text/plain": [
       "array([-2048, -2047, -2047, -2047, -2047, -2046, -2046, -2046, -2046,\n",
       "       -2046, -2046, -2046, -2046, -2046, -2046, -2045, -2045, -2045,\n",
       "       -2045, -2045, -2045, -2045, -2045, -2045, -2045, -2045, -2045,\n",
       "       -2045, -2045, -2045, -2045, -2044, -2044, -2044, -2044, -2044,\n",
       "       -2044, -2044, -2044, -2044, -2044, -2044, -2044, -2044, -2044,\n",
       "       -2044, -2044, -2044, -2044, -2044, -2044, -2044, -2044, -2044,\n",
       "       -2043, -2043, -2043, -2043, -2043, -2043, -2043, -2043, -2043,\n",
       "       -2043, -2043, -2043, -2043, -2043, -2043, -2043, -2043, -2043,\n",
       "       -2043, -2043, -2043, -2043, -2043, -2043, -2043, -2043, -2043,\n",
       "       -2043, -2042, -2042, -2042, -2042, -2042, -2042, -2042, -2042,\n",
       "       -2042, -2042, -2042, -2042, -2042, -2042, -2042, -2042, -2042,\n",
       "       -2042])"
      ]
     },
     "execution_count": 59,
     "metadata": {},
     "output_type": "execute_result"
    }
   ],
   "source": [
    "virtual_location[sorted_idx][:100]"
   ]
  },
  {
   "cell_type": "code",
   "execution_count": 60,
   "metadata": {},
   "outputs": [],
   "source": [
    "sorted_vlocs = virtual_location[sorted_idx]"
   ]
  },
  {
   "cell_type": "code",
   "execution_count": 61,
   "metadata": {},
   "outputs": [],
   "source": [
    "grouped_vlocs = defaultdict(list)\n",
    "for idx in sorted_idx:\n",
    "    grouped_vlocs[virtual_location[idx]].append(idx)\n",
    "# grouped_vlocs"
   ]
  },
  {
   "cell_type": "code",
   "execution_count": 62,
   "metadata": {},
   "outputs": [
    {
     "data": {
      "text/plain": [
       "array([-1568, -1567, -1566, ...,  1566,  1567,  1568])"
      ]
     },
     "execution_count": 62,
     "metadata": {},
     "output_type": "execute_result"
    }
   ],
   "source": [
    "vlocs = np.array(list(grouped_vlocs.keys()))\n",
    "\n",
    "b = np.diff(vlocs)\n",
    "b = b[:len(b)//2]\n",
    "\n",
    "start_idx = np.max(np.argwhere(b>1)) + 1\n",
    "ula = vlocs[start_idx:-start_idx]\n",
    "\n",
    "ula"
   ]
  },
  {
   "cell_type": "code",
   "execution_count": 77,
   "metadata": {},
   "outputs": [],
   "source": [
    "cvec = np.zeros(len(ula), dtype=complex)\n",
    "\n",
    "for i, u in enumerate(ula):\n",
    "    avg_signal = 0\n",
    "    for j, idx in enumerate(grouped_vlocs[u]):\n",
    "        avg_signal += virtual_signal[idx]\n",
    "        # if j==4:\n",
    "        #     break\n",
    "    # avg_signal = avg_signal / len(grouped_tuples[u])\n",
    "    cvec[i] = avg_signal\n",
    "\n",
    "# cvec"
   ]
  },
  {
   "cell_type": "code",
   "execution_count": 81,
   "metadata": {},
   "outputs": [
    {
     "data": {
      "text/plain": [
       "(0.45532,\n",
       " 1.3184250291803317,\n",
       " array([ 1.00948519, -1.00948519]),\n",
       " 0.2523712976145648,\n",
       " 0.5285732948911758)"
      ]
     },
     "execution_count": 81,
     "metadata": {},
     "output_type": "execute_result"
    }
   ],
   "source": [
    "theta_est, angle = espirit.estimate_theta_toeplitz(cvec[len(cvec)//2:])\n",
    "# R = ula_signal.get_cov_matrix(cvec)\n",
    "# theta_est = music.estimate_theta(R, lanczos = False)\n",
    "# print(angle)\n",
    "# Estimate the error between estimated a and actual a\n",
    "theta_est2 = np.sum(np.abs(angle))/8\n",
    "error = np.abs(np.sin(theta)-np.sin(theta_est)) \n",
    "theta, theta_est, angle, np.sum(np.abs(angle))/8, error"
   ]
  },
  {
   "cell_type": "code",
   "execution_count": null,
   "metadata": {},
   "outputs": [],
   "source": []
  }
 ],
 "metadata": {
  "kernelspec": {
   "display_name": ".venv",
   "language": "python",
   "name": "python3"
  },
  "language_info": {
   "codemirror_mode": {
    "name": "ipython",
    "version": 3
   },
   "file_extension": ".py",
   "mimetype": "text/x-python",
   "name": "python",
   "nbconvert_exporter": "python",
   "pygments_lexer": "ipython3",
   "version": "3.10.9"
  }
 },
 "nbformat": 4,
 "nbformat_minor": 2
}
