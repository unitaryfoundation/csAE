{
 "cells": [
  {
   "cell_type": "code",
   "execution_count": 1,
   "metadata": {},
   "outputs": [
    {
     "data": {
      "text/plain": [
       "<Figure size 640x480 with 0 Axes>"
      ]
     },
     "metadata": {},
     "output_type": "display_data"
    }
   ],
   "source": [
    "import numpy as np\n",
    "import matplotlib.pyplot as plt\n",
    "import seaborn as sns\n",
    "from signals import *\n",
    "from frequencyestimator import *\n",
    "from scipy.optimize import basinhopping, minimize\n",
    "from tqdm.auto import tqdm\n",
    "from util import *\n",
    "from csae import *\n",
    "\n",
    "sns.set_style(\"whitegrid\")\n",
    "sns.despine(left=True, bottom=True)\n",
    "sns.set_context(\"poster\", font_scale = .45, rc={\"grid.linewidth\": 0.8})"
   ]
  },
  {
   "cell_type": "markdown",
   "metadata": {},
   "source": [
    "## Use the distribution of signs so we don't have to try all possible signs"
   ]
  },
  {
   "cell_type": "code",
   "execution_count": 4,
   "metadata": {},
   "outputs": [
    {
     "name": "stdout",
     "output_type": "stream",
     "text": [
      "query depths:            [  0   1   2   4   8  16  32  64 128]\n",
      "number of samples:       [90, 40, 35, 30, 25, 20, 15, 10, 5]\n",
      "total number of queries: 2600\n",
      "a exact:                 0.100000000\n",
      "a estimated:             0.099796912\n",
      "a estimated exact signs: 0.099898999\n",
      "error:                   2.031e-04\n",
      "error exact signs:       2.671e-04\n"
     ]
    }
   ],
   "source": [
    "# Reproducibility\n",
    "np.random.seed(42)\n",
    "\n",
    "# Set actual amplitude and angle\n",
    "a = 0.1\n",
    "theta = np.arcsin(a)\n",
    "\n",
    "# Set array parameters (see Eq. xxx)\n",
    "narray = [2,2,2,2,2,2,2,2]\n",
    "\n",
    "# Create ULA object. Requires array parameters narray and an optional C parameter \n",
    "# that defines how many samples to take.\n",
    "ula_signal = TwoqULASignal(M=narray, C=5)\n",
    "# Create ESPIRIT Object\n",
    "esprit = ESPIRIT()\n",
    "\n",
    "\n",
    "# This function \"learns\" the distribution of signs through simulation\n",
    "heavy_signs = get_heavy_signs(ula_signal.depths, ula_signal.n_samples, len(narray)**2)\n",
    "\n",
    "\n",
    "############ Simulation Code ##############\n",
    "# This portion of code is only used for simulation purposes. If you wish to use this code\n",
    "# with exprimental values, this will be replaced and one will set the measurement values\n",
    "# directly using the ula_signal.set_measurements(measurements) method.\n",
    "\n",
    "# Simulate a noisy set of measurements for the given angle theta. Simulator also returns the\n",
    "# actual complext signal csignal that is not available from an actual experiment\n",
    "csignal, measurements = simulate_signal(ula_signal.depths, ula_signal.n_samples, theta)\n",
    "# Here we use the simulated complex signal to see how much better (or worse) we would have done\n",
    "# if we had access to the actual complex signal and did not need to optimize the signs.\n",
    "cR = ula_signal.get_cov_matrix_toeplitz(csignal)\n",
    "theta_est1, _ = esprit.estimate_theta_toeplitz(cR)\n",
    "a_est1 = np.sin(theta_est1)\n",
    "err1 = np.abs(a - np.sin(a_est1))\n",
    "############ End Simulation Code ##############\n",
    "\n",
    "\n",
    "# Set the measurement probabilities using an array of length depths that correspond to the \n",
    "# probability of measuring the |0,x> state in the state psi> = a|0,x> + sqrt{1-a^2}|1,x'>. \n",
    "# This corresponds to |a|^2. Here we use the simulated measurements, but this could be experimental\n",
    "# measurements as well.\n",
    "ula_signal.set_measurements(measurements)\n",
    "# This function is a simple helper function that takes the ula_signal object and the learned \n",
    "# distribution of signs and estimates the amplitude a\n",
    "a_est = estimate_amplitude(ula_signal, heavy_signs)\n",
    "# Error is just the absolute difference\n",
    "err = np.abs(a - a_est)\n",
    "\n",
    "\n",
    "# Compute the total queries. We also add the 0 depth query estimate which is often neglected.\n",
    "total_queries = np.sum(np.array(ula_signal.depths) * np.array(ula_signal.n_samples)) + ula_signal.n_samples[0]\n",
    "\n",
    "# Print summary output\n",
    "print(f'query depths:            {ula_signal.depths}')\n",
    "print(f'number of samples:       {ula_signal.n_samples}')\n",
    "print(f'total number of queries: {total_queries}')\n",
    "print(f'a exact:                 {a:0.9f}')\n",
    "print(f'a estimated:             {a_est:0.9f}')\n",
    "print(f'a estimated exact signs: {a_est1:0.9f}')\n",
    "print(f'error:                   {err:0.3e}')\n",
    "print(f'error exact signs:       {err1:0.3e}')\n"
   ]
  },
  {
   "cell_type": "markdown",
   "metadata": {},
   "source": [
    "## Let's do some statistics now"
   ]
  },
  {
   "cell_type": "code",
   "execution_count": 5,
   "metadata": {},
   "outputs": [
    {
     "name": "stdout",
     "output_type": "stream",
     "text": [
      "theta = 0.41111546403370536\n"
     ]
    },
    {
     "data": {
      "application/vnd.jupyter.widget-view+json": {
       "model_id": "64e056e0b53b493fbf91748d3e9111c7",
       "version_major": 2,
       "version_minor": 0
      },
      "text/plain": [
       "  0%|          | 0/100 [00:00<?, ?it/s]"
      ]
     },
     "metadata": {},
     "output_type": "display_data"
    },
    {
     "name": "stdout",
     "output_type": "stream",
     "text": [
      "constant factors query and depth: 8.396e-02, 15.112069502962964, 0.6716475334650206\n",
      "theta = 1.0363905664439828\n"
     ]
    },
    {
     "data": {
      "application/vnd.jupyter.widget-view+json": {
       "model_id": "266045b380164593be521716cc6c9729",
       "version_major": 2,
       "version_minor": 0
      },
      "text/plain": [
       "  0%|          | 0/100 [00:00<?, ?it/s]"
      ]
     },
     "metadata": {},
     "output_type": "display_data"
    },
    {
     "name": "stdout",
     "output_type": "stream",
     "text": [
      "constant factors query and depth: 1.510e-02, 2.7187962089237976, 0.12083538706327988\n",
      "theta = 0.7554209219922304\n"
     ]
    },
    {
     "data": {
      "application/vnd.jupyter.widget-view+json": {
       "model_id": "54db34296e0d4c33a07ad6a1108d2761",
       "version_major": 2,
       "version_minor": 0
      },
      "text/plain": [
       "  0%|          | 0/100 [00:00<?, ?it/s]"
      ]
     },
     "metadata": {},
     "output_type": "display_data"
    },
    {
     "name": "stdout",
     "output_type": "stream",
     "text": [
      "constant factors query and depth: 1.470e-02, 2.646032773860385, 0.1176014566160171\n",
      "theta = 0.6174118623048501\n"
     ]
    },
    {
     "data": {
      "application/vnd.jupyter.widget-view+json": {
       "model_id": "ab3d7893aa1a45028df44c8ee23f8317",
       "version_major": 2,
       "version_minor": 0
      },
      "text/plain": [
       "  0%|          | 0/100 [00:00<?, ?it/s]"
      ]
     },
     "metadata": {},
     "output_type": "display_data"
    },
    {
     "name": "stdout",
     "output_type": "stream",
     "text": [
      "constant factors query and depth: 3.326e-02, 5.98651947337054, 0.2660675321498018\n",
      "theta = 0.2267530819288086\n"
     ]
    },
    {
     "data": {
      "application/vnd.jupyter.widget-view+json": {
       "model_id": "24758d4b55414213bf322d8915aea0cc",
       "version_major": 2,
       "version_minor": 0
      },
      "text/plain": [
       "  0%|          | 0/100 [00:00<?, ?it/s]"
      ]
     },
     "metadata": {},
     "output_type": "display_data"
    },
    {
     "name": "stdout",
     "output_type": "stream",
     "text": [
      "constant factors query and depth: 2.035e-02, 3.663231132762518, 0.16281027256722302\n",
      "theta = 0.2267332789613546\n"
     ]
    },
    {
     "data": {
      "application/vnd.jupyter.widget-view+json": {
       "model_id": "a12371118b564e71a312f415f0436c83",
       "version_major": 2,
       "version_minor": 0
      },
      "text/plain": [
       "  0%|          | 0/100 [00:00<?, ?it/s]"
      ]
     },
     "metadata": {},
     "output_type": "display_data"
    },
    {
     "name": "stdout",
     "output_type": "stream",
     "text": [
      "constant factors query and depth: 2.524e-02, 4.54304912853087, 0.20191329460137203\n",
      "theta = 0.14699569205633\n"
     ]
    },
    {
     "data": {
      "application/vnd.jupyter.widget-view+json": {
       "model_id": "a6e5d3ade0b74d988d3f8c4f386f28ed",
       "version_major": 2,
       "version_minor": 0
      },
      "text/plain": [
       "  0%|          | 0/100 [00:00<?, ?it/s]"
      ]
     },
     "metadata": {},
     "output_type": "display_data"
    },
    {
     "name": "stdout",
     "output_type": "stream",
     "text": [
      "constant factors query and depth: 4.652e-02, 8.373415473499952, 0.37215179882222005\n",
      "theta = 0.9156206760936844\n"
     ]
    },
    {
     "data": {
      "application/vnd.jupyter.widget-view+json": {
       "model_id": "c14fcc9388a04fe5baa4df442c331e26",
       "version_major": 2,
       "version_minor": 0
      },
      "text/plain": [
       "  0%|          | 0/100 [00:00<?, ?it/s]"
      ]
     },
     "metadata": {},
     "output_type": "display_data"
    },
    {
     "name": "stdout",
     "output_type": "stream",
     "text": [
      "constant factors query and depth: 1.203e-02, 2.165269281290202, 0.09623419027956454\n",
      "theta = 0.6198241234230385\n"
     ]
    },
    {
     "data": {
      "application/vnd.jupyter.widget-view+json": {
       "model_id": "d1c5ff8ee9af41e68f1a0ecb9327e29c",
       "version_major": 2,
       "version_minor": 0
      },
      "text/plain": [
       "  0%|          | 0/100 [00:00<?, ?it/s]"
      ]
     },
     "metadata": {},
     "output_type": "display_data"
    },
    {
     "name": "stdout",
     "output_type": "stream",
     "text": [
      "constant factors query and depth: 2.791e-02, 5.0232193504192235, 0.2232541933519655\n",
      "theta = 0.7294478190327938\n"
     ]
    },
    {
     "data": {
      "application/vnd.jupyter.widget-view+json": {
       "model_id": "8a20bdac99ee43f3b2e95d01600e6bdd",
       "version_major": 2,
       "version_minor": 0
      },
      "text/plain": [
       "  0%|          | 0/100 [00:00<?, ?it/s]"
      ]
     },
     "metadata": {},
     "output_type": "display_data"
    },
    {
     "name": "stdout",
     "output_type": "stream",
     "text": [
      "constant factors query and depth: 1.345e-02, 2.420960345619374, 0.10759823758308329\n",
      "theta = 0.11673252381145406\n"
     ]
    },
    {
     "data": {
      "application/vnd.jupyter.widget-view+json": {
       "model_id": "29f7e99652f54169ad2236380d1e6ad6",
       "version_major": 2,
       "version_minor": 0
      },
      "text/plain": [
       "  0%|          | 0/100 [00:00<?, ?it/s]"
      ]
     },
     "metadata": {},
     "output_type": "display_data"
    },
    {
     "name": "stdout",
     "output_type": "stream",
     "text": [
      "constant factors query and depth: 1.834e-02, 3.301065761147636, 0.1467140338287838\n",
      "theta = 1.0673557731834724\n"
     ]
    },
    {
     "data": {
      "application/vnd.jupyter.widget-view+json": {
       "model_id": "69cce058cc044aac98bb11b31ad6a6eb",
       "version_major": 2,
       "version_minor": 0
      },
      "text/plain": [
       "  0%|          | 0/100 [00:00<?, ?it/s]"
      ]
     },
     "metadata": {},
     "output_type": "display_data"
    },
    {
     "name": "stdout",
     "output_type": "stream",
     "text": [
      "constant factors query and depth: 2.096e-02, 3.7733452375094703, 0.16770423277819868\n",
      "theta = 0.8725241084844789\n"
     ]
    },
    {
     "data": {
      "application/vnd.jupyter.widget-view+json": {
       "model_id": "54e562ba3da442c08de03e6dcb769143",
       "version_major": 2,
       "version_minor": 0
      },
      "text/plain": [
       "  0%|          | 0/100 [00:00<?, ?it/s]"
      ]
     },
     "metadata": {},
     "output_type": "display_data"
    },
    {
     "name": "stdout",
     "output_type": "stream",
     "text": [
      "constant factors query and depth: 1.767e-02, 3.1806789581525385, 0.14136350925122393\n",
      "theta = 0.2732593578259982\n"
     ]
    },
    {
     "data": {
      "application/vnd.jupyter.widget-view+json": {
       "model_id": "3029d7f5170b439fb4c8d48a725d0530",
       "version_major": 2,
       "version_minor": 0
      },
      "text/plain": [
       "  0%|          | 0/100 [00:00<?, ?it/s]"
      ]
     },
     "metadata": {},
     "output_type": "display_data"
    },
    {
     "name": "stdout",
     "output_type": "stream",
     "text": [
      "constant factors query and depth: 2.010e-02, 3.6180189579396407, 0.16080084257509514\n",
      "theta = 0.24799415401854524\n"
     ]
    },
    {
     "data": {
      "application/vnd.jupyter.widget-view+json": {
       "model_id": "71e88b4ba566427f89e1aff32e202a47",
       "version_major": 2,
       "version_minor": 0
      },
      "text/plain": [
       "  0%|          | 0/100 [00:00<?, ?it/s]"
      ]
     },
     "metadata": {},
     "output_type": "display_data"
    },
    {
     "name": "stdout",
     "output_type": "stream",
     "text": [
      "constant factors query and depth: 2.087e-02, 3.7570435958571786, 0.16697971537143017\n"
     ]
    }
   ],
   "source": [
    "np.random.seed(42)\n",
    "\n",
    "\n",
    "\n",
    "avals = [0.1, 0.2, 0.3, 0.4, 0.5, 0.6, 0.7, 0.8, 0.9]\n",
    "# avals = [np.random.uniform(0.1, 0.9)]\n",
    "# avals = [0.5, 0.6, 0.7, 0.8, 0.9]\n",
    "# avals = [0.1, 0.2, 0.3]\n",
    "avals = [np.random.uniform(0.1, 0.9) for _ in range(15)]\n",
    "# narray = [2]*5 + [3]\n",
    "narray = [2]*4\n",
    "\n",
    "# print('learning the distribution of signs...')\n",
    "# heavy_signs = get_heavy_signs(narray, int(6*len(narray)))\n",
    "num_queries = np.zeros(len(avals), dtype=int)\n",
    "max_single_query = np.zeros(len(avals), dtype=int)\n",
    "\n",
    "num_mc=100\n",
    "thetas = np.zeros((len(avals), num_mc))\n",
    "errors = np.zeros((len(avals), num_mc))\n",
    "thetas1 = np.zeros((len(avals), num_mc))\n",
    "errors1 = np.zeros((len(avals), num_mc))\n",
    "\n",
    "basin_obj = np.zeros((len(avals), num_mc))\n",
    "true_obj = np.zeros((len(avals), num_mc))\n",
    "\n",
    "ula_signal = TwoqULASignal(M=narray, C=5)\n",
    "esprit = ESPIRIT()\n",
    "# csignal, measurements = simulate_signal(ula_signal.depths, ula_signal.n_samples, theta)\n",
    "# ula_signal.set_measurements(measurements)\n",
    "\n",
    "# heavy_signs = get_heavy_signs(ula_signal, len(ula_signal.M)**2)\n",
    "heavy_signs = get_heavy_signs(ula_signal.depths, ula_signal.n_samples, len(narray)**2)\n",
    "\n",
    "for j,a in enumerate(avals):\n",
    "    theta = np.arcsin(a)\n",
    "    print(f'theta = {theta}')\n",
    "    disp=False\n",
    "    # if j==4:\n",
    "    #     disp=True\n",
    "    for i in tqdm(range(num_mc)):\n",
    "        csignal, measurements = simulate_signal(ula_signal.depths, ula_signal.n_samples, theta)\n",
    "        ula_signal.set_measurements(measurements)\n",
    "        \n",
    "        res = csae_with_local_minimization(ula_signal, esprit, heavy_signs, sample=True, correction=True, optimize=True, disp=disp)\n",
    "        thetas[j][i] = res['theta_est']\n",
    "        err = np.abs(np.sin(theta) - np.sin(thetas[j][i]))\n",
    "        errors[j][i] = err\n",
    "\n",
    "        cR = ula_signal.get_cov_matrix_toeplitz(csignal)\n",
    "        theta_est1, _ = esprit.estimate_theta_toeplitz(cR)\n",
    "        err1 = np.abs(np.sin(theta) - np.sin(theta_est1))\n",
    "\n",
    "        thetas1[j][i] = theta_est1\n",
    "        errors1[j][i] = err1\n",
    "\n",
    "        # thetas1[j][i] = res['theta_est1']\n",
    "        # errors1[j][i] = res['error1']\n",
    "\n",
    "    num_queries[j] = res['queries']\n",
    "    max_single_query[j] = res['depth']\n",
    "\n",
    "    print(f'constant factors query and depth: {np.percentile(errors[j], 95):.3e}, {np.percentile(errors[j], 95) * num_queries[j]}, {np.percentile(errors[j], 95) * max_single_query[j]}')"
   ]
  },
  {
   "cell_type": "code",
   "execution_count": 6,
   "metadata": {},
   "outputs": [
    {
     "name": "stdout",
     "output_type": "stream",
     "text": [
      "constant factors query and depth (68%) for 0.400: 9.705e-03, 1.747, 7.764e-02\n",
      "constant factors query and depth (68%) for 0.861: 1.015e-02, 1.826, 8.117e-02\n",
      "constant factors query and depth (68%) for 0.686: 8.145e-03, 1.466, 6.516e-02\n",
      "constant factors query and depth (68%) for 0.579: 1.712e-02, 3.081, 1.370e-01\n",
      "constant factors query and depth (68%) for 0.225: 9.906e-03, 1.783, 7.924e-02\n",
      "constant factors query and depth (68%) for 0.225: 1.074e-02, 1.933, 8.589e-02\n",
      "constant factors query and depth (68%) for 0.146: 1.041e-02, 1.873, 8.325e-02\n",
      "constant factors query and depth (68%) for 0.793: 6.100e-03, 1.098, 4.880e-02\n",
      "constant factors query and depth (68%) for 0.581: 2.015e-02, 3.627, 1.612e-01\n",
      "constant factors query and depth (68%) for 0.666: 8.586e-03, 1.545, 6.869e-02\n",
      "constant factors query and depth (68%) for 0.116: 1.407e-02, 2.533, 1.126e-01\n",
      "constant factors query and depth (68%) for 0.876: 7.042e-03, 1.268, 5.634e-02\n",
      "constant factors query and depth (68%) for 0.766: 9.408e-03, 1.693, 7.526e-02\n",
      "constant factors query and depth (68%) for 0.270: 7.119e-03, 1.281, 5.695e-02\n",
      "constant factors query and depth (68%) for 0.245: 9.061e-03, 1.631, 7.249e-02\n",
      "average constant factor 1.892\n",
      "average error 1.051e-02\n"
     ]
    }
   ],
   "source": [
    "perc = 68\n",
    "avg = 0.0\n",
    "avg_err = 0.0\n",
    "for i in range(len(avals)):\n",
    "    avg += np.percentile(errors[i], perc) * num_queries[i]/len(avals)\n",
    "    avg_err += np.percentile(errors[i], perc)/len(avals)\n",
    "    print(f'constant factors query and depth ({perc}%) for {avals[i]:.3f}: {np.percentile(errors[i], perc):.3e}, {np.percentile(errors[i], perc) * num_queries[i]:.3f}, {np.percentile(errors[i], perc) * max_single_query[i]:.3e}')\n",
    "print(f'average constant factor {avg:0.3f}')\n",
    "print(f'average error {avg_err:0.3e}')"
   ]
  },
  {
   "cell_type": "code",
   "execution_count": 7,
   "metadata": {},
   "outputs": [
    {
     "name": "stdout",
     "output_type": "stream",
     "text": [
      "constant factors query and depth with known signs for 0.400: 1.663e-02, 2.993, 1.330e-01\n",
      "constant factors query and depth with known signs for 0.861: 1.151e-02, 2.071, 9.206e-02\n",
      "constant factors query and depth with known signs for 0.686: 1.403e-02, 2.525, 1.122e-01\n",
      "constant factors query and depth with known signs for 0.579: 1.748e-02, 3.146, 1.398e-01\n",
      "constant factors query and depth with known signs for 0.225: 1.477e-02, 2.659, 1.182e-01\n",
      "constant factors query and depth with known signs for 0.225: 1.564e-02, 2.815, 1.251e-01\n",
      "constant factors query and depth with known signs for 0.146: 1.772e-02, 3.190, 1.418e-01\n",
      "constant factors query and depth with known signs for 0.793: 7.245e-03, 1.304, 5.796e-02\n",
      "constant factors query and depth with known signs for 0.581: 2.130e-02, 3.834, 1.704e-01\n",
      "constant factors query and depth with known signs for 0.666: 1.036e-02, 1.866, 8.292e-02\n",
      "constant factors query and depth with known signs for 0.116: 2.157e-02, 3.883, 1.726e-01\n",
      "constant factors query and depth with known signs for 0.876: 7.919e-03, 1.425, 6.335e-02\n",
      "constant factors query and depth with known signs for 0.766: 9.911e-03, 1.784, 7.929e-02\n",
      "constant factors query and depth with known signs for 0.270: 6.076e-03, 1.094, 4.861e-02\n",
      "constant factors query and depth with known signs for 0.245: 2.382e-02, 4.288, 1.906e-01\n",
      "average constant factor 2.592\n",
      "average error 1.440e-02\n"
     ]
    }
   ],
   "source": [
    "perc = 68\n",
    "avg = 0.0\n",
    "avg_err = 0.0\n",
    "for j in range(len(avals)):\n",
    "    avg += np.percentile(errors1[j], perc) * num_queries[j]/len(avals)\n",
    "    avg_err += np.percentile(errors1[j], perc)/len(avals)\n",
    "    print(f'constant factors query and depth with known signs for {avals[j]:.3f}: {np.percentile(errors1[j], perc):.3e}, {np.percentile(errors1[j], perc) * num_queries[j]:.3f}, {np.percentile(errors1[j], perc) * max_single_query[j]:.3e}')\n",
    "print(f'average constant factor {avg:0.3f}')\n",
    "print(f'average error {avg_err:0.3e}')"
   ]
  },
  {
   "cell_type": "code",
   "execution_count": 8,
   "metadata": {},
   "outputs": [
    {
     "name": "stdout",
     "output_type": "stream",
     "text": [
      "constant factors query and depth (95%) for 0.400: 8.396e-02, 15.112, 6.716e-01\n",
      "constant factors query and depth (95%) for 0.861: 1.510e-02, 2.719, 1.208e-01\n",
      "constant factors query and depth (95%) for 0.686: 1.470e-02, 2.646, 1.176e-01\n",
      "constant factors query and depth (95%) for 0.579: 3.326e-02, 5.987, 2.661e-01\n",
      "constant factors query and depth (95%) for 0.225: 2.035e-02, 3.663, 1.628e-01\n",
      "constant factors query and depth (95%) for 0.225: 2.524e-02, 4.543, 2.019e-01\n",
      "constant factors query and depth (95%) for 0.146: 4.652e-02, 8.373, 3.722e-01\n",
      "constant factors query and depth (95%) for 0.793: 1.203e-02, 2.165, 9.623e-02\n",
      "constant factors query and depth (95%) for 0.581: 2.791e-02, 5.023, 2.233e-01\n",
      "constant factors query and depth (95%) for 0.666: 1.345e-02, 2.421, 1.076e-01\n",
      "constant factors query and depth (95%) for 0.116: 1.834e-02, 3.301, 1.467e-01\n",
      "constant factors query and depth (95%) for 0.876: 2.096e-02, 3.773, 1.677e-01\n",
      "constant factors query and depth (95%) for 0.766: 1.767e-02, 3.181, 1.414e-01\n",
      "constant factors query and depth (95%) for 0.270: 2.010e-02, 3.618, 1.608e-01\n",
      "constant factors query and depth (95%) for 0.245: 2.087e-02, 3.757, 1.670e-01\n",
      "average constant factor 4.686\n",
      "average error 2.603e-02\n"
     ]
    }
   ],
   "source": [
    "perc = 95\n",
    "avg = 0.0\n",
    "avg_err = 0.0\n",
    "for i in range(len(avals)):\n",
    "    avg += np.percentile(errors[i], perc) * num_queries[i]/len(avals)\n",
    "    avg_err += np.percentile(errors[i], perc)/len(avals)\n",
    "    print(f'constant factors query and depth ({perc}%) for {avals[i]:.3f}: {np.percentile(errors[i], perc):.3e}, {np.percentile(errors[i], perc) * num_queries[i]:.3f}, {np.percentile(errors[i], perc) * max_single_query[i]:.3e}')\n",
    "print(f'average constant factor {avg:0.3f}')\n",
    "print(f'average error {avg_err:0.3e}')"
   ]
  },
  {
   "cell_type": "code",
   "execution_count": 9,
   "metadata": {},
   "outputs": [
    {
     "name": "stdout",
     "output_type": "stream",
     "text": [
      "constant factors query and depth with known signs for 0.400: 4.728e-02, 8.511, 7.565e-01\n",
      "constant factors query and depth with known signs for 0.861: 1.517e-02, 2.731, 2.428e-01\n",
      "constant factors query and depth with known signs for 0.686: 1.789e-02, 3.220, 2.862e-01\n",
      "constant factors query and depth with known signs for 0.579: 2.924e-02, 5.263, 4.678e-01\n",
      "constant factors query and depth with known signs for 0.225: 2.721e-02, 4.899, 4.354e-01\n",
      "constant factors query and depth with known signs for 0.225: 2.771e-02, 4.988, 4.434e-01\n",
      "constant factors query and depth with known signs for 0.146: 4.938e-02, 8.888, 7.901e-01\n",
      "constant factors query and depth with known signs for 0.793: 1.311e-02, 2.360, 2.098e-01\n",
      "constant factors query and depth with known signs for 0.581: 2.740e-02, 4.932, 4.384e-01\n",
      "constant factors query and depth with known signs for 0.666: 1.456e-02, 2.621, 2.330e-01\n",
      "constant factors query and depth with known signs for 0.116: 2.859e-02, 5.147, 4.575e-01\n",
      "constant factors query and depth with known signs for 0.876: 2.076e-02, 3.737, 3.321e-01\n",
      "constant factors query and depth with known signs for 0.766: 2.586e-02, 4.656, 4.138e-01\n",
      "constant factors query and depth with known signs for 0.270: 1.703e-02, 3.066, 2.725e-01\n",
      "constant factors query and depth with known signs for 0.245: 3.709e-02, 6.677, 5.935e-01\n",
      "average constant factor 4.780\n",
      "average error 2.655e-02\n"
     ]
    }
   ],
   "source": [
    "perc = 95\n",
    "avg = 0.0\n",
    "avg_err = 0.0\n",
    "for j in range(len(avals)):\n",
    "    avg += np.percentile(errors1[j], perc) * num_queries[j]/len(avals)\n",
    "    avg_err += np.percentile(errors1[j], perc)/len(avals)\n",
    "    print(f'constant factors query and depth with known signs for {avals[j]:.3f}: {np.percentile(errors1[j], perc):.3e}, {np.percentile(errors1[j], perc) * num_queries[j]:.3f}, {2*np.percentile(errors1[j], perc) * max_single_query[j]:.3e}')\n",
    "print(f'average constant factor {avg:0.3f}')\n",
    "print(f'average error {avg_err:0.3e}')"
   ]
  },
  {
   "cell_type": "code",
   "execution_count": 10,
   "metadata": {},
   "outputs": [
    {
     "name": "stdout",
     "output_type": "stream",
     "text": [
      "constant factors query and depth (99%) for 0.400: 1.394e-01, 25.099, 1.115e+00\n",
      "constant factors query and depth (99%) for 0.861: 2.438e-02, 4.388, 1.950e-01\n",
      "constant factors query and depth (99%) for 0.686: 1.800e-02, 3.241, 1.440e-01\n",
      "constant factors query and depth (99%) for 0.579: 4.451e-02, 8.012, 3.561e-01\n",
      "constant factors query and depth (99%) for 0.225: 6.880e-02, 12.383, 5.504e-01\n",
      "constant factors query and depth (99%) for 0.225: 7.244e-02, 13.038, 5.795e-01\n",
      "constant factors query and depth (99%) for 0.146: 5.447e-02, 9.805, 4.358e-01\n",
      "constant factors query and depth (99%) for 0.793: 2.219e-02, 3.994, 1.775e-01\n",
      "constant factors query and depth (99%) for 0.581: 5.537e-02, 9.967, 4.430e-01\n",
      "constant factors query and depth (99%) for 0.666: 1.928e-02, 3.470, 1.542e-01\n",
      "constant factors query and depth (99%) for 0.116: 2.446e-02, 4.403, 1.957e-01\n",
      "constant factors query and depth (99%) for 0.876: 2.874e-02, 5.174, 2.299e-01\n",
      "constant factors query and depth (99%) for 0.766: 3.173e-02, 5.711, 2.538e-01\n",
      "constant factors query and depth (99%) for 0.270: 2.324e-02, 4.184, 1.859e-01\n",
      "constant factors query and depth (99%) for 0.245: 3.194e-02, 5.749, 2.555e-01\n",
      "average constant factor 7.908\n",
      "average error 4.393e-02\n"
     ]
    }
   ],
   "source": [
    "perc = 99\n",
    "avg = 0.0\n",
    "avg_err = 0.0\n",
    "for i in range(len(avals)):\n",
    "    avg += np.percentile(errors[i], perc) * num_queries[i]/len(avals)\n",
    "    avg_err += np.percentile(errors[i], perc)/len(avals)\n",
    "    print(f'constant factors query and depth ({perc}%) for {avals[i]:.3f}: {np.percentile(errors[i], perc):.3e}, {np.percentile(errors[i], perc) * num_queries[i]:.3f}, {np.percentile(errors[i], perc) * max_single_query[i]:.3e}')\n",
    "print(f'average constant factor {avg:0.3f}')\n",
    "print(f'average error {avg_err:0.3e}')"
   ]
  },
  {
   "cell_type": "code",
   "execution_count": 11,
   "metadata": {},
   "outputs": [
    {
     "name": "stdout",
     "output_type": "stream",
     "text": [
      "constant factors query and depth with known signs for 0.400: 4.973e-02, 8.951, 7.956e-01\n",
      "constant factors query and depth with known signs for 0.861: 1.719e-02, 3.093, 2.750e-01\n",
      "constant factors query and depth with known signs for 0.686: 1.867e-02, 3.361, 2.988e-01\n",
      "constant factors query and depth with known signs for 0.579: 3.271e-02, 5.887, 5.233e-01\n",
      "constant factors query and depth with known signs for 0.225: 4.474e-02, 8.053, 7.158e-01\n",
      "constant factors query and depth with known signs for 0.225: 5.487e-02, 9.876, 8.779e-01\n",
      "constant factors query and depth with known signs for 0.146: 5.383e-02, 9.689, 8.612e-01\n",
      "constant factors query and depth with known signs for 0.793: 1.688e-02, 3.038, 2.701e-01\n",
      "constant factors query and depth with known signs for 0.581: 3.201e-02, 5.762, 5.122e-01\n",
      "constant factors query and depth with known signs for 0.666: 1.765e-02, 3.177, 2.824e-01\n",
      "constant factors query and depth with known signs for 0.116: 3.156e-02, 5.681, 5.049e-01\n",
      "constant factors query and depth with known signs for 0.876: 2.368e-02, 4.263, 3.789e-01\n",
      "constant factors query and depth with known signs for 0.766: 3.211e-02, 5.779, 5.137e-01\n",
      "constant factors query and depth with known signs for 0.270: 2.842e-02, 5.116, 4.547e-01\n",
      "constant factors query and depth with known signs for 0.245: 4.553e-02, 8.196, 7.286e-01\n",
      "average constant factor 5.995\n",
      "average error 3.330e-02\n"
     ]
    }
   ],
   "source": [
    "perc = 99\n",
    "avg = 0.0\n",
    "avg_err = 0.0\n",
    "for j in range(len(avals)):\n",
    "    avg += np.percentile(errors1[j], perc) * num_queries[j]/len(avals)\n",
    "    avg_err += np.percentile(errors1[j], perc)/len(avals)\n",
    "    print(f'constant factors query and depth with known signs for {avals[j]:.3f}: {np.percentile(errors1[j], perc):.3e}, {np.percentile(errors1[j], perc) * num_queries[j]:.3f}, {2*np.percentile(errors1[j], perc) * max_single_query[j]:.3e}')\n",
    "print(f'average constant factor {avg:0.3f}')\n",
    "print(f'average error {avg_err:0.3e}')"
   ]
  },
  {
   "cell_type": "code",
   "execution_count": null,
   "metadata": {},
   "outputs": [],
   "source": []
  },
  {
   "cell_type": "code",
   "execution_count": null,
   "metadata": {},
   "outputs": [],
   "source": []
  }
 ],
 "metadata": {
  "kernelspec": {
   "display_name": "Python 3 (ipykernel)",
   "language": "python",
   "name": "python3"
  },
  "language_info": {
   "codemirror_mode": {
    "name": "ipython",
    "version": 3
   },
   "file_extension": ".py",
   "mimetype": "text/x-python",
   "name": "python",
   "nbconvert_exporter": "python",
   "pygments_lexer": "ipython3",
   "version": "3.11.8"
  }
 },
 "nbformat": 4,
 "nbformat_minor": 4
}
