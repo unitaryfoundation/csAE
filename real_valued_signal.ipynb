{
 "cells": [
  {
   "cell_type": "code",
   "execution_count": 1,
   "id": "cabf93de-0b26-4033-9cd0-8d247c43e4f8",
   "metadata": {},
   "outputs": [
    {
     "data": {
      "text/plain": [
       "<Figure size 640x480 with 0 Axes>"
      ]
     },
     "metadata": {},
     "output_type": "display_data"
    }
   ],
   "source": [
    "import numpy as np\n",
    "import matplotlib.pyplot as plt\n",
    "import seaborn as sns\n",
    "from signals import *\n",
    "from frequencyestimator import *\n",
    "import time\n",
    "import copy\n",
    "\n",
    "sns.set_style(\"whitegrid\")\n",
    "sns.despine(left=True, bottom=True)\n",
    "sns.set_context(\"poster\", font_scale = .45, rc={\"grid.linewidth\": 0.8})"
   ]
  },
  {
   "cell_type": "code",
   "execution_count": 2,
   "id": "93aa13c8",
   "metadata": {},
   "outputs": [],
   "source": [
    "P0 = lambda n, theta: np.cos((2*n+1)*theta)**2\n",
    "P1 = lambda n, theta: np.sin((2*n+1)*theta)**2\n",
    "\n",
    "def estimate_signal(depths, n_samples, theta, eta=0.0):\n",
    "        signals = np.zeros(len(depths), dtype = np.complex128)\n",
    "        cos_signal = np.zeros(len(depths), dtype = np.complex128)\n",
    "        for i,n in enumerate(depths):\n",
    "            # Get the exact measuremnt probabilities\n",
    "            p0 = P0(n, theta)\n",
    "            p1 = P1(n, theta)\n",
    "\n",
    "            p0x = P0x(n,theta)\n",
    "            p1x = P1x(n,theta)\n",
    "\n",
    "            # Get the \"noisy\" probabilities by sampling and adding a bias term that pushes towards 50/50 mixture\n",
    "            eta_n = (1.0-eta)**(n+1) # The error at depth n increases as more queries are implemented\n",
    "            p0_estimate = np.random.binomial(n_samples[i], eta_n*p0 + (1.0-eta_n)*0.5)/n_samples[i]\n",
    "            p1_estimate = 1 - p0_estimate\n",
    "            # p1_estimate = np.random.binomial(n_samples[i], eta_n*p1 + (1.0-eta_n)*0.5)/n_samples[i]\n",
    "            p0x_estimate = np.random.binomial(n_samples[i], eta_n*p0x + (1.0-eta_n)*0.5)/n_samples[i]\n",
    "            p1x_estimate = 1.0 - p0x_estimate\n",
    "            \n",
    "            # Estimate theta\n",
    "            theta_estimated = np.arctan2(p0x_estimate - p1x_estimate, p0_estimate - p1_estimate)\n",
    "\n",
    "            # estimate cos(2n+1)2theta\n",
    "            # cos_signal[i] = p0_estimate - p1_estimate\n",
    "            \n",
    "            # Store this to determine angle at theta = 0 or pi/2\n",
    "            if i==0:\n",
    "                p0mp1 = p0_estimate - p1_estimate\n",
    "\n",
    "            # Compute f(n) - Eq. 3\n",
    "            fi_estimate = np.exp(1.0j*theta_estimated)\n",
    "            # fi_estimate = 2*p0_estimate - 1 + 1.0j*np.sqrt(1-(2*p0_estimate - 1)**2)\n",
    "            # fi_estimate = 2*p0_estimate - 1\n",
    "            # fi_estimate = np.cos((2*n+1)*2*theta)\n",
    "            # fi_estimate = np.exp(1.0j*(2*n+1)*2*theta)\n",
    "            # fi_estimate = 2*p0 - 1 + np.random.normal(0.0, 1/n_samples[i])\n",
    "\n",
    "            # signals[i] = np.real(fi_estimate)\n",
    "            signals[i] = fi_estimate\n",
    "         \n",
    "        return signals    "
   ]
  },
  {
   "cell_type": "markdown",
   "id": "afa97237",
   "metadata": {},
   "source": [
    "## Test eigenvalues of R"
   ]
  },
  {
   "cell_type": "code",
   "execution_count": 3,
   "id": "3918be0a",
   "metadata": {},
   "outputs": [
    {
     "name": "stdout",
     "output_type": "stream",
     "text": [
      "depths:[  0   1   2   4   8  16  32  64 128]\n",
      "[ 1.  1.  1. -1. -1.  1.  1.  1. -1.]\n",
      "[-1 -1  1  1 -1  1  1 -1 -1]\n",
      "max fourier coefficient: (0.3129892422502005, 0.9166791548999581)\n",
      "l4 norm fourier coefficients: (0.4030051306587099, 0.9176572266363143)\n",
      "1.3165112554777378 0.30437696852673346\n"
     ]
    }
   ],
   "source": [
    "a = 0.3\n",
    "theta = np.arcsin(a)\n",
    "w = 2*theta\n",
    "\n",
    "q=4\n",
    "\n",
    "narray = [2]*(2*q)\n",
    "\n",
    "ula_signal = TwoqULASignal(M=narray, C=10)\n",
    "espirit = ESPIRIT()\n",
    "\n",
    "depths = ula_signal.depths\n",
    "n_samples = ula_signal.n_samples\n",
    "# n_samples = [100 for _ in depths]\n",
    "print(f'depths:{depths}')\n",
    "\n",
    "signal = estimate_signal(depths, n_samples, theta)\n",
    "cos_signal = np.real(signal)\n",
    "sin_signal = np.imag(signal) #don't know\n",
    "abs_sin = np.abs(sin_signal)\n",
    "\n",
    "signs = np.sign(sin_signal) #these are the correct signs\n",
    "\n",
    "random_signs = np.random.choice([-1, 1], size=len(signs))\n",
    "\n",
    "print(signs)\n",
    "#corrupt the signs\n",
    "# signs[1:] = -1 * signs[1:]\n",
    "# signs[1] = -1 * signs[1]\n",
    "# signs[2] = -1 * signs[2]\n",
    "print(random_signs)\n",
    "\n",
    "csignal = cos_signal + 1.0j * random_signs * abs_sin\n",
    "\n",
    "R1 = ula_signal.get_cov_matrix_toeplitz(csignal)\n",
    "R2 = ula_signal.get_cov_matrix_toeplitz(signal)\n",
    "\n",
    "theta_est1, eigs1 = espirit.estimate_theta_toeplitz(R1)\n",
    "theta_est2, eigs2 = espirit.estimate_theta_toeplitz(R2)\n",
    "\n",
    "\n",
    "fft1 = np.abs(np.fft.fft(R1/len(R1)))\n",
    "fft2 = np.abs(np.fft.fft(R2/len(R2)))\n",
    "\n",
    "print(f\"max fourier coefficient: {(np.max(fft1), np.max(fft2))}\")\n",
    "print(f\"l4 norm fourier coefficients: {(np.linalg.norm(fft1, 4), np.linalg.norm(fft2, 4))}\")\n",
    "# print(np.max(fft1), np.max(fft2))\n",
    "\n",
    "# xaxis = [i*np.pi/(2*len(fft1)) for i in range(len(fft1))]\n",
    "# plt.figure()\n",
    "# plt.plot(xaxis, fft1)\n",
    "\n",
    "# plt.figure()\n",
    "# plt.plot(xaxis, fft2)\n",
    "print(theta_est1, theta_est2)\n",
    "\n"
   ]
  },
  {
   "cell_type": "code",
   "execution_count": 4,
   "id": "75c95acb",
   "metadata": {},
   "outputs": [
    {
     "data": {
      "text/plain": [
       "[<matplotlib.lines.Line2D at 0x1476f22f0>]"
      ]
     },
     "execution_count": 4,
     "metadata": {},
     "output_type": "execute_result"
    },
    {
     "data": {
      "image/png": "[encoded data removed]",
      "text/plain": [
       "<Figure size 640x480 with 1 Axes>"
      ]
     },
     "metadata": {},
     "output_type": "display_data"
    },
    {
     "data": {
      "image/png": "[encoded data removed]",
      "text/plain": [
       "<Figure size 640x480 with 1 Axes>"
      ]
     },
     "metadata": {},
     "output_type": "display_data"
    }
   ],
   "source": [
    "xaxis = [i*np.pi/(2*len(fft1)) for i in range(len(fft1))]\n",
    "plt.figure()\n",
    "plt.plot(xaxis, fft1)\n",
    "\n",
    "plt.figure()\n",
    "plt.plot(xaxis, fft2)"
   ]
  },
  {
   "cell_type": "code",
   "execution_count": 54,
   "id": "0a6b8a06",
   "metadata": {},
   "outputs": [
    {
     "name": "stdout",
     "output_type": "stream",
     "text": [
      "depths:[   0    1    2    4    8   16   32   64  128  256  512 1024 2048]\n",
      "true: 1.1412540038565009\n",
      "+1 -1: [0.94762028 0.13651602]\n",
      "true: 2.9820614882031524\n",
      "+1 -1: [2.99598325 2.98651056]\n",
      "true: 8.961559052477298\n",
      "+1 -1: [7.84824815 8.97032035]\n",
      "true: 16.89332320715754\n",
      "+1 -1: [14.63570529 16.94223618]\n",
      "true: 48.2590854255355\n",
      "+1 -1: [48.27537187 34.4784646 ]\n",
      "true: 79.93093375660817\n",
      "+1 -1: [80.13617811 57.14471031]\n",
      "true: 222.05279708145278\n",
      "+1 -1: [221.19058749 222.29587674]\n",
      "true: 410.98816608370487\n",
      "+1 -1: [405.49671712 412.21819006]\n",
      "true: 1054.7724521299729\n",
      "+1 -1: [ 606.93113197 1053.59280687]\n",
      "true: 2054.611267529932\n",
      "+1 -1: [2052.68139982 1780.01855374]\n",
      "true: 4991.773928282597\n",
      "+1 -1: [3469.2167287  5003.68744244]\n",
      "true: 9862.657914634443\n",
      "+1 -1: [9878.17135812 8391.00878524]\n",
      "[ 1.  1. -1. -1. -1.  1.  1. -1. -1. -1.  1. -1.  1.] [ 1.  1.  1. -1. -1.  1.  1. -1. -1. -1.  1. -1.  1.]\n"
     ]
    },
    {
     "data": {
      "text/plain": [
       "(0.304697062178194, 0.30469699690108726, 0.30469265401539747)"
      ]
     },
     "execution_count": 54,
     "metadata": {},
     "output_type": "execute_result"
    }
   ],
   "source": [
    "a = 0.3\n",
    "theta = np.arcsin(a)\n",
    "w = 2*theta\n",
    "\n",
    "q=6\n",
    "\n",
    "narray = [2]*(2*q)\n",
    "\n",
    "ula_signal = TwoqULASignal(M=narray, C=3)\n",
    "espirit = ESPIRIT()\n",
    "\n",
    "depths = ula_signal.depths\n",
    "n_samples = ula_signal.n_samples\n",
    "# n_samples = [100 for _ in depths]\n",
    "print(f'depths:{depths}')\n",
    "\n",
    "signal = estimate_signal(depths, n_samples, theta)\n",
    "cos_signal = np.real(signal)\n",
    "sin_signal = np.imag(signal)\n",
    "abs_sin = np.abs(sin_signal)\n",
    "\n",
    "signs = np.sign(sin_signal) #these are the correct signs\n",
    "\n",
    "plusminus = [1, -1]\n",
    "\n",
    "s = np.ones(len(signal))\n",
    "\n",
    "for i in range(1, len(signal)):\n",
    "    obj = np.zeros(2)\n",
    "    ula = TwoqULASignal(M=narray[:i])\n",
    "    # print(ula.depths)\n",
    "    for j, sign in enumerate(plusminus):\n",
    "        s[i] = sign\n",
    "        csignal = cos_signal[:i+1] + 1.0j * s[:i+1] * abs_sin[:i+1]\n",
    "        \n",
    "        R = ula.get_cov_matrix_toeplitz(csignal)\n",
    "        theta_est, _ = espirit.estimate_theta_toeplitz(R)\n",
    "\n",
    "        # print(len(R))\n",
    "        fft = np.abs(np.fft.fft(R)/len(R))\n",
    "        # print(fft)\n",
    "        # obj[j] = np.linalg.norm(fft, 4)\n",
    "        # obj[j] = np.abs(espirit.eigs[0])/np.abs(espirit.eigs[1])\n",
    "        obj[j] = np.abs(espirit.eigs[0])\n",
    "\n",
    "        # obj[j] = np.max(fft)\n",
    "    # print(R)\n",
    "    signal2 = signal[:i+1]\n",
    "    R_true = ula.get_cov_matrix_toeplitz(signal2)\n",
    "\n",
    "    _, _ = espirit.estimate_theta_toeplitz(R_true)\n",
    "    # print(f\"true: {np.abs(espirit.eigs[0])/np.abs(espirit.eigs[1])}\")\n",
    "    print(f\"true: {np.abs(espirit.eigs[0])}\")\n",
    "\n",
    "    fft_true = np.abs(np.fft.fft(R_true)/len(R_true))\n",
    "    # print(fft)\n",
    "    # print(np.linalg.norm(fft_true, 4))\n",
    "\n",
    "    print(f\"+1 -1: {obj}\")\n",
    "    idx = np.argmax(obj)\n",
    "    s[i] = plusminus[idx]\n",
    "        \n",
    "# np.dot(signs, s)/len(s)\n",
    "\n",
    "csignal = cos_signal + 1.0j * s * abs_sin\n",
    "\n",
    "R1 = ula_signal.get_cov_matrix_toeplitz(csignal)\n",
    "R2 = ula_signal.get_cov_matrix_toeplitz(signal)\n",
    "\n",
    "theta_est1, eigs1 = espirit.estimate_theta_toeplitz(R1)\n",
    "\n",
    "theta_est2, eigs2 = espirit.estimate_theta_toeplitz(R2)\n",
    "\n",
    "print(signs, s)\n",
    "\n",
    "theta_est1, theta_est2, theta\n",
    "\n",
    "    "
   ]
  },
  {
   "cell_type": "code",
   "execution_count": 48,
   "id": "117aaeb6",
   "metadata": {},
   "outputs": [
    {
     "name": "stdout",
     "output_type": "stream",
     "text": [
      "depths:[   0    1    2    4    8   16   32   64  128  256  512 1024 2048]\n",
      "true: 1.0428375127979188\n",
      "+1 -1: {(1, 1): 0.6796998390095353, (1, -1): 0.3693028273674158, (-1, 1): 0.19957713329341356, (-1, -1): 1.298434637137779}\n",
      "true: 8.931067223993532\n",
      "+1 -1: {(1, 1): 7.79364964212785, (1, -1): 8.931067223993535, (-1, 1): 8.013090237854804, (-1, -1): 6.16732857283123}\n",
      "true: 48.22815601441064\n",
      "+1 -1: {(1, 1): 24.904755033367287, (1, -1): 29.155185065491686, (-1, 1): 31.388595244506522, (-1, -1): 40.56140989089855}\n",
      "true: 221.1553190784845\n",
      "+1 -1: {(1, 1): 183.6010744393565, (1, -1): 147.2837199503581, (-1, 1): 182.62918612472262, (-1, -1): 142.2241209392057}\n",
      "true: 1031.9701220819397\n",
      "+1 -1: {(1, 1): 251.1004656610034, (1, -1): 333.6797788118925, (-1, 1): 270.2007919015349, (-1, -1): 349.7091186033821}\n",
      "true: 4862.656814272104\n",
      "+1 -1: {(1, 1): 985.7069236919756, (1, -1): 1269.907887818718, (-1, 1): 1348.5429448955858, (-1, -1): 1643.9862715188945}\n",
      "[ 1.  1. -1.  1.  1.  1.  1. -1. -1.  1.  1.  1. -1.] [-1.  1. -1. -1. -1.  1.  1. -1. -1. -1. -1. -1. -1.]\n"
     ]
    },
    {
     "data": {
      "text/plain": [
       "(0.7606728916659735, 0.41147166539231633, 0.41151684606748806)"
      ]
     },
     "execution_count": 48,
     "metadata": {},
     "output_type": "execute_result"
    }
   ],
   "source": [
    "a = 0.4\n",
    "theta = np.arcsin(a)\n",
    "w = 2*theta\n",
    "\n",
    "q=6\n",
    "\n",
    "narray = [2]*(2*q)\n",
    "\n",
    "ula_signal = TwoqULASignal(M=narray, C=3)\n",
    "espirit = ESPIRIT()\n",
    "\n",
    "depths = ula_signal.depths\n",
    "n_samples = ula_signal.n_samples\n",
    "# n_samples = [100 for _ in depths]\n",
    "print(f'depths:{depths}')\n",
    "\n",
    "signal = estimate_signal(depths, n_samples, theta)\n",
    "cos_signal = np.real(signal)\n",
    "sin_signal = np.imag(signal)\n",
    "abs_sin = np.abs(sin_signal)\n",
    "\n",
    "signs = np.sign(sin_signal) #these are the correct signs\n",
    "\n",
    "plusminus = [1, -1]\n",
    "\n",
    "s = np.ones(len(signal))\n",
    "\n",
    "for i in range(len(signal)//2):\n",
    "    obj = {}\n",
    "    ula = TwoqULASignal(M=narray[:2*i+1])\n",
    "    # print(len(ula.depths), 2*i+2)\n",
    "    # print(ula.depths)\n",
    "    for j, sign1 in enumerate(plusminus):\n",
    "        for k, sign2 in enumerate(plusminus):\n",
    "            s[2*i] = sign1\n",
    "            s[2*i+1] = sign2\n",
    "            csignal = cos_signal[:2*i+2] + 1.0j * s[:2*i+2] * abs_sin[:2*i+2]\n",
    "            # print(csignal)\n",
    "            R = ula.get_cov_matrix_toeplitz(csignal)\n",
    "            # print(R)\n",
    "            theta_est, _ = espirit.estimate_theta_toeplitz(R)\n",
    "\n",
    "            # print(len(R))\n",
    "            # fft = np.abs(np.fft.fft(R)/len(R))\n",
    "            # print(fft)\n",
    "            # obj[j] = np.linalg.norm(fft, 4)\n",
    "            # obj[j] = np.abs(espirit.eigs[0])/np.abs(espirit.eigs[1])\n",
    "            obj[(sign1, sign2)] = np.abs(espirit.eigs[0])\n",
    "\n",
    "        # obj[j] = np.max(fft)\n",
    "    # print(R)\n",
    "    signal2 = signal[:2*i+2]\n",
    "    R_true = ula.get_cov_matrix_toeplitz(signal2)\n",
    "\n",
    "    _, _ = espirit.estimate_theta_toeplitz(R_true)\n",
    "    # print(f\"true: {np.abs(espirit.eigs[0])/np.abs(espirit.eigs[1])}\")\n",
    "    print(f\"true: {np.abs(espirit.eigs[0])}\")\n",
    "\n",
    "    # fft_true = np.abs(np.fft.fft(R_true)/len(R_true))\n",
    "    # print(fft)\n",
    "    # print(np.linalg.norm(fft_true, 4))\n",
    "\n",
    "    print(f\"+1 -1: {obj}\")\n",
    "    two_signs = max(obj, key=obj.get)\n",
    "    s[2*i - 1] = two_signs[0]\n",
    "    s[2*i] = two_signs[1]\n",
    "        \n",
    "# np.dot(signs, s)/len(s)\n",
    "\n",
    "csignal = cos_signal + 1.0j * s * abs_sin\n",
    "\n",
    "R1 = ula_signal.get_cov_matrix_toeplitz(csignal)\n",
    "R2 = ula_signal.get_cov_matrix_toeplitz(signal)\n",
    "\n",
    "theta_est1, eigs1 = espirit.estimate_theta_toeplitz(R1)\n",
    "\n",
    "theta_est2, eigs2 = espirit.estimate_theta_toeplitz(R2)\n",
    "\n",
    "print(signs, s)\n",
    "\n",
    "theta_est1, theta_est2, theta\n"
   ]
  },
  {
   "cell_type": "markdown",
   "id": "be2b16ef",
   "metadata": {},
   "source": [
    "## Implement the above cell in a function"
   ]
  },
  {
   "cell_type": "code",
   "execution_count": 77,
   "id": "cff3a3e4",
   "metadata": {},
   "outputs": [],
   "source": [
    "def estimate_amplitude(theta, narray, ula_signals, verbose=False):\n",
    "\n",
    "    ula_signal = TwoqULASignal(M=narray, C=5)\n",
    "    espirit = ESPIRIT()\n",
    "\n",
    "    depths = ula_signal.depths\n",
    "    n_samples = ula_signal.n_samples\n",
    "\n",
    "    signal = estimate_signal(depths, n_samples, theta)\n",
    "    cos_signal = np.real(signal)\n",
    "    abs_sin = np.abs(np.imag(signal))\n",
    "\n",
    "    plusminus = [1, -1]\n",
    "\n",
    "    s = np.ones(len(signal))\n",
    "\n",
    "    for i in range(1, len(signal)):\n",
    "        obj = np.zeros(2)\n",
    "        ula = ula_signals[i]\n",
    "        for j, sign in enumerate(plusminus):\n",
    "            s[i] = sign\n",
    "            csignal = cos_signal[:i+1] + 1.0j * s[:i+1] * abs_sin[:i+1]\n",
    "            \n",
    "            R = ula.get_cov_matrix_toeplitz(csignal)\n",
    "            _, _ = espirit.estimate_theta_toeplitz(R)\n",
    "            obj[j] = np.abs(espirit.eigs[0])\n",
    "        # signal2 = signal[:i+1]\n",
    "        # R_true = ula.get_cov_matrix_toeplitz(signal2)\n",
    "\n",
    "        # _, _ = espirit.estimate_theta_toeplitz(R_true)\n",
    "        # # print(f\"true: {np.abs(espirit.eigs[0])/np.abs(espirit.eigs[1])}\")\n",
    "        # print(f\"true: {np.abs(espirit.eigs[0])}\")\n",
    "\n",
    "        # fft_true = np.abs(np.fft.fft(R_true)/len(R_true))\n",
    "        # # print(fft)\n",
    "        # # print(np.linalg.norm(fft_true, 4))\n",
    "        if verbose:\n",
    "            print(f\"+1 -1: {obj}\")\n",
    "        idx = np.argmax(obj)\n",
    "        s[i] = plusminus[idx]\n",
    "            \n",
    "    # np.dot(signs, s)/len(s)\n",
    "\n",
    "    csignal = cos_signal + 1.0j * s * abs_sin\n",
    "\n",
    "    R1 = ula_signal.get_cov_matrix_toeplitz(csignal)\n",
    "    # R2 = ula_signal.get_cov_matrix_toeplitz(signal)\n",
    "\n",
    "    theta_est1, _ = espirit.estimate_theta_toeplitz(R1)\n",
    "\n",
    "    # theta_est2, eigs2 = espirit.estimate_theta_toeplitz(R2)\n",
    "\n",
    "    return theta_est1"
   ]
  },
  {
   "cell_type": "code",
   "execution_count": 96,
   "id": "299ca2ba",
   "metadata": {},
   "outputs": [
    {
     "name": "stdout",
     "output_type": "stream",
     "text": [
      "Ave theta estimated: 1.1482032945860898\n",
      "a = 0.8; a_est = 0.9120285357896261\n",
      "99% percentile: 1.911411e-01\n",
      "95% percentile: 1.557620e-01\n",
      "68% percentile: 1.016955e-01\n",
      "\n"
     ]
    }
   ],
   "source": [
    "a = 0.8\n",
    "theta = np.arcsin(a)\n",
    "w = 2*theta\n",
    "\n",
    "q=6\n",
    "\n",
    "narray = [2]*(2*q)\n",
    "ula_signal = TwoqULASignal(M=narray, C=5)\n",
    "depths = ula_signal.depths\n",
    "\n",
    "ula_signals = [ula_signal]\n",
    "for i in range(1, len(depths)):\n",
    "    ula = TwoqULASignal(M=narray[:i])\n",
    "    ula_signals.append(ula)\n",
    "\n",
    "num_mc=10\n",
    "thetas = np.zeros(num_mc)\n",
    "errors = np.zeros(num_mc)\n",
    "for i in range(num_mc):\n",
    "    theta_est = estimate_amplitude(theta, narray, ula_signals)\n",
    "    error = np.abs(np.sin(theta)-np.sin(theta_est)) \n",
    "    thetas[i] = theta_est            \n",
    "    errors[i] = error\n",
    "\n",
    "print(f'Ave theta estimated: {np.mean(thetas)}')\n",
    "print(f'a = {np.sin(theta)}; a_est = {np.sin(np.mean(thetas))}')\n",
    "print(f'99% percentile: {np.percentile(errors, 99):e}')\n",
    "print(f'95% percentile: {np.percentile(errors, 95):e}')\n",
    "print(f'68% percentile: {np.percentile(errors, 68):e}')\n",
    "print()"
   ]
  },
  {
   "cell_type": "code",
   "execution_count": 97,
   "id": "7c583419",
   "metadata": {},
   "outputs": [
    {
     "data": {
      "text/plain": [
       "(array([1.12367274, 1.12359962, 1.1236619 , 1.12366713, 1.12369236,\n",
       "        1.12371006, 1.12359049, 1.56547372, 1.12357776, 0.92738715]),\n",
       " 0.9272952180016123)"
      ]
     },
     "execution_count": 97,
     "metadata": {},
     "output_type": "execute_result"
    }
   ],
   "source": [
    "thetas,theta"
   ]
  },
  {
   "cell_type": "code",
   "execution_count": 91,
   "id": "c40c596f",
   "metadata": {},
   "outputs": [
    {
     "data": {
      "text/plain": [
       "0.7071067811865475"
      ]
     },
     "execution_count": 91,
     "metadata": {},
     "output_type": "execute_result"
    }
   ],
   "source": [
    "np.sin(np.pi/4)"
   ]
  },
  {
   "cell_type": "markdown",
   "id": "7728a95d",
   "metadata": {},
   "source": [
    "## Brute force try all signs"
   ]
  },
  {
   "cell_type": "code",
   "execution_count": 6,
   "id": "4ae1aeee",
   "metadata": {},
   "outputs": [
    {
     "name": "stdout",
     "output_type": "stream",
     "text": [
      "depths:[  0   1   2   4   8  16  32  64 128]\n",
      "nan\n",
      "0.0\n",
      "0.0\n",
      "0.0\n",
      "0.0\n",
      "0.0\n",
      "0.12068062199407506\n",
      "0.1252767008851752\n",
      "0.11917345302969895\n",
      "0.12118750798879446\n",
      "0.12261857320073623\n",
      "nan\n",
      "0.0\n",
      "nan\n",
      "0.0\n",
      "0.0\n",
      "0.0\n",
      "0.0\n",
      "0.12259415792360327\n",
      "0.0\n",
      "0.0\n",
      "0.0\n",
      "0.0\n",
      "0.0\n",
      "0.0\n",
      "0.0\n",
      "0.0\n",
      "0.12061027681666485\n",
      "0.12135298604615558\n",
      "0.11756497107379389\n",
      "0.11766168193284371\n",
      "0.0\n",
      "0.115275180471296\n",
      "0.12011294011122656\n",
      "0.11539850932748001\n",
      "0.11819681334036553\n",
      "0.12509063308481688\n",
      "0.1264825215485083\n",
      "0.11797058215747284\n",
      "0.12176680133330675\n",
      "0.12304192286043003\n",
      "0.0\n",
      "0.0\n",
      "0.0\n",
      "0.0\n",
      "0.0\n",
      "0.0\n",
      "0.0\n",
      "0.0\n",
      "nan\n",
      "nan\n",
      "nan\n",
      "nan\n",
      "nan\n",
      "nan\n",
      "nan\n",
      "nan\n",
      "nan\n",
      "nan\n",
      "nan\n",
      "nan\n",
      "nan\n",
      "0.11644970513466045\n",
      "0.1179445211265014\n",
      "0.11608936473844104\n",
      "nan\n",
      "nan\n",
      "nan\n",
      "nan\n",
      "nan\n",
      "nan\n",
      "nan\n",
      "nan\n",
      "0.0\n",
      "0.0\n",
      "0.0\n",
      "0.0\n",
      "0.0\n",
      "0.0\n",
      "0.11735650351165143\n",
      "0.12393512524727568\n",
      "0.12019886285454626\n",
      "0.12390608560096374\n",
      "0.1204092441562583\n",
      "0.1275940354101096\n",
      "0.12818329117785385\n",
      "0.12797182804767665\n",
      "0.12334718493309134\n",
      "0.11901311239042546\n",
      "0.11777364517857601\n",
      "0.1191702829791717\n",
      "0.1211778472779982\n",
      "0.0\n",
      "0.0\n",
      "0.1184865707413049\n",
      "0.11770609318206143\n",
      "0.11507442011163597\n",
      "0.12055162801306726\n",
      "0.11537263736989875\n",
      "0.11862860297147905\n",
      "0.12495947769621017\n",
      "0.1265405499457119\n",
      "0.11825431789299577\n",
      "0.1223485033648922\n",
      "0.12284988816994609\n",
      "0.12739154794810648\n",
      "0.12494530187275157\n",
      "0.12984432031017332\n",
      "0.1224702330729709\n",
      "0.12763451407078455\n",
      "0.11783935784801008\n",
      "0.12385722870433298\n",
      "0.0\n",
      "0.0\n",
      "0.11881966388892047\n",
      "0.11328975074731394\n",
      "0.11820065295636074\n",
      "0.11897691558601915\n",
      "0.11661346779491552\n",
      "0.11768669613549675\n",
      "0.11463698305716427\n",
      "0.11605711526739979\n",
      "nan\n",
      "nan\n",
      "nan\n",
      "nan\n",
      "nan\n",
      "nan\n",
      "nan\n",
      "nan\n",
      "nan\n",
      "nan\n",
      "0.0\n",
      "0.0\n",
      "0.0\n",
      "0.0\n",
      "nan\n",
      "nan\n",
      "nan\n",
      "nan\n",
      "nan\n",
      "nan\n",
      "nan\n",
      "nan\n",
      "nan\n",
      "nan\n",
      "nan\n",
      "nan\n",
      "nan\n",
      "nan\n",
      "nan\n",
      "nan\n",
      "nan\n",
      "nan\n",
      "nan\n",
      "nan\n",
      "nan\n",
      "nan\n",
      "0.0\n",
      "0.11549413193819812\n",
      "0.11773042873195545\n",
      "0.12279197560420713\n",
      "0.1162114060660824\n",
      "0.1204450237588049\n",
      "0.12816737577572165\n",
      "0.1324279041820078\n",
      "nan\n",
      "nan\n",
      "nan\n",
      "nan\n",
      "nan\n",
      "nan\n",
      "nan\n",
      "nan\n",
      "nan\n",
      "nan\n",
      "nan\n",
      "nan\n",
      "nan\n",
      "nan\n",
      "nan\n",
      "nan\n",
      "0.0\n",
      "0.11889822945694796\n",
      "nan\n",
      "nan\n",
      "nan\n",
      "nan\n",
      "nan\n",
      "nan\n",
      "nan\n",
      "nan\n",
      "nan\n",
      "nan\n",
      "nan\n",
      "nan\n",
      "nan\n",
      "nan\n",
      "nan\n",
      "nan\n",
      "nan\n",
      "nan\n",
      "nan\n",
      "nan\n",
      "nan\n",
      "nan\n",
      "0.0\n",
      "0.0\n",
      "0.0\n",
      "0.0\n",
      "0.0\n",
      "0.0\n",
      "0.0\n",
      "0.0\n",
      "0.0\n",
      "0.0\n",
      "0.0\n",
      "0.0\n",
      "0.0\n",
      "0.0\n",
      "0.0\n",
      "0.0\n",
      "0.11657879340325053\n",
      "0.11557485321140427\n",
      "0.11708801702451548\n",
      "0.12280156948022586\n",
      "0.11529130875812149\n",
      "0.12027821783535936\n",
      "0.12777534863285295\n",
      "0.1323834046704648\n",
      "0.11913959822751374\n",
      "0.12467463347243883\n",
      "0.11828943038784491\n",
      "0.0\n",
      "0.0\n",
      "nan\n",
      "0.0\n",
      "0.0\n",
      "0.0\n",
      "0.12036476258701181\n",
      "0.11757773557284254\n",
      "0.0\n",
      "0.11629160032132467\n",
      "0.11352642264700068\n",
      "nan\n",
      "0.12141196422271762\n",
      "nan\n",
      "0.0\n",
      "0.0\n",
      "0.0\n",
      "0.0\n",
      "0.11426868759646942\n",
      "0.1209523896304132\n",
      "0.0\n",
      "0.0\n",
      "0.0\n",
      "0.0\n",
      "0.0\n",
      "0.0\n",
      "0.0\n",
      "0.0\n",
      "0.0\n",
      "0.0\n",
      "0.0\n",
      "0.0\n",
      "0.0\n",
      "0.0\n",
      "0.0\n",
      "0.0\n",
      "0.0\n",
      "0.0\n",
      "0.0\n",
      "0.0\n",
      "0.0\n",
      "0.0\n",
      "0.0\n",
      "0.0\n",
      "0.0\n",
      "0.0\n",
      "0.0\n",
      "0.0\n",
      "nan\n",
      "nan\n",
      "nan\n",
      "nan\n",
      "nan\n",
      "nan\n",
      "nan\n",
      "nan\n",
      "nan\n",
      "nan\n",
      "nan\n",
      "nan\n",
      "nan\n",
      "nan\n",
      "nan\n",
      "nan\n",
      "nan\n",
      "nan\n",
      "0.13540498068462659\n",
      "0.12395369284461553\n",
      "0.0\n",
      "0.1193327263193043\n",
      "0.1258194556066413\n",
      "0.12785162715828202\n",
      "0.11853180393290244\n",
      "0.12433669198828783\n",
      "0.11655857958150911\n",
      "0.11756338082293503\n",
      "0.0\n",
      "0.0\n",
      "0.0\n",
      "0.0\n",
      "0.0\n",
      "0.0\n",
      "0.0\n",
      "0.0\n",
      "0.0\n",
      "0.0\n",
      "0.0\n",
      "0.0\n",
      "0.0\n",
      "0.0\n",
      "0.0\n",
      "0.12605175313862588\n",
      "0.12824498518263708\n",
      "0.12208188879964535\n",
      "0.12404457725548507\n",
      "0.12187369441189198\n",
      "0.1343148288026211\n",
      "0.12514145316348751\n",
      "0.1318411808479074\n",
      "0.12611117224145377\n",
      "0.12241649650231343\n",
      "0.12012426870639004\n",
      "0.1184234808343087\n",
      "0.13373973906022338\n",
      "0.12508353747860226\n",
      "0.12965525985586251\n",
      "0.1229132102722803\n",
      "0.12540603870660624\n",
      "0.0\n",
      "0.0\n",
      "0.0\n",
      "0.0\n",
      "0.0\n",
      "0.0\n",
      "0.1243562236058817\n",
      "0.12486990662524364\n",
      "0.12454033962944067\n",
      "0.12254121414298573\n",
      "0.12277556985547615\n",
      "0.12029036711814262\n",
      "0.12817789296554008\n",
      "0.12291447958776601\n",
      "0.12621274379966183\n",
      "0.12547368475333665\n",
      "0.12495206718022357\n",
      "0.12194357832506263\n",
      "0.12304662993256833\n",
      "0.12882883559618843\n",
      "0.0\n",
      "0.0\n",
      "0.0\n",
      "0.0\n",
      "0.0\n",
      "0.0\n",
      "0.0\n",
      "0.0\n",
      "0.0\n",
      "0.0\n",
      "0.0\n",
      "0.0\n",
      "0.0\n",
      "0.0\n",
      "0.0\n",
      "0.0\n",
      "0.0\n",
      "0.0\n",
      "0.0\n",
      "0.0\n",
      "0.0\n",
      "0.0\n",
      "0.0\n",
      "0.0\n",
      "0.0\n",
      "0.0\n",
      "0.0\n",
      "0.0\n",
      "0.0\n",
      "0.0\n",
      "0.0\n",
      "0.0\n",
      "0.0\n",
      "0.11847269963726006\n",
      "0.12774427969533744\n",
      "0.12344930857689075\n",
      "0.11809114654716758\n",
      "0.12070687488350759\n",
      "0.11612117562494317\n",
      "0.12181894963094352\n",
      "0.11823416678216572\n",
      "0.11823090218258277\n",
      "0.11713062202291159\n",
      "0.11977926501658696\n",
      "0.12301099729233358\n",
      "0.12061764146196152\n",
      "0.1198504738689277\n",
      "0.11450836138704294\n",
      "0.11479471621179364\n",
      "0.11358122001152707\n",
      "0.11629773637671278\n",
      "0.11679969520585955\n",
      "0.11445324963049079\n",
      "0.11698809028501375\n",
      "0.11542814247963995\n",
      "0.11942938412366783\n",
      "0.12768011481883568\n",
      "0.11679175301841198\n",
      "0.12444578839092825\n",
      "0.12629676098858594\n",
      "0.1301924630866439\n",
      "0.12073370701068432\n",
      "0.12401889323646524\n",
      "0.0\n",
      "0.0\n",
      "nan\n",
      "nan\n",
      "nan\n",
      "nan\n",
      "nan\n",
      "nan\n",
      "nan\n",
      "nan\n",
      "nan\n",
      "nan\n",
      "nan\n",
      "nan\n",
      "nan\n",
      "nan\n",
      "nan\n",
      "nan\n",
      "nan\n",
      "nan\n",
      "nan\n",
      "nan\n",
      "nan\n",
      "nan\n",
      "nan\n",
      "nan\n",
      "nan\n",
      "nan\n",
      "nan\n",
      "nan\n",
      "nan\n",
      "nan\n",
      "0.0\n",
      "0.0\n",
      "0.0\n",
      "0.0\n",
      "0.0\n",
      "0.0\n",
      "0.0\n",
      "0.0\n",
      "0.0\n",
      "0.0\n",
      "0.0\n",
      "nan\n",
      "nan\n",
      "nan\n",
      "nan\n",
      "nan\n",
      "nan\n",
      "nan\n",
      "nan\n",
      "nan\n",
      "nan\n",
      "nan\n",
      "nan\n",
      "nan\n",
      "nan\n",
      "nan\n",
      "nan\n",
      "nan\n",
      "nan\n",
      "nan\n",
      "nan\n",
      "nan\n",
      "nan\n",
      "nan\n",
      "0.0\n",
      "0.0\n",
      "0.0\n",
      "0.0\n",
      "0.0\n",
      "0.0\n",
      "0.0\n",
      "0.0\n",
      "0.0\n",
      "0.0\n",
      "0.0\n",
      "0.0\n",
      "0.0\n",
      "0.0\n",
      "0.0\n",
      "0.0\n",
      "0.0\n",
      "0.0\n",
      "0.0\n",
      "0.0\n",
      "0.0\n",
      "0.0\n",
      "[ 1.  1.  1. -1. -1.  1.  1. -1. -1.] [-1 -1 -1 -1 -1 -1 -1 -1 -1]\n"
     ]
    },
    {
     "data": {
      "text/plain": [
       "(1.1655432455543402, 0.30385476501593134, 0.30469265401539747)"
      ]
     },
     "execution_count": 6,
     "metadata": {},
     "output_type": "execute_result"
    }
   ],
   "source": [
    "a = 0.3\n",
    "theta = np.arcsin(a)\n",
    "w = 2*theta\n",
    "\n",
    "q=4\n",
    "\n",
    "narray = [2]*(2*q)\n",
    "\n",
    "ula_signal = TwoqULASignal(M=narray, C=5)\n",
    "espirit = ESPIRIT()\n",
    "\n",
    "depths = ula_signal.depths\n",
    "n_samples = ula_signal.n_samples\n",
    "# n_samples = [100 for _ in depths]\n",
    "print(f'depths:{depths}')\n",
    "\n",
    "signal = estimate_signal(depths, n_samples, theta)\n",
    "cos_signal = np.real(signal)\n",
    "sin_signal = np.imag(signal)\n",
    "abs_sin = np.abs(sin_signal)\n",
    "\n",
    "signs = np.sign(sin_signal) #these are the correct signs\n",
    "\n",
    "import itertools\n",
    "\n",
    "def generate_sign_combinations(n):\n",
    "    signs = [-1, 1]\n",
    "    combinations = [np.array(combo) for combo in itertools.product(signs, repeat=n)]\n",
    "    return combinations\n",
    "\n",
    "# Example usage:\n",
    "n = len(signal)\n",
    "\n",
    "combinations = generate_sign_combinations(n)\n",
    "obj = np.zeros(len(combinations))\n",
    "\n",
    "for i, combo in enumerate(combinations):\n",
    "    s = combo\n",
    "    csignal = cos_signal + 1.0j * s * abs_sin\n",
    "    R = ula.get_cov_matrix_toeplitz(csignal)\n",
    "    # print(len(R))\n",
    "    fft = np.abs(np.fft.fft(R)/len(R))\n",
    "    # print(fft)\n",
    "    norm = np.linalg.norm(fft, 4)\n",
    "    obj[j] = norm\n",
    "    print(norm)\n",
    "    # obj[j] = np.max(fft)\n",
    "        \n",
    "# np.dot(signs, s)/len(s)\n",
    "idx = np.argmax(obj)\n",
    "s = combinations[idx]\n",
    "\n",
    "csignal = cos_signal + 1.0j * s * abs_sin\n",
    "\n",
    "R1 = ula_signal.get_cov_matrix_toeplitz(csignal)\n",
    "R2 = ula_signal.get_cov_matrix_toeplitz(signal)\n",
    "\n",
    "theta_est1, eigs1 = espirit.estimate_theta_toeplitz(R1)\n",
    "\n",
    "theta_est2, eigs2 = espirit.estimate_theta_toeplitz(R2)\n",
    "\n",
    "print(signs, s)\n",
    "\n",
    "theta_est1, theta_est2, theta\n",
    "\n",
    "    "
   ]
  },
  {
   "cell_type": "code",
   "execution_count": 7,
   "id": "a4308891",
   "metadata": {},
   "outputs": [
    {
     "data": {
      "text/plain": [
       "0.0"
      ]
     },
     "execution_count": 7,
     "metadata": {},
     "output_type": "execute_result"
    }
   ],
   "source": [
    "obj[idx]"
   ]
  },
  {
   "cell_type": "markdown",
   "id": "47fcf5c4-607e-44b7-a74d-bef41ea19882",
   "metadata": {},
   "source": [
    "# Signal estimates on linear array\n",
    "\n",
    "Use fft to find the angles when sampling the cosine on a linear array (so depths 0,1,2,3,4.., 1000 for example).\n",
    "Theoretically this should give the correct peaks.\n",
    "Also use ESPIRIT to find the peaks."
   ]
  },
  {
   "cell_type": "code",
   "execution_count": 8,
   "id": "354fe7f0",
   "metadata": {},
   "outputs": [
    {
     "data": {
      "text/plain": [
       "[<matplotlib.lines.Line2D at 0x161988760>]"
      ]
     },
     "execution_count": 8,
     "metadata": {},
     "output_type": "execute_result"
    },
    {
     "data": {
      "image/png": "[encoded data removed]",
      "text/plain": [
       "<Figure size 640x480 with 1 Axes>"
      ]
     },
     "metadata": {},
     "output_type": "display_data"
    }
   ],
   "source": [
    "# Set the actual amplitude\n",
    "theta = np.pi/6\n",
    "\n",
    "theta1 = np.pi/5\n",
    "theta2 = -theta1\n",
    "\n",
    "depths = [i for i in range(2000)]\n",
    "n_samples = [10 for d in depths]\n",
    "\n",
    "R = estimate_signal(depths, n_samples, theta)\n",
    "\n",
    "# R = [0.5*np.exp(1j*theta1*(2*d+1)) + 0.5*np.exp(1j*theta2*(2*d+1)) for d in depths]\n",
    "\n",
    "fft = np.abs(np.fft.fft(R))\n",
    "\n",
    "xaxis = [i*np.pi/(2*len(fft)) for i in range(len(fft))]\n",
    "\n",
    "plt.plot(xaxis, fft)"
   ]
  },
  {
   "cell_type": "code",
   "execution_count": 9,
   "id": "afab6f62",
   "metadata": {},
   "outputs": [
    {
     "name": "stdout",
     "output_type": "stream",
     "text": [
      "theta: 0.5235987755982988\n",
      "peaks: 1.0469357518087987 0.523860574986098\n"
     ]
    }
   ],
   "source": [
    "# amax = np.argmax(fft[:len(fft)//2])\n",
    "amax = np.argmax(fft)\n",
    "print(f'theta: {theta}')\n",
    "print('peaks:', np.pi*(len(fft)-amax)/(2*len(fft)), np.pi*(amax)/(2*len(fft)))"
   ]
  },
  {
   "cell_type": "code",
   "execution_count": 10,
   "id": "4a62e289",
   "metadata": {},
   "outputs": [
    {
     "name": "stdout",
     "output_type": "stream",
     "text": [
      "angles: [-0.12425222+0.21567508j -0.0195024 +0.10343269j]\n",
      "theta_est: 0.5233657982698127\n",
      "theta: 0.5235987755982988\n"
     ]
    },
    {
     "data": {
      "text/plain": [
       "0.17708077594057944"
      ]
     },
     "execution_count": 10,
     "metadata": {},
     "output_type": "execute_result"
    }
   ],
   "source": [
    "espirit = ESPIRIT()\n",
    "\n",
    "theta_est, angle = espirit.estimate_theta_toeplitz(R)\n",
    "print(f'angles: {angle/4}')\n",
    "print(f'theta_est: {theta_est}')\n",
    "print(f'theta: {theta}')\n",
    "np.sum(np.abs(angle))/8"
   ]
  },
  {
   "cell_type": "markdown",
   "id": "e3eba6e6",
   "metadata": {},
   "source": [
    "$(c_1 + x_1 i s_1, c_2 + x_2 i s_2, c_4 + x_4 i s_4)$"
   ]
  },
  {
   "cell_type": "markdown",
   "id": "92c3bb37",
   "metadata": {},
   "source": [
    "$(c_1 + x_1 i s_1)\\cdot (c_2 + x_2 i s_2)$"
   ]
  },
  {
   "cell_type": "code",
   "execution_count": null,
   "id": "5d137a7f",
   "metadata": {},
   "outputs": [],
   "source": []
  },
  {
   "cell_type": "markdown",
   "id": "02691423",
   "metadata": {},
   "source": [
    "## Get the real signal values on virtual locations \n",
    "One can do this using Chebyshev polynomials with the recurrence $\\cos(nx) = 2\\cos(x)\\cos((n-1)x) - \\cos((n-2)x)$"
   ]
  },
  {
   "cell_type": "code",
   "execution_count": 11,
   "id": "133ab62c",
   "metadata": {},
   "outputs": [
    {
     "name": "stdout",
     "output_type": "stream",
     "text": [
      "[0.31622777+0.9486833j]\n",
      "0.30155270333819445\n"
     ]
    },
    {
     "name": "stderr",
     "output_type": "stream",
     "text": [
      "/Users/farrokhlabib/Documents/github/csAE/.venv/lib/python3.10/site-packages/scipy/special/_orthogonal.py:133: RuntimeWarning: overflow encountered in multiply\n",
      "  np.poly1d.__init__(self, poly.coeffs * float(kn))\n"
     ]
    },
    {
     "data": {
      "text/plain": [
       "(1.5707963267948966, 0.0, 0.6283185307179586)"
      ]
     },
     "execution_count": 11,
     "metadata": {},
     "output_type": "execute_result"
    },
    {
     "data": {
      "image/png": "[encoded data removed]",
      "text/plain": [
       "<Figure size 640x480 with 1 Axes>"
      ]
     },
     "metadata": {},
     "output_type": "display_data"
    }
   ],
   "source": [
    "from scipy.special import chebyt, chebyu\n",
    "\n",
    "def get_cheb_vals(n_max, w):\n",
    "    R = np.zeros(n_max)\n",
    "    for n in range(n_max):\n",
    "        R[n] = chebyt(2*n+1)(np.cos(w))\n",
    "    return R\n",
    "\n",
    "def get_cosine_values(n_max, w):\n",
    "    R = np.zeros(n_max)\n",
    "    for n in range(n_max):\n",
    "         R[n] = np.cos((2*n+1)*w)\n",
    "    return R\n",
    "\n",
    "# For reproducibility\n",
    "# np.random.seed(8)\n",
    "\n",
    "theta = np.pi/5\n",
    "w = 2*theta\n",
    "\n",
    "# depths = [0] + [2**i for i in range(6)]\n",
    "depths = [0]\n",
    "# n_samples = [(d_max - d)//2 + 1 for d in depths]\n",
    "n_samples = [400 for _ in depths]\n",
    "\n",
    "R = estimate_signal(depths, n_samples, theta)\n",
    "print(R)\n",
    "S = np.cos(w) + np.random.normal(0.0,1/100)\n",
    "print(S)\n",
    "vR = [chebyt(2*n+1)(R[0]) for n in range(500)]\n",
    "R = vR\n",
    "# R = get_cheb_vals(d_max, w)\n",
    "# R = get_cosine_values(d_max, w)\n",
    "\n",
    "fft = np.abs(np.fft.fft(R))\n",
    "\n",
    "amax = np.argmax(fft[1:len(fft)//2])\n",
    "\n",
    "xaxis = [i*np.pi/(2*len(fft)) for i in range(len(fft))]\n",
    "\n",
    "plt.plot(xaxis, fft)\n",
    "\n",
    "np.pi*(len(fft)-amax)/(2*len(fft)), np.pi*(amax)/(2*len(fft)), theta"
   ]
  },
  {
   "cell_type": "code",
   "execution_count": 12,
   "id": "4dbfbd7e",
   "metadata": {},
   "outputs": [
    {
     "ename": "LinAlgError",
     "evalue": "SVD did not converge",
     "output_type": "error",
     "traceback": [
      "\u001b[0;31m---------------------------------------------------------------------------\u001b[0m",
      "\u001b[0;31mLinAlgError\u001b[0m                               Traceback (most recent call last)",
      "Cell \u001b[0;32mIn[12], line 3\u001b[0m\n\u001b[1;32m      1\u001b[0m espirit \u001b[38;5;241m=\u001b[39m ESPIRIT()\n\u001b[0;32m----> 3\u001b[0m theta_est, angle \u001b[38;5;241m=\u001b[39m \u001b[43mespirit\u001b[49m\u001b[38;5;241;43m.\u001b[39;49m\u001b[43mestimate_theta_toeplitz\u001b[49m\u001b[43m(\u001b[49m\u001b[43mR\u001b[49m\u001b[43m)\u001b[49m\n\u001b[1;32m      4\u001b[0m \u001b[38;5;28mprint\u001b[39m(\u001b[38;5;124mf\u001b[39m\u001b[38;5;124m'\u001b[39m\u001b[38;5;124mangles: \u001b[39m\u001b[38;5;132;01m{\u001b[39;00mangle\u001b[38;5;241m/\u001b[39m\u001b[38;5;241m2\u001b[39m\u001b[38;5;132;01m}\u001b[39;00m\u001b[38;5;124m'\u001b[39m)\n\u001b[1;32m      5\u001b[0m \u001b[38;5;28mprint\u001b[39m(\u001b[38;5;124mf\u001b[39m\u001b[38;5;124m'\u001b[39m\u001b[38;5;124mtheta_est: \u001b[39m\u001b[38;5;132;01m{\u001b[39;00m\u001b[38;5;241m2\u001b[39m\u001b[38;5;241m*\u001b[39mtheta_est\u001b[38;5;132;01m}\u001b[39;00m\u001b[38;5;124m'\u001b[39m)\n",
      "File \u001b[0;32m~/Documents/github/csAE/frequencyestimator.py:160\u001b[0m, in \u001b[0;36mESPIRIT.estimate_theta_toeplitz\u001b[0;34m(self, R, n, p0mp1)\u001b[0m\n\u001b[1;32m    159\u001b[0m \u001b[38;5;28;01mdef\u001b[39;00m \u001b[38;5;21mestimate_theta_toeplitz\u001b[39m(\u001b[38;5;28mself\u001b[39m, R, n\u001b[38;5;241m=\u001b[39m\u001b[38;5;241m2\u001b[39m, p0mp1\u001b[38;5;241m=\u001b[39m\u001b[38;5;241m1.0\u001b[39m):\n\u001b[0;32m--> 160\u001b[0m     \u001b[38;5;28;01mreturn\u001b[39;00m \u001b[38;5;28;43mself\u001b[39;49m\u001b[38;5;241;43m.\u001b[39;49m\u001b[43mestimate_theta\u001b[49m\u001b[43m(\u001b[49m\u001b[43mR\u001b[49m\u001b[43m,\u001b[49m\u001b[43m \u001b[49m\u001b[38;5;28;43;01mTrue\u001b[39;49;00m\u001b[43m,\u001b[49m\u001b[43m \u001b[49m\u001b[38;5;28;43;01mTrue\u001b[39;49;00m\u001b[43m,\u001b[49m\u001b[43m \u001b[49m\u001b[43mn\u001b[49m\u001b[38;5;241;43m=\u001b[39;49m\u001b[38;5;241;43m2\u001b[39;49m\u001b[43m,\u001b[49m\u001b[43m \u001b[49m\u001b[43mp0mp1\u001b[49m\u001b[38;5;241;43m=\u001b[39;49m\u001b[43mp0mp1\u001b[49m\u001b[43m)\u001b[49m\n",
      "File \u001b[0;32m~/Documents/github/csAE/frequencyestimator.py:183\u001b[0m, in \u001b[0;36mESPIRIT.estimate_theta\u001b[0;34m(self, R, lanczos, lanczos_toeplitz, n, p0mp1)\u001b[0m\n\u001b[1;32m    181\u001b[0m S2 \u001b[38;5;241m=\u001b[39m np\u001b[38;5;241m.\u001b[39mmatrix(\u001b[38;5;28mself\u001b[39m\u001b[38;5;241m.\u001b[39mS[\u001b[38;5;241m1\u001b[39m:, :], dtype\u001b[38;5;241m=\u001b[39mnp\u001b[38;5;241m.\u001b[39mcomplex128)\n\u001b[1;32m    182\u001b[0m \u001b[38;5;66;03m# print(np.abs(self.S))\u001b[39;00m\n\u001b[0;32m--> 183\u001b[0m Phi \u001b[38;5;241m=\u001b[39m \u001b[43mnp\u001b[49m\u001b[38;5;241;43m.\u001b[39;49m\u001b[43mlinalg\u001b[49m\u001b[38;5;241;43m.\u001b[39;49m\u001b[43mpinv\u001b[49m\u001b[43m(\u001b[49m\u001b[43mS1\u001b[49m\u001b[43m)\u001b[49m \u001b[38;5;241m@\u001b[39m S2\n\u001b[1;32m    185\u001b[0m eigs, _ \u001b[38;5;241m=\u001b[39m np\u001b[38;5;241m.\u001b[39mlinalg\u001b[38;5;241m.\u001b[39meig(Phi)\n\u001b[1;32m    187\u001b[0m angle \u001b[38;5;241m=\u001b[39m \u001b[38;5;241m-\u001b[39mnp\u001b[38;5;241m.\u001b[39mangle(eigs)\n",
      "File \u001b[0;32m~/Documents/github/csAE/.venv/lib/python3.10/site-packages/numpy/linalg/linalg.py:2022\u001b[0m, in \u001b[0;36mpinv\u001b[0;34m(a, rcond, hermitian)\u001b[0m\n\u001b[1;32m   2020\u001b[0m     \u001b[38;5;28;01mreturn\u001b[39;00m wrap(res)\n\u001b[1;32m   2021\u001b[0m a \u001b[38;5;241m=\u001b[39m a\u001b[38;5;241m.\u001b[39mconjugate()\n\u001b[0;32m-> 2022\u001b[0m u, s, vt \u001b[38;5;241m=\u001b[39m \u001b[43msvd\u001b[49m\u001b[43m(\u001b[49m\u001b[43ma\u001b[49m\u001b[43m,\u001b[49m\u001b[43m \u001b[49m\u001b[43mfull_matrices\u001b[49m\u001b[38;5;241;43m=\u001b[39;49m\u001b[38;5;28;43;01mFalse\u001b[39;49;00m\u001b[43m,\u001b[49m\u001b[43m \u001b[49m\u001b[43mhermitian\u001b[49m\u001b[38;5;241;43m=\u001b[39;49m\u001b[43mhermitian\u001b[49m\u001b[43m)\u001b[49m\n\u001b[1;32m   2024\u001b[0m \u001b[38;5;66;03m# discard small singular values\u001b[39;00m\n\u001b[1;32m   2025\u001b[0m cutoff \u001b[38;5;241m=\u001b[39m rcond[\u001b[38;5;241m.\u001b[39m\u001b[38;5;241m.\u001b[39m\u001b[38;5;241m.\u001b[39m, newaxis] \u001b[38;5;241m*\u001b[39m amax(s, axis\u001b[38;5;241m=\u001b[39m\u001b[38;5;241m-\u001b[39m\u001b[38;5;241m1\u001b[39m, keepdims\u001b[38;5;241m=\u001b[39m\u001b[38;5;28;01mTrue\u001b[39;00m)\n",
      "File \u001b[0;32m~/Documents/github/csAE/.venv/lib/python3.10/site-packages/numpy/linalg/linalg.py:1681\u001b[0m, in \u001b[0;36msvd\u001b[0;34m(a, full_matrices, compute_uv, hermitian)\u001b[0m\n\u001b[1;32m   1678\u001b[0m         gufunc \u001b[38;5;241m=\u001b[39m _umath_linalg\u001b[38;5;241m.\u001b[39msvd_n_s\n\u001b[1;32m   1680\u001b[0m signature \u001b[38;5;241m=\u001b[39m \u001b[38;5;124m'\u001b[39m\u001b[38;5;124mD->DdD\u001b[39m\u001b[38;5;124m'\u001b[39m \u001b[38;5;28;01mif\u001b[39;00m isComplexType(t) \u001b[38;5;28;01melse\u001b[39;00m \u001b[38;5;124m'\u001b[39m\u001b[38;5;124md->ddd\u001b[39m\u001b[38;5;124m'\u001b[39m\n\u001b[0;32m-> 1681\u001b[0m u, s, vh \u001b[38;5;241m=\u001b[39m \u001b[43mgufunc\u001b[49m\u001b[43m(\u001b[49m\u001b[43ma\u001b[49m\u001b[43m,\u001b[49m\u001b[43m \u001b[49m\u001b[43msignature\u001b[49m\u001b[38;5;241;43m=\u001b[39;49m\u001b[43msignature\u001b[49m\u001b[43m,\u001b[49m\u001b[43m \u001b[49m\u001b[43mextobj\u001b[49m\u001b[38;5;241;43m=\u001b[39;49m\u001b[43mextobj\u001b[49m\u001b[43m)\u001b[49m\n\u001b[1;32m   1682\u001b[0m u \u001b[38;5;241m=\u001b[39m u\u001b[38;5;241m.\u001b[39mastype(result_t, copy\u001b[38;5;241m=\u001b[39m\u001b[38;5;28;01mFalse\u001b[39;00m)\n\u001b[1;32m   1683\u001b[0m s \u001b[38;5;241m=\u001b[39m s\u001b[38;5;241m.\u001b[39mastype(_realType(result_t), copy\u001b[38;5;241m=\u001b[39m\u001b[38;5;28;01mFalse\u001b[39;00m)\n",
      "File \u001b[0;32m~/Documents/github/csAE/.venv/lib/python3.10/site-packages/numpy/linalg/linalg.py:121\u001b[0m, in \u001b[0;36m_raise_linalgerror_svd_nonconvergence\u001b[0;34m(err, flag)\u001b[0m\n\u001b[1;32m    120\u001b[0m \u001b[38;5;28;01mdef\u001b[39;00m \u001b[38;5;21m_raise_linalgerror_svd_nonconvergence\u001b[39m(err, flag):\n\u001b[0;32m--> 121\u001b[0m     \u001b[38;5;28;01mraise\u001b[39;00m LinAlgError(\u001b[38;5;124m\"\u001b[39m\u001b[38;5;124mSVD did not converge\u001b[39m\u001b[38;5;124m\"\u001b[39m)\n",
      "\u001b[0;31mLinAlgError\u001b[0m: SVD did not converge"
     ]
    }
   ],
   "source": [
    "espirit = ESPIRIT()\n",
    "\n",
    "theta_est, angle = espirit.estimate_theta_toeplitz(R)\n",
    "print(f'angles: {angle/2}')\n",
    "print(f'theta_est: {2*theta_est}')\n",
    "print(f'w: {w}')\n",
    "np.sum(np.abs(angle))/4"
   ]
  },
  {
   "cell_type": "markdown",
   "id": "fe2ff3c8",
   "metadata": {},
   "source": [
    "This seems to work: Sample at depth 0 to get an approximation of $T_1(\\cos(\\omega)) = \\cos(\\omega)$ and use Chebyshev polynomials to get $T_{2n+1}(\\cos(\\omega)) = \\cos((2n+1)\\omega)$ and use ESPRIT or FFT.\n",
    "\n",
    "Unfortunately, the scaling in this case is no better than classical since $|T_n(\\cos(\\omega)) - T_n(x)|< n\\epsilon$ if $x = \\cos(\\omega)+\\epsilon$ ($x$ being a noisy version of $\\cos(\\omega)$)."
   ]
  },
  {
   "cell_type": "code",
   "execution_count": null,
   "id": "5194331c",
   "metadata": {},
   "outputs": [
    {
     "data": {
      "text/plain": [
       "[3, 5, 9, 17, 33, 65, 129, 257]"
      ]
     },
     "execution_count": 154,
     "metadata": {},
     "output_type": "execute_result"
    }
   ],
   "source": [
    "[2**k + 1 for k in range(1,9)]"
   ]
  },
  {
   "cell_type": "code",
   "execution_count": null,
   "id": "a89d7ae3",
   "metadata": {},
   "outputs": [
    {
     "name": "stdout",
     "output_type": "stream",
     "text": [
      "depths:[0, 1, 2, 4, 8, 16, 32]\n",
      "idx_vals:[1, 3, 5, 9, 17, 33, 65]\n",
      "{1: 0.30901699437494745, 3: -0.8090169943749475, 5: 1.0, 9: 0.309016994374947, 17: -0.8090169943749469, 33: -0.8090169943749483, 65: 1.0}\n",
      "64\n"
     ]
    },
    {
     "data": {
      "text/plain": [
       "(0.9326603190344698, 0.6381360077604268, 0.6283185307179586)"
      ]
     },
     "execution_count": 87,
     "metadata": {},
     "output_type": "execute_result"
    },
    {
     "data": {
      "image/png": "[encoded data removed]",
      "text/plain": [
       "<Figure size 640x480 with 1 Axes>"
      ]
     },
     "metadata": {},
     "output_type": "display_data"
    }
   ],
   "source": [
    "theta = np.pi/5# np.arccos(a)\n",
    "w = 2*theta\n",
    "\n",
    "q=6\n",
    "\n",
    "depths = [0] + [2**i for i in range(q)]\n",
    "n_samples = [100 for _ in depths]\n",
    "print(f'depths:{depths}')\n",
    "\n",
    "idx = [0]*\n",
    "\n",
    "S = estimate_signal(depths, n_samples, theta)\n",
    "\n",
    "\n",
    "\n",
    "fft = np.abs(np.fft.fft(R))\n",
    "\n",
    "amax = np.argmax(fft[:len(fft)//2])\n",
    "\n",
    "xaxis = [i*np.pi/(2*len(fft)) for i in range(len(fft))]\n",
    "\n",
    "plt.plot(xaxis, fft)\n",
    "\n",
    "np.pi*(len(fft)-amax)/(2*len(fft)) , np.pi*(amax)/(2*len(fft)), theta"
   ]
  },
  {
   "cell_type": "code",
   "execution_count": null,
   "id": "1e29308b",
   "metadata": {},
   "outputs": [
    {
     "data": {
      "text/plain": [
       "256"
      ]
     },
     "execution_count": 9,
     "metadata": {},
     "output_type": "execute_result"
    }
   ],
   "source": [
    "R = R[:len(R)//2]\n",
    "len(R)"
   ]
  },
  {
   "cell_type": "code",
   "execution_count": null,
   "id": "82e8b676",
   "metadata": {},
   "outputs": [
    {
     "name": "stdout",
     "output_type": "stream",
     "text": [
      "angles: [ 2.41720381 -2.41720381]\n",
      "w: 2.0943951023931953\n",
      "theta_est: 0.9664953736318308\n",
      "theta:1.0471975511965976\n"
     ]
    },
    {
     "data": {
      "text/plain": [
       "1.2086019063261315"
      ]
     },
     "execution_count": 10,
     "metadata": {},
     "output_type": "execute_result"
    }
   ],
   "source": [
    "espirit = ESPIRIT()\n",
    "\n",
    "theta_est, angle = espirit.estimate_theta_toeplitz(R)\n",
    "print(f'angles: {angle}')\n",
    "print(f'w: {w}')\n",
    "print(f'theta_est: {theta_est}')\n",
    "print(f'theta:{theta}')\n",
    "np.sum(np.abs(angle))/4"
   ]
  },
  {
   "cell_type": "code",
   "execution_count": null,
   "id": "b56081d3",
   "metadata": {},
   "outputs": [
    {
     "name": "stdout",
     "output_type": "stream",
     "text": [
      "angles: [-2.51423504 -2.51474992]\n",
      "w: 1.2566370614359172\n",
      "theta_est: 0.6285587590036431\n",
      "theta:0.6283185307179586\n"
     ]
    }
   ],
   "source": [
    "theta = np.pi/5\n",
    "w = 2*theta\n",
    "depths = [d for d in range(4000)]\n",
    "n_samples = [10 for d in depths]\n",
    "complex_signal = estimate_signal(depths=depths, n_samples=n_samples, theta=theta)\n",
    "\n",
    "espirit = ESPIRIT()\n",
    "\n",
    "theta_est, angle = espirit.estimate_theta_toeplitz(complex_signal)\n",
    "print(f'angles: {angle}')\n",
    "print(f'w: {w}')\n",
    "print(f'theta_est: {theta_est}')\n",
    "print(f'theta:{theta}')"
   ]
  },
  {
   "cell_type": "markdown",
   "id": "642888c3",
   "metadata": {},
   "source": [
    "We need to solve the sign ambiguity at each depth. Consider the following approach.\n",
    "\n",
    "Suppose we know $\\cos(\\omega)$, this implies $\\sin(\\omega) = \\pm \\sqrt{1-\\cos^2(\\omega)}$.\n",
    "\n",
    "Choose a sign, say $+$. Then we form the exponential $e^{i\\omega} = \\cos(\\omega) + i\\sin(\\omega)$.\n",
    "\n",
    "Next we obtain $\\cos(3\\omega)$ as well and also choose $+$ for the sign, so we have $e^{i3\\omega} = \\cos(3\\omega) + i\\sin(3\\omega)$.\n",
    "\n",
    "Then, knowing $\\cos(5\\omega)$ determines if the chosen signs are consistent."
   ]
  },
  {
   "cell_type": "code",
   "execution_count": null,
   "id": "31e56c4e",
   "metadata": {},
   "outputs": [
    {
     "data": {
      "text/plain": [
       "1.2734564911263488"
      ]
     },
     "execution_count": 70,
     "metadata": {},
     "output_type": "execute_result"
    }
   ],
   "source": [
    "w = np.random.random()*np.pi\n",
    "w"
   ]
  },
  {
   "cell_type": "code",
   "execution_count": null,
   "id": "527aee36",
   "metadata": {},
   "outputs": [
    {
     "name": "stdout",
     "output_type": "stream",
     "text": [
      "True\n",
      "True\n"
     ]
    }
   ],
   "source": [
    "std = 1/10**4\n",
    "\n",
    "cos1 = np.cos(w) + np.random.normal(0.0, std)\n",
    "sin1 = np.sqrt(1-cos1**2)\n",
    "\n",
    "cos3 = np.cos(3*w) + np.random.normal(0.0, std)\n",
    "sin3 = np.sqrt(1-cos3**2)\n",
    "\n",
    "cos5 = np.cos(5*w) + np.random.normal(0.0, std)\n",
    "sin5 = np.sqrt(1-cos5**2)\n",
    "\n",
    "print(np.isclose(cos5, np.real((cos1+1.0j*sin1)**2*(cos3-1.0j*sin3)), rtol=0.01))\n",
    "\n",
    "cos9 = np.cos(9*w) + np.random.normal(0.0, std)\n",
    "\n",
    "print(np.isclose(cos9, np.real((cos1+1.0j*sin1) * (cos3-1.0j*sin3) * (cos5+1.0j*sin5)), rtol=0.01))"
   ]
  },
  {
   "cell_type": "code",
   "execution_count": null,
   "id": "1faa3c73",
   "metadata": {},
   "outputs": [
    {
     "data": {
      "text/plain": [
       "[1, 3, 5, 9]"
      ]
     },
     "execution_count": 75,
     "metadata": {},
     "output_type": "execute_result"
    }
   ],
   "source": [
    "q = 3\n",
    "\n",
    "s = [1] + [2**k+1 for k in range(1, q+1)]\n",
    "s"
   ]
  },
  {
   "cell_type": "code",
   "execution_count": null,
   "id": "97818829",
   "metadata": {},
   "outputs": [
    {
     "data": {
      "text/plain": [
       "(3, 3)"
      ]
     },
     "execution_count": 41,
     "metadata": {},
     "output_type": "execute_result"
    }
   ],
   "source": [
    "s[-1] - 2*s[0], s[-2] - s[0] + s[-3]# - s[0] + s[-4] - s[0] + s[-5]# - s[0]# + s[-6] - s[0] + s[-7] - s[0] + s[-8] - s[0] + s[-9]"
   ]
  },
  {
   "cell_type": "code",
   "execution_count": null,
   "id": "f24bb6e7",
   "metadata": {},
   "outputs": [],
   "source": [
    "def sign_ambiguity(signal):\n",
    "    # returns a list of signs at each depth\n",
    "    signs = [1] #we can choose the first sign freely\n",
    "    rtol = 0.01\n",
    "    sines = np.sqrt(1 - signal**2)\n",
    "    csignal = [signal[0] + signs[0]*1.0j*sines[0]] #first complex signal\n",
    "\n",
    "    for i in range(1, len(signal) - 1):\n",
    "        for sign in [-1, 1]:\n",
    "            cs = signal[i] + sign*1.0j*sines[i]\n",
    "            cs = cs * csignal[0]**2\n",
    "            for j in range(i):\n",
    "                cs = cs*csignal[j]*np.conj(csignal[0])\n",
    "\n",
    "            if np.isclose(signal[i+1], np.real(cs), rtol=rtol):\n",
    "                signs.append(sign)\n",
    "                csignal.append(signal[i] + sign*1.0j*sines[i])\n",
    "                break\n",
    "\n",
    "    return signs, csignal"
   ]
  },
  {
   "cell_type": "code",
   "execution_count": null,
   "id": "b31e3d9e",
   "metadata": {},
   "outputs": [
    {
     "data": {
      "text/plain": [
       "array([ 0.29296457, -0.77816886,  0.99651255,  0.44893816])"
      ]
     },
     "execution_count": 85,
     "metadata": {},
     "output_type": "execute_result"
    }
   ],
   "source": [
    "signal = np.array([np.cos(i*w)+np.random.normal(0.0, std) for i in s])\n",
    "signal"
   ]
  },
  {
   "cell_type": "code",
   "execution_count": null,
   "id": "56cf9493",
   "metadata": {},
   "outputs": [
    {
     "data": {
      "text/plain": [
       "([1, -1, 1],\n",
       " [(0.29296456924427944+0.9561232980988977j),\n",
       "  (-0.778168857053688-0.6280551169378026j),\n",
       "  (0.9965125488285425+0.08344303462387884j)])"
      ]
     },
     "execution_count": 86,
     "metadata": {},
     "output_type": "execute_result"
    }
   ],
   "source": [
    "sign_ambiguity(signal=signal)"
   ]
  },
  {
   "cell_type": "code",
   "execution_count": null,
   "id": "cce856d0",
   "metadata": {},
   "outputs": [],
   "source": []
  }
 ],
 "metadata": {
  "kernelspec": {
   "display_name": "Python 3 (ipykernel)",
   "language": "python",
   "name": "python3"
  },
  "language_info": {
   "codemirror_mode": {
    "name": "ipython",
    "version": 3
   },
   "file_extension": ".py",
   "mimetype": "text/x-python",
   "name": "python",
   "nbconvert_exporter": "python",
   "pygments_lexer": "ipython3",
   "version": "3.10.9"
  }
 },
 "nbformat": 4,
 "nbformat_minor": 5
}
