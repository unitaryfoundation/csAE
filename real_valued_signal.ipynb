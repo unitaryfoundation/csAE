{
 "cells": [
  {
   "cell_type": "code",
   "execution_count": 2,
   "id": "cabf93de-0b26-4033-9cd0-8d247c43e4f8",
   "metadata": {},
   "outputs": [
    {
     "data": {
      "text/plain": [
       "<Figure size 640x480 with 0 Axes>"
      ]
     },
     "metadata": {},
     "output_type": "display_data"
    }
   ],
   "source": [
    "import numpy as np\n",
    "import matplotlib.pyplot as plt\n",
    "import seaborn as sns\n",
    "from signals import *\n",
    "from frequencyestimator import *\n",
    "import time\n",
    "import copy\n",
    "\n",
    "sns.set_style(\"whitegrid\")\n",
    "sns.despine(left=True, bottom=True)\n",
    "sns.set_context(\"poster\", font_scale = .45, rc={\"grid.linewidth\": 0.8})"
   ]
  },
  {
   "cell_type": "code",
   "execution_count": 3,
   "id": "93aa13c8",
   "metadata": {},
   "outputs": [],
   "source": [
    "P0 = lambda n, theta: np.cos((2*n+1)*theta)**2\n",
    "P1 = lambda n, theta: np.sin((2*n+1)*theta)**2\n",
    "\n",
    "def estimate_signal(depths, n_samples, theta, eta=0.0):\n",
    "        signals = np.zeros(len(depths), dtype = np.complex128)\n",
    "        cos_signal = np.zeros(len(depths), dtype = np.complex128)\n",
    "        for i,n in enumerate(depths):\n",
    "            # Get the exact measuremnt probabilities\n",
    "            p0 = P0(n, theta)\n",
    "            p1 = P1(n, theta)\n",
    "\n",
    "            p0x = P0x(n,theta)\n",
    "            p1x = P1x(n,theta)\n",
    "\n",
    "            # Get the \"noisy\" probabilities by sampling and adding a bias term that pushes towards 50/50 mixture\n",
    "            eta_n = (1.0-eta)**(n+1) # The error at depth n increases as more queries are implemented\n",
    "            p0_estimate = np.random.binomial(n_samples[i], eta_n*p0 + (1.0-eta_n)*0.5)/n_samples[i]\n",
    "            p1_estimate = 1 - p0_estimate\n",
    "            # p1_estimate = np.random.binomial(n_samples[i], eta_n*p1 + (1.0-eta_n)*0.5)/n_samples[i]\n",
    "            p0x_estimate = np.random.binomial(n_samples[i], eta_n*p0x + (1.0-eta_n)*0.5)/n_samples[i]\n",
    "            p1x_estimate = 1.0 - p0x_estimate\n",
    "            \n",
    "            # Estimate theta\n",
    "            theta_estimated = np.arctan2(p0x_estimate - p1x_estimate, p0_estimate - p1_estimate)\n",
    "\n",
    "            # estimate cos(2n+1)2theta\n",
    "            # cos_signal[i] = p0_estimate - p1_estimate\n",
    "            \n",
    "            # Store this to determine angle at theta = 0 or pi/2\n",
    "            if i==0:\n",
    "                p0mp1 = p0_estimate - p1_estimate\n",
    "\n",
    "            # Compute f(n) - Eq. 3\n",
    "            fi_estimate = np.exp(1.0j*theta_estimated)\n",
    "            # fi_estimate = 2*p0_estimate - 1 + 1.0j*np.sqrt(1-(2*p0_estimate - 1)**2)\n",
    "            # fi_estimate = 2*p0_estimate - 1\n",
    "            # fi_estimate = np.cos((2*n+1)*2*theta)\n",
    "            # fi_estimate = np.exp(1.0j*(2*n+1)*2*theta)\n",
    "            # fi_estimate = 2*p0 - 1 + np.random.normal(0.0, 1/n_samples[i])\n",
    "\n",
    "            # signals[i] = np.real(fi_estimate)\n",
    "            signals[i] = fi_estimate\n",
    "         \n",
    "        return signals    "
   ]
  },
  {
   "cell_type": "markdown",
   "id": "afa97237",
   "metadata": {},
   "source": [
    "## Test eigenvalues of R"
   ]
  },
  {
   "cell_type": "code",
   "execution_count": 591,
   "id": "3918be0a",
   "metadata": {},
   "outputs": [
    {
     "name": "stdout",
     "output_type": "stream",
     "text": [
      "depths:[  0   1   2   4   8  16  32  64 128]\n",
      "[ 1.  1.  1. -1. -1.  1.  1. -1. -1.]\n",
      "[ 1  1  1 -1  1  1  1 -1  1]\n",
      "max fourier coefficient: (0.44388722462574304, 0.9883950472883922)\n",
      "l4 norm fourier coefficients: (0.5088545962273373, 0.9883967339655365)\n",
      "0.3062122510802995 0.30498158952368015\n"
     ]
    }
   ],
   "source": [
    "a = 0.3\n",
    "theta = np.arcsin(a)\n",
    "w = 2*theta\n",
    "\n",
    "q=4\n",
    "\n",
    "narray = [2]*(2*q)\n",
    "\n",
    "ula_signal = TwoqULASignal(M=narray, C=10)\n",
    "espirit = ESPIRIT()\n",
    "\n",
    "depths = ula_signal.depths\n",
    "n_samples = ula_signal.n_samples\n",
    "# n_samples = [100 for _ in depths]\n",
    "print(f'depths:{depths}')\n",
    "\n",
    "signal = estimate_signal(depths, n_samples, theta)\n",
    "cos_signal = np.real(signal)\n",
    "sin_signal = np.imag(signal) #don't know\n",
    "abs_sin = np.abs(sin_signal)\n",
    "\n",
    "signs = np.sign(sin_signal) #these are the correct signs\n",
    "\n",
    "random_signs = np.random.choice([-1, 1], size=len(signs))\n",
    "\n",
    "print(signs)\n",
    "#corrupt the signs\n",
    "# signs[1:] = -1 * signs[1:]\n",
    "# signs[1] = -1 * signs[1]\n",
    "# signs[2] = -1 * signs[2]\n",
    "print(random_signs)\n",
    "\n",
    "csignal = cos_signal + 1.0j * random_signs * abs_sin\n",
    "\n",
    "R1 = ula_signal.get_cov_matrix_toeplitz(csignal)\n",
    "R2 = ula_signal.get_cov_matrix_toeplitz(signal)\n",
    "\n",
    "theta_est1, eigs1 = espirit.estimate_theta_toeplitz(R1)\n",
    "theta_est2, eigs2 = espirit.estimate_theta_toeplitz(R2)\n",
    "\n",
    "\n",
    "fft1 = np.abs(np.fft.fft(R1/len(R1)))\n",
    "fft2 = np.abs(np.fft.fft(R2/len(R2)))\n",
    "\n",
    "print(f\"max fourier coefficient: {(np.max(fft1), np.max(fft2))}\")\n",
    "print(f\"l4 norm fourier coefficients: {(np.linalg.norm(fft1, 4), np.linalg.norm(fft2, 4))}\")\n",
    "# print(np.max(fft1), np.max(fft2))\n",
    "\n",
    "# xaxis = [i*np.pi/(2*len(fft1)) for i in range(len(fft1))]\n",
    "# plt.figure()\n",
    "# plt.plot(xaxis, fft1)\n",
    "\n",
    "# plt.figure()\n",
    "# plt.plot(xaxis, fft2)\n",
    "print(theta_est1, theta_est2)\n",
    "\n"
   ]
  },
  {
   "cell_type": "code",
   "execution_count": 592,
   "id": "75c95acb",
   "metadata": {},
   "outputs": [
    {
     "data": {
      "text/plain": [
       "[<matplotlib.lines.Line2D at 0x2aace0620>]"
      ]
     },
     "execution_count": 592,
     "metadata": {},
     "output_type": "execute_result"
    },
    {
     "data": {
      "image/png": "[encoded data removed]",
      "text/plain": [
       "<Figure size 640x480 with 1 Axes>"
      ]
     },
     "metadata": {},
     "output_type": "display_data"
    },
    {
     "data": {
      "image/png": "[encoded data removed]",
      "text/plain": [
       "<Figure size 640x480 with 1 Axes>"
      ]
     },
     "metadata": {},
     "output_type": "display_data"
    }
   ],
   "source": [
    "xaxis = [i*np.pi/(2*len(fft1)) for i in range(len(fft1))]\n",
    "plt.figure()\n",
    "plt.plot(xaxis, fft1)\n",
    "\n",
    "plt.figure()\n",
    "plt.plot(xaxis, fft2)"
   ]
  },
  {
   "cell_type": "code",
   "execution_count": 121,
   "id": "0a6b8a06",
   "metadata": {},
   "outputs": [
    {
     "name": "stdout",
     "output_type": "stream",
     "text": [
      "depths:[  0   1   2   4   8  16  32  64 128 256 512]\n",
      "true: 1.3302984583574047\n",
      "+1 -1: [0.34519707 0.76688369]\n",
      "true: 2.9619837939254\n",
      "+1 -1: [1.88556214 2.93940699]\n",
      "true: 8.949601899176553\n",
      "+1 -1: [8.90777972 8.9496019 ]\n",
      "true: 16.89918649919246\n",
      "+1 -1: [14.56851106 16.8991865 ]\n",
      "true: 48.37542556793399\n",
      "+1 -1: [48.37542557 48.37542557]\n",
      "true: 80.0088429661139\n",
      "+1 -1: [61.68805915 80.00884297]\n",
      "true: 218.43492795449555\n",
      "+1 -1: [221.73546837 218.43492795]\n",
      "true: 401.5325778762839\n",
      "+1 -1: [246.12830689 404.66194016]\n",
      "true: 1007.9325343789585\n",
      "+1 -1: [1061.30331395  957.24946593]\n",
      "true: 1869.3432230773296\n",
      "+1 -1: [1272.32439352 1909.64011086]\n",
      "[ 1.  1. -1. -1. -1.  1. -1. -1. -1. -1. -1.] [ 1. -1. -1. -1. -1. -1. -1.  1. -1.  1. -1.]\n"
     ]
    },
    {
     "data": {
      "text/plain": [
       "(0.5234804027757773, 0.5234968207189087, 0.5235987755982988)"
      ]
     },
     "execution_count": 121,
     "metadata": {},
     "output_type": "execute_result"
    }
   ],
   "source": [
    "a = 0.5\n",
    "theta = np.arcsin(a)\n",
    "w = 2*theta\n",
    "\n",
    "q=5\n",
    "\n",
    "narray = [2]*(2*q)\n",
    "\n",
    "ula_signal = TwoqULASignal(M=narray, C=3)\n",
    "espirit = ESPIRIT()\n",
    "\n",
    "depths = ula_signal.depths\n",
    "n_samples = ula_signal.n_samples\n",
    "# n_samples = [100 for _ in depths]\n",
    "print(f'depths:{depths}')\n",
    "\n",
    "signal = estimate_signal(depths, n_samples, theta)\n",
    "cos_signal = np.real(signal)\n",
    "sin_signal = np.imag(signal)\n",
    "abs_sin = np.abs(sin_signal)\n",
    "\n",
    "signs = np.sign(sin_signal) #these are the correct signs\n",
    "\n",
    "plusminus = [1, -1]\n",
    "\n",
    "s = np.ones(len(signal))\n",
    "\n",
    "for i in range(1, len(signal)):\n",
    "    obj = np.zeros(2)\n",
    "    ula = TwoqULASignal(M=narray[:i], C=10)\n",
    "    # print(ula.depths)\n",
    "    for j, sign in enumerate(plusminus):\n",
    "        s[i] = sign\n",
    "        csignal = cos_signal[:i+1] + 1.0j * s[:i+1] * abs_sin[:i+1]\n",
    "        \n",
    "        R = ula.get_cov_matrix_toeplitz(csignal)\n",
    "        theta_est, _ = espirit.estimate_theta_toeplitz(R)\n",
    "\n",
    "        # print(len(R))\n",
    "        fft = np.abs(np.fft.fft(R)/len(R))\n",
    "        # print(fft)\n",
    "        # obj[j] = np.linalg.norm(fft, 4)\n",
    "        # obj[j] = np.abs(espirit.eigs[0])/np.abs(espirit.eigs[1])\n",
    "        obj[j] = np.abs(espirit.eigs[0])\n",
    "\n",
    "        # obj[j] = np.max(fft)\n",
    "    # print(R)\n",
    "    signal2 = signal[:i+1]\n",
    "    R_true = ula.get_cov_matrix_toeplitz(signal2)\n",
    "\n",
    "    _, _ = espirit.estimate_theta_toeplitz(R_true)\n",
    "    # print(f\"true: {np.abs(espirit.eigs[0])/np.abs(espirit.eigs[1])}\")\n",
    "    print(f\"true: {np.abs(espirit.eigs[0])}\")\n",
    "\n",
    "    fft_true = np.abs(np.fft.fft(R_true)/len(R_true))\n",
    "    # print(fft)\n",
    "    # print(np.linalg.norm(fft_true, 4))\n",
    "\n",
    "    print(f\"+1 -1: {obj}\")\n",
    "    idx = np.argmax(obj)\n",
    "    s[i] = plusminus[idx]\n",
    "        \n",
    "# np.dot(signs, s)/len(s)\n",
    "\n",
    "csignal = cos_signal + 1.0j * s * abs_sin\n",
    "\n",
    "R1 = ula_signal.get_cov_matrix_toeplitz(csignal)\n",
    "R2 = ula_signal.get_cov_matrix_toeplitz(signal)\n",
    "\n",
    "theta_est1, eigs1 = espirit.estimate_theta_toeplitz(R1)\n",
    "\n",
    "theta_est2, eigs2 = espirit.estimate_theta_toeplitz(R2)\n",
    "\n",
    "print(signs, s)\n",
    "\n",
    "theta_est1, theta_est2, theta\n",
    "\n",
    "    "
   ]
  },
  {
   "cell_type": "markdown",
   "id": "7728a95d",
   "metadata": {},
   "source": [
    "## Brute force try all signs"
   ]
  },
  {
   "cell_type": "code",
   "execution_count": 96,
   "id": "4ae1aeee",
   "metadata": {},
   "outputs": [
    {
     "name": "stdout",
     "output_type": "stream",
     "text": [
      "depths:[  0   1   2   4   8  16  32  64 128]\n",
      "0.4748157307149107\n",
      "0.518729356677658\n",
      "0.5272542470119677\n",
      "0.5574700974886129\n",
      "0.5175151936168857\n",
      "0.49095870190311947\n",
      "0.5498001772330591\n",
      "0.5026954974656132\n",
      "0.4875465105461915\n",
      "0.5450169260928428\n",
      "0.5186061473320236\n",
      "0.5374760942160471\n",
      "0.48259340130612455\n",
      "0.5148299963792632\n",
      "0.4493082746361294\n",
      "0.46449459228880696\n",
      "0.5707318451731445\n",
      "0.5804140391529093\n",
      "0.6659176012567107\n",
      "0.6591164577975867\n",
      "0.4054370660034026\n",
      "0.4205011025507782\n",
      "0.41464118597754057\n",
      "0.403233711173294\n",
      "0.5160830558205989\n",
      "0.582459544467177\n",
      "0.5567085104098319\n",
      "0.5997926154286592\n",
      "0.395805266399847\n",
      "0.40315218731682156\n",
      "0.42966090335338086\n",
      "0.4131816029396922\n",
      "0.4965157083000381\n",
      "0.5183452975521994\n",
      "0.5984899068564266\n",
      "0.5787050160034135\n",
      "0.4344659873551783\n",
      "0.43098265587793727\n",
      "0.48745019022790137\n",
      "0.44629531070946665\n",
      "0.7776709619703102\n",
      "0.8084578603030327\n",
      "0.8787813545026442\n",
      "0.8891767072019199\n",
      "0.4057323575696625\n",
      "0.43072980181746207\n",
      "0.4620988470607574\n",
      "0.4871238932043842\n",
      "0.8230238709256857\n",
      "0.8892946120689526\n",
      "0.9057585566506273\n",
      "0.9520512185631811\n",
      "0.5407930896727217\n",
      "0.5162187298303652\n",
      "0.5672833565956795\n",
      "0.5255640491987332\n",
      "0.5502633180838655\n",
      "0.5734359422661837\n",
      "0.6511634381208082\n",
      "0.6351747328111995\n",
      "0.42055175115650606\n",
      "0.40655059808510763\n",
      "0.4912335886838959\n",
      "0.4419724701797929\n",
      "0.5315470660716927\n",
      "0.580382680477816\n",
      "0.5931213978965175\n",
      "0.6296649500643229\n",
      "0.539713736492326\n",
      "0.5089030310846592\n",
      "0.5779048931366718\n",
      "0.5239877794805814\n",
      "0.5388460023321751\n",
      "0.6259763146716296\n",
      "0.5615077597411036\n",
      "0.6092481206501046\n",
      "0.507283777216792\n",
      "0.5373131795442048\n",
      "0.4796486293282656\n",
      "0.48779838118373187\n",
      "0.5627674462654585\n",
      "0.5689047615166077\n",
      "0.665242963423621\n",
      "0.6529327613021335\n",
      "0.44210166850777527\n",
      "0.4681872953956642\n",
      "0.4404370240721945\n",
      "0.4373101996807865\n",
      "0.5183433448005099\n",
      "0.5860719952871418\n",
      "0.5557946365368652\n",
      "0.6052864535903356\n",
      "0.42371171393435436\n",
      "0.4332578332379241\n",
      "0.4568636166693507\n",
      "0.4455104795802364\n",
      "0.4713967430876087\n",
      "0.5000995495433059\n",
      "0.560666260792264\n",
      "0.551228839294101\n",
      "0.4480051722713696\n",
      "0.44257463854626555\n",
      "0.49349859334705487\n",
      "0.453324758914531\n",
      "0.7239578855210597\n",
      "0.7446355628896585\n",
      "0.8293459037707698\n",
      "0.8302207542904992\n",
      "0.39744992713707195\n",
      "0.42038868323149475\n",
      "0.45362428554875434\n",
      "0.4786131903311171\n",
      "0.8340205506977723\n",
      "0.8908854770831673\n",
      "0.9300935079607043\n",
      "0.9671141140826297\n",
      "0.4982436364981402\n",
      "0.4811807883964461\n",
      "0.534506314480387\n",
      "0.5030748501606624\n",
      "0.5457758792418188\n",
      "0.5731071063908457\n",
      "0.6476499557695677\n",
      "0.6329870191501296\n",
      "0.4149525124795822\n",
      "0.4005266801029742\n",
      "0.4935123511455193\n",
      "0.4400661515169627\n",
      "0.4306152939661461\n",
      "0.46357288708584965\n",
      "0.4984937971371916\n",
      "0.5371891356343431\n",
      "0.3947742439363766\n",
      "0.4643817188992254\n",
      "0.4144970823250826\n",
      "0.4608950976766457\n",
      "0.46309017234246425\n",
      "0.4816458097467704\n",
      "0.4832179376444556\n",
      "0.49360804362446115\n",
      "0.450890930489594\n",
      "0.41874190421399715\n",
      "0.4292738703504243\n",
      "0.3758395772089346\n",
      "0.41262519736738407\n",
      "0.4647753704783468\n",
      "0.4884447660647835\n",
      "0.4946731335744034\n",
      "0.389809737849079\n",
      "0.39966882798378817\n",
      "0.381063084101326\n",
      "0.38906623101917653\n",
      "0.49828834425046176\n",
      "0.4918651353188014\n",
      "0.546858659923824\n",
      "0.5346237446564711\n",
      "0.36215140418229746\n",
      "0.3866337149996807\n",
      "0.3875768287693584\n",
      "0.40729564463486106\n",
      "0.473282245870979\n",
      "0.4824636446614381\n",
      "0.5215857318879458\n",
      "0.5377243761836437\n",
      "0.40178522122679017\n",
      "0.4236709268631286\n",
      "0.4244707838690235\n",
      "0.44828004346337946\n",
      "0.6092325006591716\n",
      "0.6332208193128905\n",
      "0.7104089725078215\n",
      "0.661282811630674\n",
      "0.40814101190821395\n",
      "0.44510789913266513\n",
      "0.45088783020552214\n",
      "0.4596471803814434\n",
      "0.6728410010855612\n",
      "0.6038823970851647\n",
      "0.7697350462754697\n",
      "0.6425527402333929\n",
      "0.508395920149269\n",
      "0.6222459826617815\n",
      "0.496332380111795\n",
      "0.5772341896771137\n",
      "0.5091177467319258\n",
      "0.5022756907117811\n",
      "0.5355436414321139\n",
      "0.5227839982721817\n",
      "0.41039855666459674\n",
      "0.4502794904187588\n",
      "0.4334498695471128\n",
      "0.47266042357422494\n",
      "0.42591837949459194\n",
      "0.4265128360835917\n",
      "0.48935089135262466\n",
      "0.48329509102785556\n",
      "0.4146563790971971\n",
      "0.5006257046069029\n",
      "0.4243662691856965\n",
      "0.4864450164284359\n",
      "0.5245615382836057\n",
      "0.4998898193114998\n",
      "0.5405772255780055\n",
      "0.5044584463193035\n",
      "0.46105406880027106\n",
      "0.43577663568478364\n",
      "0.43508447445665666\n",
      "0.3839020695935953\n",
      "0.3983044476638427\n",
      "0.45542167676194006\n",
      "0.4719173344716078\n",
      "0.4890609494010184\n",
      "0.414199381605248\n",
      "0.3997537638427473\n",
      "0.3940079460435439\n",
      "0.3782317236781746\n",
      "0.4841287948101586\n",
      "0.4593426412126203\n",
      "0.5311183314800797\n",
      "0.4934920491604335\n",
      "0.368800229005564\n",
      "0.3974198081725115\n",
      "0.3962752183576878\n",
      "0.4134759977588178\n",
      "0.455962362093607\n",
      "0.4601932158489574\n",
      "0.5060121472677124\n",
      "0.5176667726880361\n",
      "0.3967148478599756\n",
      "0.4218391719610386\n",
      "0.4174920615626689\n",
      "0.439683955918224\n",
      "0.5580227463383894\n",
      "0.6118672874632652\n",
      "0.6552200109142176\n",
      "0.6416207407299683\n",
      "0.3879001849796043\n",
      "0.4071569756235055\n",
      "0.4322637127069101\n",
      "0.4290075457299458\n",
      "0.6630374002683705\n",
      "0.6165045089255684\n",
      "0.7693711980215963\n",
      "0.6563947330547231\n",
      "0.4881944444271616\n",
      "0.5937898733487766\n",
      "0.48613398207742226\n",
      "0.5621740697373953\n",
      "0.5146306536852144\n",
      "0.507773264592885\n",
      "0.545205906834732\n",
      "0.5358983145202214\n",
      "0.40417353373942394\n",
      "0.44197086570510824\n",
      "0.4288268064476175\n",
      "0.46799757982259665\n",
      "0.4679975798225966\n",
      "0.4288268064476175\n",
      "0.44197086570510824\n",
      "0.40417353373942394\n",
      "0.5358983145202214\n",
      "0.545205906834732\n",
      "0.507773264592885\n",
      "0.5146306536852144\n",
      "0.5621740697373953\n",
      "0.4861339820774222\n",
      "0.5937898733487765\n",
      "0.4881944444271615\n",
      "0.6563947330547231\n",
      "0.7693711980215963\n",
      "0.6165045089255684\n",
      "0.6630374002683703\n",
      "0.42900754572994587\n",
      "0.4322637127069102\n",
      "0.40715697562350556\n",
      "0.3879001849796043\n",
      "0.6416207407299684\n",
      "0.6552200109142176\n",
      "0.6118672874632654\n",
      "0.5580227463383894\n",
      "0.43968395591822396\n",
      "0.4174920615626689\n",
      "0.4218391719610386\n",
      "0.3967148478599756\n",
      "0.5176667726880361\n",
      "0.5060121472677124\n",
      "0.46019321584895745\n",
      "0.4559623620936071\n",
      "0.4134759977588178\n",
      "0.3962752183576878\n",
      "0.39741980817251144\n",
      "0.368800229005564\n",
      "0.49349204916043343\n",
      "0.5311183314800796\n",
      "0.4593426412126203\n",
      "0.4841287948101585\n",
      "0.37823172367817454\n",
      "0.3940079460435439\n",
      "0.3997537638427473\n",
      "0.41419938160524805\n",
      "0.48906094940101846\n",
      "0.47191733447160783\n",
      "0.45542167676194006\n",
      "0.3983044476638427\n",
      "0.3839020695935953\n",
      "0.43508447445665666\n",
      "0.4357766356847837\n",
      "0.46105406880027106\n",
      "0.5044584463193035\n",
      "0.5405772255780055\n",
      "0.4998898193114998\n",
      "0.5245615382836057\n",
      "0.4864450164284359\n",
      "0.4243662691856964\n",
      "0.500625704606903\n",
      "0.41465637909719705\n",
      "0.48329509102785556\n",
      "0.48935089135262455\n",
      "0.42651283608359175\n",
      "0.4259183794945919\n",
      "0.4726604235742249\n",
      "0.4334498695471128\n",
      "0.45027949041875875\n",
      "0.41039855666459674\n",
      "0.5227839982721818\n",
      "0.5355436414321139\n",
      "0.5022756907117811\n",
      "0.5091177467319258\n",
      "0.5772341896771137\n",
      "0.496332380111795\n",
      "0.6222459826617815\n",
      "0.508395920149269\n",
      "0.6425527402333929\n",
      "0.7697350462754697\n",
      "0.6038823970851647\n",
      "0.6728410010855616\n",
      "0.4596471803814434\n",
      "0.4508878302055221\n",
      "0.4451078991326652\n",
      "0.40814101190821395\n",
      "0.6612828116306741\n",
      "0.7104089725078216\n",
      "0.6332208193128908\n",
      "0.6092325006591718\n",
      "0.44828004346337946\n",
      "0.42447078386902354\n",
      "0.42367092686312857\n",
      "0.4017852212267901\n",
      "0.5377243761836435\n",
      "0.5215857318879458\n",
      "0.48246364466143804\n",
      "0.47328224587097895\n",
      "0.407295644634861\n",
      "0.38757682876935834\n",
      "0.38663371499968074\n",
      "0.36215140418229746\n",
      "0.5346237446564711\n",
      "0.5468586599238241\n",
      "0.4918651353188014\n",
      "0.4982883442504617\n",
      "0.3890662310191766\n",
      "0.381063084101326\n",
      "0.3996688279837882\n",
      "0.3898097378490791\n",
      "0.4946731335744034\n",
      "0.48844476606478343\n",
      "0.4647753704783469\n",
      "0.41262519736738407\n",
      "0.37583957720893457\n",
      "0.4292738703504243\n",
      "0.41874190421399704\n",
      "0.4508909304895941\n",
      "0.4936080436244611\n",
      "0.48321793764445564\n",
      "0.4816458097467704\n",
      "0.46309017234246425\n",
      "0.4608950976766457\n",
      "0.4144970823250826\n",
      "0.4643817188992254\n",
      "0.3947742439363766\n",
      "0.5371891356343432\n",
      "0.49849379713719166\n",
      "0.4635728870858497\n",
      "0.4306152939661461\n",
      "0.4400661515169627\n",
      "0.49351235114551933\n",
      "0.4005266801029742\n",
      "0.4149525124795822\n",
      "0.6329870191501297\n",
      "0.6476499557695677\n",
      "0.5731071063908457\n",
      "0.5457758792418188\n",
      "0.5030748501606624\n",
      "0.534506314480387\n",
      "0.4811807883964461\n",
      "0.4982436364981402\n",
      "0.9671141140826297\n",
      "0.9300935079607043\n",
      "0.8908854770831673\n",
      "0.834020550697772\n",
      "0.4786131903311173\n",
      "0.45362428554875434\n",
      "0.42038868323149475\n",
      "0.39744992713707195\n",
      "0.830220754290499\n",
      "0.8293459037707698\n",
      "0.7446355628896586\n",
      "0.7239578855210597\n",
      "0.453324758914531\n",
      "0.4934985933470548\n",
      "0.44257463854626555\n",
      "0.44800517227136955\n",
      "0.551228839294101\n",
      "0.560666260792264\n",
      "0.5000995495433059\n",
      "0.47139674308760865\n",
      "0.4455104795802364\n",
      "0.4568636166693507\n",
      "0.43325783323792416\n",
      "0.4237117139343543\n",
      "0.6052864535903356\n",
      "0.5557946365368652\n",
      "0.5860719952871418\n",
      "0.5183433448005099\n",
      "0.4373101996807865\n",
      "0.4404370240721944\n",
      "0.4681872953956642\n",
      "0.4421016685077752\n",
      "0.6529327613021333\n",
      "0.6652429634236208\n",
      "0.5689047615166076\n",
      "0.5627674462654586\n",
      "0.4877983811837318\n",
      "0.47964862932826546\n",
      "0.5373131795442049\n",
      "0.507283777216792\n",
      "0.6092481206501046\n",
      "0.5615077597411035\n",
      "0.6259763146716295\n",
      "0.5388460023321752\n",
      "0.5239877794805815\n",
      "0.5779048931366717\n",
      "0.5089030310846592\n",
      "0.539713736492326\n",
      "0.6296649500643229\n",
      "0.5931213978965175\n",
      "0.5803826804778163\n",
      "0.5315470660716928\n",
      "0.44197247017979285\n",
      "0.49123358868389594\n",
      "0.4065505980851076\n",
      "0.42055175115650606\n",
      "0.6351747328111995\n",
      "0.6511634381208086\n",
      "0.5734359422661837\n",
      "0.5502633180838655\n",
      "0.5255640491987333\n",
      "0.5672833565956794\n",
      "0.5162187298303652\n",
      "0.5407930896727217\n",
      "0.9520512185631812\n",
      "0.9057585566506271\n",
      "0.8892946120689523\n",
      "0.8230238709256857\n",
      "0.48712389320438415\n",
      "0.4620988470607574\n",
      "0.43072980181746195\n",
      "0.4057323575696625\n",
      "0.8891767072019199\n",
      "0.8787813545026442\n",
      "0.8084578603030326\n",
      "0.7776709619703098\n",
      "0.44629531070946665\n",
      "0.4874501902279013\n",
      "0.43098265587793727\n",
      "0.4344659873551784\n",
      "0.5787050160034135\n",
      "0.5984899068564267\n",
      "0.5183452975521994\n",
      "0.49651570830003805\n",
      "0.4131816029396922\n",
      "0.42966090335338086\n",
      "0.4031521873168215\n",
      "0.39580526639984703\n",
      "0.5997926154286592\n",
      "0.5567085104098319\n",
      "0.5824595444671768\n",
      "0.5160830558205989\n",
      "0.403233711173294\n",
      "0.4146411859775405\n",
      "0.42050110255077816\n",
      "0.40543706600340257\n",
      "0.6591164577975864\n",
      "0.6659176012567107\n",
      "0.5804140391529093\n",
      "0.5707318451731446\n",
      "0.464494592288807\n",
      "0.4493082746361293\n",
      "0.5148299963792631\n",
      "0.48259340130612455\n",
      "0.5374760942160473\n",
      "0.5186061473320235\n",
      "0.5450169260928429\n",
      "0.48754651054619164\n",
      "0.5026954974656133\n",
      "0.549800177233059\n",
      "0.4909587019031195\n",
      "0.5175151936168857\n",
      "0.5574700974886126\n",
      "0.5272542470119677\n",
      "0.5187293566776578\n",
      "0.4748157307149108\n",
      "[ 1.  1.  1. -1. -1.  1.  1.  1. -1.] [-1 -1 -1 -1 -1 -1 -1 -1  1]\n"
     ]
    },
    {
     "data": {
      "text/plain": [
       "(1.1675564338508735, 0.30500435241863233, 0.30469265401539747)"
      ]
     },
     "execution_count": 96,
     "metadata": {},
     "output_type": "execute_result"
    }
   ],
   "source": [
    "a = 0.3\n",
    "theta = np.arcsin(a)\n",
    "w = 2*theta\n",
    "\n",
    "q=4\n",
    "\n",
    "narray = [2]*(2*q)\n",
    "\n",
    "ula_signal = TwoqULASignal(M=narray, C=5)\n",
    "espirit = ESPIRIT()\n",
    "\n",
    "depths = ula_signal.depths\n",
    "n_samples = ula_signal.n_samples\n",
    "# n_samples = [100 for _ in depths]\n",
    "print(f'depths:{depths}')\n",
    "\n",
    "signal = estimate_signal(depths, n_samples, theta)\n",
    "cos_signal = np.real(signal)\n",
    "sin_signal = np.imag(signal)\n",
    "abs_sin = np.abs(sin_signal)\n",
    "\n",
    "signs = np.sign(sin_signal) #these are the correct signs\n",
    "\n",
    "import itertools\n",
    "\n",
    "def generate_sign_combinations(n):\n",
    "    signs = [-1, 1]\n",
    "    combinations = [np.array(combo) for combo in itertools.product(signs, repeat=n)]\n",
    "    return combinations\n",
    "\n",
    "# Example usage:\n",
    "n = len(signal)\n",
    "\n",
    "combinations = generate_sign_combinations(n)\n",
    "obj = np.zeros(len(combinations))\n",
    "\n",
    "for i, combo in enumerate(combinations):\n",
    "    s = combo\n",
    "    csignal = cos_signal + 1.0j * s * abs_sin\n",
    "    R = ula.get_cov_matrix_toeplitz(csignal)\n",
    "    # print(len(R))\n",
    "    fft = np.abs(np.fft.fft(R)/len(R))\n",
    "    # print(fft)\n",
    "    norm = np.linalg.norm(fft, 4)\n",
    "    obj[j] = norm\n",
    "    print(norm)\n",
    "    # obj[j] = np.max(fft)\n",
    "        \n",
    "# np.dot(signs, s)/len(s)\n",
    "idx = np.argmax(obj)\n",
    "s = combinations[idx]\n",
    "\n",
    "csignal = cos_signal + 1.0j * s * abs_sin\n",
    "\n",
    "R1 = ula_signal.get_cov_matrix_toeplitz(csignal)\n",
    "R2 = ula_signal.get_cov_matrix_toeplitz(signal)\n",
    "\n",
    "theta_est1, eigs1 = espirit.estimate_theta_toeplitz(R1)\n",
    "\n",
    "theta_est2, eigs2 = espirit.estimate_theta_toeplitz(R2)\n",
    "\n",
    "print(signs, s)\n",
    "\n",
    "theta_est1, theta_est2, theta\n",
    "\n",
    "    "
   ]
  },
  {
   "cell_type": "code",
   "execution_count": 542,
   "id": "a4308891",
   "metadata": {},
   "outputs": [
    {
     "data": {
      "text/plain": [
       "0.3526757176636035"
      ]
     },
     "execution_count": 542,
     "metadata": {},
     "output_type": "execute_result"
    }
   ],
   "source": [
    "obj[idx]"
   ]
  },
  {
   "cell_type": "markdown",
   "id": "47fcf5c4-607e-44b7-a74d-bef41ea19882",
   "metadata": {},
   "source": [
    "# Signal estimates on linear array\n",
    "\n",
    "Use fft to find the angles when sampling the cosine on a linear array (so depths 0,1,2,3,4.., 1000 for example).\n",
    "Theoretically this should give the correct peaks.\n",
    "Also use ESPIRIT to find the peaks."
   ]
  },
  {
   "cell_type": "code",
   "execution_count": 136,
   "id": "354fe7f0",
   "metadata": {},
   "outputs": [
    {
     "data": {
      "text/plain": [
       "[<matplotlib.lines.Line2D at 0x176fff620>]"
      ]
     },
     "execution_count": 136,
     "metadata": {},
     "output_type": "execute_result"
    },
    {
     "data": {
      "image/png": "[encoded data removed]",
      "text/plain": [
       "<Figure size 640x480 with 1 Axes>"
      ]
     },
     "metadata": {},
     "output_type": "display_data"
    }
   ],
   "source": [
    "# Set the actual amplitude\n",
    "theta = np.pi/6\n",
    "\n",
    "theta1 = np.pi/5\n",
    "theta2 = -theta1\n",
    "\n",
    "depths = [i for i in range(2000)]\n",
    "n_samples = [10 for d in depths]\n",
    "\n",
    "R = estimate_signal(depths, n_samples, theta)\n",
    "\n",
    "# R = [0.5*np.exp(1j*theta1*(2*d+1)) + 0.5*np.exp(1j*theta2*(2*d+1)) for d in depths]\n",
    "\n",
    "fft = np.abs(np.fft.fft(R))\n",
    "\n",
    "xaxis = [i*np.pi/(2*len(fft)) for i in range(len(fft))]\n",
    "\n",
    "plt.plot(xaxis, fft)"
   ]
  },
  {
   "cell_type": "code",
   "execution_count": 137,
   "id": "afab6f62",
   "metadata": {},
   "outputs": [
    {
     "name": "stdout",
     "output_type": "stream",
     "text": [
      "theta: 0.5235987755982988\n",
      "peaks: 1.0469357518087987 0.523860574986098\n"
     ]
    }
   ],
   "source": [
    "# amax = np.argmax(fft[:len(fft)//2])\n",
    "amax = np.argmax(fft)\n",
    "print(f'theta: {theta}')\n",
    "print('peaks:', np.pi*(len(fft)-amax)/(2*len(fft)), np.pi*(amax)/(2*len(fft)))"
   ]
  },
  {
   "cell_type": "code",
   "execution_count": 66,
   "id": "4a62e289",
   "metadata": {},
   "outputs": [
    {
     "name": "stdout",
     "output_type": "stream",
     "text": [
      "angles: [-0.52386137  0.52386137]\n",
      "theta_est: 0.5238613720505535\n",
      "theta: 0.5235987755982988\n"
     ]
    },
    {
     "data": {
      "text/plain": [
       "0.5238613720505535"
      ]
     },
     "execution_count": 66,
     "metadata": {},
     "output_type": "execute_result"
    }
   ],
   "source": [
    "espirit = ESPIRIT()\n",
    "\n",
    "theta_est, angle = espirit.estimate_theta_toeplitz(R)\n",
    "print(f'angles: {angle/4}')\n",
    "print(f'theta_est: {theta_est}')\n",
    "print(f'theta: {theta}')\n",
    "np.sum(np.abs(angle))/8"
   ]
  },
  {
   "cell_type": "markdown",
   "id": "e3eba6e6",
   "metadata": {},
   "source": [
    "$(c_1 + x_1 i s_1, c_2 + x_2 i s_2, c_4 + x_4 i s_4)$"
   ]
  },
  {
   "cell_type": "markdown",
   "id": "92c3bb37",
   "metadata": {},
   "source": [
    "$(c_1 + x_1 i s_1)\\cdot (c_2 + x_2 i s_2)$"
   ]
  },
  {
   "cell_type": "code",
   "execution_count": null,
   "id": "5d137a7f",
   "metadata": {},
   "outputs": [],
   "source": []
  },
  {
   "cell_type": "markdown",
   "id": "02691423",
   "metadata": {},
   "source": [
    "## Get the real signal values on virtual locations \n",
    "One can do this using Chebyshev polynomials with the recurrence $\\cos(nx) = 2\\cos(x)\\cos((n-1)x) - \\cos((n-2)x)$"
   ]
  },
  {
   "cell_type": "code",
   "execution_count": 159,
   "id": "133ab62c",
   "metadata": {},
   "outputs": [
    {
     "name": "stdout",
     "output_type": "stream",
     "text": [
      "[0.3091371]\n",
      "0.32404616978068135\n"
     ]
    },
    {
     "data": {
      "text/plain": [
       "(0.9456193887305278, 0.6251769380643689, 0.6283185307179586)"
      ]
     },
     "execution_count": 159,
     "metadata": {},
     "output_type": "execute_result"
    },
    {
     "data": {
      "image/png": "[encoded data removed]",
      "text/plain": [
       "<Figure size 640x480 with 1 Axes>"
      ]
     },
     "metadata": {},
     "output_type": "display_data"
    }
   ],
   "source": [
    "from scipy.special import chebyt, chebyu\n",
    "\n",
    "def get_cheb_vals(n_max, w):\n",
    "    R = np.zeros(n_max)\n",
    "    for n in range(n_max):\n",
    "        R[n] = chebyt(2*n+1)(np.cos(w))\n",
    "    return R\n",
    "\n",
    "def get_cosine_values(n_max, w):\n",
    "    R = np.zeros(n_max)\n",
    "    for n in range(n_max):\n",
    "         R[n] = np.cos((2*n+1)*w)\n",
    "    return R\n",
    "\n",
    "# For reproducibility\n",
    "# np.random.seed(8)\n",
    "\n",
    "theta = np.pi/5\n",
    "w = 2*theta\n",
    "\n",
    "# depths = [0] + [2**i for i in range(6)]\n",
    "depths = [0]\n",
    "# n_samples = [(d_max - d)//2 + 1 for d in depths]\n",
    "n_samples = [400 for _ in depths]\n",
    "\n",
    "R = estimate_signal(depths, n_samples, theta)\n",
    "print(R)\n",
    "S = np.cos(w) + np.random.normal(0.0,1/100)\n",
    "print(S)\n",
    "vR = [chebyt(2*n+1)(R[0]) for n in range(500)]\n",
    "R = vR\n",
    "# R = get_cheb_vals(d_max, w)\n",
    "# R = get_cosine_values(d_max, w)\n",
    "\n",
    "fft = np.abs(np.fft.fft(R))\n",
    "\n",
    "amax = np.argmax(fft[1:len(fft)//2])\n",
    "\n",
    "xaxis = [i*np.pi/(2*len(fft)) for i in range(len(fft))]\n",
    "\n",
    "plt.plot(xaxis, fft)\n",
    "\n",
    "np.pi*(len(fft)-amax)/(2*len(fft)), np.pi*(amax)/(2*len(fft)), theta"
   ]
  },
  {
   "cell_type": "code",
   "execution_count": 160,
   "id": "4dbfbd7e",
   "metadata": {},
   "outputs": [
    {
     "name": "stdout",
     "output_type": "stream",
     "text": [
      "angles: [ 1.25903098 -1.25903098]\n",
      "theta_est: 1.882561675995292\n",
      "w: 1.2566370614359172\n"
     ]
    },
    {
     "data": {
      "text/plain": [
       "1.259030977594501"
      ]
     },
     "execution_count": 160,
     "metadata": {},
     "output_type": "execute_result"
    }
   ],
   "source": [
    "espirit = ESPIRIT()\n",
    "\n",
    "theta_est, angle = espirit.estimate_theta_toeplitz(R)\n",
    "print(f'angles: {angle/2}')\n",
    "print(f'theta_est: {2*theta_est}')\n",
    "print(f'w: {w}')\n",
    "np.sum(np.abs(angle))/4"
   ]
  },
  {
   "cell_type": "markdown",
   "id": "fe2ff3c8",
   "metadata": {},
   "source": [
    "This seems to work: Sample at depth 0 to get an approximation of $T_1(\\cos(\\omega)) = \\cos(\\omega)$ and use Chebyshev polynomials to get $T_{2n+1}(\\cos(\\omega)) = \\cos((2n+1)\\omega)$ and use ESPRIT or FFT.\n",
    "\n",
    "Unfortunately, the scaling in this case is no better than classical since $|T_n(\\cos(\\omega)) - T_n(x)|< n\\epsilon$ if $x = \\cos(\\omega)+\\epsilon$ ($x$ being a noisy version of $\\cos(\\omega)$)."
   ]
  },
  {
   "cell_type": "code",
   "execution_count": 154,
   "id": "5194331c",
   "metadata": {},
   "outputs": [
    {
     "data": {
      "text/plain": [
       "[3, 5, 9, 17, 33, 65, 129, 257]"
      ]
     },
     "execution_count": 154,
     "metadata": {},
     "output_type": "execute_result"
    }
   ],
   "source": [
    "[2**k + 1 for k in range(1,9)]"
   ]
  },
  {
   "cell_type": "code",
   "execution_count": 87,
   "id": "a89d7ae3",
   "metadata": {},
   "outputs": [
    {
     "name": "stdout",
     "output_type": "stream",
     "text": [
      "depths:[0, 1, 2, 4, 8, 16, 32]\n",
      "idx_vals:[1, 3, 5, 9, 17, 33, 65]\n",
      "{1: 0.30901699437494745, 3: -0.8090169943749475, 5: 1.0, 9: 0.309016994374947, 17: -0.8090169943749469, 33: -0.8090169943749483, 65: 1.0}\n",
      "64\n"
     ]
    },
    {
     "data": {
      "text/plain": [
       "(0.9326603190344698, 0.6381360077604268, 0.6283185307179586)"
      ]
     },
     "execution_count": 87,
     "metadata": {},
     "output_type": "execute_result"
    },
    {
     "data": {
      "image/png": "[encoded data removed]",
      "text/plain": [
       "<Figure size 640x480 with 1 Axes>"
      ]
     },
     "metadata": {},
     "output_type": "display_data"
    }
   ],
   "source": [
    "theta = np.pi/5# np.arccos(a)\n",
    "w = 2*theta\n",
    "\n",
    "q=6\n",
    "\n",
    "depths = [0] + [2**i for i in range(q)]\n",
    "n_samples = [100 for _ in depths]\n",
    "print(f'depths:{depths}')\n",
    "\n",
    "idx = [0]*\n",
    "\n",
    "S = estimate_signal(depths, n_samples, theta)\n",
    "\n",
    "\n",
    "\n",
    "fft = np.abs(np.fft.fft(R))\n",
    "\n",
    "amax = np.argmax(fft[:len(fft)//2])\n",
    "\n",
    "xaxis = [i*np.pi/(2*len(fft)) for i in range(len(fft))]\n",
    "\n",
    "plt.plot(xaxis, fft)\n",
    "\n",
    "np.pi*(len(fft)-amax)/(2*len(fft)) , np.pi*(amax)/(2*len(fft)), theta"
   ]
  },
  {
   "cell_type": "code",
   "execution_count": 9,
   "id": "1e29308b",
   "metadata": {},
   "outputs": [
    {
     "data": {
      "text/plain": [
       "256"
      ]
     },
     "execution_count": 9,
     "metadata": {},
     "output_type": "execute_result"
    }
   ],
   "source": [
    "R = R[:len(R)//2]\n",
    "len(R)"
   ]
  },
  {
   "cell_type": "code",
   "execution_count": 10,
   "id": "82e8b676",
   "metadata": {},
   "outputs": [
    {
     "name": "stdout",
     "output_type": "stream",
     "text": [
      "angles: [ 2.41720381 -2.41720381]\n",
      "w: 2.0943951023931953\n",
      "theta_est: 0.9664953736318308\n",
      "theta:1.0471975511965976\n"
     ]
    },
    {
     "data": {
      "text/plain": [
       "1.2086019063261315"
      ]
     },
     "execution_count": 10,
     "metadata": {},
     "output_type": "execute_result"
    }
   ],
   "source": [
    "espirit = ESPIRIT()\n",
    "\n",
    "theta_est, angle = espirit.estimate_theta_toeplitz(R)\n",
    "print(f'angles: {angle}')\n",
    "print(f'w: {w}')\n",
    "print(f'theta_est: {theta_est}')\n",
    "print(f'theta:{theta}')\n",
    "np.sum(np.abs(angle))/4"
   ]
  },
  {
   "cell_type": "code",
   "execution_count": 41,
   "id": "b56081d3",
   "metadata": {},
   "outputs": [
    {
     "name": "stdout",
     "output_type": "stream",
     "text": [
      "angles: [-2.51423504 -2.51474992]\n",
      "w: 1.2566370614359172\n",
      "theta_est: 0.6285587590036431\n",
      "theta:0.6283185307179586\n"
     ]
    }
   ],
   "source": [
    "theta = np.pi/5\n",
    "w = 2*theta\n",
    "depths = [d for d in range(4000)]\n",
    "n_samples = [10 for d in depths]\n",
    "complex_signal = estimate_signal(depths=depths, n_samples=n_samples, theta=theta)\n",
    "\n",
    "espirit = ESPIRIT()\n",
    "\n",
    "theta_est, angle = espirit.estimate_theta_toeplitz(complex_signal)\n",
    "print(f'angles: {angle}')\n",
    "print(f'w: {w}')\n",
    "print(f'theta_est: {theta_est}')\n",
    "print(f'theta:{theta}')"
   ]
  },
  {
   "cell_type": "markdown",
   "id": "642888c3",
   "metadata": {},
   "source": [
    "We need to solve the sign ambiguity at each depth. Consider the following approach.\n",
    "\n",
    "Suppose we know $\\cos(\\omega)$, this implies $\\sin(\\omega) = \\pm \\sqrt{1-\\cos^2(\\omega)}$.\n",
    "\n",
    "Choose a sign, say $+$. Then we form the exponential $e^{i\\omega} = \\cos(\\omega) + i\\sin(\\omega)$.\n",
    "\n",
    "Next we obtain $\\cos(3\\omega)$ as well and also choose $+$ for the sign, so we have $e^{i3\\omega} = \\cos(3\\omega) + i\\sin(3\\omega)$.\n",
    "\n",
    "Then, knowing $\\cos(5\\omega)$ determines if the chosen signs are consistent."
   ]
  },
  {
   "cell_type": "code",
   "execution_count": 70,
   "id": "31e56c4e",
   "metadata": {},
   "outputs": [
    {
     "data": {
      "text/plain": [
       "1.2734564911263488"
      ]
     },
     "execution_count": 70,
     "metadata": {},
     "output_type": "execute_result"
    }
   ],
   "source": [
    "w = np.random.random()*np.pi\n",
    "w"
   ]
  },
  {
   "cell_type": "code",
   "execution_count": 74,
   "id": "527aee36",
   "metadata": {},
   "outputs": [
    {
     "name": "stdout",
     "output_type": "stream",
     "text": [
      "True\n",
      "True\n"
     ]
    }
   ],
   "source": [
    "std = 1/10**4\n",
    "\n",
    "cos1 = np.cos(w) + np.random.normal(0.0, std)\n",
    "sin1 = np.sqrt(1-cos1**2)\n",
    "\n",
    "cos3 = np.cos(3*w) + np.random.normal(0.0, std)\n",
    "sin3 = np.sqrt(1-cos3**2)\n",
    "\n",
    "cos5 = np.cos(5*w) + np.random.normal(0.0, std)\n",
    "sin5 = np.sqrt(1-cos5**2)\n",
    "\n",
    "print(np.isclose(cos5, np.real((cos1+1.0j*sin1)**2*(cos3-1.0j*sin3)), rtol=0.01))\n",
    "\n",
    "cos9 = np.cos(9*w) + np.random.normal(0.0, std)\n",
    "\n",
    "print(np.isclose(cos9, np.real((cos1+1.0j*sin1) * (cos3-1.0j*sin3) * (cos5+1.0j*sin5)), rtol=0.01))"
   ]
  },
  {
   "cell_type": "code",
   "execution_count": 75,
   "id": "1faa3c73",
   "metadata": {},
   "outputs": [
    {
     "data": {
      "text/plain": [
       "[1, 3, 5, 9]"
      ]
     },
     "execution_count": 75,
     "metadata": {},
     "output_type": "execute_result"
    }
   ],
   "source": [
    "q = 3\n",
    "\n",
    "s = [1] + [2**k+1 for k in range(1, q+1)]\n",
    "s"
   ]
  },
  {
   "cell_type": "code",
   "execution_count": 41,
   "id": "97818829",
   "metadata": {},
   "outputs": [
    {
     "data": {
      "text/plain": [
       "(3, 3)"
      ]
     },
     "execution_count": 41,
     "metadata": {},
     "output_type": "execute_result"
    }
   ],
   "source": [
    "s[-1] - 2*s[0], s[-2] - s[0] + s[-3]# - s[0] + s[-4] - s[0] + s[-5]# - s[0]# + s[-6] - s[0] + s[-7] - s[0] + s[-8] - s[0] + s[-9]"
   ]
  },
  {
   "cell_type": "code",
   "execution_count": 84,
   "id": "f24bb6e7",
   "metadata": {},
   "outputs": [],
   "source": [
    "def sign_ambiguity(signal):\n",
    "    # returns a list of signs at each depth\n",
    "    signs = [1] #we can choose the first sign freely\n",
    "    rtol = 0.01\n",
    "    sines = np.sqrt(1 - signal**2)\n",
    "    csignal = [signal[0] + signs[0]*1.0j*sines[0]] #first complex signal\n",
    "\n",
    "    for i in range(1, len(signal) - 1):\n",
    "        for sign in [-1, 1]:\n",
    "            cs = signal[i] + sign*1.0j*sines[i]\n",
    "            cs = cs * csignal[0]**2\n",
    "            for j in range(i):\n",
    "                cs = cs*csignal[j]*np.conj(csignal[0])\n",
    "\n",
    "            if np.isclose(signal[i+1], np.real(cs), rtol=rtol):\n",
    "                signs.append(sign)\n",
    "                csignal.append(signal[i] + sign*1.0j*sines[i])\n",
    "                break\n",
    "\n",
    "    return signs, csignal"
   ]
  },
  {
   "cell_type": "code",
   "execution_count": 85,
   "id": "b31e3d9e",
   "metadata": {},
   "outputs": [
    {
     "data": {
      "text/plain": [
       "array([ 0.29296457, -0.77816886,  0.99651255,  0.44893816])"
      ]
     },
     "execution_count": 85,
     "metadata": {},
     "output_type": "execute_result"
    }
   ],
   "source": [
    "signal = np.array([np.cos(i*w)+np.random.normal(0.0, std) for i in s])\n",
    "signal"
   ]
  },
  {
   "cell_type": "code",
   "execution_count": 86,
   "id": "56cf9493",
   "metadata": {},
   "outputs": [
    {
     "data": {
      "text/plain": [
       "([1, -1, 1],\n",
       " [(0.29296456924427944+0.9561232980988977j),\n",
       "  (-0.778168857053688-0.6280551169378026j),\n",
       "  (0.9965125488285425+0.08344303462387884j)])"
      ]
     },
     "execution_count": 86,
     "metadata": {},
     "output_type": "execute_result"
    }
   ],
   "source": [
    "sign_ambiguity(signal=signal)"
   ]
  },
  {
   "cell_type": "code",
   "execution_count": null,
   "id": "cce856d0",
   "metadata": {},
   "outputs": [],
   "source": []
  }
 ],
 "metadata": {
  "kernelspec": {
   "display_name": "Python 3 (ipykernel)",
   "language": "python",
   "name": "python3"
  },
  "language_info": {
   "codemirror_mode": {
    "name": "ipython",
    "version": 3
   },
   "file_extension": ".py",
   "mimetype": "text/x-python",
   "name": "python",
   "nbconvert_exporter": "python",
   "pygments_lexer": "ipython3",
   "version": "3.12.2"
  }
 },
 "nbformat": 4,
 "nbformat_minor": 5
}
