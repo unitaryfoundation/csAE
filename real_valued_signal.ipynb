{
 "cells": [
  {
   "cell_type": "code",
   "execution_count": 1,
   "id": "cabf93de-0b26-4033-9cd0-8d247c43e4f8",
   "metadata": {},
   "outputs": [
    {
     "data": {
      "text/plain": [
       "<Figure size 640x480 with 0 Axes>"
      ]
     },
     "metadata": {},
     "output_type": "display_data"
    }
   ],
   "source": [
    "import numpy as np\n",
    "import matplotlib.pyplot as plt\n",
    "import seaborn as sns\n",
    "from signals import *\n",
    "from frequencyestimator import *\n",
    "import time\n",
    "import copy\n",
    "\n",
    "sns.set_style(\"whitegrid\")\n",
    "sns.despine(left=True, bottom=True)\n",
    "sns.set_context(\"poster\", font_scale = .45, rc={\"grid.linewidth\": 0.8})"
   ]
  },
  {
   "cell_type": "code",
   "execution_count": 2,
   "id": "93aa13c8",
   "metadata": {},
   "outputs": [],
   "source": [
    "P0 = lambda n, theta: np.cos((2*n+1)*theta)**2\n",
    "P1 = lambda n, theta: np.sin((2*n+1)*theta)**2\n",
    "\n",
    "def estimate_signal(depths, n_samples, theta, eta=0.0):\n",
    "        signals = np.zeros(len(depths), dtype = np.complex128)\n",
    "        cos_signal = np.zeros(len(depths), dtype = np.complex128)\n",
    "        for i,n in enumerate(depths):\n",
    "            # Get the exact measuremnt probabilities\n",
    "            p0 = P0(n, theta)\n",
    "            p1 = P1(n, theta)\n",
    "\n",
    "            p0x = P0x(n,theta)\n",
    "            p1x = P1x(n,theta)\n",
    "\n",
    "            # Get the \"noisy\" probabilities by sampling and adding a bias term that pushes towards 50/50 mixture\n",
    "            eta_n = (1.0-eta)**(n+1) # The error at depth n increases as more queries are implemented\n",
    "            p0_estimate = np.random.binomial(n_samples[i], eta_n*p0 + (1.0-eta_n)*0.5)/n_samples[i]\n",
    "            p1_estimate = 1 - p0_estimate\n",
    "            # p1_estimate = np.random.binomial(n_samples[i], eta_n*p1 + (1.0-eta_n)*0.5)/n_samples[i]\n",
    "            p0x_estimate = np.random.binomial(n_samples[i], eta_n*p0x + (1.0-eta_n)*0.5)/n_samples[i]\n",
    "            p1x_estimate = 1.0 - p0x_estimate\n",
    "            \n",
    "            # Estimate theta\n",
    "            theta_estimated = np.arctan2(p0x_estimate - p1x_estimate, p0_estimate - p1_estimate)\n",
    "\n",
    "            # estimate cos(2n+1)2theta\n",
    "            # cos_signal[i] = p0_estimate - p1_estimate\n",
    "            \n",
    "            # Store this to determine angle at theta = 0 or pi/2\n",
    "            if i==0:\n",
    "                p0mp1 = p0_estimate - p1_estimate\n",
    "\n",
    "            # Compute f(n) - Eq. 3\n",
    "            fi_estimate = np.exp(1.0j*theta_estimated)\n",
    "            # fi_estimate = 2*p0_estimate - 1 + 1.0j*np.sqrt(1-(2*p0_estimate - 1)**2)\n",
    "            fi_estimate = 2*p0_estimate - 1\n",
    "            \n",
    "            signals[i] = np.real(fi_estimate)\n",
    "        # self.cos_signal = cos_signal\n",
    "        \n",
    "        return signals    "
   ]
  },
  {
   "cell_type": "markdown",
   "id": "47fcf5c4-607e-44b7-a74d-bef41ea19882",
   "metadata": {},
   "source": [
    "# Signal estimates on linear array\n",
    "\n",
    "Use fft to find the angles when sampling the cosine on a linear array (so depths 0,1,2,3,4.., 1000 for example).\n",
    "Theoretically this should give the correct peaks.\n",
    "Also use ESPIRIT to find the peaks."
   ]
  },
  {
   "cell_type": "code",
   "execution_count": 12,
   "id": "354fe7f0",
   "metadata": {},
   "outputs": [
    {
     "data": {
      "text/plain": [
       "[<matplotlib.lines.Line2D at 0x2a63f7020>]"
      ]
     },
     "execution_count": 12,
     "metadata": {},
     "output_type": "execute_result"
    },
    {
     "data": {
      "image/png": "[encoded data removed]",
      "text/plain": [
       "<Figure size 640x480 with 1 Axes>"
      ]
     },
     "metadata": {},
     "output_type": "display_data"
    }
   ],
   "source": [
    "# Set the actual amplitude\n",
    "a=0.3\n",
    "theta = np.arccos(a)\n",
    "\n",
    "theta1 = np.pi/2.5\n",
    "theta2 = -theta1\n",
    "\n",
    "depths = [i for i in range(2049)]\n",
    "n_samples = [100 for d in depths]\n",
    "\n",
    "R = estimate_signal(depths, n_samples, theta)\n",
    "\n",
    "R = [0.5*np.exp(1j*theta1*(2*d+1)) + 0.5*np.exp(1j*theta2*(2*d+1)) for d in depths]\n",
    "\n",
    "fft = np.abs(np.fft.fft(R))\n",
    "\n",
    "xaxis = [i*np.pi/(2*len(fft)) for i in range(len(fft))]\n",
    "\n",
    "plt.plot(xaxis, fft)"
   ]
  },
  {
   "cell_type": "code",
   "execution_count": 13,
   "id": "afab6f62",
   "metadata": {},
   "outputs": [
    {
     "name": "stdout",
     "output_type": "stream",
     "text": [
      "theta: (1.2566370614359172, -1.2566370614359172)\n",
      "peaks: 0.9421711496490619 0.6286251771458347\n"
     ]
    }
   ],
   "source": [
    "# amax = np.argmax(fft[:len(fft)//2])\n",
    "amax = np.argmax(fft)\n",
    "print(f'theta: {theta1, theta2}')\n",
    "print('peaks:', np.pi*(len(fft)-amax)/(2*len(fft)), np.pi*(amax)/(2*len(fft)))"
   ]
  },
  {
   "cell_type": "code",
   "execution_count": 14,
   "id": "4a62e289",
   "metadata": {},
   "outputs": [
    {
     "name": "stdout",
     "output_type": "stream",
     "text": [
      "angles: [-1.25725035  1.25725035]\n",
      "theta_est: 1.2572503542916693\n",
      "theta: (1.2566370614359172, -1.2566370614359172)\n"
     ]
    },
    {
     "data": {
      "text/plain": [
       "1.2572503542916693"
      ]
     },
     "execution_count": 14,
     "metadata": {},
     "output_type": "execute_result"
    }
   ],
   "source": [
    "# espirit doesnt always work\n",
    "espirit = ESPIRIT()\n",
    "\n",
    "theta_est, angle = espirit.estimate_theta_toeplitz(R)\n",
    "print(f'angles: {angle/2}')\n",
    "print(f'theta_est: {2*theta_est}')\n",
    "print(f'theta: {theta1, theta2}')\n",
    "np.sum(np.abs(angle))/4"
   ]
  },
  {
   "cell_type": "markdown",
   "id": "02691423",
   "metadata": {},
   "source": [
    "## Get the real signal values on virtual locations \n",
    "One can do this using Chebyshev polynomials with the recurrence $\\cos(nx) = 2\\cos(x)\\cos((n-1)x) - \\cos((n-2)x)$"
   ]
  },
  {
   "cell_type": "code",
   "execution_count": 6,
   "id": "133ab62c",
   "metadata": {},
   "outputs": [
    {
     "name": "stderr",
     "output_type": "stream",
     "text": [
      "/var/folders/84/_p6df5l90jz7xt6lvvkbc_th0000gn/T/ipykernel_70592/4285771398.py:12: ComplexWarning: Casting complex values to real discards the imaginary part\n",
      "  R[n] = 0.5*np.exp(1j*w*(2*n+1)) + 0.5*np.exp(-1j*w*(2*n+1))\n"
     ]
    },
    {
     "data": {
      "text/plain": [
       "(1.258207857762712, 0.31258846903218446, 0.6283185307179586)"
      ]
     },
     "execution_count": 6,
     "metadata": {},
     "output_type": "execute_result"
    },
    {
     "data": {
      "image/png": "[encoded data removed]",
      "text/plain": [
       "<Figure size 640x480 with 1 Axes>"
      ]
     },
     "metadata": {},
     "output_type": "display_data"
    }
   ],
   "source": [
    "from scipy.special import chebyt\n",
    "\n",
    "def get_cheb_vals(n_max, w):\n",
    "    R = np.zeros(n_max)\n",
    "    for n in range(n_max):\n",
    "        R[n] = chebyt(2*n+1)(np.cos(w))\n",
    "    return R\n",
    "\n",
    "def get_cosine_values(n_max, w):\n",
    "    R = np.zeros(n_max)\n",
    "    for n in range(n_max):\n",
    "        R[n] = 0.5*np.exp(1j*w*(2*n+1)) + 0.5*np.exp(-1j*w*(2*n+1))\n",
    "        # R[n] = np.cos((2*n+1)*w)\n",
    "    return R\n",
    "\n",
    "# For reproducibility\n",
    "# np.random.seed(8)\n",
    "\n",
    "# theta = 0.5\n",
    "# w = 2*theta\n",
    "# a = np.cos(theta)\n",
    "\n",
    "a = 0.75\n",
    "theta = np.arccos(a)\n",
    "theta = np.pi/5\n",
    "w = 2*theta\n",
    "\n",
    "d_max = 1000\n",
    "\n",
    "depths = [i for i in range(d_max)]\n",
    "# n_samples = [(d_max - d)//2 + 1 for d in depths]\n",
    "n_samples = [10 for _ in depths]\n",
    "\n",
    "# R = estimate_signal(depths, n_samples, theta)\n",
    "# R = get_cheb_vals(d_max, w)\n",
    "R = get_cosine_values(d_max, theta)\n",
    "\n",
    "fft = np.abs(np.fft.fft(R))\n",
    "\n",
    "amax = np.argmax(fft[1:len(fft)//2])\n",
    "\n",
    "xaxis = [i*np.pi/(2*len(fft)) for i in range(len(fft))]\n",
    "\n",
    "plt.plot(xaxis, fft)\n",
    "\n",
    "np.pi*(len(fft)-amax)/(2*len(fft)), np.pi*(amax)/(2*len(fft)), theta"
   ]
  },
  {
   "cell_type": "code",
   "execution_count": 7,
   "id": "4dbfbd7e",
   "metadata": {},
   "outputs": [
    {
     "name": "stdout",
     "output_type": "stream",
     "text": [
      "angles: [-0.62894744  0.62894744]\n",
      "theta_est: 0.6289474397478475\n",
      "theta:0.6283185307179586\n"
     ]
    },
    {
     "data": {
      "text/plain": [
       "0.6289474397478474"
      ]
     },
     "execution_count": 7,
     "metadata": {},
     "output_type": "execute_result"
    }
   ],
   "source": [
    "espirit = ESPIRIT()\n",
    "\n",
    "theta_est, angle = espirit.estimate_theta_toeplitz(R)\n",
    "print(f'angles: {angle/2}')\n",
    "print(f'theta_est: {2*theta_est}')\n",
    "print(f'theta:{theta}')\n",
    "np.sum(np.abs(angle))/4"
   ]
  },
  {
   "cell_type": "code",
   "execution_count": 8,
   "id": "a89d7ae3",
   "metadata": {},
   "outputs": [
    {
     "name": "stdout",
     "output_type": "stream",
     "text": [
      "depths:[0, 1, 2, 4, 8, 16, 32, 64, 128, 256, 512, 1024, 2048, 4096]\n",
      "idx_vals:[1, 3, 5, 9, 17, 33, 65, 129, 257, 513, 1025, 2049, 4097, 8193]\n",
      "{1: 0.21996118375494308, 3: -0.759903886450055, 5: 1.0000496887358632, 9: 0.4000456802802063, 17: -0.8401318367839667, 33: -0.7799470813715822, 65: 0.9999649150483569, 129: 0.359813284048595, 257: -0.8400379407737288, 513: -0.7600634939939236, 1025: 0.999881287894878, 2049: 0.4000145671110691, 4097: -0.9200110280487378, 8193: -0.7799696013826029}\n",
      "8192\n"
     ]
    },
    {
     "data": {
      "text/plain": [
       "(0.8964200229206716, 0.674376303874225, 0.6283185307179586)"
      ]
     },
     "execution_count": 8,
     "metadata": {},
     "output_type": "execute_result"
    },
    {
     "data": {
      "image/png": "[encoded data removed]",
      "text/plain": [
       "<Figure size 640x480 with 1 Axes>"
      ]
     },
     "metadata": {},
     "output_type": "display_data"
    }
   ],
   "source": [
    "a = 0.1\n",
    "theta = np.pi/5# np.arccos(a)\n",
    "w = 2*theta\n",
    "\n",
    "\n",
    "q = 12\n",
    "depths = [0, 1]\n",
    "for k in range(q):\n",
    "    depths.append(2**(k+1))\n",
    "\n",
    "idx_vals = []\n",
    "for d in depths:\n",
    "    idx_vals.append(2*d+1)\n",
    "\n",
    "print(f'depths:{depths}')\n",
    "print(f'idx_vals:{idx_vals}')\n",
    "\n",
    "\n",
    "n_samples = [100 for _ in depths]\n",
    "\n",
    "cos_values = {}\n",
    "for i, depth in enumerate(depths):\n",
    "    # noisy cos values\n",
    "    p0 = P0(depth, theta)\n",
    "    p1 = P1(depth, theta)\n",
    "    p0_estimate = np.random.binomial(n_samples[i], p0)/n_samples[i]\n",
    "    p1_estimate = np.random.binomial(n_samples[i], p1)/n_samples[i]\n",
    "    cos_values[2*depth+1] = p0_estimate - p1_estimate\n",
    "    cos_values[2*depth+1] = 2*p0_estimate - 1 + np.random.normal(0.0, 0.0001)\n",
    "    # cos_values[2*depth+1] = 2*np.cos((2*depth+1)*theta)**2 - 1\n",
    "    # cos_values[2*depth+1] = np.cos((2*depth+1)*w) + np.random.normal(0.0, 0.02)\n",
    "    \n",
    "print(cos_values)\n",
    "\n",
    "def cheb_recursion(n):\n",
    "    if n==0:\n",
    "        return 1\n",
    "    elif n in cos_values.keys():\n",
    "        return cos_values[n]\n",
    "    else:\n",
    "        cos_values[n] = 2*cheb_recursion(1)*cheb_recursion(n-1)-cheb_recursion(n-2)\n",
    "        return cos_values[n]\n",
    "    \n",
    "for d in range(idx_vals[-1]//2+1):\n",
    "    cos_values[2*d+1] = cheb_recursion(2*d+1)\n",
    "print(len(cos_values))\n",
    "\n",
    "# R is the signal on physical and virtual locations\n",
    "R = np.zeros(len(cos_values))\n",
    "for d in range(idx_vals[-1]//2 + 1):\n",
    "    R[d] = cos_values[2*d+1]\n",
    "\n",
    "# R = [0.5*np.exp(1j*theta*(2*d+1)) + 0.5*np.exp(-1j*theta*(2*d+1)) for d in range(idx_vals[-1]//2 + 1)]\n",
    "\n",
    "fft = np.abs(np.fft.fft(R))\n",
    "\n",
    "amax = np.argmax(fft[:len(fft)//2])\n",
    "\n",
    "xaxis = [i*np.pi/(2*len(fft)) for i in range(len(fft))]\n",
    "\n",
    "plt.plot(xaxis, fft)\n",
    "\n",
    "np.pi*(len(fft)-amax)/(2*len(fft)) , np.pi*(amax)/(2*len(fft)), theta"
   ]
  },
  {
   "cell_type": "code",
   "execution_count": 9,
   "id": "1e29308b",
   "metadata": {},
   "outputs": [
    {
     "data": {
      "text/plain": [
       "4096"
      ]
     },
     "execution_count": 9,
     "metadata": {},
     "output_type": "execute_result"
    }
   ],
   "source": [
    "R = R[:len(R)//2]\n",
    "len(R)"
   ]
  },
  {
   "cell_type": "code",
   "execution_count": 10,
   "id": "82e8b676",
   "metadata": {},
   "outputs": [
    {
     "name": "stdout",
     "output_type": "stream",
     "text": [
      "angles: [ 0.67511592 -0.67511592]\n",
      "w: 1.2566370614359172\n",
      "theta_est: 0.8956804116704128\n",
      "theta:0.6283185307179586\n"
     ]
    },
    {
     "data": {
      "text/plain": [
       "1.3502318302489678"
      ]
     },
     "execution_count": 10,
     "metadata": {},
     "output_type": "execute_result"
    }
   ],
   "source": [
    "espirit = ESPIRIT()\n",
    "\n",
    "theta_est, angle = espirit.estimate_theta_toeplitz(R)\n",
    "print(f'angles: {angle/4}')\n",
    "print(f'w: {w}')\n",
    "print(f'theta_est: {theta_est}')\n",
    "print(f'theta:{theta}')\n",
    "np.sum(np.abs(angle))/4"
   ]
  },
  {
   "cell_type": "code",
   "execution_count": 11,
   "id": "2e70902f",
   "metadata": {},
   "outputs": [
    {
     "data": {
      "text/plain": [
       "0.2617993877991494"
      ]
     },
     "execution_count": 11,
     "metadata": {},
     "output_type": "execute_result"
    }
   ],
   "source": [
    "0.5*np.pi/6"
   ]
  },
  {
   "cell_type": "code",
   "execution_count": null,
   "id": "b90f08dc",
   "metadata": {},
   "outputs": [],
   "source": []
  }
 ],
 "metadata": {
  "kernelspec": {
   "display_name": "Python 3 (ipykernel)",
   "language": "python",
   "name": "python3"
  },
  "language_info": {
   "codemirror_mode": {
    "name": "ipython",
    "version": 3
   },
   "file_extension": ".py",
   "mimetype": "text/x-python",
   "name": "python",
   "nbconvert_exporter": "python",
   "pygments_lexer": "ipython3",
   "version": "3.12.2"
  }
 },
 "nbformat": 4,
 "nbformat_minor": 5
}
