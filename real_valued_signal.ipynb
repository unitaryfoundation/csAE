{
 "cells": [
  {
   "cell_type": "code",
   "execution_count": 1,
   "id": "cabf93de-0b26-4033-9cd0-8d247c43e4f8",
   "metadata": {},
   "outputs": [
    {
     "data": {
      "text/plain": [
       "<Figure size 640x480 with 0 Axes>"
      ]
     },
     "metadata": {},
     "output_type": "display_data"
    }
   ],
   "source": [
    "import numpy as np\n",
    "import matplotlib.pyplot as plt\n",
    "import seaborn as sns\n",
    "from signals import *\n",
    "from frequencyestimator import *\n",
    "import time\n",
    "import copy\n",
    "\n",
    "sns.set_style(\"whitegrid\")\n",
    "sns.despine(left=True, bottom=True)\n",
    "sns.set_context(\"poster\", font_scale = .45, rc={\"grid.linewidth\": 0.8})"
   ]
  },
  {
   "cell_type": "code",
   "execution_count": 2,
   "id": "93aa13c8",
   "metadata": {},
   "outputs": [],
   "source": [
    "P0 = lambda n, theta: np.cos((2*n+1)*theta)**2\n",
    "P1 = lambda n, theta: np.sin((2*n+1)*theta)**2\n",
    "\n",
    "def estimate_signal(depths, n_samples, theta, eta=0.0):\n",
    "        signals = np.zeros(len(depths), dtype = np.complex128)\n",
    "        cos_signal = np.zeros(len(depths), dtype = np.complex128)\n",
    "        for i,n in enumerate(depths):\n",
    "            # Get the exact measuremnt probabilities\n",
    "            p0 = P0(n, theta)\n",
    "            p1 = P1(n, theta)\n",
    "\n",
    "            p0x = P0x(n,theta)\n",
    "            p1x = P1x(n,theta)\n",
    "\n",
    "            # Get the \"noisy\" probabilities by sampling and adding a bias term that pushes towards 50/50 mixture\n",
    "            eta_n = (1.0-eta)**(n+1) # The error at depth n increases as more queries are implemented\n",
    "            p0_estimate = np.random.binomial(n_samples[i], eta_n*p0 + (1.0-eta_n)*0.5)/n_samples[i]\n",
    "            p1_estimate = 1 - p0_estimate\n",
    "            # p1_estimate = np.random.binomial(n_samples[i], eta_n*p1 + (1.0-eta_n)*0.5)/n_samples[i]\n",
    "            p0x_estimate = np.random.binomial(n_samples[i], eta_n*p0x + (1.0-eta_n)*0.5)/n_samples[i]\n",
    "            p1x_estimate = 1.0 - p0x_estimate\n",
    "            \n",
    "            # Estimate theta\n",
    "            theta_estimated = np.arctan2(p0x_estimate - p1x_estimate, p0_estimate - p1_estimate)\n",
    "\n",
    "            # estimate cos(2n+1)2theta\n",
    "            # cos_signal[i] = p0_estimate - p1_estimate\n",
    "            \n",
    "            # Store this to determine angle at theta = 0 or pi/2\n",
    "            if i==0:\n",
    "                p0mp1 = p0_estimate - p1_estimate\n",
    "\n",
    "            # Compute f(n) - Eq. 3\n",
    "            fi_estimate = np.exp(1.0j*theta_estimated)\n",
    "            # fi_estimate = 2*p0_estimate - 1 + 1.0j*np.sqrt(1-(2*p0_estimate - 1)**2)\n",
    "            fi_estimate = 2*p0_estimate - 1\n",
    "            \n",
    "            signals[i] = np.real(fi_estimate)\n",
    "        # self.cos_signal = cos_signal\n",
    "        \n",
    "        return signals    "
   ]
  },
  {
   "cell_type": "markdown",
   "id": "47fcf5c4-607e-44b7-a74d-bef41ea19882",
   "metadata": {},
   "source": [
    "# Signal estimates on linear array\n",
    "\n",
    "Use fft to find the angles when sampling the cosine on a linear array (so depths 0,1,2,3,4.., 1000 for example).\n",
    "Theoretically this should give the correct peaks.\n",
    "Also use ESPIRIT to find the peaks."
   ]
  },
  {
   "cell_type": "code",
   "execution_count": 233,
   "id": "354fe7f0",
   "metadata": {},
   "outputs": [
    {
     "data": {
      "text/plain": [
       "[<matplotlib.lines.Line2D at 0x177c086a0>]"
      ]
     },
     "execution_count": 233,
     "metadata": {},
     "output_type": "execute_result"
    },
    {
     "data": {
      "image/png": "[encoded data removed]",
      "text/plain": [
       "<Figure size 640x480 with 1 Axes>"
      ]
     },
     "metadata": {},
     "output_type": "display_data"
    }
   ],
   "source": [
    "# Set the actual amplitude\n",
    "a=0.3\n",
    "theta = np.arccos(a)\n",
    "\n",
    "theta1 = np.pi/5\n",
    "theta2 = -theta1#np.pi/4\n",
    "\n",
    "depths = [i for i in range(2049)]\n",
    "n_samples = [100 for d in depths]\n",
    "\n",
    "R = estimate_signal(depths, n_samples, theta)\n",
    "\n",
    "R = [0.5*np.exp(1j*theta1*(2*d+1)) + 0.5*np.exp(1j*theta2*(2*d+1)) for d in depths]\n",
    "\n",
    "fft = np.abs(np.fft.fft(R))\n",
    "\n",
    "xaxis = [i*np.pi/(2*len(fft)) for i in range(len(fft))]\n",
    "\n",
    "plt.plot(xaxis, fft)"
   ]
  },
  {
   "cell_type": "code",
   "execution_count": 234,
   "id": "afab6f62",
   "metadata": {},
   "outputs": [
    {
     "name": "stdout",
     "output_type": "stream",
     "text": [
      "theta: (0.6283185307179586, -0.6283185307179586)\n",
      "peaks: 1.2564837382219793 0.31431258857291733\n"
     ]
    }
   ],
   "source": [
    "# amax = np.argmax(fft[:len(fft)//2])\n",
    "amax = np.argmax(fft)\n",
    "print(f'theta: {theta1, theta2}')\n",
    "print('peaks:', np.pi*(len(fft)-amax)/(2*len(fft)), np.pi*(amax)/(2*len(fft)))"
   ]
  },
  {
   "cell_type": "code",
   "execution_count": 361,
   "id": "807bd1a9",
   "metadata": {},
   "outputs": [
    {
     "data": {
      "text/plain": [
       "(0.499546481640743, 0.8662870844473874)"
      ]
     },
     "execution_count": 361,
     "metadata": {},
     "output_type": "execute_result"
    }
   ],
   "source": [
    "np.cos(np.pi*(len(fft)-amax)/(2*len(fft))), np.cos(np.pi*(amax)/(2*len(fft)))"
   ]
  },
  {
   "cell_type": "code",
   "execution_count": 235,
   "id": "4a62e289",
   "metadata": {},
   "outputs": [
    {
     "name": "stdout",
     "output_type": "stream",
     "text": [
      "angles: [-0.62862518  0.62862518]\n",
      "theta_est: 0.6286251771458347\n",
      "theta: (0.6283185307179586, -0.6283185307179586)\n"
     ]
    },
    {
     "data": {
      "text/plain": [
       "0.31431258857291733"
      ]
     },
     "execution_count": 235,
     "metadata": {},
     "output_type": "execute_result"
    }
   ],
   "source": [
    "# espirit doesnt always work\n",
    "espirit = ESPIRIT()\n",
    "\n",
    "theta_est, angle = espirit.estimate_theta_toeplitz(R)\n",
    "print(f'angles: {angle/2}')\n",
    "print(f'theta_est: {2*theta_est}')\n",
    "print(f'theta: {theta1, theta2}')\n",
    "np.sum(np.abs(angle))/8"
   ]
  },
  {
   "cell_type": "markdown",
   "id": "02691423",
   "metadata": {},
   "source": [
    "## Get the real signal values on virtual locations \n",
    "One can do this using Chebyshev polynomials with the recurrence $\\cos(nx) = 2\\cos(x)\\cos((n-1)x) - \\cos((n-2)x)$"
   ]
  },
  {
   "cell_type": "code",
   "execution_count": 254,
   "id": "133ab62c",
   "metadata": {},
   "outputs": [
    {
     "name": "stderr",
     "output_type": "stream",
     "text": [
      "/var/folders/lg/jbb7l6y11_343nxvjxmyhh8h0000gn/T/ipykernel_56602/4285771398.py:12: ComplexWarning: Casting complex values to real discards the imaginary part\n",
      "  R[n] = 0.5*np.exp(1j*w*(2*n+1)) + 0.5*np.exp(-1j*w*(2*n+1))\n"
     ]
    },
    {
     "data": {
      "text/plain": [
       "(1.258207857762712, 0.31258846903218446, 0.6283185307179586)"
      ]
     },
     "execution_count": 254,
     "metadata": {},
     "output_type": "execute_result"
    },
    {
     "data": {
      "image/png": "[encoded data removed]",
      "text/plain": [
       "<Figure size 640x480 with 1 Axes>"
      ]
     },
     "metadata": {},
     "output_type": "display_data"
    }
   ],
   "source": [
    "from scipy.special import chebyt\n",
    "\n",
    "def get_cheb_vals(n_max, w):\n",
    "    R = np.zeros(n_max)\n",
    "    for n in range(n_max):\n",
    "        R[n] = chebyt(2*n+1)(np.cos(w))\n",
    "    return R\n",
    "\n",
    "def get_cosine_values(n_max, w):\n",
    "    R = np.zeros(n_max)\n",
    "    for n in range(n_max):\n",
    "        R[n] = 0.5*np.exp(1j*w*(2*n+1)) + 0.5*np.exp(-1j*w*(2*n+1))\n",
    "        # R[n] = np.cos((2*n+1)*w)\n",
    "    return R\n",
    "\n",
    "# For reproducibility\n",
    "# np.random.seed(8)\n",
    "\n",
    "# theta = 0.5\n",
    "# w = 2*theta\n",
    "# a = np.cos(theta)\n",
    "\n",
    "a = 0.75\n",
    "theta = np.arccos(a)\n",
    "theta = np.pi/5\n",
    "w = 2*theta\n",
    "\n",
    "d_max = 1000\n",
    "\n",
    "depths = [i for i in range(d_max)]\n",
    "# n_samples = [(d_max - d)//2 + 1 for d in depths]\n",
    "n_samples = [10 for _ in depths]\n",
    "\n",
    "# R = estimate_signal(depths, n_samples, theta)\n",
    "# R = get_cheb_vals(d_max, w)\n",
    "R = get_cosine_values(d_max, theta)\n",
    "\n",
    "fft = np.abs(np.fft.fft(R))\n",
    "\n",
    "amax = np.argmax(fft[1:len(fft)//2])\n",
    "\n",
    "xaxis = [i*np.pi/(2*len(fft)) for i in range(len(fft))]\n",
    "\n",
    "plt.plot(xaxis, fft)\n",
    "\n",
    "np.pi*(len(fft)-amax)/(2*len(fft)), np.pi*(amax)/(2*len(fft)), theta"
   ]
  },
  {
   "cell_type": "code",
   "execution_count": 264,
   "id": "4dbfbd7e",
   "metadata": {},
   "outputs": [
    {
     "name": "stdout",
     "output_type": "stream",
     "text": [
      "angles: [ 0.62894744 -0.62894744]\n",
      "theta_est: 2.512645213841945\n",
      "theta:0.6283185307179586\n"
     ]
    },
    {
     "data": {
      "text/plain": [
       "0.6289474397478478"
      ]
     },
     "execution_count": 264,
     "metadata": {},
     "output_type": "execute_result"
    }
   ],
   "source": [
    "espirit = ESPIRIT()\n",
    "\n",
    "theta_est, angle = espirit.estimate_theta_toeplitz(R)\n",
    "print(f'angles: {angle/2}')\n",
    "print(f'theta_est: {2*theta_est}')\n",
    "print(f'theta:{theta}')\n",
    "np.sum(np.abs(angle))/4"
   ]
  },
  {
   "cell_type": "code",
   "execution_count": 316,
   "id": "a89d7ae3",
   "metadata": {},
   "outputs": [
    {
     "name": "stdout",
     "output_type": "stream",
     "text": [
      "depths:[0, 1, 2, 4, 8, 16, 32, 64, 128, 256, 512, 1024, 2048, 4096]\n",
      "idx_vals:[1, 3, 5, 9, 17, 33, 65, 129, 257, 513, 1025, 2049, 4097, 8193]\n",
      "{1: 0.38000000000000006, 3: -0.8400000000000001, 5: 1.0, 9: 0.41999999999999993, 17: -0.79, 33: -0.8, 65: 1.0, 129: 0.35000000000000003, 257: -0.81, 513: -0.8, 1025: 1.0, 2049: 0.28, 4097: -0.8, 8193: -0.8}\n",
      "8192\n"
     ]
    },
    {
     "data": {
      "text/plain": [
       "(0.9802137234589247, 0.5905826033359719, 0.6283185307179586)"
      ]
     },
     "execution_count": 316,
     "metadata": {},
     "output_type": "execute_result"
    },
    {
     "data": {
      "image/png": "[encoded data removed]",
      "text/plain": [
       "<Figure size 640x480 with 1 Axes>"
      ]
     },
     "metadata": {},
     "output_type": "display_data"
    }
   ],
   "source": [
    "a = 0.1\n",
    "theta = np.pi/5# np.arccos(a)\n",
    "w = 2*theta\n",
    "\n",
    "\n",
    "q = 12\n",
    "depths = [0, 1]\n",
    "for k in range(q):\n",
    "    depths.append(2**(k+1))\n",
    "\n",
    "idx_vals = []\n",
    "for d in depths:\n",
    "    idx_vals.append(2*d+1)\n",
    "\n",
    "print(f'depths:{depths}')\n",
    "print(f'idx_vals:{idx_vals}')\n",
    "\n",
    "\n",
    "n_samples = [100 for _ in depths]\n",
    "\n",
    "cos_values = {}\n",
    "for i, depth in enumerate(depths):\n",
    "    # noisy cos values\n",
    "    p0 = P0(depth, theta)\n",
    "    p1 = P1(depth, theta)\n",
    "    p0_estimate = np.random.binomial(n_samples[i], p0)/n_samples[i]\n",
    "    p1_estimate = np.random.binomial(n_samples[i], p1)/n_samples[i]\n",
    "    cos_values[2*depth+1] = p0_estimate - p1_estimate\n",
    "    # cos_values[2*depth+1] = 2*p0_estimate - 1\n",
    "    # cos_values[2*depth+1] = 2*np.cos((2*depth+1)*theta)**2 - 1\n",
    "    # cos_values[2*depth+1] = np.cos((2*depth+1)*w)\n",
    "    \n",
    "print(cos_values)\n",
    "\n",
    "def cheb_recursion(n):\n",
    "    if n==0:\n",
    "        return 1\n",
    "    elif n in cos_values.keys():\n",
    "        return cos_values[n]\n",
    "    else:\n",
    "        cos_values[n] = 2*cheb_recursion(1)*cheb_recursion(n-1)-cheb_recursion(n-2)\n",
    "        return cos_values[n]\n",
    "    \n",
    "for d in range(idx_vals[-1]//2+1):\n",
    "    cos_values[2*d+1] = cheb_recursion(2*d+1)\n",
    "print(len(cos_values))\n",
    "\n",
    "# R is the signal on physical and virtual locations\n",
    "R = np.zeros(len(cos_values))\n",
    "for d in range(idx_vals[-1]//2 + 1):\n",
    "    R[d] = cos_values[2*d+1]\n",
    "\n",
    "# R = [0.5*np.exp(1j*theta*(2*d+1)) + 0.5*np.exp(-1j*theta*(2*d+1)) for d in range(idx_vals[-1]//2 + 1)]\n",
    "\n",
    "fft = np.abs(np.fft.fft(R))\n",
    "\n",
    "amax = np.argmax(fft[:len(fft)//2])\n",
    "\n",
    "xaxis = [i*np.pi/(2*len(fft)) for i in range(len(fft))]\n",
    "\n",
    "plt.plot(xaxis, fft)\n",
    "\n",
    "np.pi*(len(fft)-amax)/(2*len(fft)) , np.pi*(amax)/(2*len(fft)), theta"
   ]
  },
  {
   "cell_type": "code",
   "execution_count": 289,
   "id": "1e29308b",
   "metadata": {},
   "outputs": [
    {
     "data": {
      "text/plain": [
       "8192"
      ]
     },
     "execution_count": 289,
     "metadata": {},
     "output_type": "execute_result"
    }
   ],
   "source": [
    "len(R)"
   ]
  },
  {
   "cell_type": "code",
   "execution_count": 319,
   "id": "82e8b676",
   "metadata": {},
   "outputs": [
    {
     "name": "stdout",
     "output_type": "stream",
     "text": [
      "angles: [ 1.18147869 -1.18147869]\n",
      "w: 1.2566370614359172\n",
      "theta_est: 0.9800569799155802\n",
      "theta:0.6283185307179586\n"
     ]
    },
    {
     "data": {
      "text/plain": [
       "1.1814786937586328"
      ]
     },
     "execution_count": 319,
     "metadata": {},
     "output_type": "execute_result"
    }
   ],
   "source": [
    "espirit = ESPIRIT()\n",
    "\n",
    "theta_est, angle = espirit.estimate_theta_toeplitz(R)\n",
    "print(f'angles: {angle/2}')\n",
    "print(f'w: {w}')\n",
    "print(f'theta_est: {theta_est}')\n",
    "print(f'theta:{theta}')\n",
    "np.sum(np.abs(angle))/4"
   ]
  },
  {
   "cell_type": "code",
   "execution_count": null,
   "id": "f4371c1d",
   "metadata": {},
   "outputs": [],
   "source": []
  }
 ],
 "metadata": {
  "kernelspec": {
   "display_name": "Python 3 (ipykernel)",
   "language": "python",
   "name": "python3"
  },
  "language_info": {
   "codemirror_mode": {
    "name": "ipython",
    "version": 3
   },
   "file_extension": ".py",
   "mimetype": "text/x-python",
   "name": "python",
   "nbconvert_exporter": "python",
   "pygments_lexer": "ipython3",
   "version": "3.10.9"
  }
 },
 "nbformat": 4,
 "nbformat_minor": 5
}
