{
 "cells": [
  {
   "cell_type": "code",
   "execution_count": 1,
   "id": "cabf93de-0b26-4033-9cd0-8d247c43e4f8",
   "metadata": {},
   "outputs": [
    {
     "data": {
      "text/plain": [
       "<Figure size 640x480 with 0 Axes>"
      ]
     },
     "metadata": {},
     "output_type": "display_data"
    }
   ],
   "source": [
    "import numpy as np\n",
    "import matplotlib.pyplot as plt\n",
    "import seaborn as sns\n",
    "from signals import *\n",
    "from frequencyestimator import *\n",
    "import time\n",
    "import copy\n",
    "\n",
    "sns.set_style(\"whitegrid\")\n",
    "sns.despine(left=True, bottom=True)\n",
    "sns.set_context(\"poster\", font_scale = .45, rc={\"grid.linewidth\": 0.8})"
   ]
  },
  {
   "cell_type": "code",
   "execution_count": 2,
   "id": "93aa13c8",
   "metadata": {},
   "outputs": [],
   "source": [
    "P0 = lambda n, theta: np.cos((2*n+1)*theta)**2\n",
    "P1 = lambda n, theta: np.sin((2*n+1)*theta)**2\n",
    "\n",
    "def estimate_signal(depths, n_samples, theta, eta=0.0):\n",
    "        signals = np.zeros(len(depths), dtype = np.complex128)\n",
    "        cos_signal = np.zeros(len(depths), dtype = np.complex128)\n",
    "        for i,n in enumerate(depths):\n",
    "            # Get the exact measuremnt probabilities\n",
    "            p0 = P0(n, theta)\n",
    "            p1 = P1(n, theta)\n",
    "\n",
    "            p0x = P0x(n,theta)\n",
    "            p1x = P1x(n,theta)\n",
    "\n",
    "            # Get the \"noisy\" probabilities by sampling and adding a bias term that pushes towards 50/50 mixture\n",
    "            eta_n = (1.0-eta)**(n+1) # The error at depth n increases as more queries are implemented\n",
    "            p0_estimate = np.random.binomial(n_samples[i], eta_n*p0 + (1.0-eta_n)*0.5)/n_samples[i]\n",
    "            p1_estimate = 1 - p0_estimate\n",
    "            # p1_estimate = np.random.binomial(n_samples[i], eta_n*p1 + (1.0-eta_n)*0.5)/n_samples[i]\n",
    "            p0x_estimate = np.random.binomial(n_samples[i], eta_n*p0x + (1.0-eta_n)*0.5)/n_samples[i]\n",
    "            p1x_estimate = 1.0 - p0x_estimate\n",
    "            \n",
    "            # Estimate theta\n",
    "            theta_estimated = np.arctan2(p0x_estimate - p1x_estimate, p0_estimate - p1_estimate)\n",
    "\n",
    "            # estimate cos(2n+1)2theta\n",
    "            # cos_signal[i] = p0_estimate - p1_estimate\n",
    "            \n",
    "            # Store this to determine angle at theta = 0 or pi/2\n",
    "            if i==0:\n",
    "                p0mp1 = p0_estimate - p1_estimate\n",
    "\n",
    "            # Compute f(n) - Eq. 3\n",
    "            # fi_estimate = np.exp(1.0j*theta_estimated)\n",
    "            # fi_estimate = 2*p0_estimate - 1 + 1.0j*np.sqrt(1-(2*p0_estimate - 1)**2)\n",
    "            fi_estimate = 2*p0_estimate - 1\n",
    "            # fi_estimate = np.cos((2*n+1)*2*theta)\n",
    "            # fi_estimate = np.exp(1.0j*(2*n+1)*2*theta)\n",
    "            \n",
    "            # signals[i] = np.real(fi_estimate)\n",
    "            signals[i] = fi_estimate\n",
    "         \n",
    "        return signals    "
   ]
  },
  {
   "cell_type": "markdown",
   "id": "47fcf5c4-607e-44b7-a74d-bef41ea19882",
   "metadata": {},
   "source": [
    "# Signal estimates on linear array\n",
    "\n",
    "Use fft to find the angles when sampling the cosine on a linear array (so depths 0,1,2,3,4.., 1000 for example).\n",
    "Theoretically this should give the correct peaks.\n",
    "Also use ESPIRIT to find the peaks."
   ]
  },
  {
   "cell_type": "code",
   "execution_count": 6,
   "id": "354fe7f0",
   "metadata": {},
   "outputs": [
    {
     "data": {
      "text/plain": [
       "[<matplotlib.lines.Line2D at 0x1683ca950>]"
      ]
     },
     "execution_count": 6,
     "metadata": {},
     "output_type": "execute_result"
    },
    {
     "data": {
      "image/png": "[encoded data removed]",
      "text/plain": [
       "<Figure size 640x480 with 1 Axes>"
      ]
     },
     "metadata": {},
     "output_type": "display_data"
    }
   ],
   "source": [
    "# Set the actual amplitude\n",
    "theta = np.pi/5\n",
    "\n",
    "theta1 = np.pi/5\n",
    "theta2 = -theta1\n",
    "\n",
    "depths = [i for i in range(2000)]\n",
    "n_samples = [10 for d in depths]\n",
    "\n",
    "R = estimate_signal(depths, n_samples, theta)\n",
    "\n",
    "# R = [0.5*np.exp(1j*theta1*(2*d+1)) + 0.5*np.exp(1j*theta2*(2*d+1)) for d in depths]\n",
    "\n",
    "fft = np.abs(np.fft.fft(R))\n",
    "\n",
    "xaxis = [i*np.pi/(2*len(fft)) for i in range(len(fft))]\n",
    "\n",
    "plt.plot(xaxis, fft)"
   ]
  },
  {
   "cell_type": "code",
   "execution_count": 7,
   "id": "afab6f62",
   "metadata": {},
   "outputs": [
    {
     "name": "stdout",
     "output_type": "stream",
     "text": [
      "theta: (0.6283185307179586, -0.6283185307179586)\n",
      "peaks: 0.9424777960769379 0.6283185307179586\n"
     ]
    }
   ],
   "source": [
    "# amax = np.argmax(fft[:len(fft)//2])\n",
    "amax = np.argmax(fft)\n",
    "print(f'theta: {theta1, theta2}')\n",
    "print('peaks:', np.pi*(len(fft)-amax)/(2*len(fft)), np.pi*(amax)/(2*len(fft)))"
   ]
  },
  {
   "cell_type": "code",
   "execution_count": 8,
   "id": "4a62e289",
   "metadata": {},
   "outputs": [
    {
     "name": "stdout",
     "output_type": "stream",
     "text": [
      "angles: [ 0.62863445 -0.62863445]\n",
      "theta_est: 0.9421618807627496\n",
      "theta: 0.6283185307179586\n"
     ]
    },
    {
     "data": {
      "text/plain": [
       "1.2572688920642938"
      ]
     },
     "execution_count": 8,
     "metadata": {},
     "output_type": "execute_result"
    }
   ],
   "source": [
    "espirit = ESPIRIT()\n",
    "\n",
    "theta_est, angle = espirit.estimate_theta_toeplitz(R)\n",
    "print(f'angles: {angle/4}')\n",
    "print(f'theta_est: {theta_est}')\n",
    "print(f'theta: {theta}')\n",
    "np.sum(np.abs(angle))/4"
   ]
  },
  {
   "cell_type": "markdown",
   "id": "02691423",
   "metadata": {},
   "source": [
    "## Get the real signal values on virtual locations \n",
    "One can do this using Chebyshev polynomials with the recurrence $\\cos(nx) = 2\\cos(x)\\cos((n-1)x) - \\cos((n-2)x)$"
   ]
  },
  {
   "cell_type": "code",
   "execution_count": 6,
   "id": "133ab62c",
   "metadata": {},
   "outputs": [
    {
     "data": {
      "text/plain": [
       "(0.9440485924037328, 0.6267477343911637, 0.6283185307179586)"
      ]
     },
     "execution_count": 6,
     "metadata": {},
     "output_type": "execute_result"
    },
    {
     "data": {
      "image/png": "[encoded data removed]",
      "text/plain": [
       "<Figure size 640x480 with 1 Axes>"
      ]
     },
     "metadata": {},
     "output_type": "display_data"
    }
   ],
   "source": [
    "from scipy.special import chebyt\n",
    "\n",
    "def get_cheb_vals(n_max, w):\n",
    "    R = np.zeros(n_max)\n",
    "    for n in range(n_max):\n",
    "        R[n] = chebyt(2*n+1)(np.cos(w))\n",
    "    return R\n",
    "\n",
    "def get_cosine_values(n_max, w):\n",
    "    R = np.zeros(n_max)\n",
    "    for n in range(n_max):\n",
    "        R[n] = 0.5*np.exp(1j*w*(2*n+1)) + 0.5*np.exp(-1j*w*(2*n+1))\n",
    "        # R[n] = np.cos((2*n+1)*w)\n",
    "    return R\n",
    "\n",
    "# For reproducibility\n",
    "# np.random.seed(8)\n",
    "\n",
    "# theta = 0.5\n",
    "# w = 2*theta\n",
    "# a = np.cos(theta)\n",
    "\n",
    "a = 0.75\n",
    "theta = np.arccos(a)\n",
    "theta = np.pi/5\n",
    "w = 2*theta\n",
    "\n",
    "d_max = 1000\n",
    "\n",
    "depths = [i for i in range(d_max)]\n",
    "# n_samples = [(d_max - d)//2 + 1 for d in depths]\n",
    "n_samples = [10 for _ in depths]\n",
    "\n",
    "R = estimate_signal(depths, n_samples, theta)\n",
    "# R = get_cheb_vals(d_max, w)\n",
    "# R = get_cosine_values(d_max, w)\n",
    "\n",
    "fft = np.abs(np.fft.fft(R))\n",
    "\n",
    "amax = np.argmax(fft[1:len(fft)//2])\n",
    "\n",
    "xaxis = [i*np.pi/(2*len(fft)) for i in range(len(fft))]\n",
    "\n",
    "plt.plot(xaxis, fft)\n",
    "\n",
    "np.pi*(len(fft)-amax)/(2*len(fft)), np.pi*(amax)/(2*len(fft)), theta"
   ]
  },
  {
   "cell_type": "code",
   "execution_count": 7,
   "id": "4dbfbd7e",
   "metadata": {},
   "outputs": [
    {
     "name": "stdout",
     "output_type": "stream",
     "text": [
      "angles: [-1.19610014 -1.26786697]\n",
      "theta_est: 1.1961001421873891\n",
      "w:1.2566370614359172\n"
     ]
    },
    {
     "data": {
      "text/plain": [
       "1.231983556722788"
      ]
     },
     "execution_count": 7,
     "metadata": {},
     "output_type": "execute_result"
    }
   ],
   "source": [
    "espirit = ESPIRIT()\n",
    "\n",
    "theta_est, angle = espirit.estimate_theta_toeplitz(R)\n",
    "print(f'angles: {angle/2}')\n",
    "print(f'theta_est: {2*theta_est}')\n",
    "print(f'w:{w}')\n",
    "np.sum(np.abs(angle))/4"
   ]
  },
  {
   "cell_type": "code",
   "execution_count": 8,
   "id": "a89d7ae3",
   "metadata": {},
   "outputs": [
    {
     "name": "stdout",
     "output_type": "stream",
     "text": [
      "depths:[0, 1, 2, 4, 8, 16, 32, 64, 128, 256]\n",
      "idx_vals:[1, 3, 5, 9, 17, 33, 65, 129, 257, 513]\n",
      "{1: -0.36007100115722157, 3: 0.9999216204460302, 5: -0.5600102429905407, 9: 0.9997773581538408, 17: -0.5799602798444126, 33: 1.0000144321115827, 65: -0.640131085667697, 129: 0.9999791205448493, 257: -0.499797720633918, 513: 1.000023924161322}\n",
      "512\n"
     ]
    },
    {
     "data": {
      "text/plain": [
       "(0.9694758579437253, 0.6013204688511713, 1.0471975511965976)"
      ]
     },
     "execution_count": 8,
     "metadata": {},
     "output_type": "execute_result"
    },
    {
     "data": {
      "image/png": "[encoded data removed]",
      "text/plain": [
       "<Figure size 640x480 with 1 Axes>"
      ]
     },
     "metadata": {},
     "output_type": "display_data"
    }
   ],
   "source": [
    "a = 0.1\n",
    "theta = np.pi/3# np.arccos(a)\n",
    "w = 2*theta\n",
    "\n",
    "\n",
    "q = 8\n",
    "depths = [0, 1]\n",
    "for k in range(q):\n",
    "    depths.append(2**(k+1))\n",
    "\n",
    "idx_vals = []\n",
    "for d in depths:\n",
    "    idx_vals.append(2*d+1)\n",
    "\n",
    "print(f'depths:{depths}')\n",
    "print(f'idx_vals:{idx_vals}')\n",
    "\n",
    "\n",
    "n_samples = [100 for _ in depths]\n",
    "\n",
    "cos_values = {}\n",
    "for i, depth in enumerate(depths):\n",
    "    # noisy cos values\n",
    "    p0 = P0(depth, theta)\n",
    "    p1 = P1(depth, theta)\n",
    "    p0_estimate = np.random.binomial(n_samples[i], p0)/n_samples[i]\n",
    "    p1_estimate = np.random.binomial(n_samples[i], p1)/n_samples[i]\n",
    "    cos_values[2*depth+1] = p0_estimate - p1_estimate\n",
    "    cos_values[2*depth+1] = 2*p0_estimate - 1 + np.random.normal(0.0, 0.0001)\n",
    "    # cos_values[2*depth+1] = 2*np.cos((2*depth+1)*theta)**2 - 1\n",
    "    # cos_values[2*depth+1] = np.cos((2*depth+1)*w) + np.random.normal(0.0, 0.02)\n",
    "    \n",
    "print(cos_values)\n",
    "\n",
    "def cheb_recursion(n):\n",
    "    if n==0:\n",
    "        return 1\n",
    "    elif n in cos_values.keys():\n",
    "        return cos_values[n]\n",
    "    else:\n",
    "        cos_values[n] = 2*cheb_recursion(1)*cheb_recursion(n-1)-cheb_recursion(n-2)\n",
    "        return cos_values[n]\n",
    "    \n",
    "for d in range(idx_vals[-1]//2+1):\n",
    "    cos_values[2*d+1] = cheb_recursion(2*d+1)\n",
    "print(len(cos_values))\n",
    "\n",
    "# R is the signal on physical and virtual locations\n",
    "R = np.zeros(len(cos_values))\n",
    "for d in range(idx_vals[-1]//2 + 1):\n",
    "    R[d] = cos_values[2*d+1]\n",
    "\n",
    "# R = [0.5*np.exp(1j*theta*(2*d+1)) + 0.5*np.exp(-1j*theta*(2*d+1)) for d in range(idx_vals[-1]//2 + 1)]\n",
    "\n",
    "fft = np.abs(np.fft.fft(R))\n",
    "\n",
    "amax = np.argmax(fft[:len(fft)//2])\n",
    "\n",
    "xaxis = [i*np.pi/(2*len(fft)) for i in range(len(fft))]\n",
    "\n",
    "plt.plot(xaxis, fft)\n",
    "\n",
    "np.pi*(len(fft)-amax)/(2*len(fft)) , np.pi*(amax)/(2*len(fft)), theta"
   ]
  },
  {
   "cell_type": "code",
   "execution_count": 9,
   "id": "1e29308b",
   "metadata": {},
   "outputs": [
    {
     "data": {
      "text/plain": [
       "256"
      ]
     },
     "execution_count": 9,
     "metadata": {},
     "output_type": "execute_result"
    }
   ],
   "source": [
    "R = R[:len(R)//2]\n",
    "len(R)"
   ]
  },
  {
   "cell_type": "code",
   "execution_count": 10,
   "id": "82e8b676",
   "metadata": {},
   "outputs": [
    {
     "name": "stdout",
     "output_type": "stream",
     "text": [
      "angles: [ 2.41720381 -2.41720381]\n",
      "w: 2.0943951023931953\n",
      "theta_est: 0.9664953736318308\n",
      "theta:1.0471975511965976\n"
     ]
    },
    {
     "data": {
      "text/plain": [
       "1.2086019063261315"
      ]
     },
     "execution_count": 10,
     "metadata": {},
     "output_type": "execute_result"
    }
   ],
   "source": [
    "espirit = ESPIRIT()\n",
    "\n",
    "theta_est, angle = espirit.estimate_theta_toeplitz(R)\n",
    "print(f'angles: {angle}')\n",
    "print(f'w: {w}')\n",
    "print(f'theta_est: {theta_est}')\n",
    "print(f'theta:{theta}')\n",
    "np.sum(np.abs(angle))/4"
   ]
  },
  {
   "cell_type": "code",
   "execution_count": 41,
   "id": "b56081d3",
   "metadata": {},
   "outputs": [
    {
     "name": "stdout",
     "output_type": "stream",
     "text": [
      "angles: [-2.51423504 -2.51474992]\n",
      "w: 1.2566370614359172\n",
      "theta_est: 0.6285587590036431\n",
      "theta:0.6283185307179586\n"
     ]
    }
   ],
   "source": [
    "theta = np.pi/5\n",
    "w = 2*theta\n",
    "depths = [d for d in range(4000)]\n",
    "n_samples = [10 for d in depths]\n",
    "complex_signal = estimate_signal(depths=depths, n_samples=n_samples, theta=theta)\n",
    "\n",
    "espirit = ESPIRIT()\n",
    "\n",
    "theta_est, angle = espirit.estimate_theta_toeplitz(complex_signal)\n",
    "print(f'angles: {angle}')\n",
    "print(f'w: {w}')\n",
    "print(f'theta_est: {theta_est}')\n",
    "print(f'theta:{theta}')"
   ]
  },
  {
   "cell_type": "markdown",
   "id": "f982540c",
   "metadata": {},
   "source": [
    "# Cumulant approach"
   ]
  },
  {
   "cell_type": "code",
   "execution_count": 110,
   "id": "4cbbf68d",
   "metadata": {},
   "outputs": [
    {
     "name": "stdout",
     "output_type": "stream",
     "text": [
      "depths:[0, 1, 2, 4, 8, 16, 32, 64]\n",
      "idx_vals:[1, 3, 5, 9, 17, 33, 65, 129]\n"
     ]
    },
    {
     "data": {
      "text/plain": [
       "(array([-64, -63, -62, -60, -56, -48, -32, -31, -30, -28, -24, -16, -15,\n",
       "        -14, -12,  -8,  -7,  -6,  -4,  -3,  -2,  -1,   0,   1,   2,   3,\n",
       "          4,   6,   7,   8,  12,  14,  15,  16,  24,  28,  30,  31,  32,\n",
       "         48,  56,  60,  62,  63,  64]),\n",
       " array([ 1,  1,  2,  4,  8, 16,  1,  1,  2,  4,  8,  1,  1,  2,  4,  1,  1,\n",
       "         2,  1,  1,  1,  1]),\n",
       " 18,\n",
       " array([[ 2],\n",
       "        [ 3],\n",
       "        [ 4],\n",
       "        [ 5],\n",
       "        [ 8],\n",
       "        [ 9],\n",
       "        [10],\n",
       "        [13],\n",
       "        [14],\n",
       "        [17]]))"
      ]
     },
     "execution_count": 110,
     "metadata": {},
     "output_type": "execute_result"
    }
   ],
   "source": [
    "theta = np.pi/5\n",
    "w = 2*theta\n",
    "\n",
    "\n",
    "logd = 6\n",
    "depths = [0, 1]\n",
    "for k in range(logd):\n",
    "    depths.append(2**(k+1))\n",
    "\n",
    "idx_vals = []\n",
    "for d in depths:\n",
    "    idx_vals.append(2*d+1)\n",
    "\n",
    "print(f'depths:{depths}')\n",
    "print(f'idx_vals:{idx_vals}')\n",
    "\n",
    "\n",
    "n_samples = [100 for _ in depths]\n",
    "\n",
    "difference_matrix = np.zeros((len(depths), len(depths)), dtype=int)\n",
    "for r, rval in enumerate(depths):\n",
    "    for c, cval in enumerate(depths):\n",
    "        difference_matrix[r][c] = rval-cval\n",
    "depths0 = difference_matrix.flatten(order='F')\n",
    "depths0, idx = np.unique(depths0, return_index = True)\n",
    "b = np.diff(depths0)\n",
    "b = b[:len(b)//2]\n",
    "try:\n",
    "    start_idx = np.max(np.argwhere(b>1)) + 1\n",
    "    idx = idx[start_idx:-start_idx]\n",
    "except:\n",
    "    pass\n",
    "depths0, b, start_idx, np.argwhere(b>1)"
   ]
  },
  {
   "cell_type": "code",
   "execution_count": 86,
   "id": "ac3a642f",
   "metadata": {},
   "outputs": [
    {
     "data": {
      "text/plain": [
       "array([ 0.30901699+9.51056516e-01j, -0.80901699-5.87785252e-01j,\n",
       "        1.        -2.44929360e-16j,  0.30901699-9.51056516e-01j,\n",
       "       -0.80901699+5.87785252e-01j, -0.80901699-5.87785252e-01j,\n",
       "        1.        +3.92134568e-15j,  0.30901699-9.51056516e-01j])"
      ]
     },
     "execution_count": 86,
     "metadata": {},
     "output_type": "execute_result"
    }
   ],
   "source": [
    "complex_signal = estimate_signal(depths=depths, n_samples=n_samples, theta=theta)\n",
    "complex_signal"
   ]
  },
  {
   "cell_type": "code",
   "execution_count": 87,
   "id": "782a36c6",
   "metadata": {},
   "outputs": [
    {
     "data": {
      "text/plain": [
       "array([-0.80901699+5.87785252e-01j,  0.30901699-9.51056516e-01j,\n",
       "        0.30901699+9.51056516e-01j, -0.80901699-5.87785252e-01j,\n",
       "        1.        -9.21441096e-18j, -0.80901699+5.87785252e-01j,\n",
       "        0.30901699-9.51056516e-01j,  0.30901699+9.51056516e-01j,\n",
       "       -0.80901699-5.87785252e-01j])"
      ]
     },
     "execution_count": 87,
     "metadata": {},
     "output_type": "execute_result"
    }
   ],
   "source": [
    "'''\n",
    "- lets compute the 2q-th order cumulants\n",
    "- start with q=1, should give the regular covariance matrix of the observed signal R  = x x^T\n",
    "\n",
    "'''\n",
    "q = 1\n",
    "\n",
    "cumulant_matrix = np.zeros((len(complex_signal)**q, len(complex_signal)**q), dtype=complex)\n",
    "for i1 in range(len(complex_signal)):\n",
    "    for i2 in range(len(complex_signal)):\n",
    "        yi1 = complex_signal[i1] if i1<q else np.conj(complex_signal[i1])\n",
    "        yi2 = complex_signal[i2] if i2<q else np.conj(complex_signal[i2])\n",
    "        cumulant_matrix[i1][i2] = yi1*yi2\n",
    "R = np.outer(complex_signal, np.conj(complex_signal)).flatten('F')[idx]\n",
    "R\n"
   ]
  },
  {
   "cell_type": "code",
   "execution_count": 74,
   "id": "79d43ee7",
   "metadata": {},
   "outputs": [],
   "source": [
    "R = cumulant_matrix.flatten('F')\n",
    "R = R[len(R)//2:]"
   ]
  },
  {
   "cell_type": "code",
   "execution_count": 103,
   "id": "220310ca",
   "metadata": {},
   "outputs": [
    {
     "name": "stdout",
     "output_type": "stream",
     "text": [
      "angles: [-0.43762198 -0.78137277]\n",
      "w: 1.2566370614359172\n",
      "theta_est: 0.4376219795259574\n",
      "theta:0.6283185307179586\n"
     ]
    }
   ],
   "source": [
    "espirit = ESPIRIT()\n",
    "\n",
    "theta_est, angle = espirit.estimate_theta_toeplitz(R)\n",
    "print(f'angles: {angle/4}')\n",
    "print(f'w: {w}')\n",
    "print(f'theta_est: {theta_est}')\n",
    "print(f'theta:{theta}')"
   ]
  },
  {
   "cell_type": "code",
   "execution_count": 10,
   "id": "b649e1db",
   "metadata": {},
   "outputs": [
    {
     "data": {
      "text/plain": [
       "array([[1, 2, 3],\n",
       "       [2, 4, 6],\n",
       "       [3, 6, 9]])"
      ]
     },
     "execution_count": 10,
     "metadata": {},
     "output_type": "execute_result"
    }
   ],
   "source": [
    "a = np.array([1,2,3])\n",
    "aa = np.outer(a,a)\n",
    "aa"
   ]
  },
  {
   "cell_type": "code",
   "execution_count": null,
   "id": "556f0657",
   "metadata": {},
   "outputs": [],
   "source": []
  }
 ],
 "metadata": {
  "kernelspec": {
   "display_name": "Python 3 (ipykernel)",
   "language": "python",
   "name": "python3"
  },
  "language_info": {
   "codemirror_mode": {
    "name": "ipython",
    "version": 3
   },
   "file_extension": ".py",
   "mimetype": "text/x-python",
   "name": "python",
   "nbconvert_exporter": "python",
   "pygments_lexer": "ipython3",
   "version": "3.12.2"
  }
 },
 "nbformat": 4,
 "nbformat_minor": 5
}
