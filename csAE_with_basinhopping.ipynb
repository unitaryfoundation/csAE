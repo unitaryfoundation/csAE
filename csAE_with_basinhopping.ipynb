{
 "cells": [
  {
   "cell_type": "code",
   "execution_count": 1,
   "metadata": {},
   "outputs": [
    {
     "name": "stderr",
     "output_type": "stream",
     "text": [
      "/Users/farrokhlabib/Documents/github/csAE/.venv/lib/python3.10/site-packages/tqdm/auto.py:21: TqdmWarning: IProgress not found. Please update jupyter and ipywidgets. See https://ipywidgets.readthedocs.io/en/stable/user_install.html\n",
      "  from .autonotebook import tqdm as notebook_tqdm\n"
     ]
    },
    {
     "data": {
      "text/plain": [
       "<Figure size 640x480 with 0 Axes>"
      ]
     },
     "metadata": {},
     "output_type": "display_data"
    }
   ],
   "source": [
    "import numpy as np\n",
    "import matplotlib.pyplot as plt\n",
    "import seaborn as sns\n",
    "from signals import *\n",
    "from frequencyestimator import *\n",
    "from scipy.optimize import basinhopping\n",
    "from tqdm.auto import tqdm\n",
    "\n",
    "sns.set_style(\"whitegrid\")\n",
    "sns.despine(left=True, bottom=True)\n",
    "sns.set_context(\"poster\", font_scale = .45, rc={\"grid.linewidth\": 0.8})"
   ]
  },
  {
   "cell_type": "code",
   "execution_count": 2,
   "metadata": {},
   "outputs": [],
   "source": [
    "P0 = lambda n, theta: np.cos((2*n+1)*theta)**2\n",
    "P1 = lambda n, theta: np.sin((2*n+1)*theta)**2\n",
    "\n",
    "def estimate_signal(depths, n_samples, theta, eta=0.0):\n",
    "        signals = np.zeros(len(depths), dtype = np.complex128)\n",
    "        measurements = np.zeros(len(depths))\n",
    "        cos_signal = np.zeros(len(depths), dtype = np.complex128)\n",
    "        for i,n in enumerate(depths):\n",
    "            # Get the exact measuremnt probabilities\n",
    "            p0 = P0(n, theta)\n",
    "            p1 = P1(n, theta)\n",
    "\n",
    "            p0x = P0x(n,theta)\n",
    "            p1x = P1x(n,theta)\n",
    "\n",
    "            # Get the \"noisy\" probabilities by sampling and adding a bias term that pushes towards 50/50 mixture\n",
    "            eta_n = (1.0-eta)**(n+1) # The error at depth n increases as more queries are implemented\n",
    "            p0_estimate = np.random.binomial(n_samples[i], eta_n*p0 + (1.0-eta_n)*0.5)/n_samples[i]\n",
    "            p1_estimate = 1 - p0_estimate\n",
    "\n",
    "            p0x_estimate = np.random.binomial(n_samples[i], eta_n*p0x + (1.0-eta_n)*0.5)/n_samples[i]\n",
    "            p1x_estimate = 1.0 - p0x_estimate\n",
    "            measurements[i] = p0_estimate\n",
    "            \n",
    "            # Estimate theta\n",
    "            theta_estimated = np.arctan2(p0x_estimate - p1x_estimate, p0_estimate - p1_estimate)\n",
    "            \n",
    "            # Store this to determine angle at theta = 0 or pi/2\n",
    "            if i==0:\n",
    "                p0mp1 = p0_estimate - p1_estimate\n",
    "\n",
    "            # Compute f(n) - Eq. 3\n",
    "            fi_estimate = np.exp(1.0j*theta_estimated)\n",
    "            signals[i] = fi_estimate\n",
    "         \n",
    "        return signals, measurements\n",
    "\n",
    "from scipy.stats import binom\n",
    "\n",
    "def apply_correction(ula_signal, measurements, theta_est, theta):\n",
    "    p_exact = np.cos((2*ula_signal.depths+1)*(theta))**2\n",
    "    p_o2 = np.cos((2 * ula_signal.depths + 1) * (theta_est/2.0)) ** 2\n",
    "    p_o4 = np.cos((2 * ula_signal.depths + 1) * (theta_est/4.0)) ** 2\n",
    "    p_same = np.cos((2*ula_signal.depths+1)*(theta_est))**2\n",
    "    p_s2 = np.cos((2 * ula_signal.depths + 1) * (np.pi/2-theta_est)) ** 2\n",
    "    p_s4 = np.cos((2 * ula_signal.depths + 1) * (np.pi / 4 - theta_est)) ** 2\n",
    "    p_s2_o2 = np.cos((2 * ula_signal.depths + 1) * (np.pi / 2 - theta_est/2)) ** 2\n",
    "    p_s4_o2 = np.cos((2 * ula_signal.depths + 1) * (np.pi / 4 - theta_est/2)) ** 2\n",
    "\n",
    "    l_exact = np.sum(\n",
    "        np.log([1e-75 + binom.pmf(ula_signal.n_samples[kk] * measurements[kk], ula_signal.n_samples[kk],\n",
    "                                  p_exact[kk]) for kk in\n",
    "                range(len(ula_signal.n_samples))]))\n",
    "\n",
    "    l_o2 = np.sum(\n",
    "        np.log([1e-75+binom.pmf(ula_signal.n_samples[kk]*measurements[kk], ula_signal.n_samples[kk], p_o2[kk]) for kk in\n",
    "         range(len(ula_signal.n_samples))]))\n",
    "    l_o4 = np.sum(\n",
    "        np.log([1e-75+binom.pmf(ula_signal.n_samples[kk] * measurements[kk], ula_signal.n_samples[kk], p_o4[kk]) for kk in\n",
    "         range(len(ula_signal.n_samples))]))\n",
    "    l_same = np.sum(\n",
    "        np.log([1e-75+binom.pmf(ula_signal.n_samples[kk] * measurements[kk], ula_signal.n_samples[kk], p_same[kk]) for kk in\n",
    "         range(len(ula_signal.n_samples))]))\n",
    "    l_s2 = np.sum(\n",
    "        np.log([1e-75+binom.pmf(ula_signal.n_samples[kk] * measurements[kk], ula_signal.n_samples[kk], p_s2[kk]) for kk in\n",
    "         range(len(ula_signal.n_samples))]))\n",
    "    l_s4 = np.sum(\n",
    "        np.log([1e-75+binom.pmf(ula_signal.n_samples[kk] * measurements[kk], ula_signal.n_samples[kk], p_s4[kk]) for kk in\n",
    "         range(len(ula_signal.n_samples))]))\n",
    "    l_s2_o2 = np.sum(\n",
    "        np.log([1e-75+binom.pmf(ula_signal.n_samples[kk] * measurements[kk], ula_signal.n_samples[kk], p_s2_o2[kk]) for kk in\n",
    "         range(len(ula_signal.n_samples))]))\n",
    "    l_s4_o2 = np.sum(\n",
    "        np.log([1e-75+binom.pmf(ula_signal.n_samples[kk] * measurements[kk], ula_signal.n_samples[kk], p_s4_o2[kk]) for kk in\n",
    "         range(len(ula_signal.n_samples))]))\n",
    "    # print(f'theta_exact obj:           {l_exact}\\n')\n",
    "\n",
    "    # print(f'2*theta_found obj:         {l_same}')\n",
    "    # print(f'2*theta found:             {2*theta_est / np.pi}\\n')\n",
    "\n",
    "    # print(f'pi-2*theta_found obj:      {l_s2}')\n",
    "    # print(f'pi-2*theta found:          {1.0-2 * theta_est / np.pi}\\n')\n",
    "\n",
    "    # print(f'pi/2-2*theta_found obj:    {l_s4}')\n",
    "    # print(f'pi/2-2*theta found:        {0.5 - 2 * theta_est / np.pi}\\n')\n",
    "\n",
    "    # print(f'theta_found obj:           {l_o2}')\n",
    "    # print(f'theta found:               {theta_est / np.pi}\\n')\n",
    "\n",
    "    # print(f'theta_found/2 obj:         {l_o4}')\n",
    "    # print(f'theta found:               {theta_est / 2.0 / np.pi}\\n')\n",
    "\n",
    "    # print(f'pi - theta_found obj:    {l_s2_o2}')\n",
    "    # print(f'pi - theta found:        {1.0 - theta_est / np.pi}\\n')\n",
    "\n",
    "    # print(f'pi/2 - theta_found obj:    {l_s4_o2}')\n",
    "    # print(f'pi/2 - theta found:        {0.5 - theta_est / np.pi}\\n')\n",
    "\n",
    "    \n",
    "    which_correction = np.argmax([l_same, l_s2, l_s4, l_o2, l_o4, l_s2_o2, l_s4_o2])\n",
    "    if which_correction == 1:\n",
    "        theta_est = np.pi/2.0 - theta_est\n",
    "    elif which_correction == 2:\n",
    "        theta_est = np.pi/4.0 - theta_est\n",
    "    elif which_correction == 3:\n",
    "        theta_est = theta_est/2\n",
    "    elif which_correction == 4:\n",
    "        theta_est = theta_est/4\n",
    "    elif which_correction == 5:\n",
    "        theta_est = np.pi / 2.0 - 0.5 * theta_est\n",
    "    elif which_correction == 6:\n",
    "        theta_est = np.pi / 4.0 - 0.5 * theta_est\n",
    "\n",
    "    # print(f'FINAL ANGLE FOUND: {theta_est, theta}')\n",
    "\n",
    "    return theta_est"
   ]
  },
  {
   "cell_type": "markdown",
   "metadata": {},
   "source": [
    "## Use Basinhopping (simulated annealing) from scipy.optimize to minimize the objective function"
   ]
  },
  {
   "cell_type": "code",
   "execution_count": 3,
   "metadata": {},
   "outputs": [],
   "source": [
    "def objective_function(lp, cos_signal, abs_sin, ula_signal, esprit):   \n",
    "    signal = cos_signal + 1.0j * lp * abs_sin\n",
    "    R = ula_signal.get_cov_matrix_toeplitz(signal)\n",
    "    _, _ = esprit.estimate_theta_toeplitz(R)\n",
    "    eigs = np.abs(esprit.eigs)[:2]\n",
    "    obj = eigs[1] - eigs[0]\n",
    "\n",
    "    return obj"
   ]
  },
  {
   "cell_type": "markdown",
   "metadata": {},
   "source": [
    "## Function to implement the basinhopping based csAE"
   ]
  },
  {
   "cell_type": "code",
   "execution_count": 4,
   "metadata": {},
   "outputs": [
    {
     "name": "stdout",
     "output_type": "stream",
     "text": [
      "basinhopping step 0: f -92.6752\n",
      "basinhopping step 1: f -601.663 trial_f -601.663 accepted 1  lowest_f -601.663\n",
      "found new global minimum on step 1 with function value -601.663\n",
      "basinhopping step 2: f -601.663 trial_f -115.311 accepted 0  lowest_f -601.663\n",
      "basinhopping step 3: f -601.663 trial_f -111.922 accepted 0  lowest_f -601.663\n",
      "basinhopping step 4: f -601.663 trial_f -250.258 accepted 0  lowest_f -601.663\n",
      "basinhopping step 5: f -601.663 trial_f -601.663 accepted 1  lowest_f -601.663\n",
      "found new global minimum on step 5 with function value -601.663\n",
      "basinhopping step 6: f -601.663 trial_f -601.663 accepted 1  lowest_f -601.663\n",
      "found new global minimum on step 6 with function value -601.663\n",
      "basinhopping step 7: f -601.663 trial_f -217.259 accepted 0  lowest_f -601.663\n",
      "basinhopping step 8: f -601.663 trial_f -200.983 accepted 0  lowest_f -601.663\n",
      "basinhopping step 9: f -601.663 trial_f -601.663 accepted 1  lowest_f -601.663\n",
      "basinhopping step 10: f -601.663 trial_f -212.906 accepted 0  lowest_f -601.663\n",
      "basinhopping step 11: f -601.663 trial_f -114.115 accepted 0  lowest_f -601.663\n",
      "basinhopping step 12: f -601.663 trial_f -446.66 accepted 0  lowest_f -601.663\n",
      "basinhopping step 13: f -601.663 trial_f -51.5195 accepted 0  lowest_f -601.663\n",
      "basinhopping step 14: f -601.663 trial_f -431.737 accepted 0  lowest_f -601.663\n",
      "basinhopping step 15: f -601.663 trial_f -217.259 accepted 0  lowest_f -601.663\n",
      "basinhopping step 16: f -601.663 trial_f -431.737 accepted 0  lowest_f -601.663\n",
      "basinhopping step 17: f -601.663 trial_f -430.542 accepted 0  lowest_f -601.663\n",
      "basinhopping step 18: f -601.663 trial_f -217.259 accepted 0  lowest_f -601.663\n",
      "basinhopping step 19: f -601.663 trial_f -143.094 accepted 0  lowest_f -601.663\n",
      "basinhopping step 20: f -601.663 trial_f -430.542 accepted 0  lowest_f -601.663\n",
      "                    message: ['requested number of basinhopping iterations completed successfully']\n",
      "                    success: True\n",
      "                        fun: -601.6626004272621\n",
      "                          x: [ 1.000e+00  1.000e+00  1.000e+00  1.000e+00\n",
      "                               1.000e+00  1.000e+00 -1.000e+00 -1.000e+00\n",
      "                               1.000e+00  1.000e+00]\n",
      "                        nit: 20\n",
      "      minimization_failures: 0\n",
      "                       nfev: 5984\n",
      "                       njev: 544\n",
      " lowest_optimization_result:  message: CONVERGENCE: NORM_OF_PROJECTED_GRADIENT_<=_PGTOL\n",
      "                              success: True\n",
      "                               status: 0\n",
      "                                  fun: -601.6626004272621\n",
      "                                    x: [ 1.000e+00  1.000e+00  1.000e+00\n",
      "                                         1.000e+00  1.000e+00  1.000e+00\n",
      "                                        -1.000e+00 -1.000e+00  1.000e+00\n",
      "                                         1.000e+00]\n",
      "                                  nit: 2\n",
      "                                  jac: [-1.122e+03 -3.245e+02 -2.424e+02\n",
      "                                        -4.369e+02 -9.605e+01 -1.583e+02\n",
      "                                         1.015e+01  1.956e+02 -1.709e+02\n",
      "                                        -1.465e+02]\n",
      "                                 nfev: 88\n",
      "                                 njev: 8\n",
      "                             hess_inv: <10x10 LbfgsInvHessProduct with dtype=float64>\n",
      "true obj: -645.7824141896322\n"
     ]
    },
    {
     "data": {
      "text/plain": [
       "{'theta_est': -0.7742126944246284,\n",
       " 'error': 1.3991533908819185,\n",
       " 'queries': 3069,\n",
       " 'depth': 256}"
      ]
     },
     "execution_count": 4,
     "metadata": {},
     "output_type": "execute_result"
    }
   ],
   "source": [
    "a = 0.7\n",
    "theta = np.arcsin(a)\n",
    "\n",
    "narray = [2,2,2,2,2,2,2,3]\n",
    "ula_signal = TwoqULASignal(M=narray, C=3)\n",
    "esprit = ESPIRIT()\n",
    "# narray = [2]*8\n",
    "\n",
    "def csae_with_basinhopping(theta, ula_signal, esprit, niter, T=1.0,disp=False):\n",
    "\n",
    "    depths = ula_signal.depths\n",
    "    n_samples = ula_signal.n_samples\n",
    "    csignal, measurements = estimate_signal(depths, n_samples, theta)\n",
    "\n",
    "    cos_signal = np.real(csignal)\n",
    "\n",
    "    correct_signs = np.sign(np.imag(csignal))\n",
    "    abs_sin = np.abs(np.imag(csignal))\n",
    "\n",
    "    bounds = tuple((-1.0, 1.0) for _ in range(len(correct_signs)))\n",
    "    init_signs = np.array([1.0 for _ in range(len(correct_signs))])\n",
    "    # init_signs = (-1)**np.random.binomial(1, 0.5, len(correct_signs))\n",
    "    res = basinhopping(objective_function, init_signs, niter=niter, T=T, stepsize=2.0, minimizer_kwargs={'args': (cos_signal, abs_sin, ula_signal, esprit), 'bounds': bounds}, disp=disp)\n",
    "\n",
    "    if disp:\n",
    "        print(res)\n",
    "\n",
    "    x = res.x\n",
    "    signal = cos_signal + 1.0j * x * abs_sin\n",
    "    R = ula_signal.get_cov_matrix_toeplitz(signal)\n",
    "    theta_est, _ = esprit.estimate_theta_toeplitz(R)\n",
    "    theta_est = apply_correction(ula_signal, measurements, theta_est, theta) #apply correction\n",
    "\n",
    "    if disp:\n",
    "        cR = ula_signal.get_cov_matrix_toeplitz(csignal)\n",
    "        _, _ = esprit.estimate_theta_toeplitz(cR)\n",
    "        eigs = np.abs(esprit.eigs)[:2]\n",
    "        obj = eigs[1] - eigs[0]\n",
    "        print(f'true obj: {obj}')\n",
    "\n",
    "    num_queries = np.sum(np.array(ula_signal.depths)*np.array(ula_signal.n_samples)) + ula_signal.n_samples[0]\n",
    "    # Compute the maximum single query\n",
    "    max_single_query = np.max(ula_signal.depths)\n",
    "\n",
    "    ret_dict = {'theta_est': theta_est, 'error': np.abs(np.sin(theta)-np.sin(theta_est)), 'queries': num_queries, 'depth': max_single_query}\n",
    "    \n",
    "    return ret_dict\n",
    "\n",
    "csae_with_basinhopping(theta=theta, narray=narray, niter=20, disp=True)"
   ]
  },
  {
   "cell_type": "markdown",
   "metadata": {},
   "source": [
    "## Let's do some statistics now"
   ]
  },
  {
   "cell_type": "code",
   "execution_count": 5,
   "metadata": {},
   "outputs": [
    {
     "name": "stdout",
     "output_type": "stream",
     "text": [
      "theta = 0.2013579207903308\n"
     ]
    },
    {
     "name": "stderr",
     "output_type": "stream",
     "text": [
      "100%|██████████| 100/100 [1:55:12<00:00, 69.12s/it] \n"
     ]
    },
    {
     "name": "stdout",
     "output_type": "stream",
     "text": [
      "constant factors query and depth: 4.830492494657762, 0.4029345319753624\n",
      "theta = 0.775397496610753\n"
     ]
    },
    {
     "name": "stderr",
     "output_type": "stream",
     "text": [
      "100%|██████████| 100/100 [1:35:26<00:00, 57.26s/it]\n"
     ]
    },
    {
     "name": "stdout",
     "output_type": "stream",
     "text": [
      "constant factors query and depth: 4294.8840818846775, 358.2568670454472\n",
      "theta = 1.1197695149986342\n"
     ]
    },
    {
     "name": "stderr",
     "output_type": "stream",
     "text": [
      "100%|██████████| 100/100 [1:33:01<00:00, 55.81s/it]"
     ]
    },
    {
     "name": "stdout",
     "output_type": "stream",
     "text": [
      "constant factors query and depth: 3.2030608518404167, 0.2671826582180341\n"
     ]
    },
    {
     "name": "stderr",
     "output_type": "stream",
     "text": [
      "\n"
     ]
    }
   ],
   "source": [
    "avals = [0.1, 0.2, 0.3, 0.4, 0.5, 0.6, 0.7, 0.8, 0.9]\n",
    "avals = [0.2, 0.7, 0.9]\n",
    "# avals = [0.5, 0.6, 0.7, 0.8, 0.9]\n",
    "narray = [2,2,2,2,2,2,2,3]\n",
    "\n",
    "num_queries = np.zeros(len(avals), dtype=int)\n",
    "max_single_query = np.zeros(len(avals), dtype=int)\n",
    "\n",
    "num_mc=100\n",
    "thetas = np.zeros((len(avals), num_mc))\n",
    "errors = np.zeros((len(avals), num_mc))\n",
    "\n",
    "ula_signal = TwoqULASignal(M=narray, C=3)\n",
    "esprit = ESPIRIT()\n",
    "\n",
    "for j,a in enumerate(avals):\n",
    "    theta = np.arcsin(a)\n",
    "    print(f'theta = {theta}')\n",
    "    for i in tqdm(range(num_mc)):\n",
    "        res = csae_with_basinhopping(theta=theta, narray=narray, niter=10, T=1.0)\n",
    "        thetas[j][i] = res['theta_est']\n",
    "        errors[j][i] = res['error']\n",
    "    num_queries[j] = res['queries']\n",
    "    max_single_query[j] = res['depth']\n",
    "\n",
    "    print(f'constant factors query and depth: {np.percentile(errors[j], 68) * num_queries[j]}, {np.percentile(errors[j], 68) * max_single_query[j]}')\n",
    "\n",
    "\n"
   ]
  },
  {
   "cell_type": "code",
   "execution_count": 6,
   "metadata": {},
   "outputs": [
    {
     "name": "stdout",
     "output_type": "stream",
     "text": [
      "constant factors for query complexity: [4.83049249e+00 4.29488408e+03 3.20306085e+00]\n",
      "constant factors for max depth complexity: [4.02934532e-01 3.58256867e+02 2.67182658e-01]\n"
     ]
    }
   ],
   "source": [
    "errors68 = np.percentile(errors, 68, axis=1)\n",
    "print(f'constant factors for query complexity: {errors68*num_queries}'),\n",
    "print(f'constant factors for max depth complexity: {errors68*max_single_query}')"
   ]
  },
  {
   "cell_type": "code",
   "execution_count": 7,
   "metadata": {},
   "outputs": [
    {
     "data": {
      "text/plain": [
       "array([[ 0.20130273,  0.20075566,  0.20122481,  0.20292069,  0.20157227,\n",
       "         0.20249675,  0.20143038,  0.20135112,  0.18799623,  0.18739348,\n",
       "         0.20304722,  0.1890216 ,  0.19052875,  0.20237372,  0.20172074,\n",
       "         0.18841337,  0.20280515,  0.20128865,  0.20280586,  0.20159018,\n",
       "         0.20157867,  0.18917508,  0.20144799,  0.20177314,  0.18859687,\n",
       "         0.20378216,  0.18878747,  0.20236222,  0.18886828,  0.20104689,\n",
       "         0.2028963 ,  0.20286671,  0.19054771,  0.20286613,  0.20202784,\n",
       "         0.20164937,  0.20364175,  0.18902302,  0.20251124,  0.2033817 ,\n",
       "         0.17616168,  0.18894831,  0.20131008,  0.20308522,  0.20294281,\n",
       "         0.20124626,  0.20133395,  0.20194252,  0.20281025,  0.20262044,\n",
       "         0.18924581,  0.20124166,  0.1878438 ,  0.1888034 ,  0.20224058,\n",
       "         0.20249774,  0.20109941,  0.20334118,  0.20279785,  0.20281336,\n",
       "         0.18882544,  0.20292251,  0.20267648,  0.20066968, -0.18749986,\n",
       "         0.19968006,  0.20226703,  0.20072409,  0.20078477,  0.1905257 ,\n",
       "         0.20118987,  0.2012232 ,  0.18922781,  0.20356164,  0.20285817,\n",
       "         0.20177177,  0.20326872,  0.19077549,  0.20225296,  0.2028596 ,\n",
       "         0.20261317,  0.20240538,  0.20144473,  0.20135034,  0.2028252 ,\n",
       "         0.20301093,  0.20256973,  0.20145345,  0.20164382,  0.20181445,\n",
       "         0.20236616,  0.2022955 ,  0.20274611,  0.18946484,  0.20278886,\n",
       "         0.20135969,  0.20244299,  0.20061067,  0.20225742,  0.20124622],\n",
       "       [-0.72591932, -0.7739514 ,  0.77361001,  0.77516026,  0.77543598,\n",
       "        -0.72455713,  0.72357811,  0.775045  ,  0.57745597, -0.77643943,\n",
       "        -0.77536493, -0.77537509, -0.77405769,  0.57939526, -0.77514626,\n",
       "        -0.77377825, -0.77497362, -0.77512705, -0.77562328,  0.77386375,\n",
       "        -0.77465129,  0.76122891,  0.43695575, -0.77380069,  0.7750869 ,\n",
       "         0.77550621,  0.77536466,  0.77342765,  0.77543173,  0.67731299,\n",
       "        -0.7735367 , -0.77494681,  0.77549536, -0.77497065,  0.77528374,\n",
       "         0.77399511, -0.7754259 , -0.7736935 , -0.77556364,  0.77535304,\n",
       "        -0.77459775,  0.77601375,  0.77424397,  0.77490787, -0.7758065 ,\n",
       "         1.16834601, -0.7752735 ,  0.67750015, -0.77543094, -0.77616119,\n",
       "         0.77340419,  0.77435175,  0.77548982, -0.77568478, -0.77602159,\n",
       "         1.31520589,  0.77575566, -0.77549631, -0.77486165,  0.77549179,\n",
       "        -0.77511522,  0.77963493, -0.77521632,  0.77541741,  0.77354891,\n",
       "         0.72493121,  0.7258232 , -0.77557286, -0.77969356,  0.77548773,\n",
       "        -0.77387152,  0.77555507,  0.7758776 , -0.77513839, -0.77387668,\n",
       "        -0.77482496,  0.77310002, -0.72484589,  0.73064198, -0.77588657,\n",
       "         0.77555492,  0.39573139,  0.77576489, -0.7734019 ,  0.77431245,\n",
       "        -0.77523027, -0.77549182, -0.7755741 ,  0.77531584, -0.77477182,\n",
       "         0.77572331,  0.7268504 , -0.7739354 , -0.77401654,  0.77346463,\n",
       "        -0.77508643, -0.77393464, -0.67560642,  0.77393661,  0.76227959],\n",
       "       [ 1.11990675,  1.06990578,  0.8968879 ,  1.12024182,  0.89748378,\n",
       "         1.11992176,  0.67810655,  1.12027729,  1.06686335,  1.06672032,\n",
       "         1.11922718,  1.07036437,  0.89699878,  1.12026473,  1.12015556,\n",
       "         1.11882801,  0.89726015,  1.11986094,  0.89742066,  1.12149476,\n",
       "         1.11693286,  1.11998482,  1.11988819,  0.896818  ,  1.11976649,\n",
       "         1.11985741,  1.1217292 ,  1.07076288,  1.11987435,  1.12070993,\n",
       "         1.11938747,  1.11992688,  0.72735884,  0.89728665,  1.11949083,\n",
       "         1.12030573,  1.12001892,  1.12034697,  1.11949552,  1.06660749,\n",
       "         1.11968125,  1.11876233,  1.10969204,  1.12030882,  1.12143527,\n",
       "         1.11993542,  1.12079152,  1.11997604,  1.12030026,  1.12195678,\n",
       "         1.11958799,  1.11935899,  1.07086966,  1.1185008 ,  1.31746119,\n",
       "         1.11994186,  1.11980842,  0.89755503,  1.12008466,  1.06658228,\n",
       "         1.11967192,  1.12003992,  0.752401  ,  1.11977354,  1.06735149,\n",
       "         1.11956176,  1.11925243,  1.1201843 ,  1.11960065,  1.11818948,\n",
       "         1.11929237,  1.11985425,  1.11955636,  1.11926783,  1.11958137,\n",
       "         1.11989715,  1.11997739,  1.14873948,  0.72710213,  0.72746165,\n",
       "         1.11930387,  1.11980324,  0.89725475,  1.11981671,  1.11977901,\n",
       "         0.8938882 ,  1.11983749,  1.12015551,  1.17024223,  0.67748188,\n",
       "         1.11925553,  1.11966175,  1.06705781,  1.12039277,  1.12141029,\n",
       "         1.12005634,  1.12159023,  1.12143366,  1.09528473,  1.11994065]])"
      ]
     },
     "execution_count": 7,
     "metadata": {},
     "output_type": "execute_result"
    }
   ],
   "source": [
    "thetas"
   ]
  },
  {
   "cell_type": "code",
   "execution_count": 8,
   "metadata": {},
   "outputs": [
    {
     "data": {
      "text/plain": [
       "array([0.20135792, 0.7753975 , 1.11976951])"
      ]
     },
     "execution_count": 8,
     "metadata": {},
     "output_type": "execute_result"
    }
   ],
   "source": [
    "np.arcsin(avals)"
   ]
  },
  {
   "cell_type": "markdown",
   "metadata": {},
   "source": [
    "## How does the energy landscape actually look like? "
   ]
  },
  {
   "cell_type": "code",
   "execution_count": null,
   "metadata": {},
   "outputs": [],
   "source": []
  }
 ],
 "metadata": {
  "kernelspec": {
   "display_name": ".venv",
   "language": "python",
   "name": "python3"
  },
  "language_info": {
   "codemirror_mode": {
    "name": "ipython",
    "version": 3
   },
   "file_extension": ".py",
   "mimetype": "text/x-python",
   "name": "python",
   "nbconvert_exporter": "python",
   "pygments_lexer": "ipython3",
   "version": "3.10.9"
  }
 },
 "nbformat": 4,
 "nbformat_minor": 2
}
