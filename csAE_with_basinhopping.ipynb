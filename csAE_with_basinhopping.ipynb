{
 "cells": [
  {
   "cell_type": "code",
   "execution_count": 1,
   "metadata": {},
   "outputs": [
    {
     "name": "stderr",
     "output_type": "stream",
     "text": [
      "/Users/farrokhlabib/Documents/github/csAE/.venv/lib/python3.10/site-packages/tqdm/auto.py:21: TqdmWarning: IProgress not found. Please update jupyter and ipywidgets. See https://ipywidgets.readthedocs.io/en/stable/user_install.html\n",
      "  from .autonotebook import tqdm as notebook_tqdm\n"
     ]
    },
    {
     "data": {
      "text/plain": [
       "<Figure size 640x480 with 0 Axes>"
      ]
     },
     "metadata": {},
     "output_type": "display_data"
    }
   ],
   "source": [
    "import numpy as np\n",
    "import matplotlib.pyplot as plt\n",
    "import seaborn as sns\n",
    "from signals import *\n",
    "from frequencyestimator import *\n",
    "from scipy.optimize import basinhopping, minimize\n",
    "from tqdm.auto import tqdm\n",
    "\n",
    "sns.set_style(\"whitegrid\")\n",
    "sns.despine(left=True, bottom=True)\n",
    "sns.set_context(\"poster\", font_scale = .45, rc={\"grid.linewidth\": 0.8})"
   ]
  },
  {
   "cell_type": "code",
   "execution_count": 2,
   "metadata": {},
   "outputs": [],
   "source": [
    "P0 = lambda n, theta: np.cos((2*n+1)*theta)**2\n",
    "P1 = lambda n, theta: np.sin((2*n+1)*theta)**2\n",
    "\n",
    "def estimate_signal(depths, n_samples, theta):\n",
    "        signals = np.zeros(len(depths), dtype = np.complex128)\n",
    "        measurements = np.zeros(len(depths))\n",
    "        for i,n in enumerate(depths):\n",
    "            # Get the exact measuremnt probabilities\n",
    "            p0 = P0(n, theta)\n",
    "            p1 = P1(n, theta)\n",
    "\n",
    "            p0x = P0x(n,theta)\n",
    "            p1x = P1x(n,theta)\n",
    "            \n",
    "            p0_estimate = np.random.binomial(n_samples[i], p0)/n_samples[i]\n",
    "            p1_estimate = 1 - p0_estimate\n",
    "\n",
    "            p0x_estimate = np.random.binomial(n_samples[i], p0x)/n_samples[i]\n",
    "            p1x_estimate = 1.0 - p0x_estimate\n",
    "            measurements[i] = p0_estimate\n",
    "            \n",
    "            # Estimate theta\n",
    "            theta_estimated = np.arctan2(p0x_estimate - p1x_estimate, p0_estimate - p1_estimate)\n",
    "\n",
    "            # Compute f(n) - Eq. 3\n",
    "            fi_estimate = np.exp(1.0j*theta_estimated)\n",
    "            signals[i] = fi_estimate\n",
    "         \n",
    "        return signals, measurements\n",
    "\n",
    "from scipy.stats import binom\n",
    "\n",
    "def apply_correction(ula_signal, measurements, theta_est, theta):\n",
    "    p_exact = np.cos((2*ula_signal.depths+1)*(theta))**2\n",
    "    p_neg = np.cos((2*ula_signal.depths+1)*(-theta))**2\n",
    "    p_o2 = np.cos((2 * ula_signal.depths + 1) * (theta_est/2.0)) ** 2\n",
    "    p_o4 = np.cos((2 * ula_signal.depths + 1) * (theta_est/4.0)) ** 2\n",
    "    p_same = np.cos((2*ula_signal.depths+1)*(theta_est))**2\n",
    "    p_s2 = np.cos((2 * ula_signal.depths + 1) * (np.pi/2-theta_est)) ** 2\n",
    "    p_s4 = np.cos((2 * ula_signal.depths + 1) * (np.pi / 4 - theta_est)) ** 2\n",
    "    p_s2_o2 = np.cos((2 * ula_signal.depths + 1) * (np.pi / 2 - theta_est/2)) ** 2\n",
    "    p_s4_o2 = np.cos((2 * ula_signal.depths + 1) * (np.pi / 4 - theta_est/2)) ** 2\n",
    "\n",
    "    l_exact = np.sum(\n",
    "        np.log([1e-75 + binom.pmf(ula_signal.n_samples[kk] * measurements[kk], ula_signal.n_samples[kk],\n",
    "                                  p_exact[kk]) for kk in\n",
    "                range(len(ula_signal.n_samples))]))\n",
    "    l_neg = np.sum(\n",
    "        np.log([1e-75 + binom.pmf(ula_signal.n_samples[kk] * measurements[kk], ula_signal.n_samples[kk],\n",
    "                                  p_neg[kk]) for kk in\n",
    "                range(len(ula_signal.n_samples))]))\n",
    "    l_o2 = np.sum(\n",
    "        np.log([1e-75+binom.pmf(ula_signal.n_samples[kk]*measurements[kk], ula_signal.n_samples[kk], p_o2[kk]) for kk in\n",
    "         range(len(ula_signal.n_samples))]))\n",
    "    l_o4 = np.sum(\n",
    "        np.log([1e-75+binom.pmf(ula_signal.n_samples[kk] * measurements[kk], ula_signal.n_samples[kk], p_o4[kk]) for kk in\n",
    "         range(len(ula_signal.n_samples))]))\n",
    "    l_same = np.sum(\n",
    "        np.log([1e-75+binom.pmf(ula_signal.n_samples[kk] * measurements[kk], ula_signal.n_samples[kk], p_same[kk]) for kk in\n",
    "         range(len(ula_signal.n_samples))]))\n",
    "    l_s2 = np.sum(\n",
    "        np.log([1e-75+binom.pmf(ula_signal.n_samples[kk] * measurements[kk], ula_signal.n_samples[kk], p_s2[kk]) for kk in\n",
    "         range(len(ula_signal.n_samples))]))\n",
    "    l_s4 = np.sum(\n",
    "        np.log([1e-75+binom.pmf(ula_signal.n_samples[kk] * measurements[kk], ula_signal.n_samples[kk], p_s4[kk]) for kk in\n",
    "         range(len(ula_signal.n_samples))]))\n",
    "    l_s2_o2 = np.sum(\n",
    "        np.log([1e-75+binom.pmf(ula_signal.n_samples[kk] * measurements[kk], ula_signal.n_samples[kk], p_s2_o2[kk]) for kk in\n",
    "         range(len(ula_signal.n_samples))]))\n",
    "    l_s4_o2 = np.sum(\n",
    "        np.log([1e-75+binom.pmf(ula_signal.n_samples[kk] * measurements[kk], ula_signal.n_samples[kk], p_s4_o2[kk]) for kk in\n",
    "         range(len(ula_signal.n_samples))]))\n",
    "    \n",
    "    which_correction = np.argmax([l_same, l_s2, l_s4, l_o2, l_o4, l_s2_o2, l_s4_o2, l_neg])\n",
    "    if which_correction == 1:\n",
    "        theta_est = np.pi/2.0 - theta_est\n",
    "    elif which_correction == 2:\n",
    "        theta_est = np.pi/4.0 - theta_est\n",
    "    elif which_correction == 3:\n",
    "        theta_est = theta_est/2\n",
    "    elif which_correction == 4:\n",
    "        theta_est = theta_est/4\n",
    "    elif which_correction == 5:\n",
    "        theta_est = np.pi / 2.0 - 0.5 * theta_est\n",
    "    elif which_correction == 6:\n",
    "        theta_est = np.pi / 4.0 - 0.5 * theta_est\n",
    "    # elif which_correction == 7:\n",
    "    #     theta_est = -theta_est\n",
    "\n",
    "    # print(f'FINAL ANGLE FOUND: {theta_est, theta}')\n",
    "\n",
    "    return theta_est"
   ]
  },
  {
   "cell_type": "code",
   "execution_count": 3,
   "metadata": {},
   "outputs": [
    {
     "name": "stdout",
     "output_type": "stream",
     "text": [
      "Original array: [1 1 1 1 1 1 1 1 1 1 1 1]\n",
      "\n",
      "Total variations: 40\n",
      "4*len(signs)^2: 576\n",
      "2^len(signs): 4096\n",
      "\n",
      "First few variations:\n",
      "(1, -1, -1, 1, 1, 1, 1, 1, 1, 1, 1, 1)\n",
      "(1, -1, 1, 1, 1, 1, 1, 1, 1, 1, 1, 1)\n",
      "(1, 1, -1, 1, 1, 1, 1, 1, 1, 1, 1, 1)\n",
      "(1, 1, 1, 1, 1, 1, 1, 1, 1, 1, 1, 1)\n",
      "(1, 1, -1, -1, 1, 1, 1, 1, 1, 1, 1, 1)\n",
      "(1, 1, -1, 1, 1, 1, 1, 1, 1, 1, 1, 1)\n",
      "(1, 1, 1, -1, 1, 1, 1, 1, 1, 1, 1, 1)\n",
      "(1, 1, 1, 1, 1, 1, 1, 1, 1, 1, 1, 1)\n",
      "(1, 1, 1, -1, -1, 1, 1, 1, 1, 1, 1, 1)\n",
      "(1, 1, 1, -1, 1, 1, 1, 1, 1, 1, 1, 1)\n"
     ]
    }
   ],
   "source": [
    "import numpy as np\n",
    "import itertools\n",
    "from typing import List\n",
    "\n",
    "def generate_all_sign_variations(signs_array: np.ndarray) -> np.ndarray:\n",
    "    \"\"\"\n",
    "    Generate all possible sign variations by changing signs at all possible pairs of positions.\n",
    "    \n",
    "    Parameters:\n",
    "    -----------\n",
    "    signs_array : numpy.ndarray\n",
    "        Original array of signs (typically containing 1 or -1)\n",
    "    \n",
    "    Returns:\n",
    "    --------\n",
    "    numpy.ndarray\n",
    "        Array of all possible sign variation arrays\n",
    "    \"\"\"\n",
    "    # Get all possible unique pairs of positions\n",
    "    n = len(signs_array)\n",
    "    position_pairs = list(itertools.combinations(range(n), 2))\n",
    "    \n",
    "    # Will store all variations\n",
    "    all_variations = []\n",
    "    \n",
    "    # Iterate through all possible position pairs\n",
    "    for pos1, pos2 in position_pairs:\n",
    "        # Generate variations for this pair of positions\n",
    "        pair_variations = generate_pair_variations(signs_array, pos1, pos2)\n",
    "        all_variations.extend(pair_variations)\n",
    "    \n",
    "    return all_variations\n",
    "\n",
    "def generate_adjacent_sign_variations(signs_array: np.ndarray) -> np.ndarray:\n",
    "    \"\"\"\n",
    "    Generate sign variations by sliding a two-position window across the array.\n",
    "    \n",
    "    Parameters:\n",
    "    -----------\n",
    "    signs_array : numpy.ndarray\n",
    "        Original array of signs (typically containing 1 or -1)\n",
    "    \n",
    "    Returns:\n",
    "    --------\n",
    "    numpy.ndarray\n",
    "        Array of all possible sign variation arrays\n",
    "    \"\"\"\n",
    "    # Total length of the array\n",
    "    n = len(signs_array)\n",
    "    \n",
    "    # Will store all variations\n",
    "    all_variations = []\n",
    "    \n",
    "    # Iterate through adjacent position pairs \n",
    "    # (0,1), (1,2), (2,3), ... until the second-to-last pair\n",
    "    for pos1 in range(1, n - 1):\n",
    "        pos2 = pos1 + 1\n",
    "        \n",
    "        # Generate variations for this pair of adjacent positions\n",
    "        pair_variations = generate_pair_variations(signs_array, pos1, pos2)\n",
    "        all_variations.extend(pair_variations)\n",
    "    \n",
    "    return all_variations\n",
    "\n",
    "def generate_pair_variations(signs_array: np.ndarray, pos1: int, pos2: int) -> List[np.ndarray]:\n",
    "    \"\"\"\n",
    "    Generate sign variations for a specific pair of positions.\n",
    "    \n",
    "    Parameters:\n",
    "    -----------\n",
    "    signs_array : numpy.ndarray\n",
    "        Original array of signs\n",
    "    pos1 : int\n",
    "        First position to modify\n",
    "    pos2 : int\n",
    "        Second position to modify\n",
    "    \n",
    "    Returns:\n",
    "    --------\n",
    "    List[numpy.ndarray]\n",
    "        List of sign variation arrays\n",
    "    \"\"\"\n",
    "    # Validate input positions\n",
    "    if pos1 < 0 or pos2 < 0 or pos1 >= len(signs_array) or pos2 >= len(signs_array):\n",
    "        raise ValueError(\"Positions must be within the array bounds\")\n",
    "    \n",
    "    # Generate all possible sign combinations for the two positions\n",
    "    sign_combinations = list(itertools.product([-1, 1], repeat=2))\n",
    "    \n",
    "    # Create variations\n",
    "    variations = []\n",
    "    for combo in sign_combinations:\n",
    "        # Create a copy of the original array\n",
    "        variation = signs_array.copy()\n",
    "        \n",
    "        # Modify the two specified positions\n",
    "        variation[pos1] *= combo[0]\n",
    "        variation[pos2] *= combo[1]\n",
    "        \n",
    "        variations.append(tuple(variation))\n",
    "    \n",
    "    return variations\n",
    "\n",
    "\n",
    "# Example array\n",
    "signs = np.array([1]*12)\n",
    "\n",
    "# Generate variations for all position pairs\n",
    "all_variations = generate_adjacent_sign_variations(signs)\n",
    "\n",
    "print(\"Original array:\", signs)\n",
    "print(f\"\\nTotal variations: {len(all_variations)}\")\n",
    "print(f'4*len(signs)^2: {4*len(signs)**2}')\n",
    "print(f'2^len(signs): {2**len(signs)}')\n",
    "\n",
    "print(\"\\nFirst few variations:\")\n",
    "for var in all_variations[:10]:  # Print first 10 variations\n",
    "    print(var)"
   ]
  },
  {
   "cell_type": "markdown",
   "metadata": {},
   "source": [
    "## Define the objective function to minimize"
   ]
  },
  {
   "cell_type": "code",
   "execution_count": 4,
   "metadata": {},
   "outputs": [],
   "source": [
    "def objective_function(lp, cos_signal, abs_sin, ula_signal, esprit):   \n",
    "    signal = cos_signal + 1.0j * lp * abs_sin\n",
    "    R = ula_signal.get_cov_matrix_toeplitz(signal)\n",
    "    _, _ = esprit.estimate_theta_toeplitz(R)\n",
    "    eigs = np.abs(esprit.eigs)[:2]\n",
    "    obj = eigs[1] - eigs[0]\n",
    "\n",
    "    return obj"
   ]
  },
  {
   "cell_type": "markdown",
   "metadata": {},
   "source": [
    "## What is the distribution of the signs? "
   ]
  },
  {
   "cell_type": "code",
   "execution_count": 12,
   "metadata": {},
   "outputs": [],
   "source": [
    "narray = [2,2,2,2,2,2,2,3]\n",
    "\n",
    "# avals = np.linspace(0.1, 0.9, 8)\n",
    "avals = [0.1*i for i in range(1, 10)]\n",
    "\n",
    "ula_signal = TwoqULASignal(M=narray, C=5)\n",
    "esprit = ESPIRIT()\n",
    "\n",
    "num_mc = 1000\n",
    "\n",
    "sign_distributions = {}\n",
    "\n",
    "for a in avals:\n",
    "    theta = np.arcsin(a)\n",
    "    distr = {}\n",
    "    for i in range(num_mc):\n",
    "        signal, _ = estimate_signal(ula_signal.depths, ula_signal.n_samples, theta)\n",
    "        # print(measurements)\n",
    "        signs = tuple(np.sign(np.imag(signal)))\n",
    "        # print(signs)\n",
    "\n",
    "        distr[signs] = distr.get(signs, 0.0) + 1/num_mc\n",
    "    sign_distributions[str(a)] = distr\n",
    "\n"
   ]
  },
  {
   "cell_type": "code",
   "execution_count": 13,
   "metadata": {},
   "outputs": [
    {
     "data": {
      "text/plain": [
       "(1024, 17)"
      ]
     },
     "execution_count": 13,
     "metadata": {},
     "output_type": "execute_result"
    }
   ],
   "source": [
    "2**len(ula_signal.depths), len(sign_distributions['0.1'])"
   ]
  },
  {
   "cell_type": "code",
   "execution_count": 14,
   "metadata": {},
   "outputs": [
    {
     "data": {
      "text/plain": [
       "124"
      ]
     },
     "execution_count": 14,
     "metadata": {},
     "output_type": "execute_result"
    }
   ],
   "source": [
    "all_signs = set()\n",
    "for a in avals:\n",
    "    distr = sign_distributions[str(a)]\n",
    "    for sign in distr.keys():\n",
    "        all_signs.add(sign)\n",
    "len(all_signs)"
   ]
  },
  {
   "cell_type": "code",
   "execution_count": 15,
   "metadata": {},
   "outputs": [
    {
     "data": {
      "text/plain": [
       "0.12109375"
      ]
     },
     "execution_count": 15,
     "metadata": {},
     "output_type": "execute_result"
    }
   ],
   "source": [
    "len(all_signs)/2**len(ula_signal.depths)"
   ]
  },
  {
   "cell_type": "code",
   "execution_count": 16,
   "metadata": {},
   "outputs": [],
   "source": [
    "narray = [2,2,2,2,2,3]\n",
    "\n",
    "def get_heavy_signs(narray, steps):\n",
    "\n",
    "    avals = np.linspace(0.1, 0.9, steps)\n",
    "\n",
    "    ula_signal = TwoqULASignal(M=narray, C=5)\n",
    "\n",
    "    num_mc = 1000\n",
    "\n",
    "    sign_distributions = {}\n",
    "\n",
    "    for a in avals:\n",
    "        theta = np.arcsin(a)\n",
    "        distr = {}\n",
    "        for i in range(num_mc):\n",
    "            signal, _ = estimate_signal(ula_signal.depths, ula_signal.n_samples, theta)\n",
    "                # print(measurements)\n",
    "            signs = tuple(np.sign(np.imag(signal)))\n",
    "            # print(signs)\n",
    "\n",
    "            distr[signs] = distr.get(signs, 0.0) + 1/num_mc\n",
    "        sign_distributions[str(a)] = distr\n",
    "\n",
    "    def get_signs(sign_distribution):\n",
    "        # Sort the dictionary by values in descending order\n",
    "        sorted_data = dict(sorted(sign_distribution.items(), key=lambda item: item[1], reverse=True))\n",
    "\n",
    "        # Create a new dictionary with cumulative sum close to 0.68\n",
    "        cumulative_dict = {}\n",
    "        cumulative_sum = 0.0\n",
    "\n",
    "        for key, value in sorted_data.items():\n",
    "            cumulative_dict[key] = value\n",
    "            if cumulative_sum + value > 0.68:\n",
    "                break\n",
    "            cumulative_sum += value\n",
    "\n",
    "        # Output the result\n",
    "        return cumulative_dict\n",
    "    \n",
    "    ret_dict = {}\n",
    "    for a in avals:\n",
    "        distr = get_signs(sign_distributions[str(a)])\n",
    "        ret_dict[str(a)] = distr\n",
    " \n",
    "    # Normalize the values\n",
    "    normalized_data = {}\n",
    "    for key, sub_dict in ret_dict.items():\n",
    "        total_sum = sum(sub_dict.values())\n",
    "        normalized_data[key] = {k: v / total_sum for k, v in sub_dict.items()}\n",
    "\n",
    "    return normalized_data\n",
    "\n",
    "normalized_data = get_heavy_signs(narray, 10)\n"
   ]
  },
  {
   "cell_type": "code",
   "execution_count": 17,
   "metadata": {},
   "outputs": [
    {
     "name": "stdout",
     "output_type": "stream",
     "text": [
      "Sampled keys: [(1.0, 1.0, 1.0, 1.0, -1.0, 1.0, 1.0, 1.0), (1.0, 1.0, 1.0, 1.0, -1.0, 1.0, 1.0, 1.0), (1.0, 1.0, 1.0, 1.0, -1.0, 1.0, 1.0, 1.0)]\n"
     ]
    }
   ],
   "source": [
    "import ast\n",
    "# Taking a random sample based on the normalized probabilities\n",
    "def sample_from_normalized(data, sample_size=1):\n",
    "    keys = list(map(str, list(data.keys())))\n",
    "    probabilities = list(data.values())\n",
    "    sampled_keys = np.random.choice(a=keys, size=sample_size, p=probabilities)\n",
    "    return [ast.literal_eval(t) for t in sampled_keys]\n",
    "avals = list(normalized_data.keys())\n",
    "# Get one random sample\n",
    "sampled = sample_from_normalized(normalized_data[avals[0]], sample_size=3)\n",
    "print(\"Sampled keys:\",sampled)"
   ]
  },
  {
   "cell_type": "code",
   "execution_count": 18,
   "metadata": {},
   "outputs": [
    {
     "data": {
      "text/plain": [
       "array(['pooh', 'pooh', 'pooh', 'Christopher', 'rabbit'], dtype='<U11')"
      ]
     },
     "execution_count": 18,
     "metadata": {},
     "output_type": "execute_result"
    }
   ],
   "source": [
    "aa_milne_arr = ['pooh', 'rabbit', 'piglet', 'Christopher']\n",
    "np.random.choice(aa_milne_arr, 5, p=[0.5, 0.1, 0.1, 0.3])"
   ]
  },
  {
   "cell_type": "markdown",
   "metadata": {},
   "source": [
    "## Use the distribution of signs so we don't have to try all possible signs"
   ]
  },
  {
   "cell_type": "code",
   "execution_count": 75,
   "metadata": {},
   "outputs": [
    {
     "name": "stdout",
     "output_type": "stream",
     "text": [
      "0.9\n",
      "correct signs: [ 1.  1. -1.  1.  1. -1.  1. -1. -1.]\n",
      "rough estimate a: 0.8845009654013923\n",
      "avals: [0.1, 0.15333333333333335, 0.20666666666666667, 0.26, 0.31333333333333335, 0.3666666666666667, 0.42000000000000004, 0.4733333333333334, 0.5266666666666667, 0.5800000000000001, 0.6333333333333333, 0.6866666666666666, 0.74, 0.7933333333333333, 0.8466666666666667, 0.9]\n",
      "avals to use: ['0.74', '0.7933333333333333', '0.8466666666666667', '0.9']\n",
      "number of signs Hamming distance two: 64\n",
      "current objective: -46.70756103355299\n",
      "current best signs: (1.0, -1.0, -1.0, 1.0, -1.0, -1.0, 1.0, 1.0, 1.0)\n",
      "current objective: -87.51902743281335\n",
      "current best signs: (1.0, 1.0, -1.0, 1.0, -1.0, -1.0, 1.0, 1.0, 1.0)\n",
      "current objective: -130.44095251902027\n",
      "current best signs: (1.0, -1.0, 1.0, 1.0, -1.0, -1.0, 1.0, 1.0, -1.0)\n",
      "current objective: -165.1270803775468\n",
      "current best signs: (1.0, -1.0, 1.0, 1.0, -1.0, 1.0, 1.0, 1.0, 1.0)\n",
      "current objective: -262.35457484431583\n",
      "current best signs: (1.0, -1.0, -1.0, 1.0, 1.0, -1.0, 1.0, -1.0, -1.0)\n",
      "current objective: -284.59900402933624\n",
      "current best signs: (1.0, 1.0, -1.0, 1.0, -1.0, -1.0, 1.0, -1.0, -1.0)\n",
      "current objective: -373.87637188036325\n",
      "current best signs: (1.0, 1.0, -1.0, 1.0, 1.0, -1.0, 1.0, 1.0, -1.0)\n",
      "current objective: -373.88842199681585\n",
      "current best signs: (1.0, 1.0, -1.0, 1.0, 1.0, -1.0, 1.0, -1.0, -1.0)\n",
      "[ 1.  1. -1.  1.  1. -1.  1. -1. -1.]\n",
      "basin obj: -373.88842199681574\n",
      "true obj: -373.8884219968161\n"
     ]
    },
    {
     "data": {
      "text/plain": [
       "{'theta_est': 0.45012265741876556,\n",
       " 'theta_est1': 0.4501226574187656,\n",
       " 'error': 0.0008139169977984251,\n",
       " 'error1': 0.0008139169977983696,\n",
       " 'queries': 2600,\n",
       " 'depth': 128,\n",
       " 'true_obj': -373.8884219968161,\n",
       " 'basin_obj': -373.88842199681574,\n",
       " 'x_star': array([ 1.,  1., -1.,  1.,  1., -1.,  1., -1., -1.]),\n",
       " 'avg_nfev': 0.0}"
      ]
     },
     "execution_count": 75,
     "metadata": {},
     "output_type": "execute_result"
    }
   ],
   "source": [
    "# np.random.seed(42)\n",
    "\n",
    "a = 0.9\n",
    "print(a)\n",
    "theta = np.arccos(a)\n",
    "\n",
    "narray = [2,2,2,2,2,2,2,2]\n",
    "heavy_signs = get_heavy_signs(narray, 2*len(narray))\n",
    "\n",
    "ula_signal = TwoqULASignal(M=narray, C=5)\n",
    "esprit = ESPIRIT()\n",
    "\n",
    "def csae_with_local_minimization(theta, ula_signal, esprit, heavy_signs, sample=False, correction=False, optimize=False, method='nelder-mead', maxiter=10, disp=False):\n",
    "\n",
    "    depths = ula_signal.depths\n",
    "    n_samples = ula_signal.n_samples\n",
    "    csignal, measurements = estimate_signal(depths, n_samples, theta)\n",
    "\n",
    "    cos_signal = np.real(csignal)\n",
    "\n",
    "    correct_signs = np.sign(np.imag(csignal))\n",
    "    if disp:\n",
    "        print(f'correct signs: {correct_signs}')\n",
    "    abs_sin = np.abs(np.imag(csignal))\n",
    "\n",
    "    bounds=[[-1,1] for _ in range(len(depths))]\n",
    "\n",
    "    avg_nfev = 0.0\n",
    "    obj = 1.0\n",
    "    if sample:\n",
    "        avals = list(heavy_signs.keys())\n",
    "        signs_to_try = {}\n",
    "        for a in avals:\n",
    "            signs_to_try[a] = list(set(sample_from_normalized(heavy_signs[a], sample_size=2)))\n",
    "\n",
    "        if optimize:\n",
    "            # rough estimate where the amplitude is\n",
    "            a0 = np.sqrt(0.5 + 0.5 * cos_signal[0])\n",
    "            # use rough estimate to determine which set of signs to look at\n",
    "            avals = list(map(float, avals))\n",
    "\n",
    "            # find first element in avals that is larger than a0\n",
    "            left = 0\n",
    "            right = len(avals)\n",
    "            \n",
    "            while left < right:\n",
    "                mid = (left + right) // 2\n",
    "                \n",
    "                if avals[mid] <= a0:\n",
    "                    left = mid + 1\n",
    "                else:\n",
    "                    right = mid\n",
    "            \n",
    "            if left >= 3:\n",
    "                avals_to_use = list(map(str, avals[left-3: left+3]))\n",
    "            elif left>=2:\n",
    "                avals_to_use = list(map(str, avals[left-2: left+3]))\n",
    "            elif left>=1:\n",
    "                avals_to_use = list(map(str, avals[left-1: left+3]))\n",
    "            else:\n",
    "                avals_to_use = list(map(str, avals[left: left+3]))\n",
    "\n",
    "            if disp:\n",
    "                print(f'rough estimate a: {a0}')\n",
    "                print(f'avals: {avals}')\n",
    "                print(f'avals to use: {avals_to_use}')\n",
    "\n",
    "            all_signs = []\n",
    "            for a in avals_to_use:\n",
    "                for x in signs_to_try[a]:\n",
    "                    hamming_distance_two_signs = generate_adjacent_sign_variations(np.array(x))\n",
    "                    all_signs.extend(hamming_distance_two_signs)\n",
    "            all_signs = list(set(all_signs))\n",
    "            if disp:\n",
    "                print(f'number of signs Hamming distance two: {len(all_signs)}')\n",
    "\n",
    "            for x in all_signs:\n",
    "                curr_obj = objective_function(np.array(x), cos_signal, abs_sin, ula_signal, esprit)\n",
    "                if curr_obj<obj:\n",
    "                    if disp:\n",
    "                        print(f'current objective: {curr_obj}')\n",
    "                        print(f'current best signs: {x}')\n",
    "                    obj = curr_obj\n",
    "                    x_star = np.array(x)\n",
    "\n",
    "\n",
    "        else:\n",
    "            for x in signs_to_try:\n",
    "                basin_obj = objective_function(np.array(x), cos_signal, abs_sin, ula_signal, esprit)\n",
    "                if basin_obj < obj:\n",
    "                    obj = basin_obj\n",
    "                    x_star = np.array(x)\n",
    "    else:\n",
    "        signs_to_try = []\n",
    "        for a in heavy_signs.keys():\n",
    "            signs = heavy_signs[a].keys()\n",
    "            signs_to_try += signs\n",
    "        signs_to_try = list(set(signs_to_try))\n",
    "        if disp:\n",
    "            print(f'number of signs to try: {len(signs_to_try)}')\n",
    "        for x in signs_to_try:\n",
    "            if optimize:\n",
    "                res = minimize(objective_function, x, args=(cos_signal, abs_sin, ula_signal, esprit), bounds=bounds, method=method, options={'maxiter': maxiter, 'disp': False})\n",
    "                avg_nfev += res.nfev\n",
    "                if disp:\n",
    "                    print(res.x)\n",
    "                if disp:\n",
    "                    print(f'number fev: {res.nfev}')\n",
    "                if res.fun < obj:\n",
    "                    obj = res.fun\n",
    "                    x_star = np.sign(res.x)\n",
    "            else:\n",
    "                basin_obj = objective_function(np.array(x), cos_signal, abs_sin, ula_signal, esprit)\n",
    "                if basin_obj < obj:\n",
    "                    obj = basin_obj\n",
    "                    x_star = np.array(x)\n",
    "    if disp:\n",
    "        print(x_star)\n",
    "        \n",
    "    signal = cos_signal + 1.0j * x_star * abs_sin\n",
    "    R = ula_signal.get_cov_matrix_toeplitz(signal)\n",
    "    theta_est, _ = esprit.estimate_theta_toeplitz(R)\n",
    "    eigs = np.abs(esprit.eigs)[:2]\n",
    "    basin_obj = eigs[1] - eigs[0]\n",
    "    if correction:\n",
    "        theta_est = apply_correction(ula_signal, measurements, theta_est, theta) #apply correction\n",
    "    if disp:\n",
    "        print(f'basin obj: {basin_obj}')\n",
    "\n",
    "    cR = ula_signal.get_cov_matrix_toeplitz(csignal)\n",
    "    theta_est1, _ = esprit.estimate_theta_toeplitz(cR)\n",
    "    eigs = np.abs(esprit.eigs)[:2]\n",
    "    true_obj = eigs[1] - eigs[0]\n",
    "    if disp:\n",
    "        print(f'true obj: {true_obj}')\n",
    "\n",
    "    num_queries = np.sum(np.array(ula_signal.depths)*np.array(ula_signal.n_samples)) + ula_signal.n_samples[0]\n",
    "    # Compute the maximum single query\n",
    "    max_single_query = np.max(ula_signal.depths)\n",
    "\n",
    "    ret_dict = {'theta_est': theta_est, 'theta_est1': theta_est1, \n",
    "                'error': np.abs(np.sin(theta)-np.sin(theta_est)), \n",
    "                'error1': np.abs(np.sin(theta)-np.sin(theta_est1)), \n",
    "                'queries': num_queries, 'depth': max_single_query,\n",
    "                'true_obj': true_obj, 'basin_obj': basin_obj,\n",
    "                'x_star': x_star, 'avg_nfev': avg_nfev/len(signs_to_try)}\n",
    "    \n",
    "    return ret_dict\n",
    "\n",
    "csae_with_local_minimization(theta, ula_signal, esprit, heavy_signs, sample=True, correction=True, optimize=True, disp=True)"
   ]
  },
  {
   "cell_type": "markdown",
   "metadata": {},
   "source": [
    "## Let's do some statistics now"
   ]
  },
  {
   "cell_type": "code",
   "execution_count": 20,
   "metadata": {},
   "outputs": [
    {
     "name": "stdout",
     "output_type": "stream",
     "text": [
      "theta = 0.1001674211615598\n"
     ]
    },
    {
     "name": "stderr",
     "output_type": "stream",
     "text": [
      "100%|██████████| 100/100 [00:02<00:00, 35.22it/s]\n"
     ]
    },
    {
     "name": "stdout",
     "output_type": "stream",
     "text": [
      "average nfev: 0.0\n",
      "constant factors query and depth: 359.56702856489574, 28.62225103004145\n",
      "theta = 0.2013579207903308\n"
     ]
    },
    {
     "name": "stderr",
     "output_type": "stream",
     "text": [
      "100%|██████████| 100/100 [00:02<00:00, 34.96it/s]\n"
     ]
    },
    {
     "name": "stdout",
     "output_type": "stream",
     "text": [
      "average nfev: 0.0\n",
      "constant factors query and depth: 313.1624498813814, 24.928354219413446\n",
      "theta = 0.30469265401539747\n"
     ]
    },
    {
     "name": "stderr",
     "output_type": "stream",
     "text": [
      "100%|██████████| 100/100 [00:02<00:00, 35.40it/s]\n"
     ]
    },
    {
     "name": "stdout",
     "output_type": "stream",
     "text": [
      "average nfev: 0.0\n",
      "constant factors query and depth: 230.475335804595, 18.346295387430448\n",
      "theta = 0.41151684606748806\n"
     ]
    },
    {
     "name": "stderr",
     "output_type": "stream",
     "text": [
      "100%|██████████| 100/100 [00:02<00:00, 35.93it/s]\n"
     ]
    },
    {
     "name": "stdout",
     "output_type": "stream",
     "text": [
      "average nfev: 0.0\n",
      "constant factors query and depth: 140.44855879264853, 11.17998477951431\n",
      "theta = 0.5235987755982988\n"
     ]
    },
    {
     "name": "stderr",
     "output_type": "stream",
     "text": [
      "100%|██████████| 100/100 [00:02<00:00, 35.30it/s]\n"
     ]
    },
    {
     "name": "stdout",
     "output_type": "stream",
     "text": [
      "average nfev: 0.0\n",
      "constant factors query and depth: 121.85391755913653, 9.699814333065595\n",
      "theta = 0.6435011087932844\n"
     ]
    },
    {
     "name": "stderr",
     "output_type": "stream",
     "text": [
      "100%|██████████| 100/100 [00:02<00:00, 36.66it/s]\n"
     ]
    },
    {
     "name": "stdout",
     "output_type": "stream",
     "text": [
      "average nfev: 0.0\n",
      "constant factors query and depth: 69.42342931790836, 5.52624312978375\n",
      "theta = 0.775397496610753\n"
     ]
    },
    {
     "name": "stderr",
     "output_type": "stream",
     "text": [
      "100%|██████████| 100/100 [00:02<00:00, 36.89it/s]\n"
     ]
    },
    {
     "name": "stdout",
     "output_type": "stream",
     "text": [
      "average nfev: 0.0\n",
      "constant factors query and depth: 245.46375004834394, 19.5394029889229\n",
      "theta = 0.9272952180016123\n"
     ]
    },
    {
     "name": "stderr",
     "output_type": "stream",
     "text": [
      "100%|██████████| 100/100 [00:02<00:00, 35.36it/s]\n"
     ]
    },
    {
     "name": "stdout",
     "output_type": "stream",
     "text": [
      "average nfev: 0.0\n",
      "constant factors query and depth: 42.030970171840025, 3.345748869400201\n",
      "theta = 1.1197695149986342\n"
     ]
    },
    {
     "name": "stderr",
     "output_type": "stream",
     "text": [
      "100%|██████████| 100/100 [00:02<00:00, 34.68it/s]"
     ]
    },
    {
     "name": "stdout",
     "output_type": "stream",
     "text": [
      "average nfev: 0.0\n",
      "constant factors query and depth: 2.0137509499497646, 0.16029858308057826\n"
     ]
    },
    {
     "name": "stderr",
     "output_type": "stream",
     "text": [
      "\n"
     ]
    }
   ],
   "source": [
    "np.random.seed(42)\n",
    "\n",
    "avals = [0.1, 0.2, 0.3, 0.4, 0.5, 0.6, 0.7, 0.8, 0.9]\n",
    "# avals = [0.2]\n",
    "# avals = [0.5, 0.6, 0.7, 0.8, 0.9]\n",
    "narray = [2]*6\n",
    "heavy_signs = get_heavy_signs(narray, len(narray))\n",
    "num_queries = np.zeros(len(avals), dtype=int)\n",
    "max_single_query = np.zeros(len(avals), dtype=int)\n",
    "\n",
    "num_mc=100\n",
    "thetas = np.zeros((len(avals), num_mc))\n",
    "errors = np.zeros((len(avals), num_mc))\n",
    "thetas1 = np.zeros((len(avals), num_mc))\n",
    "errors1 = np.zeros((len(avals), num_mc))\n",
    "\n",
    "basin_obj = np.zeros((len(avals), num_mc))\n",
    "true_obj = np.zeros((len(avals), num_mc))\n",
    "\n",
    "ula_signal = TwoqULASignal(M=narray, C=3)\n",
    "esprit = ESPIRIT()\n",
    "\n",
    "for j,a in enumerate(avals):\n",
    "    theta = np.arcsin(a)\n",
    "    print(f'theta = {theta}')\n",
    "    for i in tqdm(range(num_mc)):\n",
    "        res = csae_with_local_minimization(theta, ula_signal, esprit, heavy_signs, sample=False, optimize=False, disp=False)\n",
    "        thetas[j][i] = res['theta_est']\n",
    "        errors[j][i] = res['error']\n",
    "\n",
    "        thetas1[j][i] = res['theta_est1']\n",
    "        errors1[j][i] = res['error1']\n",
    "\n",
    "        basin_obj[j][i] = res['basin_obj']\n",
    "        true_obj[j][i] = res['true_obj']\n",
    "    num_queries[j] = res['queries']\n",
    "    max_single_query[j] = res['depth']\n",
    "    avg_nfev = res['avg_nfev']\n",
    "    \n",
    "    print(f'average nfev: {avg_nfev}')\n",
    "\n",
    "    print(f'constant factors query and depth: {np.percentile(errors[j], 95) * num_queries[j]}, {np.percentile(errors[j], 95) * max_single_query[j]}')\n",
    "\n",
    "\n"
   ]
  },
  {
   "cell_type": "code",
   "execution_count": 21,
   "metadata": {},
   "outputs": [
    {
     "data": {
      "text/plain": [
       "(array([0.86466878, 0.92203677, 1.43514318, 0.74914088, 0.80513099,\n",
       "        1.17173609, 1.00854589, 1.08820042, 1.24863459, 1.41155735,\n",
       "        1.09163622, 0.99051616, 0.97313793, 1.20272384, 1.4826406 ,\n",
       "        1.0784456 , 2.60465948, 1.24500867, 1.12362081, 1.10509897,\n",
       "        1.01923463, 1.05584381, 1.12431391, 0.89759333, 2.48267314,\n",
       "        1.05733855, 1.36605721, 1.22832311, 0.94459644, 0.91096599,\n",
       "        1.12084889, 0.64088204, 1.32859372, 0.90285891, 1.10411302,\n",
       "        1.35947613, 0.91808047, 0.94892788, 1.38528649, 1.27097455,\n",
       "        1.14698224, 1.01393638, 1.51062667, 0.96299043, 0.87625116,\n",
       "        1.13065631, 1.16023398, 1.13350927, 0.97442367, 0.93424272,\n",
       "        1.14796328, 1.70720683, 1.0997591 , 1.1078289 , 1.36765618,\n",
       "        1.14898905, 1.1663119 , 1.03029201, 1.39274032, 0.97091125,\n",
       "        1.15029147, 1.14186898, 1.17005952, 1.11067512, 1.00502682,\n",
       "        0.99667382, 0.8937064 , 0.97827547, 1.42693643, 1.01089424,\n",
       "        1.08633675, 1.45292614, 1.2294687 , 1.18393144, 0.90516197,\n",
       "        0.58625893, 1.6443568 , 1.46757362, 0.92852108, 1.30228518,\n",
       "        1.41559805, 1.01219808, 1.0992895 , 1.34255069, 1.16691003,\n",
       "        1.26287238, 0.93003697, 1.17182557, 1.22821167, 1.05026517,\n",
       "        1.39097695, 1.10573113, 1.0539396 , 1.1569403 , 0.63081543,\n",
       "        1.34769944, 1.22725661, 1.00633322, 0.90208601, 1.13888097]),\n",
       " 0.15)"
      ]
     },
     "execution_count": 21,
     "metadata": {},
     "output_type": "execute_result"
    }
   ],
   "source": [
    "np.array(basin_obj[0])/np.array(true_obj[2]), np.sum(np.where(np.array(basin_obj[2])/np.array(true_obj[2]) >= 0.99, 1, 0))/len(basin_obj[2])"
   ]
  },
  {
   "cell_type": "code",
   "execution_count": 22,
   "metadata": {},
   "outputs": [
    {
     "name": "stdout",
     "output_type": "stream",
     "text": [
      "0.99\n",
      "0.11\n",
      "0.15\n",
      "0.01\n",
      "0.0\n",
      "0.02\n",
      "0.04\n",
      "0.04\n",
      "1.0\n"
     ]
    }
   ],
   "source": [
    "for i in range(len(avals)):\n",
    "    print(np.sum(np.where(np.array(basin_obj[i])/np.array(true_obj[i]) >= 0.99, 1, 0))/len(basin_obj[i]))"
   ]
  },
  {
   "cell_type": "code",
   "execution_count": 76,
   "metadata": {},
   "outputs": [
    {
     "name": "stdout",
     "output_type": "stream",
     "text": [
      "theta = 1.4706289056333368\n"
     ]
    },
    {
     "name": "stderr",
     "output_type": "stream",
     "text": [
      "100%|██████████| 100/100 [00:08<00:00, 11.74it/s]\n"
     ]
    },
    {
     "name": "stdout",
     "output_type": "stream",
     "text": [
      "average nfev: 0.0\n",
      "constant factors query and depth: 0.7129912350817033, 0.03405331272032015\n",
      "theta = 1.3694384060045657\n"
     ]
    },
    {
     "name": "stderr",
     "output_type": "stream",
     "text": [
      "100%|██████████| 100/100 [00:09<00:00, 10.15it/s]\n"
     ]
    },
    {
     "name": "stdout",
     "output_type": "stream",
     "text": [
      "average nfev: 0.0\n",
      "constant factors query and depth: 2.7692479159892307, 0.13226258703232147\n",
      "theta = 1.266103672779499\n"
     ]
    },
    {
     "name": "stderr",
     "output_type": "stream",
     "text": [
      "100%|██████████| 100/100 [00:11<00:00,  8.97it/s]\n"
     ]
    },
    {
     "name": "stdout",
     "output_type": "stream",
     "text": [
      "average nfev: 0.0\n",
      "constant factors query and depth: 1.4211819808158932, 0.0678773483374755\n",
      "theta = 1.1592794807274085\n"
     ]
    },
    {
     "name": "stderr",
     "output_type": "stream",
     "text": [
      "100%|██████████| 100/100 [00:12<00:00,  8.24it/s]\n"
     ]
    },
    {
     "name": "stdout",
     "output_type": "stream",
     "text": [
      "average nfev: 0.0\n",
      "constant factors query and depth: 1.5722343953692783, 0.07509179201763717\n",
      "theta = 1.0471975511965976\n"
     ]
    },
    {
     "name": "stderr",
     "output_type": "stream",
     "text": [
      "100%|██████████| 100/100 [00:11<00:00,  8.36it/s]\n"
     ]
    },
    {
     "name": "stdout",
     "output_type": "stream",
     "text": [
      "average nfev: 0.0\n",
      "constant factors query and depth: 2.783857000789985, 0.13296033436608884\n",
      "theta = 0.9272952180016123\n"
     ]
    },
    {
     "name": "stderr",
     "output_type": "stream",
     "text": [
      "100%|██████████| 100/100 [00:12<00:00,  8.23it/s]\n"
     ]
    },
    {
     "name": "stdout",
     "output_type": "stream",
     "text": [
      "average nfev: 0.0\n",
      "constant factors query and depth: 2.7231507228393443, 0.13006093004605823\n",
      "theta = 0.7953988301841436\n"
     ]
    },
    {
     "name": "stderr",
     "output_type": "stream",
     "text": [
      "100%|██████████| 100/100 [00:11<00:00,  8.46it/s]\n"
     ]
    },
    {
     "name": "stdout",
     "output_type": "stream",
     "text": [
      "average nfev: 0.0\n",
      "constant factors query and depth: 3.836421166689683, 0.18323205572249232\n",
      "theta = 0.6435011087932843\n"
     ]
    },
    {
     "name": "stderr",
     "output_type": "stream",
     "text": [
      "100%|██████████| 100/100 [00:10<00:00,  9.21it/s]\n"
     ]
    },
    {
     "name": "stdout",
     "output_type": "stream",
     "text": [
      "average nfev: 0.0\n",
      "constant factors query and depth: 3.2933203564940863, 0.1572929125489713\n",
      "theta = 0.45102681179626236\n"
     ]
    },
    {
     "name": "stderr",
     "output_type": "stream",
     "text": [
      "100%|██████████| 100/100 [00:09<00:00, 10.98it/s]"
     ]
    },
    {
     "name": "stdout",
     "output_type": "stream",
     "text": [
      "average nfev: 0.0\n",
      "constant factors query and depth: 10.023773710824187, 0.47874740111399106\n"
     ]
    },
    {
     "name": "stderr",
     "output_type": "stream",
     "text": [
      "\n"
     ]
    }
   ],
   "source": [
    "np.random.seed(42)\n",
    "\n",
    "avals = [0.1, 0.2, 0.3, 0.4, 0.5, 0.6, 0.7, 0.8, 0.9]\n",
    "# avals = [np.random.uniform(0.1, 0.9)]\n",
    "# avals = [0.5, 0.6, 0.7, 0.8, 0.9]\n",
    "narray = [2]*6\n",
    "heavy_signs = get_heavy_signs(narray, 2*len(narray))\n",
    "num_queries = np.zeros(len(avals), dtype=int)\n",
    "max_single_query = np.zeros(len(avals), dtype=int)\n",
    "\n",
    "num_mc=100\n",
    "thetas = np.zeros((len(avals), num_mc))\n",
    "errors = np.zeros((len(avals), num_mc))\n",
    "thetas1 = np.zeros((len(avals), num_mc))\n",
    "errors1 = np.zeros((len(avals), num_mc))\n",
    "\n",
    "basin_obj = np.zeros((len(avals), num_mc))\n",
    "true_obj = np.zeros((len(avals), num_mc))\n",
    "\n",
    "ula_signal = TwoqULASignal(M=narray, C=5)\n",
    "esprit = ESPIRIT()\n",
    "\n",
    "for j,a in enumerate(avals):\n",
    "    theta = np.arccos(a)\n",
    "    print(f'theta = {theta}')\n",
    "    for i in tqdm(range(num_mc)):\n",
    "        res = csae_with_local_minimization(theta, ula_signal, esprit, heavy_signs, sample=True, correction=True, optimize=True, disp=False)\n",
    "        thetas[j][i] = res['theta_est']\n",
    "        errors[j][i] = res['error']\n",
    "\n",
    "        thetas1[j][i] = res['theta_est1']\n",
    "        errors1[j][i] = res['error1']\n",
    "\n",
    "        basin_obj[j][i] = res['basin_obj']\n",
    "        true_obj[j][i] = res['true_obj']\n",
    "    num_queries[j] = res['queries']\n",
    "    max_single_query[j] = res['depth']\n",
    "    avg_nfev = res['avg_nfev']\n",
    "    \n",
    "    print(f'average nfev: {avg_nfev}')\n",
    "\n",
    "    print(f'constant factors query and depth: {np.percentile(errors[j], 95) * num_queries[j]}, {np.percentile(errors[j], 95) * max_single_query[j]}')"
   ]
  },
  {
   "cell_type": "code",
   "execution_count": 77,
   "metadata": {},
   "outputs": [
    {
     "data": {
      "text/plain": [
       "(array([1.        , 1.10314115, 1.13779073, 1.        , 1.01134321,\n",
       "        1.        , 1.130432  , 1.        , 1.        , 1.03232667,\n",
       "        1.        , 1.0167907 , 1.67681783, 1.        , 1.77114453,\n",
       "        1.16931639, 1.        , 1.03344381, 1.        , 1.        ,\n",
       "        1.00890876, 1.08423953, 1.08998822, 1.        , 1.10040985,\n",
       "        1.37195127, 1.06780749, 1.07448172, 1.10733573, 1.        ,\n",
       "        1.        , 1.02312906, 1.        , 1.1380952 , 1.        ,\n",
       "        1.        , 1.        , 1.02173083, 1.08313034, 1.02759955,\n",
       "        1.07091721, 1.0627728 , 1.        , 1.1349618 , 1.03475596,\n",
       "        1.        , 1.06733204, 1.        , 1.        , 1.        ,\n",
       "        1.        , 1.12636008, 1.1820873 , 1.        , 1.05178551,\n",
       "        1.        , 1.2333474 , 1.15302661, 1.        , 1.        ,\n",
       "        1.        , 1.0765917 , 1.03380515, 1.14945123, 1.17126228,\n",
       "        1.46150858, 1.11291827, 1.01473066, 1.        , 1.05029699,\n",
       "        1.        , 1.20720004, 1.        , 1.        , 1.02762323,\n",
       "        1.30832939, 1.        , 1.19436062, 1.        , 1.        ,\n",
       "        1.        , 1.11999374, 1.        , 1.13731674, 1.        ,\n",
       "        1.        , 1.10597751, 1.        , 1.        , 1.04938431,\n",
       "        1.03937643, 1.04518249, 1.        , 1.09979413, 1.07304466,\n",
       "        1.12031575, 1.        , 1.04691836, 1.02956801, 1.00889624]),\n",
       " 1.0)"
      ]
     },
     "execution_count": 77,
     "metadata": {},
     "output_type": "execute_result"
    }
   ],
   "source": [
    "np.array(basin_obj[0])/np.array(true_obj[0]), np.sum(np.where(np.array(basin_obj[0])/np.array(true_obj[0]) >= 0.99, 1, 0))/len(basin_obj[0])"
   ]
  },
  {
   "cell_type": "code",
   "execution_count": 78,
   "metadata": {},
   "outputs": [
    {
     "name": "stdout",
     "output_type": "stream",
     "text": [
      "1.0\n",
      "1.0\n",
      "1.0\n",
      "1.0\n",
      "1.0\n",
      "0.92\n",
      "1.0\n",
      "0.91\n",
      "1.0\n"
     ]
    }
   ],
   "source": [
    "for i in range(len(avals)):\n",
    "    print(np.sum(np.where(np.array(basin_obj[i])/np.array(true_obj[i]) >= 0.99, 1, 0))/len(basin_obj[i]))"
   ]
  },
  {
   "cell_type": "code",
   "execution_count": 79,
   "metadata": {},
   "outputs": [
    {
     "name": "stdout",
     "output_type": "stream",
     "text": [
      "constant factors query and depth (68%): 0.2544813383491588, 0.012154332577870273\n",
      "constant factors query and depth (68%): 0.38780094277229454, 0.018521836072706604\n",
      "constant factors query and depth (68%): 0.6911269588903318, 0.03300904878282182\n",
      "constant factors query and depth (68%): 0.9208922506828464, 0.04398291346544938\n",
      "constant factors query and depth (68%): 1.0963233896631956, 0.05236171413316755\n",
      "constant factors query and depth (68%): 1.2728840292935073, 0.06079446110058542\n",
      "constant factors query and depth (68%): 2.0534362387714906, 0.09807456662789209\n",
      "constant factors query and depth (68%): 1.7619830423409157, 0.0841544139625512\n",
      "constant factors query and depth (68%): 1.6203438700587358, 0.07738955797295455\n"
     ]
    }
   ],
   "source": [
    "for i in range(len(avals)):\n",
    "    print(f'constant factors query and depth (68%): {np.percentile(errors[i], 68) * num_queries[i]}, {np.percentile(errors[i], 68) * max_single_query[i]}')"
   ]
  },
  {
   "cell_type": "code",
   "execution_count": null,
   "metadata": {},
   "outputs": [
    {
     "data": {
      "text/plain": [
       "[14, 44, 58, 92, 219, 173]"
      ]
     },
     "execution_count": 116,
     "metadata": {},
     "output_type": "execute_result"
    }
   ],
   "source": [
    "Q = 7\n",
    "lengths = []\n",
    "for q in range(2, Q + 1):\n",
    "    narray = [2]*(2*q)\n",
    "    heavy_signs = get_heavy_signs(narray, 4*len(narray))\n",
    "    signs_to_try = []\n",
    "    for a in heavy_signs.keys():\n",
    "        signs = heavy_signs[a].keys()\n",
    "        signs_to_try += signs\n",
    "    signs_to_try = list(set(signs_to_try))\n",
    "    lengths.append(len(signs_to_try))\n",
    "\n",
    "lengths"
   ]
  },
  {
   "cell_type": "code",
   "execution_count": null,
   "metadata": {},
   "outputs": [],
   "source": []
  }
 ],
 "metadata": {
  "kernelspec": {
   "display_name": ".venv",
   "language": "python",
   "name": "python3"
  },
  "language_info": {
   "codemirror_mode": {
    "name": "ipython",
    "version": 3
   },
   "file_extension": ".py",
   "mimetype": "text/x-python",
   "name": "python",
   "nbconvert_exporter": "python",
   "pygments_lexer": "ipython3",
   "version": "3.10.9"
  }
 },
 "nbformat": 4,
 "nbformat_minor": 2
}
