{
 "cells": [
  {
   "cell_type": "code",
   "execution_count": 1,
   "metadata": {},
   "outputs": [
    {
     "data": {
      "text/plain": [
       "<Figure size 640x480 with 0 Axes>"
      ]
     },
     "metadata": {},
     "output_type": "display_data"
    }
   ],
   "source": [
    "import numpy as np\n",
    "import matplotlib.pyplot as plt\n",
    "import seaborn as sns\n",
    "from signals import *\n",
    "from frequencyestimator import *\n",
    "from scipy.optimize import basinhopping, minimize\n",
    "from tqdm.auto import tqdm\n",
    "\n",
    "sns.set_style(\"whitegrid\")\n",
    "sns.despine(left=True, bottom=True)\n",
    "sns.set_context(\"poster\", font_scale = .45, rc={\"grid.linewidth\": 0.8})"
   ]
  },
  {
   "cell_type": "code",
   "execution_count": 8,
   "metadata": {},
   "outputs": [],
   "source": [
    "P0 = lambda n, theta: np.cos((2*n+1)*theta)**2\n",
    "P1 = lambda n, theta: np.sin((2*n+1)*theta)**2\n",
    "\n",
    "def estimate_signal(depths, n_samples, theta):\n",
    "        signals = np.zeros(len(depths), dtype = np.complex128)\n",
    "        measurements = np.zeros(len(depths))\n",
    "        for i,n in enumerate(depths):\n",
    "            # Get the exact measuremnt probabilities\n",
    "            p0 = P0(n, theta)\n",
    "            p1 = P1(n, theta)\n",
    "\n",
    "            p0x = P0x(n,theta)\n",
    "            p1x = P1x(n,theta)\n",
    "            \n",
    "            p0_estimate = np.random.binomial(n_samples[i], p0)/n_samples[i]\n",
    "            p1_estimate = 1 - p0_estimate\n",
    "\n",
    "            p0x_estimate = np.random.binomial(n_samples[i], p0x)/n_samples[i]\n",
    "            p1x_estimate = 1.0 - p0x_estimate\n",
    "            measurements[i] = p0_estimate\n",
    "            \n",
    "            # Estimate theta\n",
    "            theta_estimated = np.arctan2(p0x_estimate - p1x_estimate, p0_estimate - p1_estimate)\n",
    "\n",
    "            # Compute f(n) - Eq. 3\n",
    "            fi_estimate = np.exp(1.0j*theta_estimated)\n",
    "            signals[i] = fi_estimate\n",
    "         \n",
    "        return signals, measurements\n",
    "\n",
    "from scipy.stats import binom\n",
    "\n",
    "def apply_correction(ula_signal, measurements, theta_est, theta):\n",
    "    theta_est = np.abs(theta_est)\n",
    "    p_exact = np.cos((2*ula_signal.depths+1)*(theta))**2\n",
    "    p_neg = np.cos((2*ula_signal.depths+1)*(-theta))**2\n",
    "    p_o2 = np.cos((2 * ula_signal.depths + 1) * (theta_est/2.0)) ** 2\n",
    "    p_o4 = np.cos((2 * ula_signal.depths + 1) * (theta_est/4.0)) ** 2\n",
    "    p_same = np.cos((2*ula_signal.depths+1)*(theta_est))**2\n",
    "    p_s2 = np.cos((2 * ula_signal.depths + 1) * (np.pi/2-theta_est)) ** 2\n",
    "    p_s4 = np.cos((2 * ula_signal.depths + 1) * (np.pi / 4 - theta_est)) ** 2\n",
    "    p_s2_o2 = np.cos((2 * ula_signal.depths + 1) * (np.pi / 2 - theta_est/2)) ** 2\n",
    "    p_s4_o2 = np.cos((2 * ula_signal.depths + 1) * (np.pi / 4 - theta_est/2)) ** 2\n",
    "\n",
    "    l_exact = np.sum(\n",
    "        np.log([1e-75 + binom.pmf(ula_signal.n_samples[kk] * measurements[kk], ula_signal.n_samples[kk],\n",
    "                                  p_exact[kk]) for kk in\n",
    "                range(len(ula_signal.n_samples))]))\n",
    "    l_neg = np.sum(\n",
    "        np.log([1e-75 + binom.pmf(ula_signal.n_samples[kk] * measurements[kk], ula_signal.n_samples[kk],\n",
    "                                  p_neg[kk]) for kk in\n",
    "                range(len(ula_signal.n_samples))]))\n",
    "    l_o2 = np.sum(\n",
    "        np.log([1e-75+binom.pmf(ula_signal.n_samples[kk]*measurements[kk], ula_signal.n_samples[kk], p_o2[kk]) for kk in\n",
    "         range(len(ula_signal.n_samples))]))\n",
    "    l_o4 = np.sum(\n",
    "        np.log([1e-75+binom.pmf(ula_signal.n_samples[kk] * measurements[kk], ula_signal.n_samples[kk], p_o4[kk]) for kk in\n",
    "         range(len(ula_signal.n_samples))]))\n",
    "    l_same = np.sum(\n",
    "        np.log([1e-75+binom.pmf(ula_signal.n_samples[kk] * measurements[kk], ula_signal.n_samples[kk], p_same[kk]) for kk in\n",
    "         range(len(ula_signal.n_samples))]))\n",
    "    l_s2 = np.sum(\n",
    "        np.log([1e-75+binom.pmf(ula_signal.n_samples[kk] * measurements[kk], ula_signal.n_samples[kk], p_s2[kk]) for kk in\n",
    "         range(len(ula_signal.n_samples))]))\n",
    "    l_s4 = np.sum(\n",
    "        np.log([1e-75+binom.pmf(ula_signal.n_samples[kk] * measurements[kk], ula_signal.n_samples[kk], p_s4[kk]) for kk in\n",
    "         range(len(ula_signal.n_samples))]))\n",
    "    l_s2_o2 = np.sum(\n",
    "        np.log([1e-75+binom.pmf(ula_signal.n_samples[kk] * measurements[kk], ula_signal.n_samples[kk], p_s2_o2[kk]) for kk in\n",
    "         range(len(ula_signal.n_samples))]))\n",
    "    l_s4_o2 = np.sum(\n",
    "        np.log([1e-75+binom.pmf(ula_signal.n_samples[kk] * measurements[kk], ula_signal.n_samples[kk], p_s4_o2[kk]) for kk in\n",
    "         range(len(ula_signal.n_samples))]))\n",
    "    \n",
    "    which_correction = np.argmax([l_same, l_s2, l_s4, l_o2, l_o4, l_s2_o2, l_s4_o2])\n",
    "    if which_correction == 1:\n",
    "        theta_est = np.pi/2.0 - theta_est\n",
    "    elif which_correction == 2:\n",
    "        theta_est = np.pi/4.0 - theta_est\n",
    "    elif which_correction == 3:\n",
    "        theta_est = theta_est/2\n",
    "    elif which_correction == 4:\n",
    "        theta_est = theta_est/4\n",
    "    elif which_correction == 5:\n",
    "        theta_est = np.pi / 2.0 - 0.5 * theta_est\n",
    "    elif which_correction == 6:\n",
    "        theta_est = np.pi / 4.0 - 0.5 * theta_est\n",
    "    # elif which_correction == 7:\n",
    "    #     theta_est = -theta_est\n",
    "\n",
    "    # print(f'FINAL ANGLE FOUND: {theta_est, theta}')\n",
    "\n",
    "    return np.abs(theta_est)"
   ]
  },
  {
   "cell_type": "code",
   "execution_count": 9,
   "metadata": {},
   "outputs": [
    {
     "name": "stdout",
     "output_type": "stream",
     "text": [
      "\n",
      "First few variations:\n",
      "(1, -1, -1, -1)\n",
      "(1, -1, -1, 1)\n",
      "(1, -1, 1, -1)\n",
      "(1, -1, 1, 1)\n",
      "(1, 1, -1, -1)\n",
      "(1, 1, -1, 1)\n",
      "(1, 1, 1, -1)\n",
      "(1, 1, 1, 1)\n"
     ]
    }
   ],
   "source": [
    "import numpy as np\n",
    "import itertools\n",
    "from typing import List\n",
    "\n",
    "def generate_all_sign_variations(signs_array: np.ndarray) -> np.ndarray:\n",
    "    \"\"\"\n",
    "    Generate all possible sign variations by changing signs at all possible pairs of positions.\n",
    "    \n",
    "    Parameters:\n",
    "    -----------\n",
    "    signs_array : numpy.ndarray\n",
    "        Original array of signs (typically containing 1 or -1)\n",
    "    \n",
    "    Returns:\n",
    "    --------\n",
    "    numpy.ndarray\n",
    "        Array of all possible sign variation arrays\n",
    "    \"\"\"\n",
    "    # Get all possible unique pairs of positions\n",
    "    n = len(signs_array)\n",
    "    position_pairs = list(itertools.combinations(range(n), 2))\n",
    "    \n",
    "    # Will store all variations\n",
    "    all_variations = []\n",
    "    \n",
    "    # Iterate through all possible position pairs\n",
    "    for pos1, pos2 in position_pairs:\n",
    "        # Generate variations for this pair of positions\n",
    "        pair_variations = generate_pair_variations(signs_array, pos1, pos2)\n",
    "        all_variations.extend(pair_variations)\n",
    "    \n",
    "    return all_variations\n",
    "\n",
    "def generate_adjacent_sign_variations(signs_array: np.ndarray, size: int) -> np.ndarray:\n",
    "    \"\"\"\n",
    "    Generate sign variations by sliding a two-position window across the array.\n",
    "    \n",
    "    Parameters:\n",
    "    -----------\n",
    "    signs_array : numpy.ndarray\n",
    "        Original array of signs (typically containing 1 or -1)\n",
    "    \n",
    "    Returns:\n",
    "    --------\n",
    "    numpy.ndarray\n",
    "        Array of all possible sign variation arrays\n",
    "    \"\"\"\n",
    "    # Total length of the array\n",
    "    n = len(signs_array)\n",
    "    \n",
    "    # Will store all variations\n",
    "    all_variations = []\n",
    "    \n",
    "    # Iterate through adjacent position pairs \n",
    "    # (0,1), (1,2), (2,3), ... until the second-to-last pair\n",
    "    for pos1 in range(1, n - size + 1):\n",
    "        pos = [pos1 + i for i in range(size)]\n",
    "        \n",
    "        # Generate variations for this pair of adjacent positions\n",
    "        pair_variations = generate_pair_variations(signs_array, pos)\n",
    " \n",
    "        all_variations.extend(pair_variations)\n",
    "    \n",
    "    return all_variations\n",
    "\n",
    "def generate_pair_variations(signs_array: np.ndarray, pos: List[int]) -> List[np.ndarray]:\n",
    "    \"\"\"\n",
    "    Generate sign variations for a specific pair of positions.\n",
    "    \n",
    "    Parameters:\n",
    "    -----------\n",
    "    signs_array : numpy.ndarray\n",
    "        Original array of signs\n",
    "    pos1 : int\n",
    "        First position to modify\n",
    "    pos2 : int\n",
    "        Second position to modify\n",
    "    \n",
    "    Returns:\n",
    "    --------\n",
    "    List[numpy.ndarray]\n",
    "        List of sign variation arrays\n",
    "    \"\"\"\n",
    "    # Validate input positions\n",
    "    # if pos1 < 0 or pos2 < 0 or pos1 >= len(signs_array) or pos2 >= len(signs_array):\n",
    "    #     raise ValueError(\"Positions must be within the array bounds\")\n",
    "    \n",
    "    # Generate all possible sign combinations for the two positions\n",
    "    sign_combinations = list(itertools.product([-1, 1], repeat=len(pos)))\n",
    "    \n",
    "    # Create variations\n",
    "    variations = []\n",
    "    for combo in sign_combinations:\n",
    "        # Create a copy of the original array\n",
    "        variation = signs_array.copy()\n",
    "        \n",
    "        # Modify the two specified positions\n",
    "        for i in range(len(combo)):\n",
    "            variation[pos[i]] *= combo[i]\n",
    "        \n",
    "        variations.append(tuple(variation))\n",
    "    \n",
    "    return variations\n",
    "\n",
    "\n",
    "# Example array\n",
    "signs = np.array([1]*4)\n",
    "\n",
    "# Generate variations for all position pairs\n",
    "all_variations = generate_adjacent_sign_variations(signs, 3)\n",
    "\n",
    "# print(\"Original array:\", signs)\n",
    "# print(f\"\\nTotal variations: {len(all_variations)}\")\n",
    "# print(f'4*len(signs)^2: {4*len(signs)**2}')\n",
    "# print(f'2^len(signs): {2**len(signs)}')\n",
    "\n",
    "print(\"\\nFirst few variations:\")\n",
    "for var in all_variations:  # Print first 10 variations\n",
    "    print(var)"
   ]
  },
  {
   "cell_type": "markdown",
   "metadata": {},
   "source": [
    "## Define the objective function to minimize"
   ]
  },
  {
   "cell_type": "code",
   "execution_count": 10,
   "metadata": {},
   "outputs": [],
   "source": [
    "def objective_function_eig(lp, cos_signal, abs_sin, ula_signal, esprit):   \n",
    "    signal = cos_signal + 1.0j * lp * abs_sin\n",
    "    R = ula_signal.get_cov_matrix_toeplitz(signal)\n",
    "    _, _ = esprit.estimate_theta_toeplitz(R)\n",
    "    eigs = np.abs(esprit.eigs)[:2]\n",
    "    obj = eigs[1] - eigs[0]\n",
    "\n",
    "    return obj\n",
    "\n",
    "def objective_function(lp, cos_signal, abs_sin, ula_signal, esprit):\n",
    "    signal = cos_signal + 1.0j * lp * abs_sin\n",
    "    R = ula_signal.get_cov_matrix_toeplitz(signal)\n",
    "    theta_est, _ = esprit.estimate_theta_toeplitz(R)\n",
    "\n",
    "    theta_est = apply_correction(ula_signal, ula_signal.measurements, theta_est, theta_est)\n",
    "\n",
    "    # print(f'2*theta_est: {2*theta_est}')\n",
    "    p_same = np.cos((2 * ula_signal.depths + 1) * (theta_est)) ** 2\n",
    "\n",
    "    obj = -np.sum(\n",
    "        np.log(\n",
    "            [1e-75 + binom.pmf(ula_signal.n_samples[kk] * ula_signal.measurements[kk], ula_signal.n_samples[kk], p_same[kk]) for kk\n",
    "             in\n",
    "             range(len(ula_signal.n_samples))]))\n",
    "\n",
    "\n",
    "    # eigs = np.abs(esprit.eigs)[:2]\n",
    "    # obj = eigs[1] - eigs[0]\n",
    "\n",
    "    return obj"
   ]
  },
  {
   "cell_type": "markdown",
   "metadata": {},
   "source": [
    "## What is the distribution of the signs? "
   ]
  },
  {
   "cell_type": "code",
   "execution_count": 11,
   "metadata": {},
   "outputs": [],
   "source": [
    "narray = [2,2,2,2,2,3]\n",
    "\n",
    "def get_heavy_signs(narray, steps):\n",
    "\n",
    "    thetas = np.linspace(np.arcsin(0.09), np.arcsin(0.91), steps)\n",
    "    avals = np.sin(thetas)\n",
    "\n",
    "    ula_signal = TwoqULASignal(M=narray, C=3)\n",
    "\n",
    "    num_mc = 1000\n",
    "\n",
    "    sign_distributions = {}\n",
    "\n",
    "    for a,theta in zip(avals,thetas):\n",
    "        # theta = np.arcsin(a)\n",
    "        distr = {}\n",
    "        for i in range(num_mc):\n",
    "            signal, _ = estimate_signal(ula_signal.depths, ula_signal.n_samples, theta)\n",
    "                # print(measurements)\n",
    "            signs = tuple(np.sign(np.imag(signal)))\n",
    "            # print(signs)\n",
    "\n",
    "            distr[signs] = distr.get(signs, 0.0) + 1/num_mc\n",
    "        sign_distributions[str(a)] = distr\n",
    "\n",
    "    def get_signs(sign_distribution):\n",
    "        # Sort the dictionary by values in descending order\n",
    "        sorted_data = dict(sorted(sign_distribution.items(), key=lambda item: item[1], reverse=True))\n",
    "\n",
    "        # Create a new dictionary with cumulative sum close to 0.68\n",
    "        cumulative_dict = {}\n",
    "        cumulative_sum = 0.0\n",
    "\n",
    "        for key, value in sorted_data.items():\n",
    "            cumulative_dict[key] = value\n",
    "            if cumulative_sum + value > 0.9:\n",
    "                break\n",
    "            cumulative_sum += value\n",
    "\n",
    "        # Output the result\n",
    "        return cumulative_dict\n",
    "    \n",
    "    ret_dict = {}\n",
    "    for a in avals:\n",
    "        distr = get_signs(sign_distributions[str(a)])\n",
    "        ret_dict[str(a)] = distr\n",
    " \n",
    "    # Normalize the values\n",
    "    normalized_data = {}\n",
    "    for key, sub_dict in ret_dict.items():\n",
    "        total_sum = sum(sub_dict.values())\n",
    "        normalized_data[key] = {k: v / total_sum for k, v in sub_dict.items()}\n",
    "\n",
    "    return normalized_data\n",
    "\n",
    "normalized_data = get_heavy_signs(narray, 10)\n",
    "\n",
    "# normalized_data"
   ]
  },
  {
   "cell_type": "code",
   "execution_count": 12,
   "metadata": {},
   "outputs": [],
   "source": [
    "import ast\n",
    "# Taking a random sample based on the normalized probabilities\n",
    "def sample_from_normalized(data, sample_size=1):\n",
    "    keys = list(map(str, list(data.keys())))\n",
    "    probabilities = list(data.values())\n",
    "    sampled_keys = np.random.choice(a=keys, size=sample_size, p=probabilities)\n",
    "    return [ast.literal_eval(t) for t in sampled_keys]\n",
    "avals = list(normalized_data.keys())\n",
    "# Get one random sample\n",
    "sampled = sample_from_normalized(normalized_data[avals[0]], sample_size=3)\n",
    "# print(\"Sampled keys:\",sampled)"
   ]
  },
  {
   "cell_type": "markdown",
   "metadata": {},
   "source": [
    "## Use the distribution of signs so we don't have to try all possible signs"
   ]
  },
  {
   "cell_type": "code",
   "execution_count": 17,
   "metadata": {},
   "outputs": [
    {
     "name": "stdout",
     "output_type": "stream",
     "text": [
      "0.1\n",
      "correct signs: [ 1.  1.  1.  1. -1.  1.  1.  1.  1.]\n",
      "rough estimate a: 0.18910752115495127\n",
      "avals to use: ['0.13981296510949756', '0.15634532387578837', '0.1728339924311597', '0.18927436306884374', '0.20566184157877418', '0.22199184853142423']\n",
      "number of signs Hamming distance two: 114\n",
      "debug\n",
      "[(1.0, -1.0, -1.0, 1.0, -1.0, 1.0, -1.0, -1.0, 1.0), (1.0, 1.0, 1.0, -1.0, -1.0, -1.0, -1.0, 1.0, 1.0), (1.0, 1.0, 1.0, -1.0, 1.0, 1.0, -1.0, -1.0, -1.0), (1.0, 1.0, 1.0, 1.0, 1.0, -1.0, -1.0, 1.0, 1.0), (1.0, 1.0, 1.0, 1.0, -1.0, 1.0, 1.0, -1.0, -1.0), (1.0, 1.0, 1.0, 1.0, -1.0, -1.0, 1.0, -1.0, -1.0), (1.0, 1.0, 1.0, 1.0, 1.0, -1.0, 1.0, 1.0, 1.0), (1.0, 1.0, -1.0, -1.0, 1.0, 1.0, -1.0, 1.0, 1.0), (1.0, 1.0, -1.0, -1.0, 1.0, -1.0, -1.0, 1.0, 1.0), (1.0, 1.0, 1.0, -1.0, 1.0, -1.0, -1.0, 1.0, 1.0), (1.0, 1.0, 1.0, -1.0, -1.0, 1.0, 1.0, 1.0, -1.0), (1.0, 1.0, -1.0, -1.0, -1.0, -1.0, 1.0, 1.0, -1.0), (1.0, 1.0, 1.0, 1.0, -1.0, 0.0, 1.0, -1.0, -1.0), (1.0, 1.0, 1.0, 1.0, -1.0, 1.0, -1.0, -1.0, 1.0), (1.0, 1.0, 1.0, -1.0, -1.0, -1.0, 1.0, 1.0, 1.0), (1.0, 1.0, 1.0, 1.0, 1.0, 1.0, 1.0, -1.0, -1.0), (1.0, -1.0, 1.0, 1.0, -1.0, -1.0, -1.0, 1.0, 1.0), (1.0, 1.0, 1.0, 1.0, 1.0, -1.0, 1.0, -1.0, -1.0), (1.0, 1.0, -1.0, -1.0, 1.0, -1.0, -1.0, -1.0, -1.0), (1.0, -1.0, -1.0, -1.0, 1.0, 1.0, 1.0, -1.0, -1.0), (1.0, 1.0, 1.0, 1.0, 1.0, 1.0, -1.0, -1.0, 1.0), (1.0, 1.0, 1.0, -1.0, 1.0, -1.0, -1.0, -1.0, -1.0), (1.0, 1.0, -1.0, 1.0, 1.0, -1.0, -1.0, 1.0, 1.0), (1.0, 1.0, 1.0, -1.0, 1.0, 0.0, 1.0, 1.0, -1.0), (1.0, 1.0, 1.0, 1.0, -1.0, 1.0, 1.0, 1.0, -1.0), (1.0, -1.0, 1.0, 1.0, 1.0, -1.0, -1.0, 1.0, 1.0), (1.0, -1.0, 1.0, 1.0, -1.0, -1.0, -1.0, -1.0, -1.0), (1.0, 1.0, -1.0, -1.0, 1.0, 1.0, 1.0, 1.0, -1.0), (1.0, 1.0, 1.0, -1.0, -1.0, 1.0, -1.0, -1.0, -1.0), (1.0, 1.0, 1.0, 1.0, -1.0, -1.0, 1.0, 1.0, 1.0), (1.0, 1.0, -1.0, 1.0, 1.0, -1.0, -1.0, -1.0, -1.0), (1.0, 1.0, 1.0, -1.0, -1.0, -1.0, -1.0, 1.0, -1.0), (1.0, 1.0, 1.0, -1.0, 1.0, 1.0, 1.0, 1.0, 1.0), (1.0, -1.0, -1.0, 1.0, -1.0, -1.0, -1.0, 1.0, 1.0), (1.0, 1.0, -1.0, 1.0, -1.0, -1.0, -1.0, 1.0, 1.0), (1.0, 1.0, -1.0, 1.0, 1.0, 1.0, 1.0, 1.0, -1.0), (1.0, 1.0, 1.0, 1.0, 1.0, -1.0, -1.0, -1.0, 1.0), (1.0, 1.0, 1.0, -1.0, -1.0, 0.0, 1.0, -1.0, -1.0), (1.0, 1.0, -1.0, -1.0, -1.0, -1.0, -1.0, -1.0, -1.0), (1.0, 1.0, 1.0, 1.0, -1.0, -1.0, -1.0, 1.0, -1.0), (1.0, 1.0, 1.0, -1.0, -1.0, 1.0, -1.0, 1.0, 1.0), (1.0, 1.0, -1.0, 1.0, 1.0, 1.0, -1.0, 1.0, 1.0), (1.0, 1.0, 1.0, -1.0, 1.0, 1.0, -1.0, 1.0, -1.0), (1.0, -1.0, 1.0, 1.0, -1.0, 1.0, -1.0, -1.0, 1.0), (1.0, 1.0, 1.0, -1.0, -1.0, -1.0, 1.0, -1.0, 1.0), (1.0, 1.0, -1.0, 1.0, -1.0, -1.0, -1.0, -1.0, -1.0), (1.0, -1.0, 1.0, -1.0, 1.0, 1.0, 1.0, -1.0, -1.0), (1.0, 1.0, -1.0, 1.0, 1.0, 0.0, 1.0, -1.0, -1.0), (1.0, 1.0, 1.0, 1.0, -1.0, 1.0, -1.0, 1.0, 1.0), (1.0, 1.0, 1.0, -1.0, 1.0, 0.0, 1.0, -1.0, 1.0), (1.0, 1.0, 1.0, 1.0, -1.0, -1.0, 1.0, 1.0, -1.0), (1.0, 1.0, 1.0, -1.0, 1.0, 1.0, 1.0, 1.0, -1.0), (1.0, 1.0, -1.0, -1.0, 1.0, 1.0, 1.0, -1.0, -1.0), (1.0, 1.0, 1.0, 1.0, 1.0, -1.0, -1.0, 1.0, -1.0), (1.0, 1.0, 1.0, 1.0, -1.0, -1.0, -1.0, -1.0, -1.0), (1.0, 1.0, 1.0, 1.0, 1.0, -1.0, 1.0, 1.0, -1.0), (1.0, 1.0, -1.0, 1.0, -1.0, -1.0, 1.0, 1.0, -1.0), (1.0, 1.0, 1.0, -1.0, 1.0, -1.0, 1.0, 1.0, 1.0), (1.0, 1.0, 1.0, 1.0, 1.0, 1.0, 1.0, 1.0, 1.0), (1.0, -1.0, -1.0, -1.0, 1.0, 1.0, 1.0, 1.0, -1.0), (1.0, 1.0, 1.0, -1.0, 1.0, -1.0, -1.0, 1.0, -1.0), (1.0, -1.0, 1.0, -1.0, 1.0, 1.0, -1.0, 1.0, 1.0), (1.0, 1.0, 1.0, -1.0, 1.0, 1.0, 1.0, -1.0, 1.0), (1.0, 1.0, 1.0, 1.0, -1.0, 1.0, -1.0, -1.0, -1.0), (1.0, -1.0, -1.0, 1.0, -1.0, -1.0, 1.0, -1.0, -1.0), (1.0, -1.0, 1.0, -1.0, -1.0, -1.0, -1.0, 1.0, 1.0), (1.0, -1.0, -1.0, -1.0, 1.0, -1.0, -1.0, -1.0, -1.0), (1.0, 1.0, 1.0, -1.0, 1.0, -1.0, 1.0, -1.0, -1.0), (1.0, 1.0, 1.0, -1.0, -1.0, -1.0, 1.0, 1.0, -1.0), (1.0, 1.0, 1.0, -1.0, -1.0, -1.0, -1.0, -1.0, 1.0), (1.0, 1.0, 1.0, 1.0, 1.0, -1.0, 1.0, -1.0, 1.0), (1.0, -1.0, 1.0, 1.0, -1.0, -1.0, 1.0, -1.0, -1.0), (1.0, 1.0, -1.0, 1.0, 1.0, 1.0, 1.0, -1.0, -1.0), (1.0, 1.0, -1.0, 1.0, -1.0, 1.0, -1.0, -1.0, 1.0), (1.0, 1.0, 1.0, -1.0, 1.0, -1.0, -1.0, -1.0, 1.0), (1.0, 1.0, 1.0, -1.0, -1.0, -1.0, 1.0, -1.0, -1.0), (1.0, 1.0, 1.0, 1.0, 1.0, 0.0, 1.0, -1.0, -1.0), (1.0, 1.0, 1.0, -1.0, -1.0, 1.0, 1.0, -1.0, -1.0), (1.0, 1.0, 1.0, 1.0, 1.0, 1.0, -1.0, -1.0, -1.0), (1.0, 1.0, -1.0, -1.0, -1.0, -1.0, 1.0, -1.0, -1.0), (1.0, -1.0, -1.0, -1.0, 1.0, 0.0, 1.0, -1.0, -1.0), (1.0, 1.0, -1.0, -1.0, -1.0, 1.0, -1.0, -1.0, 1.0), (1.0, -1.0, -1.0, -1.0, -1.0, -1.0, -1.0, 1.0, 1.0), (1.0, -1.0, 1.0, -1.0, 1.0, 0.0, 1.0, -1.0, -1.0), (1.0, 1.0, 1.0, -1.0, 1.0, 0.0, 1.0, -1.0, -1.0), (1.0, 1.0, 1.0, 1.0, -1.0, -1.0, -1.0, -1.0, 1.0), (1.0, 1.0, 1.0, -1.0, 1.0, -0.0, -1.0, -1.0, -1.0), (1.0, 1.0, 1.0, -1.0, 1.0, 1.0, -1.0, -1.0, 1.0), (1.0, -1.0, 1.0, -1.0, 1.0, -1.0, -1.0, -1.0, -1.0), (1.0, 1.0, 1.0, 1.0, -1.0, 1.0, 1.0, -1.0, 1.0), (1.0, 1.0, 1.0, 1.0, -1.0, -1.0, 1.0, -1.0, 1.0), (1.0, 1.0, 1.0, -1.0, 1.0, -1.0, 1.0, 1.0, -1.0), (1.0, 1.0, 1.0, 1.0, 1.0, 1.0, 1.0, 1.0, -1.0), (1.0, 1.0, -1.0, -1.0, -1.0, -1.0, -1.0, 1.0, 1.0), (1.0, -1.0, 1.0, 1.0, -1.0, -1.0, 1.0, 1.0, -1.0), (1.0, 1.0, 1.0, -1.0, -1.0, 1.0, 1.0, 1.0, 1.0), (1.0, 1.0, 1.0, -1.0, 1.0, 1.0, 1.0, -1.0, -1.0), (1.0, 1.0, 1.0, 1.0, 1.0, -1.0, -1.0, -1.0, -1.0), (1.0, -1.0, 1.0, -1.0, 1.0, 1.0, 1.0, 1.0, -1.0), (1.0, 1.0, 1.0, 1.0, 1.0, 1.0, -1.0, 1.0, 1.0), (1.0, 1.0, 1.0, -1.0, -1.0, -1.0, -1.0, -1.0, -1.0), (1.0, 1.0, -1.0, 1.0, -1.0, -1.0, 1.0, -1.0, -1.0), (1.0, -1.0, -1.0, -1.0, 1.0, 1.0, -1.0, 1.0, 1.0), (1.0, 1.0, 1.0, 1.0, -1.0, -1.0, -1.0, 1.0, 1.0), (1.0, 1.0, 1.0, -1.0, 1.0, 0.0, -1.0, 1.0, -1.0), (1.0, -1.0, -1.0, 1.0, -1.0, -1.0, -1.0, -1.0, -1.0), (1.0, 1.0, 1.0, -1.0, 1.0, 1.0, -1.0, 1.0, 1.0), (1.0, 1.0, 1.0, -1.0, 1.0, 0.0, 1.0, 1.0, 1.0), (1.0, 1.0, 1.0, 1.0, -1.0, 1.0, 1.0, 1.0, 1.0), (1.0, -1.0, -1.0, 1.0, 1.0, -1.0, -1.0, 1.0, 1.0), (1.0, 1.0, 1.0, 1.0, -1.0, 1.0, -1.0, 1.0, -1.0), (1.0, 1.0, -1.0, -1.0, 1.0, 0.0, 1.0, -1.0, -1.0), (1.0, -1.0, -1.0, 1.0, -1.0, -1.0, 1.0, 1.0, -1.0), (1.0, 1.0, 1.0, -1.0, -1.0, 1.0, -1.0, -1.0, 1.0)]\n",
      "current objective: 101.5852036831245\n",
      "current best signs: (1.0, 1.0, 1.0, -1.0, -1.0, -1.0, -1.0, 1.0, 1.0)\n",
      "current objective: 12.189443708864829\n",
      "current best signs: (1.0, 1.0, 1.0, 1.0, 1.0, -1.0, -1.0, 1.0, 1.0)\n",
      "current objective: 12.178888471805434\n",
      "current best signs: (1.0, 1.0, 1.0, 1.0, -1.0, -1.0, 1.0, 1.0, 1.0)\n",
      "current objective: 12.172685946848544\n",
      "current best signs: (1.0, 1.0, 1.0, 1.0, -1.0, 1.0, -1.0, 1.0, 1.0)\n",
      "current objective: 12.170060278421333\n",
      "current best signs: (1.0, 1.0, 1.0, 1.0, 1.0, -1.0, 1.0, -1.0, 1.0)\n",
      "current objective: 12.170060278421332\n",
      "current best signs: (1.0, 1.0, 1.0, 1.0, 1.0, -1.0, 1.0, -1.0, 1.0)\n",
      "current objective: 12.169852128294572\n",
      "current best signs: (1.0, -1.0, 1.0, 1.0, 1.0, -1.0, 1.0, -1.0, 1.0)\n",
      "[ 1. -1.  1.  1.  1. -1.  1. -1.  1.]\n",
      "basin obj: -71.49676886330401\n",
      "true obj: -397.45165984862285\n"
     ]
    },
    {
     "data": {
      "text/plain": [
       "{'theta_est': 0.10014050463580293,\n",
       " 'theta_est1': 0.10012026433053867,\n",
       " 'error': 2.6781641200374073e-05,\n",
       " 'error1': 4.692056561073077e-05,\n",
       " 'queries': 2600,\n",
       " 'depth': 128,\n",
       " 'true_obj': -397.45165984862285,\n",
       " 'basin_obj': -71.49676886330401,\n",
       " 'x_star': array([ 1., -1.,  1.,  1.,  1., -1.,  1., -1.,  1.])}"
      ]
     },
     "execution_count": 17,
     "metadata": {},
     "output_type": "execute_result"
    }
   ],
   "source": [
    "np.random.seed(42)\n",
    "\n",
    "a = 0.1\n",
    "print(a)\n",
    "theta = np.arcsin(a)\n",
    "\n",
    "narray = [2,2,2,2,2,2,2,2]\n",
    "heavy_signs = get_heavy_signs(narray, len(narray)**2)\n",
    "\n",
    "ula_signal = TwoqULASignal(M=narray, C=5)\n",
    "esprit = ESPIRIT()\n",
    "\n",
    "def sample_signs(heavy_signs, sample_size=3):\n",
    "    \"\"\"\n",
    "    Sample a set of sign variations from a learned sign distribution.\n",
    "\n",
    "    Args:\n",
    "        heavy_signs (dict): A dictionary where the keys are strings representing float values,\n",
    "                           and the values are dictionaries with keys as sign vectors and values\n",
    "                           as their corresponding probabilities.\n",
    "        sample_size (int, optional): The number of sign variations to sample. Defaults to 3.\n",
    "\n",
    "    Returns:\n",
    "        dict: A dictionary where the keys are the same as the keys in `heavy_signs`,\n",
    "              and the values are lists of sampled sign variations.\n",
    "    \"\"\"\n",
    "    avals = list(heavy_signs.keys())\n",
    "    signs_to_try = {}\n",
    "    for a in avals:\n",
    "        signs_to_try[a] = list(set(sample_from_normalized(heavy_signs[a], sample_size=sample_size)))\n",
    "\n",
    "    return signs_to_try\n",
    "\n",
    "def avals_to_usef(a0, avals, L=3):\n",
    "    \"\"\"\n",
    "    Find the `L` values in `avals` that are closest to the given `a0` value.\n",
    "\n",
    "    Args:\n",
    "        a0 (float): The reference value to find the closest `L` values for.\n",
    "        avals (list): A list of float values representing the keys in `heavy_signs`.\n",
    "        L (int, optional): The number of closest values to return. Defaults to 3.\n",
    "\n",
    "    Returns:\n",
    "        list: A list of string representations of the `L` closest values to `a0` in `avals`.\n",
    "    \"\"\"\n",
    "    avals = list(map(float, avals))\n",
    "\n",
    "    left = 0\n",
    "    right = len(avals)\n",
    "    \n",
    "    while left < right:\n",
    "        mid = (left + right) // 2\n",
    "        \n",
    "        if avals[mid] <= a0:\n",
    "            left = mid + 1\n",
    "        else:\n",
    "            right = mid\n",
    "\n",
    "    if left >= 4:\n",
    "        avals_to_use = list(map(str, avals[left-L: left+L]))\n",
    "    if left >= 3:\n",
    "        avals_to_use = list(map(str, avals[left-3: left+L]))\n",
    "    elif left>=2:\n",
    "        avals_to_use = list(map(str, avals[left-2: left+L]))\n",
    "    elif left>=1:\n",
    "        avals_to_use = list(map(str, avals[left-1: left+L]))\n",
    "    else:\n",
    "        avals_to_use = list(map(str, avals[left: left+L]))\n",
    "    \n",
    "    return avals_to_use\n",
    "\n",
    "def all_signs_to_try(avals_to_use, signs_to_try, adjacency=2):\n",
    "    \"\"\"\n",
    "    Generate all possible sign variations within a Hamming distance of 2 from the given `avals_to_use`.\n",
    "\n",
    "    Args:\n",
    "        avals_to_use (list): A list of string representations of float values.\n",
    "        signs_to_try (dict): A dictionary where the keys are string representations of float values,\n",
    "                            and the values are lists of sign variations.\n",
    "        adjacency (int, optional): The maximum Hamming distance to consider for the sign variations.\n",
    "                                  Defaults to 2.\n",
    "\n",
    "    Returns:\n",
    "        list: A list of all possible sign variations within the specified Hamming distance.\n",
    "    \"\"\"\n",
    "    all_signs = []\n",
    "    for a in avals_to_use:\n",
    "        for x in signs_to_try[a]:\n",
    "            hamming_distance_two_signs = generate_adjacent_sign_variations(np.array(x), adjacency)\n",
    "            all_signs.extend(hamming_distance_two_signs)\n",
    "    all_signs = list(set(all_signs))\n",
    "    \n",
    "    return all_signs\n",
    "\n",
    "def minimize_obj(all_signs, cos_signal, abs_sin, ula_signal, esprit, disp):\n",
    "    \"\"\"\n",
    "    Find the sign variation that minimizes the objective function.\n",
    "\n",
    "    Args:\n",
    "        all_signs (list): A list of all possible sign variations to consider.\n",
    "        cos_signal (numpy.ndarray): The real part of the estimated signal.\n",
    "        abs_sin (numpy.ndarray): The absolute value of the imaginary part of the estimated signal.\n",
    "        ula_signal (ULASignal): An instance of the ULASignal class, containing information about the signal.\n",
    "        esprit (ESPRIT): An instance of the ESPRIT class, used for estimating the signal parameters.\n",
    "        disp (bool): If True, prints the current objective and the current best sign variation.\n",
    "\n",
    "    Returns:\n",
    "        numpy.ndarray: The sign variation that minimizes the objective function.\n",
    "    \"\"\"\n",
    "    # obj = 1.0\n",
    "    x_star = np.array(all_signs[0])\n",
    "    obj = objective_function(x_star, cos_signal, abs_sin, ula_signal, esprit)\n",
    "    for x in all_signs:\n",
    "        curr_obj = objective_function(np.array(x), cos_signal, abs_sin, ula_signal, esprit)\n",
    "        if curr_obj < obj:\n",
    "            if disp:\n",
    "                print(f'current objective: {curr_obj}')\n",
    "                print(f'current best signs: {x}')\n",
    "            obj = curr_obj\n",
    "            x_star = np.array(x)\n",
    "\n",
    "    return x_star\n",
    "\n",
    "def csae_with_local_minimization(theta, ula_signal, esprit, heavy_signs, sample=False, correction=False, optimize=False, disp=False):\n",
    "    \"\"\"\n",
    "    Perform CSAE (Compressive Sensing Angle Estimation) with local minimization.\n",
    "\n",
    "    Args:\n",
    "        theta (float): The true angle of the signal.\n",
    "        ula_signal (ULASignal): An instance of the ULASignal class, containing information about the signal.\n",
    "        esprit (ESPRIT): An instance of the ESPRIT class, used for estimating the signal parameters.\n",
    "        heavy_signs (dict): A dictionary where the keys are strings representing float values,\n",
    "                           and the values are dictionaries with keys as sign vectors and values\n",
    "                           as their corresponding probabilities.\n",
    "        sample (bool, optional): If True, samples sign variations from the learned sign distribution.\n",
    "                                If False, uses the learned sign distribution directly. Defaults to False.\n",
    "        correction (bool, optional): If True, applies a correction to the estimated angle. Defaults to False.\n",
    "        optimize (bool, optional): If True, uses a sliding window approach to find the best sign variation.\n",
    "                                  If False, uses the learned sign distribution directly. Defaults to False.\n",
    "        disp (bool, optional): If True, prints additional information during the process. Defaults to False.\n",
    "\n",
    "    Returns:\n",
    "        dict: A dictionary containing the estimated angles, errors, number of queries, maximum depth,\n",
    "              and other relevant information.\n",
    "    \"\"\"\n",
    "\n",
    "    depths = ula_signal.depths\n",
    "    n_samples = ula_signal.n_samples\n",
    "    csignal, measurements = estimate_signal(depths, n_samples, theta)\n",
    "    ula_signal.measurements = measurements\n",
    "\n",
    "    cos_signal = np.real(csignal)\n",
    "\n",
    "    correct_signs = np.sign(np.imag(csignal))\n",
    "    if disp:\n",
    "        print(f'correct signs: {correct_signs}')\n",
    "    abs_sin = np.abs(np.imag(csignal))\n",
    "\n",
    "    if sample:\n",
    "        # step 1: sample signs from learned sign distribution\n",
    "        signs_to_try = sample_signs(heavy_signs=heavy_signs, sample_size=3)\n",
    "        avals = list(heavy_signs.keys())\n",
    "\n",
    "        if optimize:\n",
    "            # step 2: using rough estimate where the amplitude is, use the a-values around that estimate\n",
    "            a0 = np.sqrt(0.5 - 0.5 * cos_signal[0])\n",
    "            avals_to_use = avals_to_usef(a0, avals, L=3)\n",
    "\n",
    "            if disp:\n",
    "                print(f'rough estimate a: {a0}')\n",
    "                print(f'avals to use: {avals_to_use}')\n",
    "\n",
    "            # step 3: now vary the signs in a sliding window of size \"adjacency\"\n",
    "            all_signs = all_signs_to_try(avals_to_use, signs_to_try, adjacency=2)\n",
    "\n",
    "            if disp:\n",
    "                print(f'number of signs Hamming distance two: {len(all_signs)}')\n",
    "\n",
    "            # step 4: try all the signs pick the ones that minimize the objective function\n",
    "            if disp:\n",
    "                print('debug')\n",
    "                print(all_signs)\n",
    "            x_star = minimize_obj(all_signs, cos_signal, abs_sin, ula_signal, esprit, disp)\n",
    "\n",
    "            # step 5 (optional): do one more sweep\n",
    "            hamming_distance_one_signs = list(set(generate_adjacent_sign_variations(x_star, 1)))\n",
    "            x_star = minimize_obj(hamming_distance_one_signs, cos_signal, abs_sin, ula_signal, esprit, disp)\n",
    "        \n",
    "        else:\n",
    "            # here we don't vary the signs using a sliding window, but directly use the learned sign distribution (poor performance)\n",
    "            all_signs = []\n",
    "            for a in avals:\n",
    "                all_signs.extend(heavy_signs[a])\n",
    "            all_signs = list(set(all_signs))\n",
    "            x_star = minimize_obj(all_signs, cos_signal, abs_sin, ula_signal, esprit, disp)\n",
    "\n",
    "    else:\n",
    "        avals = list(heavy_signs.keys())\n",
    "        signs_to_try = {}\n",
    "        for a in avals:\n",
    "            signs_to_try[a] = heavy_signs[a]\n",
    "\n",
    "        if optimize:\n",
    "            # step 2: using rough estimate where the amplitude is, use the a-values around that estimate\n",
    "            a0 = np.sqrt(0.5 - 0.5 * cos_signal[0])\n",
    "            avals_to_use = avals_to_usef(a0, avals, L=3)\n",
    "\n",
    "            if disp:\n",
    "                print(f'rough estimate a: {a0}')\n",
    "                print(f'avals to use: {avals_to_use}')\n",
    "\n",
    "            # step 3: now vary the signs in a sliding window of size \"adjacency\"\n",
    "            all_signs = all_signs_to_try(avals_to_use, signs_to_try, adjacency=2)\n",
    "\n",
    "            if disp:\n",
    "                print(f'number of signs Hamming distance two: {len(all_signs)}')\n",
    "\n",
    "            # step 4: try all the signs pick the ones that minimize the objective function\n",
    "            x_star = minimize_obj(all_signs, cos_signal, abs_sin, ula_signal, esprit, disp, measu)\n",
    "\n",
    "            # step 5 (optional): do one more sweep\n",
    "            hamming_distance_one_signs = list(set(generate_adjacent_sign_variations(x_star, 1)))\n",
    "            x_star = minimize_obj(hamming_distance_one_signs, cos_signal, abs_sin, ula_signal, esprit, disp)\n",
    "        \n",
    "        else:\n",
    "            # here we don't vary the signs using a sliding window, but directly use the learned sign distribution (poor performance)\n",
    "            all_signs = []\n",
    "            for a in avals:\n",
    "                all_signs.extend(heavy_signs[a])\n",
    "            all_signs = list(set(all_signs))\n",
    "            x_star = minimize_obj(all_signs, cos_signal, abs_sin, ula_signal, esprit, disp)\n",
    "\n",
    "\n",
    "    # Optimization is done.\n",
    "\n",
    "    if disp:\n",
    "        print(x_star)\n",
    "        \n",
    "    signal = cos_signal + 1.0j * x_star * abs_sin\n",
    "    R = ula_signal.get_cov_matrix_toeplitz(signal)\n",
    "    theta_est, _ = esprit.estimate_theta_toeplitz(R)\n",
    "    theta_est = np.abs(theta_est)\n",
    "    eigs = np.abs(esprit.eigs)[:2]\n",
    "    basin_obj = eigs[1] - eigs[0]\n",
    "    if correction:\n",
    "        theta_est = apply_correction(ula_signal, measurements, theta_est, theta) #apply correction\n",
    "    if disp:\n",
    "        print(f'basin obj: {basin_obj}')\n",
    "\n",
    "    cR = ula_signal.get_cov_matrix_toeplitz(csignal)\n",
    "    theta_est1, _ = esprit.estimate_theta_toeplitz(cR)\n",
    "    eigs = np.abs(esprit.eigs)[:2]\n",
    "    true_obj = eigs[1] - eigs[0]\n",
    "    if disp:\n",
    "        print(f'true obj: {true_obj}')\n",
    "\n",
    "    # compute queries required\n",
    "    num_queries = np.sum(np.array(ula_signal.depths)*np.array(ula_signal.n_samples)) + ula_signal.n_samples[0]\n",
    "    max_single_query = np.max(ula_signal.depths)\n",
    "\n",
    "    ret_dict = {'theta_est': theta_est, 'theta_est1': theta_est1, \n",
    "                'error': np.abs(np.sin(theta)-np.sin(theta_est)), \n",
    "                'error1': np.abs(np.sin(theta)-np.sin(theta_est1)), \n",
    "                'queries': num_queries, 'depth': max_single_query,\n",
    "                'true_obj': true_obj, 'basin_obj': basin_obj,\n",
    "                'x_star': x_star}\n",
    "    \n",
    "    return ret_dict\n",
    "\n",
    "csae_with_local_minimization(theta, ula_signal, esprit, heavy_signs, sample=True, correction=True, optimize=True, disp=True)"
   ]
  },
  {
   "cell_type": "markdown",
   "metadata": {},
   "source": [
    "## Let's do some statistics now"
   ]
  },
  {
   "cell_type": "code",
   "execution_count": 18,
   "metadata": {},
   "outputs": [
    {
     "data": {
      "text/plain": [
       "(['0.10663566752567158',\n",
       "  '0.12324153604814797',\n",
       "  '0.13981296510949756',\n",
       "  '0.15634532387578837',\n",
       "  '0.1728339924311597',\n",
       "  '0.18927436306884374'],\n",
       " ['0.09',\n",
       "  '0.10663566752567158',\n",
       "  '0.12324153604814797',\n",
       "  '0.13981296510949756',\n",
       "  '0.15634532387578837',\n",
       "  '0.1728339924311597',\n",
       "  '0.18927436306884374',\n",
       "  '0.20566184157877418',\n",
       "  '0.22199184853142423',\n",
       "  '0.23825982055751374',\n",
       "  '0.2544612116232283',\n",
       "  '0.2705914943005945',\n",
       "  '0.286646161032655',\n",
       "  '0.3026207253930916',\n",
       "  '0.318510723339943',\n",
       "  '0.33431171446306707',\n",
       "  '0.35001928322499964',\n",
       "  '0.3656290401948629',\n",
       "  '0.3811366232749777',\n",
       "  '0.3965376989198384',\n",
       "  '0.41182796334710836',\n",
       "  '0.42700314374029846',\n",
       "  '0.44205899944279253',\n",
       "  '0.4569913231428852',\n",
       "  '0.47179594204950215',\n",
       "  '0.4864687190582737',\n",
       "  '0.5010055539076351',\n",
       "  '0.5154023843246325',\n",
       "  '0.5296551871601116',\n",
       "  '0.5437599795129751',\n",
       "  '0.5577128198431908',\n",
       "  '0.5715098090732432',\n",
       "  '0.5851470916777191',\n",
       "  '0.5986208567607206',\n",
       "  '0.6119273391208092',\n",
       "  '0.6250628203031795',\n",
       "  '0.6380236296387691',\n",
       "  '0.650806145270016',\n",
       "  '0.6634067951629752',\n",
       "  '0.6758220581055129',\n",
       "  '0.6880484646912971',\n",
       "  '0.7000825982893134',\n",
       "  '0.7119210959986316',\n",
       "  '0.7235606495881572',\n",
       "  '0.7349980064211071',\n",
       "  '0.7462299703639479',\n",
       "  '0.7572534026795463',\n",
       "  '0.7680652229042787',\n",
       "  '0.7786624097088569',\n",
       "  '0.7890420017426304',\n",
       "  '0.7992010984611247',\n",
       "  '0.8091368609365911',\n",
       "  '0.8188465126513348',\n",
       "  '0.8283273402736051',\n",
       "  '0.8375766944158268',\n",
       "  '0.8465919903749636',\n",
       "  '0.855370708854805',\n",
       "  '0.863910396669976',\n",
       "  '0.8722086674314722',\n",
       "  '0.8802632022135276',\n",
       "  '0.8880717502016333',\n",
       "  '0.8956321293215179',\n",
       "  '0.9029422268489239',\n",
       "  '0.91'],\n",
       " 0.14658716786698373)"
      ]
     },
     "execution_count": 18,
     "metadata": {},
     "output_type": "execute_result"
    }
   ],
   "source": [
    "a0=0.14658716786698373\n",
    "signs_to_try = sample_signs(heavy_signs=heavy_signs, sample_size=3)\n",
    "avals = list(heavy_signs.keys())\n",
    "avals_to_usef(a0, avals, L=3), avals, a0"
   ]
  },
  {
   "cell_type": "code",
   "execution_count": 19,
   "metadata": {},
   "outputs": [
    {
     "name": "stdout",
     "output_type": "stream",
     "text": [
      "learning the distribution of signs...\n",
      "theta = 0.41111546403370536\n"
     ]
    },
    {
     "data": {
      "application/vnd.jupyter.widget-view+json": {
       "model_id": "43db4c770a4e430187c42a9ead8faee4",
       "version_major": 2,
       "version_minor": 0
      },
      "text/plain": [
       "  0%|          | 0/100 [00:00<?, ?it/s]"
      ]
     },
     "metadata": {},
     "output_type": "display_data"
    },
    {
     "name": "stdout",
     "output_type": "stream",
     "text": [
      "constant factors query and depth: 2.4709772661949976, 0.11801682465408944\n",
      "theta = 1.0363905664439828\n"
     ]
    },
    {
     "data": {
      "application/vnd.jupyter.widget-view+json": {
       "model_id": "cc3f810ae792428090a3cd4ef5a5b6c3",
       "version_major": 2,
       "version_minor": 0
      },
      "text/plain": [
       "  0%|          | 0/100 [00:00<?, ?it/s]"
      ]
     },
     "metadata": {},
     "output_type": "display_data"
    },
    {
     "name": "stdout",
     "output_type": "stream",
     "text": [
      "constant factors query and depth: 2.0856047183378665, 0.09961097162210705\n",
      "theta = 0.7554209219922304\n"
     ]
    },
    {
     "data": {
      "application/vnd.jupyter.widget-view+json": {
       "model_id": "262c392bd2e04c89a803c6b7b9e2b800",
       "version_major": 2,
       "version_minor": 0
      },
      "text/plain": [
       "  0%|          | 0/100 [00:00<?, ?it/s]"
      ]
     },
     "metadata": {},
     "output_type": "display_data"
    },
    {
     "name": "stdout",
     "output_type": "stream",
     "text": [
      "constant factors query and depth: 2.3061130379904, 0.11014271226222806\n",
      "theta = 0.6174118623048501\n"
     ]
    },
    {
     "data": {
      "application/vnd.jupyter.widget-view+json": {
       "model_id": "10c91ffc70be476cb166e3fce3b27052",
       "version_major": 2,
       "version_minor": 0
      },
      "text/plain": [
       "  0%|          | 0/100 [00:00<?, ?it/s]"
      ]
     },
     "metadata": {},
     "output_type": "display_data"
    },
    {
     "name": "stdout",
     "output_type": "stream",
     "text": [
      "constant factors query and depth: 2.5698113627945833, 0.12273725911854727\n",
      "theta = 0.2267530819288086\n"
     ]
    },
    {
     "data": {
      "application/vnd.jupyter.widget-view+json": {
       "model_id": "f6d54cd43d4e4507988358553ce2937c",
       "version_major": 2,
       "version_minor": 0
      },
      "text/plain": [
       "  0%|          | 0/100 [00:00<?, ?it/s]"
      ]
     },
     "metadata": {},
     "output_type": "display_data"
    },
    {
     "name": "stdout",
     "output_type": "stream",
     "text": [
      "constant factors query and depth: 3.643809694973889, 0.17403270184949918\n",
      "theta = 0.2267332789613546\n"
     ]
    },
    {
     "data": {
      "application/vnd.jupyter.widget-view+json": {
       "model_id": "e9d35298ead64ff09aa46b3959891b20",
       "version_major": 2,
       "version_minor": 0
      },
      "text/plain": [
       "  0%|          | 0/100 [00:00<?, ?it/s]"
      ]
     },
     "metadata": {},
     "output_type": "display_data"
    },
    {
     "name": "stdout",
     "output_type": "stream",
     "text": [
      "constant factors query and depth: 2.9012139605431546, 0.13856544289161335\n",
      "theta = 0.14699569205633\n"
     ]
    },
    {
     "data": {
      "application/vnd.jupyter.widget-view+json": {
       "model_id": "abce1dd1f9ce458db1a7910fd686704f",
       "version_major": 2,
       "version_minor": 0
      },
      "text/plain": [
       "  0%|          | 0/100 [00:00<?, ?it/s]"
      ]
     },
     "metadata": {},
     "output_type": "display_data"
    },
    {
     "name": "stdout",
     "output_type": "stream",
     "text": [
      "constant factors query and depth: 4.027141524145057, 0.19234108772036093\n",
      "theta = 0.9156206760936844\n"
     ]
    },
    {
     "data": {
      "application/vnd.jupyter.widget-view+json": {
       "model_id": "ebaf971fc35142e68284ac47c795478f",
       "version_major": 2,
       "version_minor": 0
      },
      "text/plain": [
       "  0%|          | 0/100 [00:00<?, ?it/s]"
      ]
     },
     "metadata": {},
     "output_type": "display_data"
    },
    {
     "name": "stdout",
     "output_type": "stream",
     "text": [
      "constant factors query and depth: 1.9386990005595246, 0.09259457913120117\n",
      "theta = 0.6198241234230385\n"
     ]
    },
    {
     "data": {
      "application/vnd.jupyter.widget-view+json": {
       "model_id": "7dd68c25bda24faab568fa4af8196ca8",
       "version_major": 2,
       "version_minor": 0
      },
      "text/plain": [
       "  0%|          | 0/100 [00:00<?, ?it/s]"
      ]
     },
     "metadata": {},
     "output_type": "display_data"
    },
    {
     "name": "stdout",
     "output_type": "stream",
     "text": [
      "constant factors query and depth: 3.0125194985881913, 0.1438815282907793\n",
      "theta = 0.7294478190327938\n"
     ]
    },
    {
     "data": {
      "application/vnd.jupyter.widget-view+json": {
       "model_id": "b2239ae1d0864114880a29f1aef05464",
       "version_major": 2,
       "version_minor": 0
      },
      "text/plain": [
       "  0%|          | 0/100 [00:00<?, ?it/s]"
      ]
     },
     "metadata": {},
     "output_type": "display_data"
    },
    {
     "name": "stdout",
     "output_type": "stream",
     "text": [
      "constant factors query and depth: 3.8471437006328424, 0.18374417674664323\n",
      "theta = 0.11673252381145406\n"
     ]
    },
    {
     "data": {
      "application/vnd.jupyter.widget-view+json": {
       "model_id": "712e4b4b22624ea9b3c646e8a7d59a16",
       "version_major": 2,
       "version_minor": 0
      },
      "text/plain": [
       "  0%|          | 0/100 [00:00<?, ?it/s]"
      ]
     },
     "metadata": {},
     "output_type": "display_data"
    },
    {
     "name": "stdout",
     "output_type": "stream",
     "text": [
      "constant factors query and depth: 8.33456673902383, 0.3980688591772575\n",
      "theta = 1.0673557731834724\n"
     ]
    },
    {
     "data": {
      "application/vnd.jupyter.widget-view+json": {
       "model_id": "11cf1941d1ed471099fabe8f0f583439",
       "version_major": 2,
       "version_minor": 0
      },
      "text/plain": [
       "  0%|          | 0/100 [00:00<?, ?it/s]"
      ]
     },
     "metadata": {},
     "output_type": "display_data"
    },
    {
     "name": "stdout",
     "output_type": "stream",
     "text": [
      "constant factors query and depth: 2.561336197987668, 0.12233247512776922\n",
      "theta = 0.8725241084844789\n"
     ]
    },
    {
     "data": {
      "application/vnd.jupyter.widget-view+json": {
       "model_id": "4a84ed82390248da951d7d9acaddbcdf",
       "version_major": 2,
       "version_minor": 0
      },
      "text/plain": [
       "  0%|          | 0/100 [00:00<?, ?it/s]"
      ]
     },
     "metadata": {},
     "output_type": "display_data"
    },
    {
     "name": "stdout",
     "output_type": "stream",
     "text": [
      "constant factors query and depth: 2.960967537882452, 0.14141934509289322\n",
      "theta = 0.2732593578259982\n"
     ]
    },
    {
     "data": {
      "application/vnd.jupyter.widget-view+json": {
       "model_id": "ecb4e4235f2f475ab1ab513bc1a7db4d",
       "version_major": 2,
       "version_minor": 0
      },
      "text/plain": [
       "  0%|          | 0/100 [00:00<?, ?it/s]"
      ]
     },
     "metadata": {},
     "output_type": "display_data"
    },
    {
     "name": "stdout",
     "output_type": "stream",
     "text": [
      "constant factors query and depth: 4.931691697993268, 0.2355434840832606\n",
      "theta = 0.24799415401854524\n"
     ]
    },
    {
     "data": {
      "application/vnd.jupyter.widget-view+json": {
       "model_id": "f79a0e14c4c54781b45e2b16d974a798",
       "version_major": 2,
       "version_minor": 0
      },
      "text/plain": [
       "  0%|          | 0/100 [00:00<?, ?it/s]"
      ]
     },
     "metadata": {},
     "output_type": "display_data"
    },
    {
     "name": "stdout",
     "output_type": "stream",
     "text": [
      "constant factors query and depth: 6.949768761548213, 0.3319292542828997\n"
     ]
    }
   ],
   "source": [
    "np.random.seed(42)\n",
    "\n",
    "avals = [0.1, 0.2, 0.3, 0.4, 0.5, 0.6, 0.7, 0.8, 0.9]\n",
    "# avals = [np.random.uniform(0.1, 0.9)]\n",
    "# avals = [0.5, 0.6, 0.7, 0.8, 0.9]\n",
    "# avals = [0.1, 0.2, 0.3]\n",
    "avals = [np.random.uniform(0.1, 0.9) for _ in range(15)]\n",
    "# narray = [2]*5 + [3]\n",
    "narray = [2]*6\n",
    "\n",
    "print('learning the distribution of signs...')\n",
    "heavy_signs = get_heavy_signs(narray, int(6*len(narray)))\n",
    "num_queries = np.zeros(len(avals), dtype=int)\n",
    "max_single_query = np.zeros(len(avals), dtype=int)\n",
    "\n",
    "num_mc=100\n",
    "thetas = np.zeros((len(avals), num_mc))\n",
    "errors = np.zeros((len(avals), num_mc))\n",
    "thetas1 = np.zeros((len(avals), num_mc))\n",
    "errors1 = np.zeros((len(avals), num_mc))\n",
    "\n",
    "basin_obj = np.zeros((len(avals), num_mc))\n",
    "true_obj = np.zeros((len(avals), num_mc))\n",
    "\n",
    "ula_signal = TwoqULASignal(M=narray, C=5)\n",
    "esprit = ESPIRIT()\n",
    "\n",
    "for j,a in enumerate(avals):\n",
    "    theta = np.arcsin(a)\n",
    "    print(f'theta = {theta}')\n",
    "    disp=False\n",
    "    # if j==4:\n",
    "    #     disp=True\n",
    "    for i in tqdm(range(num_mc)):\n",
    "        res = csae_with_local_minimization(theta, ula_signal, esprit, heavy_signs, sample=True, correction=True, optimize=True, disp=disp)\n",
    "        thetas[j][i] = res['theta_est']\n",
    "        errors[j][i] = res['error']\n",
    "\n",
    "        thetas1[j][i] = res['theta_est1']\n",
    "        errors1[j][i] = res['error1']\n",
    "\n",
    "        basin_obj[j][i] = res['basin_obj']\n",
    "        true_obj[j][i] = res['true_obj']\n",
    "    num_queries[j] = res['queries']\n",
    "    max_single_query[j] = res['depth']\n",
    "\n",
    "    print(f'constant factors query and depth: {np.percentile(errors[j], 95) * num_queries[j]}, {np.percentile(errors[j], 95) * max_single_query[j]}')"
   ]
  },
  {
   "cell_type": "code",
   "execution_count": 20,
   "metadata": {},
   "outputs": [
    {
     "name": "stdout",
     "output_type": "stream",
     "text": [
      "0.12\n",
      "0.03\n",
      "0.04\n",
      "0.2\n",
      "0.04\n",
      "0.12\n",
      "0.13\n",
      "0.03\n",
      "0.13\n",
      "0.03\n",
      "0.08\n",
      "0.15\n",
      "0.34\n",
      "0.08\n",
      "0.06\n"
     ]
    }
   ],
   "source": [
    "for i in range(len(avals)):\n",
    "    print(np.sum(np.where(np.array(basin_obj[i])/np.array(true_obj[i]) >= 0.99, 1, 0))/len(basin_obj[i]))"
   ]
  },
  {
   "cell_type": "code",
   "execution_count": 21,
   "metadata": {},
   "outputs": [
    {
     "data": {
      "text/plain": [
       "(array([1.        , 0.22495293, 0.11105471, 0.03379094, 0.05337009,\n",
       "        0.77715326, 0.12611136, 0.70552785, 0.76910301, 0.33074334,\n",
       "        0.07567082, 1.        , 0.49445982, 1.        , 1.10845698,\n",
       "        1.        , 1.        , 0.09532126, 0.60863911, 0.0182182 ,\n",
       "        0.07051645, 0.48814011, 0.4470375 , 0.20416925, 0.50181441,\n",
       "        0.92868392, 0.03076454, 0.46494081, 0.18230095, 1.17306871,\n",
       "        0.22829146, 0.68842376, 0.03326025, 0.12765827, 0.10827588,\n",
       "        0.58208381, 1.278431  , 0.35892868, 0.60215212, 0.5165016 ,\n",
       "        0.09042329, 0.12780199, 0.76285183, 0.16588334, 0.60187375,\n",
       "        0.192356  , 0.61966657, 0.18791708, 0.58899097, 0.65343942,\n",
       "        0.08317595, 0.05017529, 0.28113619, 0.35083623, 0.1150489 ,\n",
       "        1.        , 0.23433193, 1.07270974, 0.13419157, 0.04807092,\n",
       "        0.11994698, 0.49255658, 0.0644887 , 0.40546557, 0.60943842,\n",
       "        0.09785657, 0.14810478, 0.18114921, 0.30783823, 0.91585911,\n",
       "        0.02017292, 0.96392907, 0.85925983, 1.30964716, 0.1291466 ,\n",
       "        0.07293403, 0.04350096, 0.61682355, 1.        , 0.06235647,\n",
       "        0.27419655, 0.27383239, 0.70626794, 0.07021021, 0.14853895,\n",
       "        0.08940861, 0.22879155, 0.13721608, 0.39101902, 0.4018418 ,\n",
       "        0.83785686, 0.58498267, 0.04555276, 0.88016568, 0.04684719,\n",
       "        0.04399155, 0.37197242, 1.        , 0.6899584 , 0.10031431]),\n",
       " 0.13)"
      ]
     },
     "execution_count": 21,
     "metadata": {},
     "output_type": "execute_result"
    }
   ],
   "source": [
    "i=6\n",
    "np.array(basin_obj[i])/np.array(true_obj[i]), np.sum(np.where(np.array(basin_obj[i])/np.array(true_obj[i]) >= 0.99, 1, 0))/len(basin_obj[i])"
   ]
  },
  {
   "cell_type": "code",
   "execution_count": 22,
   "metadata": {},
   "outputs": [
    {
     "data": {
      "text/plain": [
       "(array([0.14526521, 0.14801129, 0.15046385, 0.15103016, 0.14473376,\n",
       "        0.14546701, 0.1440838 , 0.14583846, 0.1499534 , 0.1447231 ,\n",
       "        0.14399421, 0.1475015 , 0.14331283, 0.14046648, 0.14487862,\n",
       "        0.14532385, 0.14653633, 0.14561054, 0.14491359, 0.14430642,\n",
       "        0.14577509, 0.14449825, 0.1425133 , 0.14791319, 0.14863706,\n",
       "        0.1435451 , 0.1439178 , 0.14811817, 0.14914262, 0.14081234,\n",
       "        0.14561187, 0.14506501, 0.13834753, 0.1502974 , 0.14595509,\n",
       "        0.14416454, 0.14026155, 0.14464274, 0.14432614, 0.14482318,\n",
       "        0.14874697, 0.1436621 , 0.14591857, 0.14492965, 0.14256783,\n",
       "        0.1444163 , 0.14138963, 0.14177751, 0.14440218, 0.14568152,\n",
       "        0.14711729, 0.14454506, 0.14826789, 0.14415993, 0.14504163,\n",
       "        0.14529224, 0.14737612, 0.14478538, 0.1454989 , 0.14691569,\n",
       "        0.14570046, 0.14281587, 0.14835335, 0.14296055, 0.14546258,\n",
       "        0.14836392, 0.13506078, 0.14245426, 0.23147936, 0.14811637,\n",
       "        0.14502621, 0.14865331, 0.14519066, 0.14779682, 0.14391545,\n",
       "        0.14664842, 0.14350511, 0.14002852, 0.1433057 , 0.14432927,\n",
       "        0.14502616, 0.14701937, 0.14404608, 0.14116203, 0.14883753,\n",
       "        0.14515765, 0.1481949 , 0.14980468, 0.14865046, 0.14533285,\n",
       "        0.14679695, 0.14157119, 0.15025934, 0.14802926, 0.14886073,\n",
       "        0.14765814, 0.14461144, 0.146948  , 0.1455423 , 0.14355064]),\n",
       " 0.14646688973455957)"
      ]
     },
     "execution_count": 22,
     "metadata": {},
     "output_type": "execute_result"
    }
   ],
   "source": [
    "i=6\n",
    "np.sin(thetas[i]), avals[i]"
   ]
  },
  {
   "cell_type": "code",
   "execution_count": 23,
   "metadata": {},
   "outputs": [
    {
     "data": {
      "text/plain": [
       "(array([0.04640354, 0.0472872 , 0.04807671, 0.04825906, 0.04623257,\n",
       "        0.04646847, 0.04602349, 0.04658798, 0.04791237, 0.04622914,\n",
       "        0.04599467, 0.04712312, 0.0457755 , 0.04486022, 0.04627917,\n",
       "        0.04642241, 0.04681253, 0.04651464, 0.04629042, 0.0460951 ,\n",
       "        0.04656759, 0.04615681, 0.04551837, 0.04725562, 0.04748861,\n",
       "        0.04585021, 0.04597009, 0.0473216 , 0.04765135, 0.04497142,\n",
       "        0.04651507, 0.04633913, 0.04417909, 0.04802312, 0.0466255 ,\n",
       "        0.04604946, 0.04479434, 0.04620329, 0.04610144, 0.04626134,\n",
       "        0.04752399, 0.04588784, 0.04661375, 0.04629558, 0.0455359 ,\n",
       "        0.04613044, 0.04515703, 0.04528176, 0.0461259 , 0.04653748,\n",
       "        0.04699948, 0.04617186, 0.04736979, 0.04604798, 0.04633161,\n",
       "        0.04641223, 0.04708277, 0.04624917, 0.04647873, 0.0469346 ,\n",
       "        0.04654357, 0.04561567, 0.04739729, 0.04566221, 0.04646704,\n",
       "        0.04740069, 0.04312297, 0.04549938, 0.07435657, 0.04732102,\n",
       "        0.04632665, 0.04749384, 0.04637956, 0.04721817, 0.04596933,\n",
       "        0.0468486 , 0.04583735, 0.04471943, 0.04577321, 0.04610245,\n",
       "        0.04632663, 0.04696797, 0.04601135, 0.04508385, 0.04755314,\n",
       "        0.04636894, 0.04734629, 0.04786449, 0.04749293, 0.0464253 ,\n",
       "        0.04689639, 0.04521541, 0.04801087, 0.04729298, 0.04756061,\n",
       "        0.04717354, 0.04619322, 0.046945  , 0.04649269, 0.045852  ]),\n",
       " 0.046790182007957946)"
      ]
     },
     "execution_count": 23,
     "metadata": {},
     "output_type": "execute_result"
    }
   ],
   "source": [
    "i=6\n",
    "thetas[i]/np.pi, np.arcsin(avals[i])/np.pi"
   ]
  },
  {
   "cell_type": "code",
   "execution_count": 24,
   "metadata": {},
   "outputs": [],
   "source": [
    "# np.random.seed(1)\n",
    "\n",
    "# csignal, measurements = estimate_signal(ula_signal.depths, ula_signal.n_samples, np.arcsin(avals[i]))\n",
    "\n",
    "# plt.plot(measurements, 'r', label='measurements')\n",
    "# plt.plot(np.cos((2*ula_signal.depths + 1)*theta2)**2, 'b', label='theta2')\n",
    "# plt.plot(np.cos((2*ula_signal.depths + 1)*theta1)**2, 'k', label='theta1')\n",
    "# plt.legend()"
   ]
  },
  {
   "cell_type": "code",
   "execution_count": 25,
   "metadata": {},
   "outputs": [
    {
     "name": "stdout",
     "output_type": "stream",
     "text": [
      "constant factors query and depth (68%) for 0.39963209507789: 1.4684292628520352, 0.07013393494218675\n",
      "constant factors query and depth (68%) for 0.8605714451279329: 1.0131453447814254, 0.04838903139254569\n",
      "constant factors query and depth (68%) for 0.6855951534491241: 1.085619402154012, 0.051850478908848335\n",
      "constant factors query and depth (68%) for 0.5789267873576293: 1.536919682283522, 0.07340511915383986\n",
      "constant factors query and depth (68%) for 0.22481491235394924: 1.3524258195636087, 0.06459347197915744\n",
      "constant factors query and depth (68%) for 0.22479561626896213: 1.6642082988559777, 0.07948457546774819\n",
      "constant factors query and depth (68%) for 0.14646688973455957: 1.6330656850822354, 0.07799716704870378\n",
      "constant factors query and depth (68%) for 0.7929409166199481: 0.9837374556649235, 0.04698447549444411\n",
      "constant factors query and depth (68%) for 0.5808920093945671: 1.4281253639962779, 0.06820897260877745\n",
      "constant factors query and depth (68%) for 0.6664580622368365: 1.6603693884425432, 0.07930122452262893\n",
      "constant factors query and depth (68%) for 0.11646759543664197: 2.1085055141140296, 0.10070474097261037\n",
      "constant factors query and depth (68%) for 0.8759278817295955: 0.8978475054453752, 0.04288226891679404\n",
      "constant factors query and depth (68%) for 0.7659541126403374: 1.1221989974634883, 0.05359756405795765\n",
      "constant factors query and depth (68%) for 0.26987128854262094: 1.8511117337775949, 0.08841130668788513\n",
      "constant factors query and depth (68%) for 0.24545997376568052: 2.0677249307957193, 0.09875701162009405\n"
     ]
    },
    {
     "data": {
      "text/plain": [
       "1.4582289590181845"
      ]
     },
     "execution_count": 25,
     "metadata": {},
     "output_type": "execute_result"
    }
   ],
   "source": [
    "perc = 68\n",
    "avg = 0.0\n",
    "for i in range(len(avals)):\n",
    "    avg += np.percentile(errors[i], perc) * num_queries[i]/len(avals)\n",
    "    print(f'constant factors query and depth ({perc}%) for {avals[i]}: {np.percentile(errors[i], perc) * num_queries[i]}, {np.percentile(errors[i], perc) * max_single_query[i]}')\n",
    "avg"
   ]
  },
  {
   "cell_type": "code",
   "execution_count": 26,
   "metadata": {},
   "outputs": [
    {
     "name": "stdout",
     "output_type": "stream",
     "text": [
      "constant factors query and depth with known signs for 0.39963209507789: 4.5101565949368805, 0.2154104642357913\n",
      "constant factors query and depth with known signs for 0.8605714451279329: 2.2855971542093783, 0.10916284915626881\n",
      "constant factors query and depth with known signs for 0.6855951534491241: 2.41743723876647, 0.115459689015712\n",
      "constant factors query and depth with known signs for 0.5789267873576293: 3.7870596498194606, 0.1808744907376459\n",
      "constant factors query and depth with known signs for 0.22481491235394924: 3.9575603881457564, 0.1890178095830809\n",
      "constant factors query and depth with known signs for 0.22479561626896213: 3.900315054830049, 0.18628370411128592\n",
      "constant factors query and depth with known signs for 0.14646688973455957: 4.119595792406278, 0.19675681396567296\n",
      "constant factors query and depth with known signs for 0.7929409166199481: 2.7747045138627473, 0.13252320066210135\n",
      "constant factors query and depth with known signs for 0.5808920093945671: 3.2177930819141896, 0.15368563973321503\n",
      "constant factors query and depth with known signs for 0.6664580622368365: 2.4981492372401406, 0.11931459043535\n",
      "constant factors query and depth with known signs for 0.11646759543664197: 3.9172577006477383, 0.18709290510556362\n",
      "constant factors query and depth with known signs for 0.8759278817295955: 1.7705483514837244, 0.08456350335444654\n",
      "constant factors query and depth with known signs for 0.7659541126403374: 2.388596546586192, 0.11408222312053455\n",
      "constant factors query and depth with known signs for 0.26987128854262094: 3.9676137757677226, 0.18949797137995092\n",
      "constant factors query and depth with known signs for 0.24545997376568052: 2.8271029079836025, 0.13502581053056012\n"
     ]
    },
    {
     "data": {
      "text/plain": [
       "3.222632532573355"
      ]
     },
     "execution_count": 26,
     "metadata": {},
     "output_type": "execute_result"
    }
   ],
   "source": [
    "perc = 68\n",
    "avg = 0.0\n",
    "for j in range(len(avals)):\n",
    "    avg += 2*np.percentile(errors1[j], perc) * num_queries[j]/len(avals)\n",
    "    print(f'constant factors query and depth with known signs for {avals[j]}: {2*np.percentile(errors1[j], perc) * num_queries[j]}, {2*np.percentile(errors1[j], perc) * max_single_query[j]}')\n",
    "avg"
   ]
  },
  {
   "cell_type": "code",
   "execution_count": 27,
   "metadata": {},
   "outputs": [
    {
     "name": "stdout",
     "output_type": "stream",
     "text": [
      "constant factors query and depth (95%) for 0.39963209507789: 2.4709772661949976, 0.11801682465408944\n",
      "constant factors query and depth (95%) for 0.8605714451279329: 2.0856047183378665, 0.09961097162210705\n",
      "constant factors query and depth (95%) for 0.6855951534491241: 2.3061130379904, 0.11014271226222806\n",
      "constant factors query and depth (95%) for 0.5789267873576293: 2.5698113627945833, 0.12273725911854727\n",
      "constant factors query and depth (95%) for 0.22481491235394924: 3.643809694973889, 0.17403270184949918\n",
      "constant factors query and depth (95%) for 0.22479561626896213: 2.9012139605431546, 0.13856544289161335\n",
      "constant factors query and depth (95%) for 0.14646688973455957: 4.027141524145057, 0.19234108772036093\n",
      "constant factors query and depth (95%) for 0.7929409166199481: 1.9386990005595246, 0.09259457913120117\n",
      "constant factors query and depth (95%) for 0.5808920093945671: 3.0125194985881913, 0.1438815282907793\n",
      "constant factors query and depth (95%) for 0.6664580622368365: 3.8471437006328424, 0.18374417674664323\n",
      "constant factors query and depth (95%) for 0.11646759543664197: 8.33456673902383, 0.3980688591772575\n",
      "constant factors query and depth (95%) for 0.8759278817295955: 2.561336197987668, 0.12233247512776922\n",
      "constant factors query and depth (95%) for 0.7659541126403374: 2.960967537882452, 0.14141934509289322\n",
      "constant factors query and depth (95%) for 0.26987128854262094: 4.931691697993268, 0.2355434840832606\n",
      "constant factors query and depth (95%) for 0.24545997376568052: 6.949768761548213, 0.3319292542828997\n"
     ]
    },
    {
     "data": {
      "text/plain": [
       "3.6360909799463954"
      ]
     },
     "execution_count": 27,
     "metadata": {},
     "output_type": "execute_result"
    }
   ],
   "source": [
    "perc = 95\n",
    "avg = 0.0\n",
    "for i in range(len(avals)):\n",
    "    avg += np.percentile(errors[i], perc) * num_queries[i]/len(avals)\n",
    "    print(f'constant factors query and depth ({perc}%) for {avals[i]}: {np.percentile(errors[i], perc) * num_queries[i]}, {np.percentile(errors[i], perc) * max_single_query[i]}')\n",
    "avg"
   ]
  },
  {
   "cell_type": "code",
   "execution_count": 28,
   "metadata": {},
   "outputs": [
    {
     "name": "stdout",
     "output_type": "stream",
     "text": [
      "constant factors query and depth with known signs for 0.39963209507789: 7.282582863218181, 0.34782485316862954\n",
      "constant factors query and depth with known signs for 0.8605714451279329: 3.995912276685717, 0.19084954157304918\n",
      "constant factors query and depth with known signs for 0.6855951534491241: 4.808167074791795, 0.2296438005870708\n",
      "constant factors query and depth with known signs for 0.5789267873576293: 5.641087753814325, 0.2694250867493409\n",
      "constant factors query and depth with known signs for 0.22481491235394924: 8.069065828703485, 0.38538821868434553\n",
      "constant factors query and depth with known signs for 0.22479561626896213: 6.539721857371034, 0.31234492453115387\n",
      "constant factors query and depth with known signs for 0.14646688973455957: 8.878049797408703, 0.4240262589807142\n",
      "constant factors query and depth with known signs for 0.7929409166199481: 5.341488180531501, 0.25511585339851944\n",
      "constant factors query and depth with known signs for 0.5808920093945671: 6.0532806783249695, 0.2891119129946254\n",
      "constant factors query and depth with known signs for 0.6664580622368365: 6.4270728514904585, 0.3069646735040219\n",
      "constant factors query and depth with known signs for 0.11646759543664197: 8.948343654990163, 0.427383577551769\n",
      "constant factors query and depth with known signs for 0.8759278817295955: 4.276082672332336, 0.20423081420094738\n",
      "constant factors query and depth with known signs for 0.7659541126403374: 5.932384022966975, 0.28333774438051224\n",
      "constant factors query and depth with known signs for 0.26987128854262094: 9.207832548274729, 0.4397770769325243\n",
      "constant factors query and depth with known signs for 0.24545997376568052: 6.320851588958087, 0.3018914191741176\n"
     ]
    },
    {
     "data": {
      "text/plain": [
       "6.51479490999083"
      ]
     },
     "execution_count": 28,
     "metadata": {},
     "output_type": "execute_result"
    }
   ],
   "source": [
    "perc = 95\n",
    "avg = 0.0\n",
    "for j in range(len(avals)):\n",
    "    avg += 2*np.percentile(errors1[j], perc) * num_queries[j]/len(avals)\n",
    "    print(f'constant factors query and depth with known signs for {avals[j]}: {2*np.percentile(errors1[j], perc) * num_queries[j]}, {2*np.percentile(errors1[j], perc) * max_single_query[j]}')\n",
    "avg"
   ]
  },
  {
   "cell_type": "code",
   "execution_count": 29,
   "metadata": {},
   "outputs": [
    {
     "name": "stdout",
     "output_type": "stream",
     "text": [
      "constant factors query and depth (99%) for 0.39963209507789: 4.151565485577929, 0.19828372468431898\n",
      "constant factors query and depth (99%) for 0.8605714451279329: 2.3920036830741847, 0.11424495202742374\n",
      "constant factors query and depth (99%) for 0.6855951534491241: 5.808914346302545, 0.27744068519653947\n",
      "constant factors query and depth (99%) for 0.5789267873576293: 3.331572464417424, 0.1591198788975486\n",
      "constant factors query and depth (99%) for 0.22481491235394924: 8.671471749402487, 0.4141598447475815\n",
      "constant factors query and depth (99%) for 0.22479561626896213: 4.395075854612961, 0.20991407066808174\n",
      "constant factors query and depth (99%) for 0.14646688973455957: 8.135253248694843, 0.388549408892888\n",
      "constant factors query and depth (99%) for 0.7929409166199481: 2.574343569520362, 0.12295372272336057\n",
      "constant factors query and depth (99%) for 0.5808920093945671: 4.0370219791711115, 0.19281299004996352\n",
      "constant factors query and depth (99%) for 0.6664580622368365: 5.120727600774669, 0.24457206451461103\n",
      "constant factors query and depth (99%) for 0.11646759543664197: 27.452247350682555, 1.3111521122714056\n",
      "constant factors query and depth (99%) for 0.8759278817295955: 2.8658691436911985, 0.13687733223599755\n",
      "constant factors query and depth (99%) for 0.7659541126403374: 3.544537895955819, 0.1692913621949048\n",
      "constant factors query and depth (99%) for 0.26987128854262094: 9.304488495152775, 0.4443934803655057\n",
      "constant factors query and depth (99%) for 0.24545997376568052: 10.831153265829412, 0.5173088126963301\n"
     ]
    },
    {
     "data": {
      "text/plain": [
       "6.8410830755240175"
      ]
     },
     "execution_count": 29,
     "metadata": {},
     "output_type": "execute_result"
    }
   ],
   "source": [
    "perc = 99\n",
    "avg = 0.0\n",
    "for i in range(len(avals)):\n",
    "    avg += np.percentile(errors[i], perc) * num_queries[i]/len(avals)\n",
    "    print(f'constant factors query and depth ({perc}%) for {avals[i]}: {np.percentile(errors[i], perc) * num_queries[i]}, {np.percentile(errors[i], perc) * max_single_query[i]}')\n",
    "avg"
   ]
  },
  {
   "cell_type": "code",
   "execution_count": 30,
   "metadata": {},
   "outputs": [
    {
     "name": "stdout",
     "output_type": "stream",
     "text": [
      "constant factors query and depth with known signs for 0.39963209507789: 7.7149769627352045, 0.3684765116530247\n",
      "constant factors query and depth with known signs for 0.8605714451279329: 5.197818002806795, 0.24825399416390662\n",
      "constant factors query and depth with known signs for 0.6855951534491241: 7.7678825605658135, 0.37100334617627767\n",
      "constant factors query and depth with known signs for 0.5789267873576293: 6.46265852042712, 0.30866428754278785\n",
      "constant factors query and depth with known signs for 0.22481491235394924: 10.09572020016959, 0.48218365135138336\n",
      "constant factors query and depth with known signs for 0.22479561626896213: 8.42257765166158, 0.4022723654524934\n",
      "constant factors query and depth with known signs for 0.14646688973455957: 9.809597732443915, 0.46851810065403776\n",
      "constant factors query and depth with known signs for 0.7929409166199481: 5.967617873951354, 0.285020555173796\n",
      "constant factors query and depth with known signs for 0.5808920093945671: 8.661312028411515, 0.4136746043420425\n",
      "constant factors query and depth with known signs for 0.6664580622368365: 11.7308844009784, 0.5602810460168788\n",
      "constant factors query and depth with known signs for 0.11646759543664197: 15.372140905302036, 0.734191804432336\n",
      "constant factors query and depth with known signs for 0.8759278817295955: 6.658742717681149, 0.31802950293402504\n",
      "constant factors query and depth with known signs for 0.7659541126403374: 7.392203197957655, 0.35306045124573876\n",
      "constant factors query and depth with known signs for 0.26987128854262094: 10.746980117705293, 0.5132886026366708\n",
      "constant factors query and depth with known signs for 0.24545997376568052: 10.885315108890504, 0.5198956469917853\n"
     ]
    },
    {
     "data": {
      "text/plain": [
       "8.859095198779196"
      ]
     },
     "execution_count": 30,
     "metadata": {},
     "output_type": "execute_result"
    }
   ],
   "source": [
    "perc = 99\n",
    "avg = 0.0\n",
    "for j in range(len(avals)):\n",
    "    avg += 2*np.percentile(errors1[j], perc) * num_queries[j]/len(avals)\n",
    "    print(f'constant factors query and depth with known signs for {avals[j]}: {2*np.percentile(errors1[j], perc) * num_queries[j]}, {2*np.percentile(errors1[j], perc) * max_single_query[j]}')\n",
    "avg"
   ]
  },
  {
   "cell_type": "code",
   "execution_count": null,
   "metadata": {},
   "outputs": [],
   "source": []
  },
  {
   "cell_type": "code",
   "execution_count": null,
   "metadata": {},
   "outputs": [],
   "source": []
  },
  {
   "cell_type": "code",
   "execution_count": null,
   "metadata": {},
   "outputs": [],
   "source": []
  }
 ],
 "metadata": {
  "kernelspec": {
   "display_name": "Python 3 (ipykernel)",
   "language": "python",
   "name": "python3"
  },
  "language_info": {
   "codemirror_mode": {
    "name": "ipython",
    "version": 3
   },
   "file_extension": ".py",
   "mimetype": "text/x-python",
   "name": "python",
   "nbconvert_exporter": "python",
   "pygments_lexer": "ipython3",
   "version": "3.11.8"
  }
 },
 "nbformat": 4,
 "nbformat_minor": 4
}
