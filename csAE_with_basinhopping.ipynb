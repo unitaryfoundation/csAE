{
 "cells": [
  {
   "cell_type": "code",
   "execution_count": 1,
   "metadata": {},
   "outputs": [
    {
     "name": "stderr",
     "output_type": "stream",
     "text": [
      "/Users/farrokhlabib/Documents/github/csAE/.venv/lib/python3.10/site-packages/tqdm/auto.py:21: TqdmWarning: IProgress not found. Please update jupyter and ipywidgets. See https://ipywidgets.readthedocs.io/en/stable/user_install.html\n",
      "  from .autonotebook import tqdm as notebook_tqdm\n"
     ]
    },
    {
     "data": {
      "text/plain": [
       "<Figure size 640x480 with 0 Axes>"
      ]
     },
     "metadata": {},
     "output_type": "display_data"
    }
   ],
   "source": [
    "import numpy as np\n",
    "import matplotlib.pyplot as plt\n",
    "import seaborn as sns\n",
    "from signals import *\n",
    "from frequencyestimator import *\n",
    "from scipy.optimize import basinhopping, minimize\n",
    "from tqdm.auto import tqdm\n",
    "\n",
    "sns.set_style(\"whitegrid\")\n",
    "sns.despine(left=True, bottom=True)\n",
    "sns.set_context(\"poster\", font_scale = .45, rc={\"grid.linewidth\": 0.8})"
   ]
  },
  {
   "cell_type": "code",
   "execution_count": 2,
   "metadata": {},
   "outputs": [],
   "source": [
    "P0 = lambda n, theta: np.cos((2*n+1)*theta)**2\n",
    "P1 = lambda n, theta: np.sin((2*n+1)*theta)**2\n",
    "\n",
    "def estimate_signal(depths, n_samples, theta):\n",
    "        signals = np.zeros(len(depths), dtype = np.complex128)\n",
    "        measurements = np.zeros(len(depths))\n",
    "        for i,n in enumerate(depths):\n",
    "            # Get the exact measuremnt probabilities\n",
    "            p0 = P0(n, theta)\n",
    "            p1 = P1(n, theta)\n",
    "\n",
    "            p0x = P0x(n,theta)\n",
    "            p1x = P1x(n,theta)\n",
    "            \n",
    "            p0_estimate = np.random.binomial(n_samples[i], p0)/n_samples[i]\n",
    "            p1_estimate = 1 - p0_estimate\n",
    "\n",
    "            p0x_estimate = np.random.binomial(n_samples[i], p0x)/n_samples[i]\n",
    "            p1x_estimate = 1.0 - p0x_estimate\n",
    "            measurements[i] = p0_estimate\n",
    "            \n",
    "            # Estimate theta\n",
    "            theta_estimated = np.arctan2(p0x_estimate - p1x_estimate, p0_estimate - p1_estimate)\n",
    "\n",
    "            # Compute f(n) - Eq. 3\n",
    "            fi_estimate = np.exp(1.0j*theta_estimated)\n",
    "            signals[i] = fi_estimate\n",
    "         \n",
    "        return signals, measurements\n",
    "\n",
    "from scipy.stats import binom\n",
    "\n",
    "def apply_correction(ula_signal, measurements, theta_est, theta):\n",
    "    p_exact = np.cos((2*ula_signal.depths+1)*(theta))**2\n",
    "    p_neg = np.cos((2*ula_signal.depths+1)*(-theta))**2\n",
    "    p_o2 = np.cos((2 * ula_signal.depths + 1) * (theta_est/2.0)) ** 2\n",
    "    p_o4 = np.cos((2 * ula_signal.depths + 1) * (theta_est/4.0)) ** 2\n",
    "    p_same = np.cos((2*ula_signal.depths+1)*(theta_est))**2\n",
    "    p_s2 = np.cos((2 * ula_signal.depths + 1) * (np.pi/2-theta_est)) ** 2\n",
    "    p_s4 = np.cos((2 * ula_signal.depths + 1) * (np.pi / 4 - theta_est)) ** 2\n",
    "    p_s2_o2 = np.cos((2 * ula_signal.depths + 1) * (np.pi / 2 - theta_est/2)) ** 2\n",
    "    p_s4_o2 = np.cos((2 * ula_signal.depths + 1) * (np.pi / 4 - theta_est/2)) ** 2\n",
    "\n",
    "    l_exact = np.sum(\n",
    "        np.log([1e-75 + binom.pmf(ula_signal.n_samples[kk] * measurements[kk], ula_signal.n_samples[kk],\n",
    "                                  p_exact[kk]) for kk in\n",
    "                range(len(ula_signal.n_samples))]))\n",
    "    l_neg = np.sum(\n",
    "        np.log([1e-75 + binom.pmf(ula_signal.n_samples[kk] * measurements[kk], ula_signal.n_samples[kk],\n",
    "                                  p_neg[kk]) for kk in\n",
    "                range(len(ula_signal.n_samples))]))\n",
    "    l_o2 = np.sum(\n",
    "        np.log([1e-75+binom.pmf(ula_signal.n_samples[kk]*measurements[kk], ula_signal.n_samples[kk], p_o2[kk]) for kk in\n",
    "         range(len(ula_signal.n_samples))]))\n",
    "    l_o4 = np.sum(\n",
    "        np.log([1e-75+binom.pmf(ula_signal.n_samples[kk] * measurements[kk], ula_signal.n_samples[kk], p_o4[kk]) for kk in\n",
    "         range(len(ula_signal.n_samples))]))\n",
    "    l_same = np.sum(\n",
    "        np.log([1e-75+binom.pmf(ula_signal.n_samples[kk] * measurements[kk], ula_signal.n_samples[kk], p_same[kk]) for kk in\n",
    "         range(len(ula_signal.n_samples))]))\n",
    "    l_s2 = np.sum(\n",
    "        np.log([1e-75+binom.pmf(ula_signal.n_samples[kk] * measurements[kk], ula_signal.n_samples[kk], p_s2[kk]) for kk in\n",
    "         range(len(ula_signal.n_samples))]))\n",
    "    l_s4 = np.sum(\n",
    "        np.log([1e-75+binom.pmf(ula_signal.n_samples[kk] * measurements[kk], ula_signal.n_samples[kk], p_s4[kk]) for kk in\n",
    "         range(len(ula_signal.n_samples))]))\n",
    "    l_s2_o2 = np.sum(\n",
    "        np.log([1e-75+binom.pmf(ula_signal.n_samples[kk] * measurements[kk], ula_signal.n_samples[kk], p_s2_o2[kk]) for kk in\n",
    "         range(len(ula_signal.n_samples))]))\n",
    "    l_s4_o2 = np.sum(\n",
    "        np.log([1e-75+binom.pmf(ula_signal.n_samples[kk] * measurements[kk], ula_signal.n_samples[kk], p_s4_o2[kk]) for kk in\n",
    "         range(len(ula_signal.n_samples))]))\n",
    "    \n",
    "    which_correction = np.argmax([l_same, l_s2, l_s4, l_o2, l_o4, l_s2_o2, l_s4_o2, l_neg])\n",
    "    if which_correction == 1:\n",
    "        theta_est = np.pi/2.0 - theta_est\n",
    "    elif which_correction == 2:\n",
    "        theta_est = np.pi/4.0 - theta_est\n",
    "    elif which_correction == 3:\n",
    "        theta_est = theta_est/2\n",
    "    elif which_correction == 4:\n",
    "        theta_est = theta_est/4\n",
    "    elif which_correction == 5:\n",
    "        theta_est = np.pi / 2.0 - 0.5 * theta_est\n",
    "    elif which_correction == 6:\n",
    "        theta_est = np.pi / 4.0 - 0.5 * theta_est\n",
    "    # elif which_correction == 7:\n",
    "    #     theta_est = -theta_est\n",
    "\n",
    "    # print(f'FINAL ANGLE FOUND: {theta_est, theta}')\n",
    "\n",
    "    return theta_est"
   ]
  },
  {
   "cell_type": "code",
   "execution_count": 3,
   "metadata": {},
   "outputs": [
    {
     "name": "stdout",
     "output_type": "stream",
     "text": [
      "Original array: [1 1 1 1 1 1 1 1 1 1 1 1]\n",
      "\n",
      "Total variations: 40\n",
      "4*len(signs)^2: 576\n",
      "2^len(signs): 4096\n",
      "\n",
      "First few variations:\n",
      "(1, -1, -1, 1, 1, 1, 1, 1, 1, 1, 1, 1)\n",
      "(1, -1, 1, 1, 1, 1, 1, 1, 1, 1, 1, 1)\n",
      "(1, 1, -1, 1, 1, 1, 1, 1, 1, 1, 1, 1)\n",
      "(1, 1, 1, 1, 1, 1, 1, 1, 1, 1, 1, 1)\n",
      "(1, 1, -1, -1, 1, 1, 1, 1, 1, 1, 1, 1)\n",
      "(1, 1, -1, 1, 1, 1, 1, 1, 1, 1, 1, 1)\n",
      "(1, 1, 1, -1, 1, 1, 1, 1, 1, 1, 1, 1)\n",
      "(1, 1, 1, 1, 1, 1, 1, 1, 1, 1, 1, 1)\n",
      "(1, 1, 1, -1, -1, 1, 1, 1, 1, 1, 1, 1)\n",
      "(1, 1, 1, -1, 1, 1, 1, 1, 1, 1, 1, 1)\n"
     ]
    }
   ],
   "source": [
    "import numpy as np\n",
    "import itertools\n",
    "from typing import List\n",
    "\n",
    "def generate_all_sign_variations(signs_array: np.ndarray) -> np.ndarray:\n",
    "    \"\"\"\n",
    "    Generate all possible sign variations by changing signs at all possible pairs of positions.\n",
    "    \n",
    "    Parameters:\n",
    "    -----------\n",
    "    signs_array : numpy.ndarray\n",
    "        Original array of signs (typically containing 1 or -1)\n",
    "    \n",
    "    Returns:\n",
    "    --------\n",
    "    numpy.ndarray\n",
    "        Array of all possible sign variation arrays\n",
    "    \"\"\"\n",
    "    # Get all possible unique pairs of positions\n",
    "    n = len(signs_array)\n",
    "    position_pairs = list(itertools.combinations(range(n), 2))\n",
    "    \n",
    "    # Will store all variations\n",
    "    all_variations = []\n",
    "    \n",
    "    # Iterate through all possible position pairs\n",
    "    for pos1, pos2 in position_pairs:\n",
    "        # Generate variations for this pair of positions\n",
    "        pair_variations = generate_pair_variations(signs_array, pos1, pos2)\n",
    "        all_variations.extend(pair_variations)\n",
    "    \n",
    "    return all_variations\n",
    "\n",
    "def generate_adjacent_sign_variations(signs_array: np.ndarray) -> np.ndarray:\n",
    "    \"\"\"\n",
    "    Generate sign variations by sliding a two-position window across the array.\n",
    "    \n",
    "    Parameters:\n",
    "    -----------\n",
    "    signs_array : numpy.ndarray\n",
    "        Original array of signs (typically containing 1 or -1)\n",
    "    \n",
    "    Returns:\n",
    "    --------\n",
    "    numpy.ndarray\n",
    "        Array of all possible sign variation arrays\n",
    "    \"\"\"\n",
    "    # Total length of the array\n",
    "    n = len(signs_array)\n",
    "    \n",
    "    # Will store all variations\n",
    "    all_variations = []\n",
    "    \n",
    "    # Iterate through adjacent position pairs \n",
    "    # (0,1), (1,2), (2,3), ... until the second-to-last pair\n",
    "    for pos1 in range(1, n - 1):\n",
    "        pos2 = pos1 + 1\n",
    "        \n",
    "        # Generate variations for this pair of adjacent positions\n",
    "        pair_variations = generate_pair_variations(signs_array, pos1, pos2)\n",
    "        all_variations.extend(pair_variations)\n",
    "    \n",
    "    return all_variations\n",
    "\n",
    "def generate_pair_variations(signs_array: np.ndarray, pos1: int, pos2: int) -> List[np.ndarray]:\n",
    "    \"\"\"\n",
    "    Generate sign variations for a specific pair of positions.\n",
    "    \n",
    "    Parameters:\n",
    "    -----------\n",
    "    signs_array : numpy.ndarray\n",
    "        Original array of signs\n",
    "    pos1 : int\n",
    "        First position to modify\n",
    "    pos2 : int\n",
    "        Second position to modify\n",
    "    \n",
    "    Returns:\n",
    "    --------\n",
    "    List[numpy.ndarray]\n",
    "        List of sign variation arrays\n",
    "    \"\"\"\n",
    "    # Validate input positions\n",
    "    if pos1 < 0 or pos2 < 0 or pos1 >= len(signs_array) or pos2 >= len(signs_array):\n",
    "        raise ValueError(\"Positions must be within the array bounds\")\n",
    "    \n",
    "    # Generate all possible sign combinations for the two positions\n",
    "    sign_combinations = list(itertools.product([-1, 1], repeat=2))\n",
    "    \n",
    "    # Create variations\n",
    "    variations = []\n",
    "    for combo in sign_combinations:\n",
    "        # Create a copy of the original array\n",
    "        variation = signs_array.copy()\n",
    "        \n",
    "        # Modify the two specified positions\n",
    "        variation[pos1] *= combo[0]\n",
    "        variation[pos2] *= combo[1]\n",
    "        \n",
    "        variations.append(tuple(variation))\n",
    "    \n",
    "    return variations\n",
    "\n",
    "\n",
    "# Example array\n",
    "signs = np.array([1]*12)\n",
    "\n",
    "# Generate variations for all position pairs\n",
    "all_variations = generate_adjacent_sign_variations(signs)\n",
    "\n",
    "print(\"Original array:\", signs)\n",
    "print(f\"\\nTotal variations: {len(all_variations)}\")\n",
    "print(f'4*len(signs)^2: {4*len(signs)**2}')\n",
    "print(f'2^len(signs): {2**len(signs)}')\n",
    "\n",
    "print(\"\\nFirst few variations:\")\n",
    "for var in all_variations[:10]:  # Print first 10 variations\n",
    "    print(var)"
   ]
  },
  {
   "cell_type": "markdown",
   "metadata": {},
   "source": [
    "## Define the objective function to minimize"
   ]
  },
  {
   "cell_type": "code",
   "execution_count": 4,
   "metadata": {},
   "outputs": [],
   "source": [
    "def objective_function(lp, cos_signal, abs_sin, ula_signal, esprit):   \n",
    "    signal = cos_signal + 1.0j * lp * abs_sin\n",
    "    R = ula_signal.get_cov_matrix_toeplitz(signal)\n",
    "    _, _ = esprit.estimate_theta_toeplitz(R)\n",
    "    eigs = np.abs(esprit.eigs)[:2]\n",
    "    obj = eigs[1] - eigs[0]\n",
    "\n",
    "    return obj"
   ]
  },
  {
   "cell_type": "markdown",
   "metadata": {},
   "source": [
    "## What is the distribution of the signs? "
   ]
  },
  {
   "cell_type": "code",
   "execution_count": 5,
   "metadata": {},
   "outputs": [],
   "source": [
    "narray = [2,2,2,2,2,2,2,3]\n",
    "\n",
    "# avals = np.linspace(0.1, 0.9, 8)\n",
    "avals = [0.1*i for i in range(1, 10)]\n",
    "\n",
    "ula_signal = TwoqULASignal(M=narray, C=5)\n",
    "esprit = ESPIRIT()\n",
    "\n",
    "num_mc = 1000\n",
    "\n",
    "sign_distributions = {}\n",
    "\n",
    "for a in avals:\n",
    "    theta = np.arcsin(a)\n",
    "    distr = {}\n",
    "    for i in range(num_mc):\n",
    "        signal, _ = estimate_signal(ula_signal.depths, ula_signal.n_samples, theta)\n",
    "        # print(measurements)\n",
    "        signs = tuple(np.sign(np.imag(signal)))\n",
    "        # print(signs)\n",
    "\n",
    "        distr[signs] = distr.get(signs, 0.0) + 1/num_mc\n",
    "    sign_distributions[str(a)] = distr\n",
    "\n"
   ]
  },
  {
   "cell_type": "code",
   "execution_count": 6,
   "metadata": {},
   "outputs": [
    {
     "data": {
      "text/plain": [
       "(1024, 19)"
      ]
     },
     "execution_count": 6,
     "metadata": {},
     "output_type": "execute_result"
    }
   ],
   "source": [
    "2**len(ula_signal.depths), len(sign_distributions['0.1'])"
   ]
  },
  {
   "cell_type": "code",
   "execution_count": 7,
   "metadata": {},
   "outputs": [
    {
     "data": {
      "text/plain": [
       "123"
      ]
     },
     "execution_count": 7,
     "metadata": {},
     "output_type": "execute_result"
    }
   ],
   "source": [
    "all_signs = set()\n",
    "for a in avals:\n",
    "    distr = sign_distributions[str(a)]\n",
    "    for sign in distr.keys():\n",
    "        all_signs.add(sign)\n",
    "len(all_signs)"
   ]
  },
  {
   "cell_type": "code",
   "execution_count": 8,
   "metadata": {},
   "outputs": [
    {
     "data": {
      "text/plain": [
       "0.1201171875"
      ]
     },
     "execution_count": 8,
     "metadata": {},
     "output_type": "execute_result"
    }
   ],
   "source": [
    "len(all_signs)/2**len(ula_signal.depths)"
   ]
  },
  {
   "cell_type": "code",
   "execution_count": 9,
   "metadata": {},
   "outputs": [],
   "source": [
    "narray = [2,2,2,2,2,3]\n",
    "\n",
    "def get_heavy_signs(narray, steps):\n",
    "\n",
    "    thetas = np.linspace(np.arcsin(0.09), np.arcsin(0.91), steps)\n",
    "    avals = np.sin(thetas)\n",
    "\n",
    "    ula_signal = TwoqULASignal(M=narray, C=5)\n",
    "\n",
    "    num_mc = 1000\n",
    "\n",
    "    sign_distributions = {}\n",
    "\n",
    "    for a,theta in zip(avals,thetas):\n",
    "        # theta = np.arcsin(a)\n",
    "        distr = {}\n",
    "        for i in range(num_mc):\n",
    "            signal, _ = estimate_signal(ula_signal.depths, ula_signal.n_samples, theta)\n",
    "                # print(measurements)\n",
    "            signs = tuple(np.sign(np.imag(signal)))\n",
    "            # print(signs)\n",
    "\n",
    "            distr[signs] = distr.get(signs, 0.0) + 1/num_mc\n",
    "        sign_distributions[str(a)] = distr\n",
    "\n",
    "    def get_signs(sign_distribution):\n",
    "        # Sort the dictionary by values in descending order\n",
    "        sorted_data = dict(sorted(sign_distribution.items(), key=lambda item: item[1], reverse=True))\n",
    "\n",
    "        # Create a new dictionary with cumulative sum close to 0.68\n",
    "        cumulative_dict = {}\n",
    "        cumulative_sum = 0.0\n",
    "\n",
    "        for key, value in sorted_data.items():\n",
    "            cumulative_dict[key] = value\n",
    "            if cumulative_sum + value > 0.9:\n",
    "                break\n",
    "            cumulative_sum += value\n",
    "\n",
    "        # Output the result\n",
    "        return cumulative_dict\n",
    "    \n",
    "    ret_dict = {}\n",
    "    for a in avals:\n",
    "        distr = get_signs(sign_distributions[str(a)])\n",
    "        ret_dict[str(a)] = distr\n",
    " \n",
    "    # Normalize the values\n",
    "    normalized_data = {}\n",
    "    for key, sub_dict in ret_dict.items():\n",
    "        total_sum = sum(sub_dict.values())\n",
    "        normalized_data[key] = {k: v / total_sum for k, v in sub_dict.items()}\n",
    "\n",
    "    return normalized_data\n",
    "\n",
    "normalized_data = get_heavy_signs(narray, 10)\n"
   ]
  },
  {
   "cell_type": "code",
   "execution_count": 10,
   "metadata": {},
   "outputs": [
    {
     "name": "stdout",
     "output_type": "stream",
     "text": [
      "Sampled keys: [(1.0, 1.0, 1.0, 1.0, 1.0, -1.0, -1.0, -1.0), (1.0, 1.0, 1.0, 1.0, 1.0, -1.0, -1.0, -1.0), (1.0, 1.0, 1.0, 1.0, 1.0, -1.0, -1.0, -1.0)]\n"
     ]
    }
   ],
   "source": [
    "import ast\n",
    "# Taking a random sample based on the normalized probabilities\n",
    "def sample_from_normalized(data, sample_size=1):\n",
    "    keys = list(map(str, list(data.keys())))\n",
    "    probabilities = list(data.values())\n",
    "    sampled_keys = np.random.choice(a=keys, size=sample_size, p=probabilities)\n",
    "    return [ast.literal_eval(t) for t in sampled_keys]\n",
    "avals = list(normalized_data.keys())\n",
    "# Get one random sample\n",
    "sampled = sample_from_normalized(normalized_data[avals[0]], sample_size=3)\n",
    "print(\"Sampled keys:\",sampled)"
   ]
  },
  {
   "cell_type": "code",
   "execution_count": 11,
   "metadata": {},
   "outputs": [
    {
     "data": {
      "text/plain": [
       "array(['pooh', 'rabbit', 'rabbit', 'pooh', 'pooh'], dtype='<U11')"
      ]
     },
     "execution_count": 11,
     "metadata": {},
     "output_type": "execute_result"
    }
   ],
   "source": [
    "aa_milne_arr = ['pooh', 'rabbit', 'piglet', 'Christopher']\n",
    "np.random.choice(aa_milne_arr, 5, p=[0.5, 0.1, 0.1, 0.3])"
   ]
  },
  {
   "cell_type": "markdown",
   "metadata": {},
   "source": [
    "## Use the distribution of signs so we don't have to try all possible signs"
   ]
  },
  {
   "cell_type": "code",
   "execution_count": 12,
   "metadata": {},
   "outputs": [
    {
     "name": "stdout",
     "output_type": "stream",
     "text": [
      "0.2\n",
      "correct signs: [ 1.  1.  1. -1.  1.  1.  1.  1.  1.]\n",
      "rough estimate a: 0.25398969689445183\n",
      "avals to use: ['0.20566184157877418', '0.22199184853142423', '0.23825982055751374', '0.2544612116232283', '0.2705914943005945', '0.286646161032655']\n",
      "number of signs Hamming distance two: 78\n",
      "current objective: -215.11216039028844\n",
      "current best signs: (1.0, 1.0, 1.0, -1.0, -1.0, -1.0, -1.0, 1.0, 1.0)\n",
      "current objective: -277.658017897294\n",
      "current best signs: (1.0, 1.0, 1.0, -1.0, 1.0, 1.0, -1.0, -1.0, -1.0)\n",
      "current objective: -281.63154299339334\n",
      "current best signs: (1.0, 1.0, 1.0, -1.0, -1.0, 1.0, -1.0, -1.0, -1.0)\n",
      "current objective: -379.30786781480293\n",
      "current best signs: (1.0, 1.0, 1.0, -1.0, 1.0, 1.0, 1.0, 1.0, 1.0)\n",
      "[ 1.  1.  1. -1.  1.  1.  1.  1.  1.]\n",
      "basin obj: -379.3078678148037\n",
      "true obj: -379.3078678148032\n"
     ]
    },
    {
     "data": {
      "text/plain": [
       "{'theta_est': 0.2004110686402131,\n",
       " 'theta_est1': 0.2004110686402131,\n",
       " 'error': 0.0009278113661293497,\n",
       " 'error1': 0.0009278113661293497,\n",
       " 'queries': 2600,\n",
       " 'depth': 128,\n",
       " 'true_obj': -379.3078678148032,\n",
       " 'basin_obj': -379.3078678148037,\n",
       " 'x_star': array([ 1.,  1.,  1., -1.,  1.,  1.,  1.,  1.,  1.])}"
      ]
     },
     "execution_count": 12,
     "metadata": {},
     "output_type": "execute_result"
    }
   ],
   "source": [
    "# np.random.seed(42)\n",
    "\n",
    "a = 0.2\n",
    "print(a)\n",
    "theta = np.arcsin(a)\n",
    "\n",
    "narray = [2,2,2,2,2,2,2,2]\n",
    "heavy_signs = get_heavy_signs(narray, len(narray)**2)\n",
    "\n",
    "ula_signal = TwoqULASignal(M=narray, C=5)\n",
    "esprit = ESPIRIT()\n",
    "\n",
    "def csae_with_local_minimization(theta, ula_signal, esprit, heavy_signs, sample=False, correction=False, optimize=False, method='nelder-mead', maxiter=10, disp=False):\n",
    "\n",
    "    depths = ula_signal.depths\n",
    "    n_samples = ula_signal.n_samples\n",
    "    csignal, measurements = estimate_signal(depths, n_samples, theta)\n",
    "\n",
    "    cos_signal = np.real(csignal)\n",
    "\n",
    "    correct_signs = np.sign(np.imag(csignal))\n",
    "    if disp:\n",
    "        print(f'correct signs: {correct_signs}')\n",
    "    abs_sin = np.abs(np.imag(csignal))\n",
    "\n",
    "    obj = 1.0\n",
    "    if sample:\n",
    "        avals = list(heavy_signs.keys())\n",
    "        signs_to_try = {}\n",
    "        for a in avals:\n",
    "            signs_to_try[a] = list(set(sample_from_normalized(heavy_signs[a], sample_size=2)))\n",
    "\n",
    "        if optimize:\n",
    "            # rough estimate where the amplitude is\n",
    "            a0 = np.sqrt(0.5 - 0.5 * cos_signal[0])\n",
    "            # use rough estimate to determine which set of signs to look at\n",
    "            avals = list(map(float, avals))\n",
    "\n",
    "            # find first element in avals that is larger than a0\n",
    "            left = 0\n",
    "            right = len(avals)\n",
    "            \n",
    "            while left < right:\n",
    "                mid = (left + right) // 2\n",
    "                \n",
    "                if avals[mid] <= a0:\n",
    "                    left = mid + 1\n",
    "                else:\n",
    "                    right = mid\n",
    "            L=3\n",
    "            if left >= 4:\n",
    "                avals_to_use = list(map(str, avals[left-L: left+L]))\n",
    "            if left >= 3:\n",
    "                avals_to_use = list(map(str, avals[left-3: left+L]))\n",
    "            elif left>=2:\n",
    "                avals_to_use = list(map(str, avals[left-2: left+L]))\n",
    "            elif left>=1:\n",
    "                avals_to_use = list(map(str, avals[left-1: left+L]))\n",
    "            else:\n",
    "                avals_to_use = list(map(str, avals[left: left+L]))\n",
    "\n",
    "            if disp:\n",
    "                print(f'rough estimate a: {a0}')\n",
    "                print(f'avals to use: {avals_to_use}')\n",
    "\n",
    "            all_signs = []\n",
    "            for a in avals_to_use:\n",
    "                for x in signs_to_try[a]:\n",
    "                    hamming_distance_two_signs = generate_adjacent_sign_variations(np.array(x))\n",
    "                    all_signs.extend(hamming_distance_two_signs)\n",
    "            all_signs = list(set(all_signs))\n",
    "            if disp:\n",
    "                print(f'number of signs Hamming distance two: {len(all_signs)}')\n",
    "\n",
    "            for x in all_signs:\n",
    "                curr_obj = objective_function(np.array(x), cos_signal, abs_sin, ula_signal, esprit)\n",
    "                if curr_obj<obj:\n",
    "                    if disp:\n",
    "                        print(f'current objective: {curr_obj}')\n",
    "                        print(f'current best signs: {x}')\n",
    "                    obj = curr_obj\n",
    "                    x_star = np.array(x)\n",
    "\n",
    "\n",
    "        else:\n",
    "            all_signs = []\n",
    "            for a in avals:\n",
    "                all_signs.extend(heavy_signs[a])\n",
    "            all_signs = list(set(all_signs))\n",
    "            for x in all_signs:\n",
    "                basin_obj = objective_function(np.array(x), cos_signal, abs_sin, ula_signal, esprit)\n",
    "                if basin_obj < obj:\n",
    "                    obj = basin_obj\n",
    "                    x_star = np.array(x)\n",
    "    else:\n",
    "        avals = list(heavy_signs.keys())\n",
    "        signs_to_try = {}\n",
    "        for a in avals:\n",
    "            signs_to_try[a] = heavy_signs[a]\n",
    "\n",
    "        if optimize:\n",
    "            # rough estimate where the amplitude is\n",
    "            a0 = np.sqrt(0.5 - 0.5 * cos_signal[0])\n",
    "            # use rough estimate to determine which set of signs to look at\n",
    "            avals = list(map(float, avals))\n",
    "\n",
    "            # find first element in avals that is larger than a0\n",
    "            left = 0\n",
    "            right = len(avals)\n",
    "            \n",
    "            while left < right:\n",
    "                mid = (left + right) // 2\n",
    "                \n",
    "                if avals[mid] <= a0:\n",
    "                    left = mid + 1\n",
    "                else:\n",
    "                    right = mid\n",
    "            L=2\n",
    "            if left >= 4:\n",
    "                avals_to_use = list(map(str, avals[left-L: left+L]))\n",
    "            if left >= 3:\n",
    "                avals_to_use = list(map(str, avals[left-3: left+L]))\n",
    "            elif left>=2:\n",
    "                avals_to_use = list(map(str, avals[left-2: left+L]))\n",
    "            elif left>=1:\n",
    "                avals_to_use = list(map(str, avals[left-1: left+L]))\n",
    "            else:\n",
    "                avals_to_use = list(map(str, avals[left: left+L]))\n",
    "\n",
    "            if disp:\n",
    "                print(f'rough estimate a: {a0}')\n",
    "                print(f'avals to use: {avals_to_use}')\n",
    "\n",
    "            all_signs = []\n",
    "            for a in avals_to_use:\n",
    "                for x in signs_to_try[a]:\n",
    "                    hamming_distance_two_signs = generate_adjacent_sign_variations(np.array(x))\n",
    "                    all_signs.extend(hamming_distance_two_signs)\n",
    "            all_signs = list(set(all_signs))\n",
    "            if disp:\n",
    "                print(f'number of signs Hamming distance two: {len(all_signs)}')\n",
    "\n",
    "            for x in all_signs:\n",
    "                curr_obj = objective_function(np.array(x), cos_signal, abs_sin, ula_signal, esprit)\n",
    "                if curr_obj<obj:\n",
    "                    if disp:\n",
    "                        print(f'current objective: {curr_obj}')\n",
    "                        print(f'current best signs: {x}')\n",
    "                    obj = curr_obj\n",
    "                    x_star = np.array(x)\n",
    "\n",
    "\n",
    "        else:\n",
    "            all_signs = []\n",
    "            for a in avals:\n",
    "                all_signs.extend(heavy_signs[a])\n",
    "            all_signs = list(set(all_signs))\n",
    "            if disp:\n",
    "                print(f'number of signs to try: {len(all_signs)}')\n",
    "            for x in all_signs:\n",
    "                basin_obj = objective_function(np.array(x), cos_signal, abs_sin, ula_signal, esprit)\n",
    "                if basin_obj < obj:\n",
    "                    obj = basin_obj\n",
    "                    x_star = np.array(x)\n",
    "    if disp:\n",
    "        print(x_star)\n",
    "        \n",
    "    signal = cos_signal + 1.0j * x_star * abs_sin\n",
    "    R = ula_signal.get_cov_matrix_toeplitz(signal)\n",
    "    theta_est, _ = esprit.estimate_theta_toeplitz(R)\n",
    "    eigs = np.abs(esprit.eigs)[:2]\n",
    "    basin_obj = eigs[1] - eigs[0]\n",
    "    if correction:\n",
    "        theta_est = apply_correction(ula_signal, measurements, theta_est, theta) #apply correction\n",
    "    if disp:\n",
    "        print(f'basin obj: {basin_obj}')\n",
    "\n",
    "    cR = ula_signal.get_cov_matrix_toeplitz(csignal)\n",
    "    theta_est1, _ = esprit.estimate_theta_toeplitz(cR)\n",
    "    eigs = np.abs(esprit.eigs)[:2]\n",
    "    true_obj = eigs[1] - eigs[0]\n",
    "    if disp:\n",
    "        print(f'true obj: {true_obj}')\n",
    "\n",
    "    num_queries = np.sum(np.array(ula_signal.depths)*np.array(ula_signal.n_samples)) + ula_signal.n_samples[0]\n",
    "    # Compute the maximum single query\n",
    "    max_single_query = np.max(ula_signal.depths)\n",
    "\n",
    "    ret_dict = {'theta_est': theta_est, 'theta_est1': theta_est1, \n",
    "                'error': np.abs(np.sin(theta)-np.sin(theta_est)), \n",
    "                'error1': np.abs(np.sin(theta)-np.sin(theta_est1)), \n",
    "                'queries': num_queries, 'depth': max_single_query,\n",
    "                'true_obj': true_obj, 'basin_obj': basin_obj,\n",
    "                'x_star': x_star}\n",
    "    \n",
    "    return ret_dict\n",
    "\n",
    "csae_with_local_minimization(theta, ula_signal, esprit, heavy_signs, sample=True, correction=True, optimize=True, disp=True)"
   ]
  },
  {
   "cell_type": "markdown",
   "metadata": {},
   "source": [
    "## Let's do some statistics now"
   ]
  },
  {
   "cell_type": "code",
   "execution_count": 13,
   "metadata": {},
   "outputs": [
    {
     "name": "stdout",
     "output_type": "stream",
     "text": [
      "theta = 0.1001674211615598\n"
     ]
    },
    {
     "name": "stderr",
     "output_type": "stream",
     "text": [
      "100%|██████████| 100/100 [00:04<00:00, 20.01it/s]\n"
     ]
    },
    {
     "name": "stdout",
     "output_type": "stream",
     "text": [
      "constant factors query and depth: 5.153695491652375, 0.41024441724596017\n",
      "theta = 0.2013579207903308\n"
     ]
    },
    {
     "name": "stderr",
     "output_type": "stream",
     "text": [
      "100%|██████████| 100/100 [00:04<00:00, 20.83it/s]\n"
     ]
    },
    {
     "name": "stdout",
     "output_type": "stream",
     "text": [
      "constant factors query and depth: 254.1935620168903, 20.234313394379328\n",
      "theta = 0.30469265401539747\n"
     ]
    },
    {
     "name": "stderr",
     "output_type": "stream",
     "text": [
      "100%|██████████| 100/100 [00:04<00:00, 20.79it/s]\n"
     ]
    },
    {
     "name": "stdout",
     "output_type": "stream",
     "text": [
      "constant factors query and depth: 225.0082163329581, 17.911101797648406\n",
      "theta = 0.41151684606748806\n"
     ]
    },
    {
     "name": "stderr",
     "output_type": "stream",
     "text": [
      "100%|██████████| 100/100 [00:04<00:00, 20.88it/s]\n"
     ]
    },
    {
     "name": "stdout",
     "output_type": "stream",
     "text": [
      "constant factors query and depth: 35.10395713055236, 2.7943448462131233\n",
      "theta = 0.5235987755982988\n"
     ]
    },
    {
     "name": "stderr",
     "output_type": "stream",
     "text": [
      "100%|██████████| 100/100 [00:04<00:00, 20.88it/s]\n"
     ]
    },
    {
     "name": "stdout",
     "output_type": "stream",
     "text": [
      "constant factors query and depth: 3.300805248660273, 0.2627506665600217\n",
      "theta = 0.6435011087932844\n"
     ]
    },
    {
     "name": "stderr",
     "output_type": "stream",
     "text": [
      "100%|██████████| 100/100 [00:04<00:00, 20.78it/s]\n"
     ]
    },
    {
     "name": "stdout",
     "output_type": "stream",
     "text": [
      "constant factors query and depth: 2.4893902026405312, 0.1981604141405398\n",
      "theta = 0.775397496610753\n"
     ]
    },
    {
     "name": "stderr",
     "output_type": "stream",
     "text": [
      "100%|██████████| 100/100 [00:04<00:00, 20.80it/s]\n"
     ]
    },
    {
     "name": "stdout",
     "output_type": "stream",
     "text": [
      "constant factors query and depth: 120.56505786781861, 9.59721853674178\n",
      "theta = 0.9272952180016123\n"
     ]
    },
    {
     "name": "stderr",
     "output_type": "stream",
     "text": [
      "100%|██████████| 100/100 [00:04<00:00, 20.89it/s]\n"
     ]
    },
    {
     "name": "stdout",
     "output_type": "stream",
     "text": [
      "constant factors query and depth: 1.8277744461952063, 0.1454944832792204\n",
      "theta = 1.1197695149986342\n"
     ]
    },
    {
     "name": "stderr",
     "output_type": "stream",
     "text": [
      "100%|██████████| 100/100 [00:04<00:00, 20.85it/s]"
     ]
    },
    {
     "name": "stdout",
     "output_type": "stream",
     "text": [
      "constant factors query and depth: 99.78142913657155, 7.9428003292793266\n"
     ]
    },
    {
     "name": "stderr",
     "output_type": "stream",
     "text": [
      "\n"
     ]
    }
   ],
   "source": [
    "np.random.seed(42)\n",
    "\n",
    "avals = [0.1, 0.2, 0.3, 0.4, 0.5, 0.6, 0.7, 0.8, 0.9]\n",
    "# avals = [0.2]\n",
    "# avals = [0.5, 0.6, 0.7, 0.8, 0.9]\n",
    "narray = [2]*6\n",
    "heavy_signs = get_heavy_signs(narray, len(narray))\n",
    "num_queries = np.zeros(len(avals), dtype=int)\n",
    "max_single_query = np.zeros(len(avals), dtype=int)\n",
    "\n",
    "num_mc=100\n",
    "thetas = np.zeros((len(avals), num_mc))\n",
    "errors = np.zeros((len(avals), num_mc))\n",
    "thetas1 = np.zeros((len(avals), num_mc))\n",
    "errors1 = np.zeros((len(avals), num_mc))\n",
    "\n",
    "basin_obj = np.zeros((len(avals), num_mc))\n",
    "true_obj = np.zeros((len(avals), num_mc))\n",
    "\n",
    "ula_signal = TwoqULASignal(M=narray, C=3)\n",
    "esprit = ESPIRIT()\n",
    "\n",
    "for j,a in enumerate(avals):\n",
    "    theta = np.arcsin(a)\n",
    "    print(f'theta = {theta}')\n",
    "    for i in tqdm(range(num_mc)):\n",
    "        res = csae_with_local_minimization(theta, ula_signal, esprit, heavy_signs, sample=False, optimize=False, disp=False)\n",
    "        thetas[j][i] = res['theta_est']\n",
    "        errors[j][i] = res['error']\n",
    "\n",
    "        thetas1[j][i] = res['theta_est1']\n",
    "        errors1[j][i] = res['error1']\n",
    "\n",
    "        basin_obj[j][i] = res['basin_obj']\n",
    "        true_obj[j][i] = res['true_obj']\n",
    "    num_queries[j] = res['queries']\n",
    "    max_single_query[j] = res['depth']\n",
    "\n",
    "\n",
    "    print(f'constant factors query and depth: {np.percentile(errors[j], 95) * num_queries[j]}, {np.percentile(errors[j], 95) * max_single_query[j]}')\n",
    "\n",
    "\n"
   ]
  },
  {
   "cell_type": "code",
   "execution_count": 14,
   "metadata": {},
   "outputs": [
    {
     "name": "stdout",
     "output_type": "stream",
     "text": [
      "0.69\n",
      "0.18\n",
      "1.0\n",
      "0.88\n",
      "0.8\n",
      "1.0\n",
      "0.45\n",
      "1.0\n",
      "0.13\n"
     ]
    }
   ],
   "source": [
    "for i in range(len(avals)):\n",
    "    print(np.sum(np.where(np.array(basin_obj[i])/np.array(true_obj[i]) >= 0.99, 1, 0))/len(basin_obj[i]))"
   ]
  },
  {
   "cell_type": "code",
   "execution_count": 38,
   "metadata": {},
   "outputs": [
    {
     "name": "stdout",
     "output_type": "stream",
     "text": [
      "learning the distribution of signs...\n",
      "theta = 0.7073423981098835\n"
     ]
    },
    {
     "name": "stderr",
     "output_type": "stream",
     "text": [
      "100%|██████████| 100/100 [00:09<00:00, 10.13it/s]\n"
     ]
    },
    {
     "name": "stdout",
     "output_type": "stream",
     "text": [
      "constant factors query and depth: 5.047470168911924, 0.24107320209728592\n",
      "theta = 1.076464090602309\n"
     ]
    },
    {
     "name": "stderr",
     "output_type": "stream",
     "text": [
      "100%|██████████| 100/100 [00:10<00:00,  9.74it/s]\n"
     ]
    },
    {
     "name": "stdout",
     "output_type": "stream",
     "text": [
      "constant factors query and depth: 1.6628874003715497, 0.07942148777893969\n",
      "theta = 0.9153854581288509\n"
     ]
    },
    {
     "name": "stderr",
     "output_type": "stream",
     "text": [
      "100%|██████████| 100/100 [00:10<00:00,  9.80it/s]"
     ]
    },
    {
     "name": "stdout",
     "output_type": "stream",
     "text": [
      "constant factors query and depth: 3.503333415480857, 0.16732338700804092\n"
     ]
    },
    {
     "name": "stderr",
     "output_type": "stream",
     "text": [
      "\n"
     ]
    }
   ],
   "source": [
    "np.random.seed(42)\n",
    "\n",
    "avals = [0.1, 0.2, 0.3, 0.4, 0.5, 0.6, 0.7, 0.8, 0.9]\n",
    "# avals = [np.random.uniform(0.1, 0.9)]\n",
    "# avals = [0.5, 0.6, 0.7, 0.8, 0.9]\n",
    "avals = [0.1, 0.2, 0.3]\n",
    "avals = [np.random.uniform(0.5, 0.9) for _ in range(3)]\n",
    "# narray = [2]*5 + [3]\n",
    "narray = [2]*6\n",
    "\n",
    "print('learning the distribution of signs...')\n",
    "heavy_signs = get_heavy_signs(narray, int(4*len(narray)))\n",
    "num_queries = np.zeros(len(avals), dtype=int)\n",
    "max_single_query = np.zeros(len(avals), dtype=int)\n",
    "\n",
    "num_mc=100\n",
    "thetas = np.zeros((len(avals), num_mc))\n",
    "errors = np.zeros((len(avals), num_mc))\n",
    "thetas1 = np.zeros((len(avals), num_mc))\n",
    "errors1 = np.zeros((len(avals), num_mc))\n",
    "\n",
    "basin_obj = np.zeros((len(avals), num_mc))\n",
    "true_obj = np.zeros((len(avals), num_mc))\n",
    "\n",
    "ula_signal = TwoqULASignal(M=narray, C=5)\n",
    "esprit = ESPIRIT()\n",
    "\n",
    "for j,a in enumerate(avals):\n",
    "    theta = np.arcsin(a)\n",
    "    print(f'theta = {theta}')\n",
    "    for i in tqdm(range(num_mc)):\n",
    "        res = csae_with_local_minimization(theta, ula_signal, esprit, heavy_signs, sample=True, correction=True, optimize=True, disp=False)\n",
    "        thetas[j][i] = res['theta_est']\n",
    "        errors[j][i] = res['error']\n",
    "\n",
    "        thetas1[j][i] = res['theta_est1']\n",
    "        errors1[j][i] = res['error1']\n",
    "\n",
    "        basin_obj[j][i] = res['basin_obj']\n",
    "        true_obj[j][i] = res['true_obj']\n",
    "    num_queries[j] = res['queries']\n",
    "    max_single_query[j] = res['depth']\n",
    "\n",
    "    print(f'constant factors query and depth: {np.percentile(errors[j], 95) * num_queries[j]}, {np.percentile(errors[j], 95) * max_single_query[j]}')"
   ]
  },
  {
   "cell_type": "code",
   "execution_count": 40,
   "metadata": {},
   "outputs": [
    {
     "name": "stdout",
     "output_type": "stream",
     "text": [
      "0.98\n",
      "0.99\n",
      "1.0\n"
     ]
    }
   ],
   "source": [
    "for i in range(len(avals)):\n",
    "    print(np.sum(np.where(np.array(basin_obj[i])/np.array(true_obj[i]) >= 0.99, 1, 0))/len(basin_obj[i]))"
   ]
  },
  {
   "cell_type": "code",
   "execution_count": 30,
   "metadata": {},
   "outputs": [
    {
     "data": {
      "text/plain": [
       "(array([1.04622707, 1.        , 1.        , 1.04172664, 1.00054807,\n",
       "        1.        , 1.07144225, 1.00158999, 1.03053211, 1.05616181,\n",
       "        1.00883563, 1.00019169, 1.00399656, 1.01475438, 1.00622753,\n",
       "        1.01995641, 1.        , 1.        , 1.01304515, 1.        ,\n",
       "        1.        , 1.02735191, 1.        , 1.        , 1.        ,\n",
       "        1.0543875 , 1.        , 1.01950676, 1.        , 1.        ,\n",
       "        1.0051716 , 1.00998773, 1.        , 1.        , 1.01300575,\n",
       "        1.        , 1.        , 1.        , 1.        , 1.        ,\n",
       "        1.        , 1.        , 1.00528447, 1.14180628, 1.        ,\n",
       "        1.00084852, 1.00295001, 1.        , 1.        , 1.3899624 ,\n",
       "        1.00364448, 1.        , 1.        , 1.00167909, 1.0227291 ,\n",
       "        1.00300997, 1.00057497, 0.99153967, 1.        , 1.12532705,\n",
       "        1.        , 1.00326244, 1.1203493 , 1.        , 0.9992473 ,\n",
       "        1.        , 1.        , 1.        , 1.00670482, 1.        ,\n",
       "        1.01845463, 1.01379585, 1.00125124, 1.        , 1.        ,\n",
       "        1.        , 1.        , 1.        , 1.00484786, 1.        ,\n",
       "        1.        , 1.01033736, 1.        , 1.        , 1.        ,\n",
       "        0.99602476, 1.00355589, 1.        , 1.02327908, 1.        ,\n",
       "        1.        , 1.        , 1.00320542, 1.00294487, 1.32032107,\n",
       "        1.02271354, 1.        , 1.        , 1.        , 1.        ]),\n",
       " 1.0)"
      ]
     },
     "execution_count": 30,
     "metadata": {},
     "output_type": "execute_result"
    }
   ],
   "source": [
    "i=2\n",
    "np.array(basin_obj[i])/np.array(true_obj[i]), np.sum(np.where(np.array(basin_obj[i])/np.array(true_obj[i]) >= 0.99, 1, 0))/len(basin_obj[i])"
   ]
  },
  {
   "cell_type": "code",
   "execution_count": 31,
   "metadata": {},
   "outputs": [
    {
     "data": {
      "text/plain": [
       "(array([ 0.34100766,  0.3219452 ,  0.31903149,  0.32361739,  0.31817794,\n",
       "         0.31979209,  0.3158515 ,  0.31953527,  0.31538166,  0.32443249,\n",
       "         0.3160303 ,  0.32648398,  0.31979343,  0.34017161,  0.31944942,\n",
       "         0.31857608,  0.31806788,  0.32177377,  0.33944209,  0.31440854,\n",
       "         0.32583992,  0.3197517 ,  0.31724326,  0.32173441,  0.31915967,\n",
       "         0.32430029,  0.31912938,  0.31841071,  0.31601767,  0.31745404,\n",
       "         0.32135682,  0.31599551,  0.31669707,  0.32227794,  0.32286096,\n",
       "         0.32251445,  0.31800379,  0.3185536 ,  0.32139924,  0.31850476,\n",
       "         0.32160444,  0.31733349,  0.32132075,  0.32168481,  0.32369924,\n",
       "         0.32165546,  0.3219062 ,  0.31942124,  0.32454267,  0.3165256 ,\n",
       "         0.31555047,  0.31626846,  0.32175548,  0.3253274 ,  0.32253585,\n",
       "         0.32120748, -0.32434622,  0.31869608,  0.31641876,  0.3137601 ,\n",
       "         0.32437862,  0.32517706,  0.32233451,  0.31835712,  0.31745301,\n",
       "         0.31467255,  0.31592886,  0.31365387,  0.31933322,  0.31425143,\n",
       "         0.32012793,  0.32112738,  0.31746907,  0.31697089,  0.31590526,\n",
       "         0.3155222 ,  0.31649504,  0.31608151,  0.32166356,  0.31872419,\n",
       "         0.31879782,  0.32308153,  0.3144068 ,  0.31924269,  0.31690531,\n",
       "         0.31761208,  0.31863338,  0.3229982 ,  0.3161686 ,  0.31935859,\n",
       "         0.32264131,  0.3213742 ,  0.32419802,  0.31853784,  0.32043954,\n",
       "         0.31502929,  0.31910619,  0.31686355,  0.3200266 ,  0.32311965]),\n",
       " 0.31959818254342154)"
      ]
     },
     "execution_count": 31,
     "metadata": {},
     "output_type": "execute_result"
    }
   ],
   "source": [
    "np.sin(thetas[i]), avals[i]"
   ]
  },
  {
   "cell_type": "code",
   "execution_count": 41,
   "metadata": {},
   "outputs": [
    {
     "name": "stdout",
     "output_type": "stream",
     "text": [
      "constant factors query and depth (68%) for 0.649816047538945: 1.7090592980363317, 0.08162671274203376\n",
      "constant factors query and depth (68%) for 0.8802857225639664: 0.9795226274791214, 0.04678317026765953\n",
      "constant factors query and depth (68%) for 0.7927975767245621: 1.3103674067705313, 0.0625847119651597\n"
     ]
    },
    {
     "data": {
      "text/plain": [
       "1.332983110761995"
      ]
     },
     "execution_count": 41,
     "metadata": {},
     "output_type": "execute_result"
    }
   ],
   "source": [
    "perc = 68\n",
    "avg = 0.0\n",
    "for i in range(len(avals)):\n",
    "    avg += np.percentile(errors[i], perc) * num_queries[i]/len(avals)\n",
    "    print(f'constant factors query and depth ({perc}%) for {avals[i]}: {np.percentile(errors[i], perc) * num_queries[i]}, {np.percentile(errors[i], perc) * max_single_query[i]}')\n",
    "avg"
   ]
  },
  {
   "cell_type": "code",
   "execution_count": 20,
   "metadata": {},
   "outputs": [
    {
     "data": {
      "text/plain": [
       "[20, 57, 106, 208, 330, 461]"
      ]
     },
     "execution_count": 20,
     "metadata": {},
     "output_type": "execute_result"
    }
   ],
   "source": [
    "Q = 7\n",
    "lengths = []\n",
    "for q in range(2, Q + 1):\n",
    "    narray = [2]*(2*q)\n",
    "    heavy_signs = get_heavy_signs(narray, 4*len(narray))\n",
    "    signs_to_try = []\n",
    "    for a in heavy_signs.keys():\n",
    "        signs = heavy_signs[a].keys()\n",
    "        signs_to_try += signs\n",
    "    signs_to_try = list(set(signs_to_try))\n",
    "    lengths.append(len(signs_to_try))\n",
    "\n",
    "lengths"
   ]
  },
  {
   "cell_type": "code",
   "execution_count": null,
   "metadata": {},
   "outputs": [],
   "source": []
  }
 ],
 "metadata": {
  "kernelspec": {
   "display_name": ".venv",
   "language": "python",
   "name": "python3"
  },
  "language_info": {
   "codemirror_mode": {
    "name": "ipython",
    "version": 3
   },
   "file_extension": ".py",
   "mimetype": "text/x-python",
   "name": "python",
   "nbconvert_exporter": "python",
   "pygments_lexer": "ipython3",
   "version": "3.10.9"
  }
 },
 "nbformat": 4,
 "nbformat_minor": 2
}
