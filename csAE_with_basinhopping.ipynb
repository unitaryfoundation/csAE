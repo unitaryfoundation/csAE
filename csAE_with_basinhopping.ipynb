{
 "cells": [
  {
   "cell_type": "code",
   "execution_count": 2,
   "metadata": {},
   "outputs": [
    {
     "data": {
      "text/plain": [
       "<Figure size 640x480 with 0 Axes>"
      ]
     },
     "metadata": {},
     "output_type": "display_data"
    }
   ],
   "source": [
    "import numpy as np\n",
    "import matplotlib.pyplot as plt\n",
    "import seaborn as sns\n",
    "from signals import *\n",
    "from frequencyestimator import *\n",
    "from scipy.optimize import basinhopping, minimize\n",
    "from tqdm.auto import tqdm\n",
    "\n",
    "sns.set_style(\"whitegrid\")\n",
    "sns.despine(left=True, bottom=True)\n",
    "sns.set_context(\"poster\", font_scale = .45, rc={\"grid.linewidth\": 0.8})"
   ]
  },
  {
   "cell_type": "code",
   "execution_count": 3,
   "metadata": {},
   "outputs": [],
   "source": [
    "P0 = lambda n, theta: np.cos((2*n+1)*theta)**2\n",
    "P1 = lambda n, theta: np.sin((2*n+1)*theta)**2\n",
    "\n",
    "def estimate_signal(depths, n_samples, theta):\n",
    "        signals = np.zeros(len(depths), dtype = np.complex128)\n",
    "        measurements = np.zeros(len(depths))\n",
    "        for i,n in enumerate(depths):\n",
    "            # Get the exact measuremnt probabilities\n",
    "            p0 = P0(n, theta)\n",
    "            p1 = P1(n, theta)\n",
    "\n",
    "            p0x = P0x(n,theta)\n",
    "            p1x = P1x(n,theta)\n",
    "            \n",
    "            p0_estimate = np.random.binomial(n_samples[i], p0)/n_samples[i]\n",
    "            p1_estimate = 1 - p0_estimate\n",
    "\n",
    "            p0x_estimate = np.random.binomial(n_samples[i], p0x)/n_samples[i]\n",
    "            p1x_estimate = 1.0 - p0x_estimate\n",
    "            measurements[i] = p0_estimate\n",
    "            \n",
    "            # Estimate theta\n",
    "            theta_estimated = np.arctan2(p0x_estimate - p1x_estimate, p0_estimate - p1_estimate)\n",
    "\n",
    "            # Compute f(n) - Eq. 3\n",
    "            fi_estimate = np.exp(1.0j*theta_estimated)\n",
    "            signals[i] = fi_estimate\n",
    "         \n",
    "        return signals, measurements\n",
    "\n",
    "from scipy.stats import binom\n",
    "\n",
    "def apply_correction(ula_signal, measurements, theta_est, theta):\n",
    "    theta_est = np.abs(theta_est)\n",
    "    p_exact = np.cos((2*ula_signal.depths+1)*(theta))**2\n",
    "    p_neg = np.cos((2*ula_signal.depths+1)*(-theta))**2\n",
    "    p_o2 = np.cos((2 * ula_signal.depths + 1) * (theta_est/2.0)) ** 2\n",
    "    p_o4 = np.cos((2 * ula_signal.depths + 1) * (theta_est/4.0)) ** 2\n",
    "    p_same = np.cos((2*ula_signal.depths+1)*(theta_est))**2\n",
    "    p_s2 = np.cos((2 * ula_signal.depths + 1) * (np.pi/2-theta_est)) ** 2\n",
    "    p_s4 = np.cos((2 * ula_signal.depths + 1) * (np.pi / 4 - theta_est)) ** 2\n",
    "    p_s2_o2 = np.cos((2 * ula_signal.depths + 1) * (np.pi / 2 - theta_est/2)) ** 2\n",
    "    p_s4_o2 = np.cos((2 * ula_signal.depths + 1) * (np.pi / 4 - theta_est/2)) ** 2\n",
    "\n",
    "    l_exact = np.sum(\n",
    "        np.log([1e-75 + binom.pmf(ula_signal.n_samples[kk] * measurements[kk], ula_signal.n_samples[kk],\n",
    "                                  p_exact[kk]) for kk in\n",
    "                range(len(ula_signal.n_samples))]))\n",
    "    l_neg = np.sum(\n",
    "        np.log([1e-75 + binom.pmf(ula_signal.n_samples[kk] * measurements[kk], ula_signal.n_samples[kk],\n",
    "                                  p_neg[kk]) for kk in\n",
    "                range(len(ula_signal.n_samples))]))\n",
    "    l_o2 = np.sum(\n",
    "        np.log([1e-75+binom.pmf(ula_signal.n_samples[kk]*measurements[kk], ula_signal.n_samples[kk], p_o2[kk]) for kk in\n",
    "         range(len(ula_signal.n_samples))]))\n",
    "    l_o4 = np.sum(\n",
    "        np.log([1e-75+binom.pmf(ula_signal.n_samples[kk] * measurements[kk], ula_signal.n_samples[kk], p_o4[kk]) for kk in\n",
    "         range(len(ula_signal.n_samples))]))\n",
    "    l_same = np.sum(\n",
    "        np.log([1e-75+binom.pmf(ula_signal.n_samples[kk] * measurements[kk], ula_signal.n_samples[kk], p_same[kk]) for kk in\n",
    "         range(len(ula_signal.n_samples))]))\n",
    "    l_s2 = np.sum(\n",
    "        np.log([1e-75+binom.pmf(ula_signal.n_samples[kk] * measurements[kk], ula_signal.n_samples[kk], p_s2[kk]) for kk in\n",
    "         range(len(ula_signal.n_samples))]))\n",
    "    l_s4 = np.sum(\n",
    "        np.log([1e-75+binom.pmf(ula_signal.n_samples[kk] * measurements[kk], ula_signal.n_samples[kk], p_s4[kk]) for kk in\n",
    "         range(len(ula_signal.n_samples))]))\n",
    "    l_s2_o2 = np.sum(\n",
    "        np.log([1e-75+binom.pmf(ula_signal.n_samples[kk] * measurements[kk], ula_signal.n_samples[kk], p_s2_o2[kk]) for kk in\n",
    "         range(len(ula_signal.n_samples))]))\n",
    "    l_s4_o2 = np.sum(\n",
    "        np.log([1e-75+binom.pmf(ula_signal.n_samples[kk] * measurements[kk], ula_signal.n_samples[kk], p_s4_o2[kk]) for kk in\n",
    "         range(len(ula_signal.n_samples))]))\n",
    "    \n",
    "    which_correction = np.argmax([l_same, l_s2, l_s4, l_o2, l_o4, l_s2_o2, l_s4_o2])\n",
    "    if which_correction == 1:\n",
    "        theta_est = np.pi/2.0 - theta_est\n",
    "    elif which_correction == 2:\n",
    "        theta_est = np.pi/4.0 - theta_est\n",
    "    elif which_correction == 3:\n",
    "        theta_est = theta_est/2\n",
    "    elif which_correction == 4:\n",
    "        theta_est = theta_est/4\n",
    "    elif which_correction == 5:\n",
    "        theta_est = np.pi / 2.0 - 0.5 * theta_est\n",
    "    elif which_correction == 6:\n",
    "        theta_est = np.pi / 4.0 - 0.5 * theta_est\n",
    "    # elif which_correction == 7:\n",
    "    #     theta_est = -theta_est\n",
    "\n",
    "    # print(f'FINAL ANGLE FOUND: {theta_est, theta}')\n",
    "\n",
    "    return np.abs(theta_est)"
   ]
  },
  {
   "cell_type": "code",
   "execution_count": 4,
   "metadata": {},
   "outputs": [
    {
     "name": "stdout",
     "output_type": "stream",
     "text": [
      "\n",
      "First few variations:\n",
      "(1, -1, -1, -1)\n",
      "(1, -1, -1, 1)\n",
      "(1, -1, 1, -1)\n",
      "(1, -1, 1, 1)\n",
      "(1, 1, -1, -1)\n",
      "(1, 1, -1, 1)\n",
      "(1, 1, 1, -1)\n",
      "(1, 1, 1, 1)\n"
     ]
    }
   ],
   "source": [
    "import numpy as np\n",
    "import itertools\n",
    "from typing import List\n",
    "\n",
    "def generate_all_sign_variations(signs_array: np.ndarray) -> np.ndarray:\n",
    "    \"\"\"\n",
    "    Generate all possible sign variations by changing signs at all possible pairs of positions.\n",
    "    \n",
    "    Parameters:\n",
    "    -----------\n",
    "    signs_array : numpy.ndarray\n",
    "        Original array of signs (typically containing 1 or -1)\n",
    "    \n",
    "    Returns:\n",
    "    --------\n",
    "    numpy.ndarray\n",
    "        Array of all possible sign variation arrays\n",
    "    \"\"\"\n",
    "    # Get all possible unique pairs of positions\n",
    "    n = len(signs_array)\n",
    "    position_pairs = list(itertools.combinations(range(n), 2))\n",
    "    \n",
    "    # Will store all variations\n",
    "    all_variations = []\n",
    "    \n",
    "    # Iterate through all possible position pairs\n",
    "    for pos1, pos2 in position_pairs:\n",
    "        # Generate variations for this pair of positions\n",
    "        pair_variations = generate_pair_variations(signs_array, pos1, pos2)\n",
    "        all_variations.extend(pair_variations)\n",
    "    \n",
    "    return all_variations\n",
    "\n",
    "def generate_adjacent_sign_variations(signs_array: np.ndarray, size: int) -> np.ndarray:\n",
    "    \"\"\"\n",
    "    Generate sign variations by sliding a two-position window across the array.\n",
    "    \n",
    "    Parameters:\n",
    "    -----------\n",
    "    signs_array : numpy.ndarray\n",
    "        Original array of signs (typically containing 1 or -1)\n",
    "    \n",
    "    Returns:\n",
    "    --------\n",
    "    numpy.ndarray\n",
    "        Array of all possible sign variation arrays\n",
    "    \"\"\"\n",
    "    # Total length of the array\n",
    "    n = len(signs_array)\n",
    "    \n",
    "    # Will store all variations\n",
    "    all_variations = []\n",
    "    \n",
    "    # Iterate through adjacent position pairs \n",
    "    # (0,1), (1,2), (2,3), ... until the second-to-last pair\n",
    "    for pos1 in range(1, n - size + 1):\n",
    "        pos = [pos1 + i for i in range(size)]\n",
    "        \n",
    "        # Generate variations for this pair of adjacent positions\n",
    "        pair_variations = generate_pair_variations(signs_array, pos)\n",
    " \n",
    "        all_variations.extend(pair_variations)\n",
    "    \n",
    "    return all_variations\n",
    "\n",
    "def generate_pair_variations(signs_array: np.ndarray, pos: List[int]) -> List[np.ndarray]:\n",
    "    \"\"\"\n",
    "    Generate sign variations for a specific pair of positions.\n",
    "    \n",
    "    Parameters:\n",
    "    -----------\n",
    "    signs_array : numpy.ndarray\n",
    "        Original array of signs\n",
    "    pos1 : int\n",
    "        First position to modify\n",
    "    pos2 : int\n",
    "        Second position to modify\n",
    "    \n",
    "    Returns:\n",
    "    --------\n",
    "    List[numpy.ndarray]\n",
    "        List of sign variation arrays\n",
    "    \"\"\"\n",
    "    # Validate input positions\n",
    "    # if pos1 < 0 or pos2 < 0 or pos1 >= len(signs_array) or pos2 >= len(signs_array):\n",
    "    #     raise ValueError(\"Positions must be within the array bounds\")\n",
    "    \n",
    "    # Generate all possible sign combinations for the two positions\n",
    "    sign_combinations = list(itertools.product([-1, 1], repeat=len(pos)))\n",
    "    \n",
    "    # Create variations\n",
    "    variations = []\n",
    "    for combo in sign_combinations:\n",
    "        # Create a copy of the original array\n",
    "        variation = signs_array.copy()\n",
    "        \n",
    "        # Modify the two specified positions\n",
    "        for i in range(len(combo)):\n",
    "            variation[pos[i]] *= combo[i]\n",
    "        \n",
    "        variations.append(tuple(variation))\n",
    "    \n",
    "    return variations\n",
    "\n",
    "\n",
    "# Example array\n",
    "signs = np.array([1]*4)\n",
    "\n",
    "# Generate variations for all position pairs\n",
    "all_variations = generate_adjacent_sign_variations(signs, 3)\n",
    "\n",
    "# print(\"Original array:\", signs)\n",
    "# print(f\"\\nTotal variations: {len(all_variations)}\")\n",
    "# print(f'4*len(signs)^2: {4*len(signs)**2}')\n",
    "# print(f'2^len(signs): {2**len(signs)}')\n",
    "\n",
    "print(\"\\nFirst few variations:\")\n",
    "for var in all_variations:  # Print first 10 variations\n",
    "    print(var)"
   ]
  },
  {
   "cell_type": "markdown",
   "metadata": {},
   "source": [
    "## Define the objective function to minimize"
   ]
  },
  {
   "cell_type": "code",
   "execution_count": 5,
   "metadata": {},
   "outputs": [],
   "source": [
    "def objective_function_eig(lp, cos_signal, abs_sin, ula_signal, esprit):   \n",
    "    signal = cos_signal + 1.0j * lp * abs_sin\n",
    "    R = ula_signal.get_cov_matrix_toeplitz(signal)\n",
    "    _, _ = esprit.estimate_theta_toeplitz(R)\n",
    "    eigs = np.abs(esprit.eigs)[:2]\n",
    "    obj = eigs[1] - eigs[0]\n",
    "\n",
    "    return obj\n",
    "\n",
    "def objective_function(lp, cos_signal, abs_sin, ula_signal, esprit):\n",
    "    signal = cos_signal + 1.0j * lp * abs_sin\n",
    "    R = ula_signal.get_cov_matrix_toeplitz(signal)\n",
    "    theta_est, _ = esprit.estimate_theta_toeplitz(R)\n",
    "\n",
    "    theta_est = apply_correction(ula_signal, ula_signal.measurements, theta_est, theta_est)\n",
    "\n",
    "    # print(f'2*theta_est: {2*theta_est}')\n",
    "    p_same = np.cos((2 * ula_signal.depths + 1) * (theta_est)) ** 2\n",
    "\n",
    "    obj = -np.sum(\n",
    "        np.log(\n",
    "            [1e-75 + binom.pmf(ula_signal.n_samples[kk] * ula_signal.measurements[kk], ula_signal.n_samples[kk], p_same[kk]) for kk\n",
    "             in\n",
    "             range(len(ula_signal.n_samples))]))\n",
    "\n",
    "\n",
    "    # eigs = np.abs(esprit.eigs)[:2]\n",
    "    # obj = eigs[1] - eigs[0]\n",
    "\n",
    "    return obj"
   ]
  },
  {
   "cell_type": "markdown",
   "metadata": {},
   "source": [
    "## What is the distribution of the signs? "
   ]
  },
  {
   "cell_type": "code",
   "execution_count": 6,
   "metadata": {},
   "outputs": [],
   "source": [
    "narray = [2,2,2,2,2,3]\n",
    "\n",
    "def get_heavy_signs(narray, steps):\n",
    "\n",
    "    thetas = np.linspace(np.arcsin(0.09), np.arcsin(0.91), steps)\n",
    "    avals = np.sin(thetas)\n",
    "\n",
    "    ula_signal = TwoqULASignal(M=narray, C=3)\n",
    "\n",
    "    num_mc = 1000\n",
    "\n",
    "    sign_distributions = {}\n",
    "\n",
    "    for a,theta in zip(avals,thetas):\n",
    "        # theta = np.arcsin(a)\n",
    "        distr = {}\n",
    "        for i in range(num_mc):\n",
    "            signal, _ = estimate_signal(ula_signal.depths, ula_signal.n_samples, theta)\n",
    "                # print(measurements)\n",
    "            signs = tuple(np.sign(np.imag(signal)))\n",
    "            # print(signs)\n",
    "\n",
    "            distr[signs] = distr.get(signs, 0.0) + 1/num_mc\n",
    "        sign_distributions[str(a)] = distr\n",
    "\n",
    "    def get_signs(sign_distribution):\n",
    "        # Sort the dictionary by values in descending order\n",
    "        sorted_data = dict(sorted(sign_distribution.items(), key=lambda item: item[1], reverse=True))\n",
    "\n",
    "        # Create a new dictionary with cumulative sum close to 0.68\n",
    "        cumulative_dict = {}\n",
    "        cumulative_sum = 0.0\n",
    "\n",
    "        for key, value in sorted_data.items():\n",
    "            cumulative_dict[key] = value\n",
    "            if cumulative_sum + value > 0.9:\n",
    "                break\n",
    "            cumulative_sum += value\n",
    "\n",
    "        # Output the result\n",
    "        return cumulative_dict\n",
    "    \n",
    "    ret_dict = {}\n",
    "    for a in avals:\n",
    "        distr = get_signs(sign_distributions[str(a)])\n",
    "        ret_dict[str(a)] = distr\n",
    " \n",
    "    # Normalize the values\n",
    "    normalized_data = {}\n",
    "    for key, sub_dict in ret_dict.items():\n",
    "        total_sum = sum(sub_dict.values())\n",
    "        normalized_data[key] = {k: v / total_sum for k, v in sub_dict.items()}\n",
    "\n",
    "    return normalized_data\n",
    "\n",
    "normalized_data = get_heavy_signs(narray, 10)\n",
    "\n",
    "# normalized_data"
   ]
  },
  {
   "cell_type": "code",
   "execution_count": 7,
   "metadata": {},
   "outputs": [],
   "source": [
    "import ast\n",
    "# Taking a random sample based on the normalized probabilities\n",
    "def sample_from_normalized(data, sample_size=1):\n",
    "    keys = list(map(str, list(data.keys())))\n",
    "    probabilities = list(data.values())\n",
    "    sampled_keys = np.random.choice(a=keys, size=sample_size, p=probabilities)\n",
    "    return [ast.literal_eval(t) for t in sampled_keys]\n",
    "avals = list(normalized_data.keys())\n",
    "# Get one random sample\n",
    "sampled = sample_from_normalized(normalized_data[avals[0]], sample_size=3)\n",
    "# print(\"Sampled keys:\",sampled)"
   ]
  },
  {
   "cell_type": "markdown",
   "metadata": {},
   "source": [
    "## Use the distribution of signs so we don't have to try all possible signs"
   ]
  },
  {
   "cell_type": "code",
   "execution_count": 8,
   "metadata": {},
   "outputs": [
    {
     "name": "stdout",
     "output_type": "stream",
     "text": [
      "0.1\n",
      "correct signs: [ 1.  1.  1.  1. -1.  1.  1.  1.  1.]\n",
      "rough estimate a: 0.18910752115495127\n",
      "avals to use: ['0.13981296510949756', '0.15634532387578837', '0.1728339924311597', '0.18927436306884374', '0.20566184157877418', '0.22199184853142423']\n",
      "number of signs Hamming distance two: 114\n",
      "debug\n",
      "[(1.0, -1.0, -1.0, 1.0, -1.0, 1.0, -1.0, -1.0, 1.0), (1.0, 1.0, 1.0, -1.0, -1.0, -1.0, -1.0, 1.0, 1.0), (1.0, 1.0, 1.0, -1.0, 1.0, 1.0, -1.0, -1.0, -1.0), (1.0, 1.0, 1.0, 1.0, 1.0, -1.0, -1.0, 1.0, 1.0), (1.0, 1.0, 1.0, 1.0, -1.0, 1.0, 1.0, -1.0, -1.0), (1.0, 1.0, 1.0, 1.0, -1.0, -1.0, 1.0, -1.0, -1.0), (1.0, 1.0, 1.0, 1.0, 1.0, -1.0, 1.0, 1.0, 1.0), (1.0, 1.0, -1.0, -1.0, 1.0, 1.0, -1.0, 1.0, 1.0), (1.0, 1.0, -1.0, -1.0, 1.0, -1.0, -1.0, 1.0, 1.0), (1.0, 1.0, 1.0, -1.0, 1.0, -1.0, -1.0, 1.0, 1.0), (1.0, 1.0, 1.0, -1.0, -1.0, 1.0, 1.0, 1.0, -1.0), (1.0, 1.0, -1.0, -1.0, -1.0, -1.0, 1.0, 1.0, -1.0), (1.0, 1.0, 1.0, 1.0, -1.0, 0.0, 1.0, -1.0, -1.0), (1.0, 1.0, 1.0, 1.0, -1.0, 1.0, -1.0, -1.0, 1.0), (1.0, 1.0, 1.0, -1.0, -1.0, -1.0, 1.0, 1.0, 1.0), (1.0, 1.0, 1.0, 1.0, 1.0, 1.0, 1.0, -1.0, -1.0), (1.0, -1.0, 1.0, 1.0, -1.0, -1.0, -1.0, 1.0, 1.0), (1.0, 1.0, 1.0, 1.0, 1.0, -1.0, 1.0, -1.0, -1.0), (1.0, 1.0, -1.0, -1.0, 1.0, -1.0, -1.0, -1.0, -1.0), (1.0, -1.0, -1.0, -1.0, 1.0, 1.0, 1.0, -1.0, -1.0), (1.0, 1.0, 1.0, 1.0, 1.0, 1.0, -1.0, -1.0, 1.0), (1.0, 1.0, 1.0, -1.0, 1.0, -1.0, -1.0, -1.0, -1.0), (1.0, 1.0, -1.0, 1.0, 1.0, -1.0, -1.0, 1.0, 1.0), (1.0, 1.0, 1.0, -1.0, 1.0, 0.0, 1.0, 1.0, -1.0), (1.0, 1.0, 1.0, 1.0, -1.0, 1.0, 1.0, 1.0, -1.0), (1.0, -1.0, 1.0, 1.0, 1.0, -1.0, -1.0, 1.0, 1.0), (1.0, -1.0, 1.0, 1.0, -1.0, -1.0, -1.0, -1.0, -1.0), (1.0, 1.0, -1.0, -1.0, 1.0, 1.0, 1.0, 1.0, -1.0), (1.0, 1.0, 1.0, -1.0, -1.0, 1.0, -1.0, -1.0, -1.0), (1.0, 1.0, 1.0, 1.0, -1.0, -1.0, 1.0, 1.0, 1.0), (1.0, 1.0, -1.0, 1.0, 1.0, -1.0, -1.0, -1.0, -1.0), (1.0, 1.0, 1.0, -1.0, -1.0, -1.0, -1.0, 1.0, -1.0), (1.0, 1.0, 1.0, -1.0, 1.0, 1.0, 1.0, 1.0, 1.0), (1.0, -1.0, -1.0, 1.0, -1.0, -1.0, -1.0, 1.0, 1.0), (1.0, 1.0, -1.0, 1.0, -1.0, -1.0, -1.0, 1.0, 1.0), (1.0, 1.0, -1.0, 1.0, 1.0, 1.0, 1.0, 1.0, -1.0), (1.0, 1.0, 1.0, 1.0, 1.0, -1.0, -1.0, -1.0, 1.0), (1.0, 1.0, 1.0, -1.0, -1.0, 0.0, 1.0, -1.0, -1.0), (1.0, 1.0, -1.0, -1.0, -1.0, -1.0, -1.0, -1.0, -1.0), (1.0, 1.0, 1.0, 1.0, -1.0, -1.0, -1.0, 1.0, -1.0), (1.0, 1.0, 1.0, -1.0, -1.0, 1.0, -1.0, 1.0, 1.0), (1.0, 1.0, -1.0, 1.0, 1.0, 1.0, -1.0, 1.0, 1.0), (1.0, 1.0, 1.0, -1.0, 1.0, 1.0, -1.0, 1.0, -1.0), (1.0, -1.0, 1.0, 1.0, -1.0, 1.0, -1.0, -1.0, 1.0), (1.0, 1.0, 1.0, -1.0, -1.0, -1.0, 1.0, -1.0, 1.0), (1.0, 1.0, -1.0, 1.0, -1.0, -1.0, -1.0, -1.0, -1.0), (1.0, -1.0, 1.0, -1.0, 1.0, 1.0, 1.0, -1.0, -1.0), (1.0, 1.0, -1.0, 1.0, 1.0, 0.0, 1.0, -1.0, -1.0), (1.0, 1.0, 1.0, 1.0, -1.0, 1.0, -1.0, 1.0, 1.0), (1.0, 1.0, 1.0, -1.0, 1.0, 0.0, 1.0, -1.0, 1.0), (1.0, 1.0, 1.0, 1.0, -1.0, -1.0, 1.0, 1.0, -1.0), (1.0, 1.0, 1.0, -1.0, 1.0, 1.0, 1.0, 1.0, -1.0), (1.0, 1.0, -1.0, -1.0, 1.0, 1.0, 1.0, -1.0, -1.0), (1.0, 1.0, 1.0, 1.0, 1.0, -1.0, -1.0, 1.0, -1.0), (1.0, 1.0, 1.0, 1.0, -1.0, -1.0, -1.0, -1.0, -1.0), (1.0, 1.0, 1.0, 1.0, 1.0, -1.0, 1.0, 1.0, -1.0), (1.0, 1.0, -1.0, 1.0, -1.0, -1.0, 1.0, 1.0, -1.0), (1.0, 1.0, 1.0, -1.0, 1.0, -1.0, 1.0, 1.0, 1.0), (1.0, 1.0, 1.0, 1.0, 1.0, 1.0, 1.0, 1.0, 1.0), (1.0, -1.0, -1.0, -1.0, 1.0, 1.0, 1.0, 1.0, -1.0), (1.0, 1.0, 1.0, -1.0, 1.0, -1.0, -1.0, 1.0, -1.0), (1.0, -1.0, 1.0, -1.0, 1.0, 1.0, -1.0, 1.0, 1.0), (1.0, 1.0, 1.0, -1.0, 1.0, 1.0, 1.0, -1.0, 1.0), (1.0, 1.0, 1.0, 1.0, -1.0, 1.0, -1.0, -1.0, -1.0), (1.0, -1.0, -1.0, 1.0, -1.0, -1.0, 1.0, -1.0, -1.0), (1.0, -1.0, 1.0, -1.0, -1.0, -1.0, -1.0, 1.0, 1.0), (1.0, -1.0, -1.0, -1.0, 1.0, -1.0, -1.0, -1.0, -1.0), (1.0, 1.0, 1.0, -1.0, 1.0, -1.0, 1.0, -1.0, -1.0), (1.0, 1.0, 1.0, -1.0, -1.0, -1.0, 1.0, 1.0, -1.0), (1.0, 1.0, 1.0, -1.0, -1.0, -1.0, -1.0, -1.0, 1.0), (1.0, 1.0, 1.0, 1.0, 1.0, -1.0, 1.0, -1.0, 1.0), (1.0, -1.0, 1.0, 1.0, -1.0, -1.0, 1.0, -1.0, -1.0), (1.0, 1.0, -1.0, 1.0, 1.0, 1.0, 1.0, -1.0, -1.0), (1.0, 1.0, -1.0, 1.0, -1.0, 1.0, -1.0, -1.0, 1.0), (1.0, 1.0, 1.0, -1.0, 1.0, -1.0, -1.0, -1.0, 1.0), (1.0, 1.0, 1.0, -1.0, -1.0, -1.0, 1.0, -1.0, -1.0), (1.0, 1.0, 1.0, 1.0, 1.0, 0.0, 1.0, -1.0, -1.0), (1.0, 1.0, 1.0, -1.0, -1.0, 1.0, 1.0, -1.0, -1.0), (1.0, 1.0, 1.0, 1.0, 1.0, 1.0, -1.0, -1.0, -1.0), (1.0, 1.0, -1.0, -1.0, -1.0, -1.0, 1.0, -1.0, -1.0), (1.0, -1.0, -1.0, -1.0, 1.0, 0.0, 1.0, -1.0, -1.0), (1.0, 1.0, -1.0, -1.0, -1.0, 1.0, -1.0, -1.0, 1.0), (1.0, -1.0, -1.0, -1.0, -1.0, -1.0, -1.0, 1.0, 1.0), (1.0, -1.0, 1.0, -1.0, 1.0, 0.0, 1.0, -1.0, -1.0), (1.0, 1.0, 1.0, -1.0, 1.0, 0.0, 1.0, -1.0, -1.0), (1.0, 1.0, 1.0, 1.0, -1.0, -1.0, -1.0, -1.0, 1.0), (1.0, 1.0, 1.0, -1.0, 1.0, -0.0, -1.0, -1.0, -1.0), (1.0, 1.0, 1.0, -1.0, 1.0, 1.0, -1.0, -1.0, 1.0), (1.0, -1.0, 1.0, -1.0, 1.0, -1.0, -1.0, -1.0, -1.0), (1.0, 1.0, 1.0, 1.0, -1.0, 1.0, 1.0, -1.0, 1.0), (1.0, 1.0, 1.0, 1.0, -1.0, -1.0, 1.0, -1.0, 1.0), (1.0, 1.0, 1.0, -1.0, 1.0, -1.0, 1.0, 1.0, -1.0), (1.0, 1.0, 1.0, 1.0, 1.0, 1.0, 1.0, 1.0, -1.0), (1.0, 1.0, -1.0, -1.0, -1.0, -1.0, -1.0, 1.0, 1.0), (1.0, -1.0, 1.0, 1.0, -1.0, -1.0, 1.0, 1.0, -1.0), (1.0, 1.0, 1.0, -1.0, -1.0, 1.0, 1.0, 1.0, 1.0), (1.0, 1.0, 1.0, -1.0, 1.0, 1.0, 1.0, -1.0, -1.0), (1.0, 1.0, 1.0, 1.0, 1.0, -1.0, -1.0, -1.0, -1.0), (1.0, -1.0, 1.0, -1.0, 1.0, 1.0, 1.0, 1.0, -1.0), (1.0, 1.0, 1.0, 1.0, 1.0, 1.0, -1.0, 1.0, 1.0), (1.0, 1.0, 1.0, -1.0, -1.0, -1.0, -1.0, -1.0, -1.0), (1.0, 1.0, -1.0, 1.0, -1.0, -1.0, 1.0, -1.0, -1.0), (1.0, -1.0, -1.0, -1.0, 1.0, 1.0, -1.0, 1.0, 1.0), (1.0, 1.0, 1.0, 1.0, -1.0, -1.0, -1.0, 1.0, 1.0), (1.0, 1.0, 1.0, -1.0, 1.0, 0.0, -1.0, 1.0, -1.0), (1.0, -1.0, -1.0, 1.0, -1.0, -1.0, -1.0, -1.0, -1.0), (1.0, 1.0, 1.0, -1.0, 1.0, 1.0, -1.0, 1.0, 1.0), (1.0, 1.0, 1.0, -1.0, 1.0, 0.0, 1.0, 1.0, 1.0), (1.0, 1.0, 1.0, 1.0, -1.0, 1.0, 1.0, 1.0, 1.0), (1.0, -1.0, -1.0, 1.0, 1.0, -1.0, -1.0, 1.0, 1.0), (1.0, 1.0, 1.0, 1.0, -1.0, 1.0, -1.0, 1.0, -1.0), (1.0, 1.0, -1.0, -1.0, 1.0, 0.0, 1.0, -1.0, -1.0), (1.0, -1.0, -1.0, 1.0, -1.0, -1.0, 1.0, 1.0, -1.0), (1.0, 1.0, 1.0, -1.0, -1.0, 1.0, -1.0, -1.0, 1.0)]\n",
      "current objective: 101.58520368312524\n",
      "current best signs: (1.0, 1.0, 1.0, -1.0, -1.0, -1.0, -1.0, 1.0, 1.0)\n",
      "current objective: 12.189443708864848\n",
      "current best signs: (1.0, 1.0, 1.0, 1.0, 1.0, -1.0, -1.0, 1.0, 1.0)\n",
      "current objective: 12.17888847180542\n",
      "current best signs: (1.0, 1.0, 1.0, 1.0, -1.0, -1.0, 1.0, 1.0, 1.0)\n",
      "current objective: 12.172685946848528\n",
      "current best signs: (1.0, 1.0, 1.0, 1.0, -1.0, 1.0, -1.0, 1.0, 1.0)\n",
      "current objective: 12.17006027842133\n",
      "current best signs: (1.0, 1.0, 1.0, 1.0, 1.0, -1.0, 1.0, -1.0, 1.0)\n",
      "current objective: 12.170060278421337\n",
      "current best signs: (1.0, 1.0, 1.0, 1.0, 1.0, -1.0, 1.0, -1.0, 1.0)\n",
      "current objective: 12.169852128294579\n",
      "current best signs: (1.0, -1.0, 1.0, 1.0, 1.0, -1.0, 1.0, -1.0, 1.0)\n",
      "[ 1. -1.  1.  1.  1. -1.  1. -1.  1.]\n",
      "basin obj: -71.49676886330407\n",
      "true obj: -397.4516598486232\n"
     ]
    },
    {
     "data": {
      "text/plain": [
       "{'theta_est': 0.10014050463580297,\n",
       " 'theta_est1': 0.10012026433053867,\n",
       " 'error': 2.678164120033244e-05,\n",
       " 'error1': 4.692056561073077e-05,\n",
       " 'queries': 2600,\n",
       " 'depth': 128,\n",
       " 'true_obj': -397.4516598486232,\n",
       " 'basin_obj': -71.49676886330407,\n",
       " 'x_star': array([ 1., -1.,  1.,  1.,  1., -1.,  1., -1.,  1.])}"
      ]
     },
     "execution_count": 8,
     "metadata": {},
     "output_type": "execute_result"
    }
   ],
   "source": [
    "np.random.seed(42)\n",
    "\n",
    "a = 0.1\n",
    "print(a)\n",
    "theta = np.arcsin(a)\n",
    "\n",
    "narray = [2,2,2,2,2,2,2,2]\n",
    "heavy_signs = get_heavy_signs(narray, len(narray)**2)\n",
    "\n",
    "ula_signal = TwoqULASignal(M=narray, C=5)\n",
    "esprit = ESPIRIT()\n",
    "\n",
    "def sample_signs(heavy_signs, sample_size=3):\n",
    "    \"\"\"\n",
    "    Sample a set of sign variations from a learned sign distribution.\n",
    "\n",
    "    Args:\n",
    "        heavy_signs (dict): A dictionary where the keys are strings representing float values,\n",
    "                           and the values are dictionaries with keys as sign vectors and values\n",
    "                           as their corresponding probabilities.\n",
    "        sample_size (int, optional): The number of sign variations to sample. Defaults to 3.\n",
    "\n",
    "    Returns:\n",
    "        dict: A dictionary where the keys are the same as the keys in `heavy_signs`,\n",
    "              and the values are lists of sampled sign variations.\n",
    "    \"\"\"\n",
    "    avals = list(heavy_signs.keys())\n",
    "    signs_to_try = {}\n",
    "    for a in avals:\n",
    "        signs_to_try[a] = list(set(sample_from_normalized(heavy_signs[a], sample_size=sample_size)))\n",
    "\n",
    "    return signs_to_try\n",
    "\n",
    "def avals_to_usef(a0, avals, L=3):\n",
    "    \"\"\"\n",
    "    Find the `L` values in `avals` that are closest to the given `a0` value.\n",
    "\n",
    "    Args:\n",
    "        a0 (float): The reference value to find the closest `L` values for.\n",
    "        avals (list): A list of float values representing the keys in `heavy_signs`.\n",
    "        L (int, optional): The number of closest values to return. Defaults to 3.\n",
    "\n",
    "    Returns:\n",
    "        list: A list of string representations of the `L` closest values to `a0` in `avals`.\n",
    "    \"\"\"\n",
    "    avals = list(map(float, avals))\n",
    "\n",
    "    left = 0\n",
    "    right = len(avals)\n",
    "    \n",
    "    while left < right:\n",
    "        mid = (left + right) // 2\n",
    "        \n",
    "        if avals[mid] <= a0:\n",
    "            left = mid + 1\n",
    "        else:\n",
    "            right = mid\n",
    "\n",
    "    if left >= 4:\n",
    "        avals_to_use = list(map(str, avals[left-L: left+L]))\n",
    "    if left >= 3:\n",
    "        avals_to_use = list(map(str, avals[left-3: left+L]))\n",
    "    elif left>=2:\n",
    "        avals_to_use = list(map(str, avals[left-2: left+L]))\n",
    "    elif left>=1:\n",
    "        avals_to_use = list(map(str, avals[left-1: left+L]))\n",
    "    else:\n",
    "        avals_to_use = list(map(str, avals[left: left+L]))\n",
    "    \n",
    "    return avals_to_use\n",
    "\n",
    "def all_signs_to_try(avals_to_use, signs_to_try, adjacency=2):\n",
    "    \"\"\"\n",
    "    Generate all possible sign variations within a Hamming distance of 2 from the given `avals_to_use`.\n",
    "\n",
    "    Args:\n",
    "        avals_to_use (list): A list of string representations of float values.\n",
    "        signs_to_try (dict): A dictionary where the keys are string representations of float values,\n",
    "                            and the values are lists of sign variations.\n",
    "        adjacency (int, optional): The maximum Hamming distance to consider for the sign variations.\n",
    "                                  Defaults to 2.\n",
    "\n",
    "    Returns:\n",
    "        list: A list of all possible sign variations within the specified Hamming distance.\n",
    "    \"\"\"\n",
    "    all_signs = []\n",
    "    for a in avals_to_use:\n",
    "        for x in signs_to_try[a]:\n",
    "            hamming_distance_two_signs = generate_adjacent_sign_variations(np.array(x), adjacency)\n",
    "            all_signs.extend(hamming_distance_two_signs)\n",
    "    all_signs = list(set(all_signs))\n",
    "    \n",
    "    return all_signs\n",
    "\n",
    "def minimize_obj(all_signs, cos_signal, abs_sin, ula_signal, esprit, disp):\n",
    "    \"\"\"\n",
    "    Find the sign variation that minimizes the objective function.\n",
    "\n",
    "    Args:\n",
    "        all_signs (list): A list of all possible sign variations to consider.\n",
    "        cos_signal (numpy.ndarray): The real part of the estimated signal.\n",
    "        abs_sin (numpy.ndarray): The absolute value of the imaginary part of the estimated signal.\n",
    "        ula_signal (ULASignal): An instance of the ULASignal class, containing information about the signal.\n",
    "        esprit (ESPRIT): An instance of the ESPRIT class, used for estimating the signal parameters.\n",
    "        disp (bool): If True, prints the current objective and the current best sign variation.\n",
    "\n",
    "    Returns:\n",
    "        numpy.ndarray: The sign variation that minimizes the objective function.\n",
    "    \"\"\"\n",
    "    # obj = 1.0\n",
    "    x_star = np.array(all_signs[0])\n",
    "    obj = objective_function(x_star, cos_signal, abs_sin, ula_signal, esprit)\n",
    "    for x in all_signs:\n",
    "        curr_obj = objective_function(np.array(x), cos_signal, abs_sin, ula_signal, esprit)\n",
    "        if curr_obj < obj:\n",
    "            if disp:\n",
    "                print(f'current objective: {curr_obj}')\n",
    "                print(f'current best signs: {x}')\n",
    "            obj = curr_obj\n",
    "            x_star = np.array(x)\n",
    "\n",
    "    return x_star\n",
    "\n",
    "def csae_with_local_minimization(theta, ula_signal, esprit, heavy_signs, sample=False, correction=False, optimize=False, disp=False):\n",
    "    \"\"\"\n",
    "    Perform CSAE (Compressive Sensing Angle Estimation) with local minimization.\n",
    "\n",
    "    Args:\n",
    "        theta (float): The true angle of the signal.\n",
    "        ula_signal (ULASignal): An instance of the ULASignal class, containing information about the signal.\n",
    "        esprit (ESPRIT): An instance of the ESPRIT class, used for estimating the signal parameters.\n",
    "        heavy_signs (dict): A dictionary where the keys are strings representing float values,\n",
    "                           and the values are dictionaries with keys as sign vectors and values\n",
    "                           as their corresponding probabilities.\n",
    "        sample (bool, optional): If True, samples sign variations from the learned sign distribution.\n",
    "                                If False, uses the learned sign distribution directly. Defaults to False.\n",
    "        correction (bool, optional): If True, applies a correction to the estimated angle. Defaults to False.\n",
    "        optimize (bool, optional): If True, uses a sliding window approach to find the best sign variation.\n",
    "                                  If False, uses the learned sign distribution directly. Defaults to False.\n",
    "        disp (bool, optional): If True, prints additional information during the process. Defaults to False.\n",
    "\n",
    "    Returns:\n",
    "        dict: A dictionary containing the estimated angles, errors, number of queries, maximum depth,\n",
    "              and other relevant information.\n",
    "    \"\"\"\n",
    "\n",
    "    depths = ula_signal.depths\n",
    "    n_samples = ula_signal.n_samples\n",
    "    csignal, measurements = estimate_signal(depths, n_samples, theta)\n",
    "    ula_signal.measurements = measurements\n",
    "\n",
    "    cos_signal = np.real(csignal)\n",
    "\n",
    "    correct_signs = np.sign(np.imag(csignal))\n",
    "    if disp:\n",
    "        print(f'correct signs: {correct_signs}')\n",
    "    abs_sin = np.abs(np.imag(csignal))\n",
    "\n",
    "    if sample:\n",
    "        # step 1: sample signs from learned sign distribution\n",
    "        signs_to_try = sample_signs(heavy_signs=heavy_signs, sample_size=3)\n",
    "        avals = list(heavy_signs.keys())\n",
    "\n",
    "        if optimize:\n",
    "            # step 2: using rough estimate where the amplitude is, use the a-values around that estimate\n",
    "            a0 = np.sqrt(0.5 - 0.5 * cos_signal[0])\n",
    "            avals_to_use = avals_to_usef(a0, avals, L=3)\n",
    "\n",
    "            if disp:\n",
    "                print(f'rough estimate a: {a0}')\n",
    "                print(f'avals to use: {avals_to_use}')\n",
    "\n",
    "            # step 3: now vary the signs in a sliding window of size \"adjacency\"\n",
    "            all_signs = all_signs_to_try(avals_to_use, signs_to_try, adjacency=2)\n",
    "\n",
    "            if disp:\n",
    "                print(f'number of signs Hamming distance two: {len(all_signs)}')\n",
    "\n",
    "            # step 4: try all the signs pick the ones that minimize the objective function\n",
    "            if disp:\n",
    "                print('debug')\n",
    "                print(all_signs)\n",
    "            x_star = minimize_obj(all_signs, cos_signal, abs_sin, ula_signal, esprit, disp)\n",
    "\n",
    "            # step 5 (optional): do one more sweep\n",
    "            hamming_distance_one_signs = list(set(generate_adjacent_sign_variations(x_star, 1)))\n",
    "            x_star = minimize_obj(hamming_distance_one_signs, cos_signal, abs_sin, ula_signal, esprit, disp)\n",
    "        \n",
    "        else:\n",
    "            # here we don't vary the signs using a sliding window, but directly use the learned sign distribution (poor performance)\n",
    "            all_signs = []\n",
    "            for a in avals:\n",
    "                all_signs.extend(heavy_signs[a])\n",
    "            all_signs = list(set(all_signs))\n",
    "            x_star = minimize_obj(all_signs, cos_signal, abs_sin, ula_signal, esprit, disp)\n",
    "\n",
    "    else:\n",
    "        avals = list(heavy_signs.keys())\n",
    "        signs_to_try = {}\n",
    "        for a in avals:\n",
    "            signs_to_try[a] = heavy_signs[a]\n",
    "\n",
    "        if optimize:\n",
    "            # step 2: using rough estimate where the amplitude is, use the a-values around that estimate\n",
    "            a0 = np.sqrt(0.5 - 0.5 * cos_signal[0])\n",
    "            avals_to_use = avals_to_usef(a0, avals, L=3)\n",
    "\n",
    "            if disp:\n",
    "                print(f'rough estimate a: {a0}')\n",
    "                print(f'avals to use: {avals_to_use}')\n",
    "\n",
    "            # step 3: now vary the signs in a sliding window of size \"adjacency\"\n",
    "            all_signs = all_signs_to_try(avals_to_use, signs_to_try, adjacency=2)\n",
    "\n",
    "            if disp:\n",
    "                print(f'number of signs Hamming distance two: {len(all_signs)}')\n",
    "\n",
    "            # step 4: try all the signs pick the ones that minimize the objective function\n",
    "            x_star = minimize_obj(all_signs, cos_signal, abs_sin, ula_signal, esprit, disp, measu)\n",
    "\n",
    "            # step 5 (optional): do one more sweep\n",
    "            hamming_distance_one_signs = list(set(generate_adjacent_sign_variations(x_star, 1)))\n",
    "            x_star = minimize_obj(hamming_distance_one_signs, cos_signal, abs_sin, ula_signal, esprit, disp)\n",
    "        \n",
    "        else:\n",
    "            # here we don't vary the signs using a sliding window, but directly use the learned sign distribution (poor performance)\n",
    "            all_signs = []\n",
    "            for a in avals:\n",
    "                all_signs.extend(heavy_signs[a])\n",
    "            all_signs = list(set(all_signs))\n",
    "            x_star = minimize_obj(all_signs, cos_signal, abs_sin, ula_signal, esprit, disp)\n",
    "\n",
    "\n",
    "    # Optimization is done.\n",
    "\n",
    "    if disp:\n",
    "        print(x_star)\n",
    "        \n",
    "    signal = cos_signal + 1.0j * x_star * abs_sin\n",
    "    R = ula_signal.get_cov_matrix_toeplitz(signal)\n",
    "    theta_est, _ = esprit.estimate_theta_toeplitz(R)\n",
    "    theta_est = np.abs(theta_est)\n",
    "    eigs = np.abs(esprit.eigs)[:2]\n",
    "    basin_obj = eigs[1] - eigs[0]\n",
    "    if correction:\n",
    "        theta_est = apply_correction(ula_signal, measurements, theta_est, theta) #apply correction\n",
    "    if disp:\n",
    "        print(f'basin obj: {basin_obj}')\n",
    "\n",
    "    cR = ula_signal.get_cov_matrix_toeplitz(csignal)\n",
    "    theta_est1, _ = esprit.estimate_theta_toeplitz(cR)\n",
    "    eigs = np.abs(esprit.eigs)[:2]\n",
    "    true_obj = eigs[1] - eigs[0]\n",
    "    if disp:\n",
    "        print(f'true obj: {true_obj}')\n",
    "\n",
    "    # compute queries required\n",
    "    num_queries = np.sum(np.array(ula_signal.depths)*np.array(ula_signal.n_samples)) + ula_signal.n_samples[0]\n",
    "    max_single_query = np.max(ula_signal.depths)\n",
    "\n",
    "    ret_dict = {'theta_est': theta_est, 'theta_est1': theta_est1, \n",
    "                'error': np.abs(np.sin(theta)-np.sin(theta_est)), \n",
    "                'error1': np.abs(np.sin(theta)-np.sin(theta_est1)), \n",
    "                'queries': num_queries, 'depth': max_single_query,\n",
    "                'true_obj': true_obj, 'basin_obj': basin_obj,\n",
    "                'x_star': x_star}\n",
    "    \n",
    "    return ret_dict\n",
    "\n",
    "csae_with_local_minimization(theta, ula_signal, esprit, heavy_signs, sample=True, correction=True, optimize=True, disp=True)"
   ]
  },
  {
   "cell_type": "markdown",
   "metadata": {},
   "source": [
    "## Let's do some statistics now"
   ]
  },
  {
   "cell_type": "code",
   "execution_count": 9,
   "metadata": {},
   "outputs": [
    {
     "data": {
      "text/plain": [
       "(['0.10663566752567158',\n",
       "  '0.12324153604814797',\n",
       "  '0.13981296510949756',\n",
       "  '0.15634532387578837',\n",
       "  '0.1728339924311597',\n",
       "  '0.18927436306884374'],\n",
       " ['0.09',\n",
       "  '0.10663566752567158',\n",
       "  '0.12324153604814797',\n",
       "  '0.13981296510949756',\n",
       "  '0.15634532387578837',\n",
       "  '0.1728339924311597',\n",
       "  '0.18927436306884374',\n",
       "  '0.20566184157877418',\n",
       "  '0.22199184853142423',\n",
       "  '0.23825982055751374',\n",
       "  '0.2544612116232283',\n",
       "  '0.2705914943005945',\n",
       "  '0.286646161032655',\n",
       "  '0.3026207253930916',\n",
       "  '0.318510723339943',\n",
       "  '0.33431171446306707',\n",
       "  '0.35001928322499964',\n",
       "  '0.3656290401948629',\n",
       "  '0.3811366232749777',\n",
       "  '0.3965376989198384',\n",
       "  '0.41182796334710836',\n",
       "  '0.42700314374029846',\n",
       "  '0.44205899944279253',\n",
       "  '0.4569913231428852',\n",
       "  '0.47179594204950215',\n",
       "  '0.48646871905827366',\n",
       "  '0.5010055539076351',\n",
       "  '0.5154023843246325',\n",
       "  '0.5296551871601116',\n",
       "  '0.5437599795129751',\n",
       "  '0.5577128198431908',\n",
       "  '0.5715098090732432',\n",
       "  '0.5851470916777191',\n",
       "  '0.5986208567607206',\n",
       "  '0.6119273391208092',\n",
       "  '0.6250628203031795',\n",
       "  '0.6380236296387691',\n",
       "  '0.650806145270016',\n",
       "  '0.6634067951629752',\n",
       "  '0.6758220581055129',\n",
       "  '0.6880484646912971',\n",
       "  '0.7000825982893134',\n",
       "  '0.7119210959986315',\n",
       "  '0.7235606495881572',\n",
       "  '0.7349980064211071',\n",
       "  '0.7462299703639479',\n",
       "  '0.7572534026795463',\n",
       "  '0.7680652229042787',\n",
       "  '0.7786624097088569',\n",
       "  '0.7890420017426304',\n",
       "  '0.7992010984611247',\n",
       "  '0.8091368609365911',\n",
       "  '0.8188465126513348',\n",
       "  '0.8283273402736051',\n",
       "  '0.8375766944158268',\n",
       "  '0.8465919903749636',\n",
       "  '0.855370708854805',\n",
       "  '0.863910396669976',\n",
       "  '0.8722086674314722',\n",
       "  '0.8802632022135276',\n",
       "  '0.8880717502016333',\n",
       "  '0.8956321293215179',\n",
       "  '0.9029422268489239',\n",
       "  '0.91'],\n",
       " 0.14658716786698373)"
      ]
     },
     "execution_count": 9,
     "metadata": {},
     "output_type": "execute_result"
    }
   ],
   "source": [
    "a0=0.14658716786698373\n",
    "signs_to_try = sample_signs(heavy_signs=heavy_signs, sample_size=3)\n",
    "avals = list(heavy_signs.keys())\n",
    "avals_to_usef(a0, avals, L=3), avals, a0"
   ]
  },
  {
   "cell_type": "code",
   "execution_count": 84,
   "metadata": {},
   "outputs": [
    {
     "name": "stdout",
     "output_type": "stream",
     "text": [
      "learning the distribution of signs...\n",
      "theta = 0.41111546403370536\n"
     ]
    },
    {
     "data": {
      "application/vnd.jupyter.widget-view+json": {
       "model_id": "a69804ee01bf418786c72b54a309bfe0",
       "version_major": 2,
       "version_minor": 0
      },
      "text/plain": [
       "  0%|          | 0/100 [00:00<?, ?it/s]"
      ]
     },
     "metadata": {},
     "output_type": "display_data"
    },
    {
     "name": "stdout",
     "output_type": "stream",
     "text": [
      "constant factors query and depth: 1.580e-04, 6.48000014142134, 0.3235260918973892\n",
      "theta = 1.0363905664439828\n"
     ]
    },
    {
     "data": {
      "application/vnd.jupyter.widget-view+json": {
       "model_id": "59eb7309bb314a68a6c8e90008ebe791",
       "version_major": 2,
       "version_minor": 0
      },
      "text/plain": [
       "  0%|          | 0/100 [00:00<?, ?it/s]"
      ]
     },
     "metadata": {},
     "output_type": "display_data"
    },
    {
     "name": "stdout",
     "output_type": "stream",
     "text": [
      "constant factors query and depth: 6.514e-05, 2.672115510222025, 0.13341035019343508\n",
      "theta = 0.7554209219922302\n"
     ]
    },
    {
     "data": {
      "application/vnd.jupyter.widget-view+json": {
       "model_id": "885f4ec8aeea4552aff72516b9201c94",
       "version_major": 2,
       "version_minor": 0
      },
      "text/plain": [
       "  0%|          | 0/100 [00:00<?, ?it/s]"
      ]
     },
     "metadata": {},
     "output_type": "display_data"
    },
    {
     "name": "stdout",
     "output_type": "stream",
     "text": [
      "constant factors query and depth: 6.441e-05, 2.641994330931819, 0.13190649414306108\n",
      "theta = 0.6174118623048501\n"
     ]
    },
    {
     "data": {
      "application/vnd.jupyter.widget-view+json": {
       "model_id": "91c85e52908a40a0a1758fbac818806c",
       "version_major": 2,
       "version_minor": 0
      },
      "text/plain": [
       "  0%|          | 0/100 [00:00<?, ?it/s]"
      ]
     },
     "metadata": {},
     "output_type": "display_data"
    },
    {
     "name": "stdout",
     "output_type": "stream",
     "text": [
      "constant factors query and depth: 8.406e-05, 3.448302123566951, 0.17216291440919346\n",
      "theta = 0.2267530819288086\n"
     ]
    },
    {
     "data": {
      "application/vnd.jupyter.widget-view+json": {
       "model_id": "1f60634ae5f142968a205d965e35eb75",
       "version_major": 2,
       "version_minor": 0
      },
      "text/plain": [
       "  0%|          | 0/100 [00:00<?, ?it/s]"
      ]
     },
     "metadata": {},
     "output_type": "display_data"
    },
    {
     "name": "stdout",
     "output_type": "stream",
     "text": [
      "constant factors query and depth: 1.342e-04, 5.5063528111523885, 0.27491493313603343\n",
      "theta = 0.2267332789613546\n"
     ]
    },
    {
     "data": {
      "application/vnd.jupyter.widget-view+json": {
       "model_id": "6001fdcc35c54968bc9e3ea804a5cca2",
       "version_major": 2,
       "version_minor": 0
      },
      "text/plain": [
       "  0%|          | 0/100 [00:00<?, ?it/s]"
      ]
     },
     "metadata": {},
     "output_type": "display_data"
    },
    {
     "name": "stdout",
     "output_type": "stream",
     "text": [
      "constant factors query and depth: 2.481e-04, 10.176130934351422, 0.5080623148111095\n",
      "theta = 0.14699569205633\n"
     ]
    },
    {
     "data": {
      "application/vnd.jupyter.widget-view+json": {
       "model_id": "d9d0fa3a81cd432fb90be78e9f77a0de",
       "version_major": 2,
       "version_minor": 0
      },
      "text/plain": [
       "  0%|          | 0/100 [00:00<?, ?it/s]"
      ]
     },
     "metadata": {},
     "output_type": "display_data"
    },
    {
     "name": "stdout",
     "output_type": "stream",
     "text": [
      "constant factors query and depth: 1.189e-04, 4.877781047149854, 0.2435323155671112\n",
      "theta = 0.9156206760936842\n"
     ]
    },
    {
     "data": {
      "application/vnd.jupyter.widget-view+json": {
       "model_id": "a9d1c838950b461bb9e7f578dddc0954",
       "version_major": 2,
       "version_minor": 0
      },
      "text/plain": [
       "  0%|          | 0/100 [00:00<?, ?it/s]"
      ]
     },
     "metadata": {},
     "output_type": "display_data"
    },
    {
     "name": "stdout",
     "output_type": "stream",
     "text": [
      "constant factors query and depth: 7.055e-05, 2.8939323582470284, 0.14448497000706764\n",
      "theta = 0.6198241234230384\n"
     ]
    },
    {
     "data": {
      "application/vnd.jupyter.widget-view+json": {
       "model_id": "f0a76db7ef014477907a75d447a3c95e",
       "version_major": 2,
       "version_minor": 0
      },
      "text/plain": [
       "  0%|          | 0/100 [00:00<?, ?it/s]"
      ]
     },
     "metadata": {},
     "output_type": "display_data"
    },
    {
     "name": "stdout",
     "output_type": "stream",
     "text": [
      "constant factors query and depth: 7.498e-05, 3.075633979926342, 0.15355676233274376\n",
      "theta = 0.7294478190327935\n"
     ]
    },
    {
     "data": {
      "application/vnd.jupyter.widget-view+json": {
       "model_id": "1f1e128c40da49709d770da7c13e6b54",
       "version_major": 2,
       "version_minor": 0
      },
      "text/plain": [
       "  0%|          | 0/100 [00:00<?, ?it/s]"
      ]
     },
     "metadata": {},
     "output_type": "display_data"
    },
    {
     "name": "stdout",
     "output_type": "stream",
     "text": [
      "constant factors query and depth: 7.616e-05, 3.12399710978876, 0.15597138178565043\n",
      "theta = 0.11673252381145406\n"
     ]
    },
    {
     "data": {
      "application/vnd.jupyter.widget-view+json": {
       "model_id": "d187c805268142d98a27af0eb738f7de",
       "version_major": 2,
       "version_minor": 0
      },
      "text/plain": [
       "  0%|          | 0/100 [00:00<?, ?it/s]"
      ]
     },
     "metadata": {},
     "output_type": "display_data"
    },
    {
     "name": "stdout",
     "output_type": "stream",
     "text": [
      "constant factors query and depth: 3.943e-04, 16.174445657541796, 0.807539363887021\n",
      "theta = 1.0673557731834724\n"
     ]
    },
    {
     "data": {
      "application/vnd.jupyter.widget-view+json": {
       "model_id": "8580d16ccd5847b8a144abd4b69c128e",
       "version_major": 2,
       "version_minor": 0
      },
      "text/plain": [
       "  0%|          | 0/100 [00:00<?, ?it/s]"
      ]
     },
     "metadata": {},
     "output_type": "display_data"
    },
    {
     "name": "stdout",
     "output_type": "stream",
     "text": [
      "constant factors query and depth: 4.195e-05, 1.7207827967692748, 0.08591329029213737\n",
      "theta = 0.8725241084844788\n"
     ]
    },
    {
     "data": {
      "application/vnd.jupyter.widget-view+json": {
       "model_id": "b455d280020049038ca9500fbc72eaa9",
       "version_major": 2,
       "version_minor": 0
      },
      "text/plain": [
       "  0%|          | 0/100 [00:00<?, ?it/s]"
      ]
     },
     "metadata": {},
     "output_type": "display_data"
    },
    {
     "name": "stdout",
     "output_type": "stream",
     "text": [
      "constant factors query and depth: 8.372e-05, 3.434062125310412, 0.17145195593943746\n",
      "theta = 0.2732593578259982\n"
     ]
    },
    {
     "data": {
      "application/vnd.jupyter.widget-view+json": {
       "model_id": "cae2910b0d1742278bc7de8a7dea1d3a",
       "version_major": 2,
       "version_minor": 0
      },
      "text/plain": [
       "  0%|          | 0/100 [00:00<?, ?it/s]"
      ]
     },
     "metadata": {},
     "output_type": "display_data"
    },
    {
     "name": "stdout",
     "output_type": "stream",
     "text": [
      "constant factors query and depth: 1.144e-04, 4.69192745406286, 0.23425322832571274\n",
      "theta = 0.24799415401854524\n"
     ]
    },
    {
     "data": {
      "application/vnd.jupyter.widget-view+json": {
       "model_id": "1c37bd2850574ee58a5c7bb3861e6d09",
       "version_major": 2,
       "version_minor": 0
      },
      "text/plain": [
       "  0%|          | 0/100 [00:00<?, ?it/s]"
      ]
     },
     "metadata": {},
     "output_type": "display_data"
    },
    {
     "name": "stdout",
     "output_type": "stream",
     "text": [
      "constant factors query and depth: 1.561e-04, 6.401369703102888, 0.3196003206229818\n"
     ]
    }
   ],
   "source": [
    "np.random.seed(42)\n",
    "\n",
    "avals = [0.1, 0.2, 0.3, 0.4, 0.5, 0.6, 0.7, 0.8, 0.9]\n",
    "# avals = [np.random.uniform(0.1, 0.9)]\n",
    "# avals = [0.5, 0.6, 0.7, 0.8, 0.9]\n",
    "# avals = [0.1, 0.2, 0.3]\n",
    "avals = [np.random.uniform(0.1, 0.9) for _ in range(15)]\n",
    "# narray = [2]*5 + [3]\n",
    "narray = [2]*12\n",
    "\n",
    "print('learning the distribution of signs...')\n",
    "heavy_signs = get_heavy_signs(narray, int(6*len(narray)))\n",
    "num_queries = np.zeros(len(avals), dtype=int)\n",
    "max_single_query = np.zeros(len(avals), dtype=int)\n",
    "\n",
    "num_mc=100\n",
    "thetas = np.zeros((len(avals), num_mc))\n",
    "errors = np.zeros((len(avals), num_mc))\n",
    "thetas1 = np.zeros((len(avals), num_mc))\n",
    "errors1 = np.zeros((len(avals), num_mc))\n",
    "\n",
    "basin_obj = np.zeros((len(avals), num_mc))\n",
    "true_obj = np.zeros((len(avals), num_mc))\n",
    "\n",
    "ula_signal = TwoqULASignal(M=narray, C=5)\n",
    "esprit = ESPIRIT()\n",
    "\n",
    "for j,a in enumerate(avals):\n",
    "    theta = np.arcsin(a)\n",
    "    print(f'theta = {theta}')\n",
    "    disp=False\n",
    "    # if j==4:\n",
    "    #     disp=True\n",
    "    for i in tqdm(range(num_mc)):\n",
    "        res = csae_with_local_minimization(theta, ula_signal, esprit, heavy_signs, sample=True, correction=True, optimize=True, disp=disp)\n",
    "        thetas[j][i] = res['theta_est']\n",
    "        errors[j][i] = res['error']\n",
    "\n",
    "        thetas1[j][i] = res['theta_est1']\n",
    "        errors1[j][i] = res['error1']\n",
    "\n",
    "        basin_obj[j][i] = res['basin_obj']\n",
    "        true_obj[j][i] = res['true_obj']\n",
    "    num_queries[j] = res['queries']\n",
    "    max_single_query[j] = res['depth']\n",
    "\n",
    "    print(f'constant factors query and depth: {np.percentile(errors[j], 95):.3e}, {np.percentile(errors[j], 95) * num_queries[j]}, {np.percentile(errors[j], 95) * max_single_query[j]}')"
   ]
  },
  {
   "cell_type": "code",
   "execution_count": 85,
   "metadata": {},
   "outputs": [
    {
     "name": "stdout",
     "output_type": "stream",
     "text": [
      "0.0\n",
      "0.0\n",
      "0.01\n",
      "0.22\n",
      "0.0\n",
      "0.01\n",
      "0.01\n",
      "0.02\n",
      "0.27\n",
      "0.01\n",
      "0.0\n",
      "0.28\n",
      "0.02\n",
      "0.0\n",
      "0.07\n"
     ]
    }
   ],
   "source": [
    "for i in range(len(avals)):\n",
    "    print(np.sum(np.where(np.array(basin_obj[i])/np.array(true_obj[i]) >= 0.99, 1, 0))/len(basin_obj[i]))"
   ]
  },
  {
   "cell_type": "code",
   "execution_count": 86,
   "metadata": {},
   "outputs": [
    {
     "data": {
      "text/plain": [
       "(array([0.60287013, 0.62426138, 0.1552    , 0.12820457, 0.74984684,\n",
       "        0.11309817, 0.10205856, 0.18151208, 0.01025888, 1.07665288,\n",
       "        0.65926606, 0.64222144, 0.52598446, 0.03310375, 0.09635233,\n",
       "        0.06447469, 0.74235025, 0.53985041, 0.14894406, 0.01606382,\n",
       "        0.0860895 , 0.41686863, 0.4290147 , 0.06819898, 0.36073965,\n",
       "        0.22815559, 0.8533285 , 0.13185352, 0.15874073, 0.33209937,\n",
       "        0.03474256, 0.11140144, 0.22300462, 0.14127383, 0.53978022,\n",
       "        0.25635188, 0.24930173, 0.0903205 , 0.15455531, 0.24004338,\n",
       "        0.33376168, 0.37508087, 0.02197168, 0.10819385, 0.66944568,\n",
       "        0.8684042 , 0.01282616, 0.19967174, 0.81841865, 0.72881081,\n",
       "        0.2672098 , 0.02357927, 0.0478728 , 0.23587034, 0.00491157,\n",
       "        0.40701626, 0.83853877, 0.74392893, 0.6445632 , 0.69775913,\n",
       "        0.42904069, 0.21652277, 0.12389435, 0.0146493 , 0.1662096 ,\n",
       "        0.88416806, 0.09640114, 0.32454476, 0.7199318 , 0.19599446,\n",
       "        0.34638071, 0.26790821, 0.08166197, 0.95215935, 0.04672859,\n",
       "        0.84340683, 0.73545185, 0.7145982 , 0.54191683, 0.14398861,\n",
       "        0.77511985, 0.03520131, 0.10993543, 0.20326765, 0.07713693,\n",
       "        0.81345997, 0.31933964, 0.11766535, 0.03261762, 0.23103035,\n",
       "        0.11621067, 0.66014672, 0.77554182, 0.14223714, 0.85186655,\n",
       "        0.71426518, 0.35602237, 0.39076273, 0.00945565, 0.75020484]),\n",
       " 0.01)"
      ]
     },
     "execution_count": 86,
     "metadata": {},
     "output_type": "execute_result"
    }
   ],
   "source": [
    "i=6\n",
    "np.array(basin_obj[i])/np.array(true_obj[i]), np.sum(np.where(np.array(basin_obj[i])/np.array(true_obj[i]) >= 0.99, 1, 0))/len(basin_obj[i])"
   ]
  },
  {
   "cell_type": "code",
   "execution_count": 87,
   "metadata": {},
   "outputs": [
    {
     "data": {
      "text/plain": [
       "(array([0.14641039, 0.14640941, 0.14644366, 0.14655684, 0.14641173,\n",
       "        0.14643392, 0.14643114, 0.1464998 , 0.14646828, 0.1462315 ,\n",
       "        0.1463911 , 0.14648452, 0.14647165, 0.14643394, 0.1464613 ,\n",
       "        0.14652702, 0.14639447, 0.146474  , 0.14648108, 0.14644696,\n",
       "        0.14643249, 0.14654521, 0.14646636, 0.14642111, 0.14648187,\n",
       "        0.14648035, 0.14643905, 0.146431  , 0.14646749, 0.14642712,\n",
       "        0.14642209, 0.146406  , 0.1468935 , 0.14652148, 0.14644381,\n",
       "        0.14646965, 0.14647083, 0.14657738, 0.14640695, 0.14647109,\n",
       "        0.14648093, 0.14648799, 0.14658424, 0.14640409, 0.14651846,\n",
       "        0.14648327, 0.14646388, 0.14644556, 0.1466155 , 0.14639432,\n",
       "        0.14646256, 0.14640862, 0.14648253, 0.14647328, 0.14644428,\n",
       "        0.14644462, 0.14649361, 0.14644277, 0.14619638, 0.14644603,\n",
       "        0.1464861 , 0.14641326, 0.14641476, 0.14639815, 0.14643764,\n",
       "        0.14643742, 0.14647562, 0.14647285, 0.14644206, 0.14646506,\n",
       "        0.14650428, 0.14648803, 0.14657271, 0.14645203, 0.14643828,\n",
       "        0.14635947, 0.14645941, 0.14652969, 0.14642847, 0.14637353,\n",
       "        0.14642075, 0.14641582, 0.14653818, 0.14640863, 0.14642323,\n",
       "        0.14645683, 0.14652289, 0.14635797, 0.14652168, 0.14679378,\n",
       "        0.14646411, 0.14644518, 0.14644563, 0.14640982, 0.14645102,\n",
       "        0.14645205, 0.14647775, 0.1465309 , 0.14652901, 0.14644436]),\n",
       " 0.14646688973455957)"
      ]
     },
     "execution_count": 87,
     "metadata": {},
     "output_type": "execute_result"
    }
   ],
   "source": [
    "i=6\n",
    "np.sin(thetas[i]), avals[i]"
   ]
  },
  {
   "cell_type": "code",
   "execution_count": 88,
   "metadata": {},
   "outputs": [
    {
     "data": {
      "text/plain": [
       "(array([0.046772  , 0.04677168, 0.04678271, 0.04681913, 0.04677243,\n",
       "        0.04677957, 0.04677868, 0.04680077, 0.04679063, 0.04671444,\n",
       "        0.04676579, 0.04679585, 0.04679171, 0.04677958, 0.04678838,\n",
       "        0.04680953, 0.04676688, 0.04679247, 0.04679475, 0.04678377,\n",
       "        0.04677911, 0.04681538, 0.04679001, 0.04677545, 0.046795  ,\n",
       "        0.04679451, 0.04678122, 0.04677863, 0.04679038, 0.04677738,\n",
       "        0.04677577, 0.04677059, 0.04692746, 0.04680775, 0.04678276,\n",
       "        0.04679107, 0.04679145, 0.04682574, 0.0467709 , 0.04679153,\n",
       "        0.0467947 , 0.04679697, 0.04682794, 0.04676997, 0.04680678,\n",
       "        0.04679545, 0.04678921, 0.04678332, 0.046838  , 0.04676683,\n",
       "        0.04678879, 0.04677143, 0.04679521, 0.04679224, 0.04678291,\n",
       "        0.04678302, 0.04679878, 0.04678242, 0.04670314, 0.04678347,\n",
       "        0.04679637, 0.04677292, 0.04677341, 0.04676806, 0.04678077,\n",
       "        0.0467807 , 0.04679299, 0.0467921 , 0.04678219, 0.04678959,\n",
       "        0.04680221, 0.04679699, 0.04682423, 0.0467854 , 0.04678098,\n",
       "        0.04675562, 0.04678778, 0.04681039, 0.04677782, 0.04676014,\n",
       "        0.04677533, 0.04677375, 0.04681312, 0.04677143, 0.04677613,\n",
       "        0.04678695, 0.0468082 , 0.04675513, 0.04680781, 0.04689537,\n",
       "        0.04678929, 0.0467832 , 0.04678334, 0.04677182, 0.04678508,\n",
       "        0.04678541, 0.04679368, 0.04681078, 0.04681017, 0.04678293]),\n",
       " 0.046790182007957946)"
      ]
     },
     "execution_count": 88,
     "metadata": {},
     "output_type": "execute_result"
    }
   ],
   "source": [
    "i=6\n",
    "thetas[i]/np.pi, np.arcsin(avals[i])/np.pi"
   ]
  },
  {
   "cell_type": "code",
   "execution_count": 89,
   "metadata": {},
   "outputs": [],
   "source": [
    "# np.random.seed(1)\n",
    "\n",
    "# csignal, measurements = estimate_signal(ula_signal.depths, ula_signal.n_samples, np.arcsin(avals[i]))\n",
    "\n",
    "# plt.plot(measurements, 'r', label='measurements')\n",
    "# plt.plot(np.cos((2*ula_signal.depths + 1)*theta2)**2, 'b', label='theta2')\n",
    "# plt.plot(np.cos((2*ula_signal.depths + 1)*theta1)**2, 'k', label='theta1')\n",
    "# plt.legend()"
   ]
  },
  {
   "cell_type": "code",
   "execution_count": 90,
   "metadata": {},
   "outputs": [
    {
     "name": "stdout",
     "output_type": "stream",
     "text": [
      "constant factors query and depth (68%) for 0.400: 4.264e-05, 1.749, 8.733e-02\n",
      "constant factors query and depth (68%) for 0.861: 2.031e-05, 0.833, 4.160e-02\n",
      "constant factors query and depth (68%) for 0.686: 3.415e-05, 1.401, 6.994e-02\n",
      "constant factors query and depth (68%) for 0.579: 3.665e-05, 1.503, 7.506e-02\n",
      "constant factors query and depth (68%) for 0.225: 4.541e-05, 1.863, 9.300e-02\n",
      "constant factors query and depth (68%) for 0.225: 4.742e-05, 1.945, 9.712e-02\n",
      "constant factors query and depth (68%) for 0.146: 5.491e-05, 2.252, 1.124e-01\n",
      "constant factors query and depth (68%) for 0.793: 2.637e-05, 1.082, 5.401e-02\n",
      "constant factors query and depth (68%) for 0.581: 3.474e-05, 1.425, 7.114e-02\n",
      "constant factors query and depth (68%) for 0.666: 4.285e-05, 1.758, 8.776e-02\n",
      "constant factors query and depth (68%) for 0.116: 6.069e-05, 2.490, 1.243e-01\n",
      "constant factors query and depth (68%) for 0.876: 2.157e-05, 0.885, 4.418e-02\n",
      "constant factors query and depth (68%) for 0.766: 2.725e-05, 1.118, 5.581e-02\n",
      "constant factors query and depth (68%) for 0.270: 4.409e-05, 1.809, 9.029e-02\n",
      "constant factors query and depth (68%) for 0.245: 4.820e-05, 1.977, 9.871e-02\n",
      "average constant factor 1.606\n",
      "average error 3.915e-05\n"
     ]
    }
   ],
   "source": [
    "perc = 68\n",
    "avg = 0.0\n",
    "avg_err = 0.0\n",
    "for i in range(len(avals)):\n",
    "    avg += np.percentile(errors[i], perc) * num_queries[i]/len(avals)\n",
    "    avg_err += np.percentile(errors[i], perc)/len(avals)\n",
    "    print(f'constant factors query and depth ({perc}%) for {avals[i]:.3f}: {np.percentile(errors[i], perc):.3e}, {np.percentile(errors[i], perc) * num_queries[i]:.3f}, {np.percentile(errors[i], perc) * max_single_query[i]:.3e}')\n",
    "print(f'average constant factor {avg:0.3f}')\n",
    "print(f'average error {avg_err:0.3e}')"
   ]
  },
  {
   "cell_type": "code",
   "execution_count": 91,
   "metadata": {},
   "outputs": [
    {
     "name": "stdout",
     "output_type": "stream",
     "text": [
      "constant factors query and depth with known signs for 0.400: 8.198e-05, 3.363, 1.679e-01\n",
      "constant factors query and depth with known signs for 0.861: 4.407e-05, 1.808, 9.026e-02\n",
      "constant factors query and depth with known signs for 0.686: 6.680e-05, 2.740, 1.368e-01\n",
      "constant factors query and depth with known signs for 0.579: 7.898e-05, 3.240, 1.618e-01\n",
      "constant factors query and depth with known signs for 0.225: 9.605e-05, 3.940, 1.967e-01\n",
      "constant factors query and depth with known signs for 0.225: 8.623e-05, 3.537, 1.766e-01\n",
      "constant factors query and depth with known signs for 0.146: 9.695e-05, 3.977, 1.986e-01\n",
      "constant factors query and depth with known signs for 0.793: 5.396e-05, 2.213, 1.105e-01\n",
      "constant factors query and depth with known signs for 0.581: 6.355e-05, 2.607, 1.301e-01\n",
      "constant factors query and depth with known signs for 0.666: 8.926e-05, 3.661, 1.828e-01\n",
      "constant factors query and depth with known signs for 0.116: 1.061e-04, 4.351, 2.172e-01\n",
      "constant factors query and depth with known signs for 0.876: 4.139e-05, 1.698, 8.477e-02\n",
      "constant factors query and depth with known signs for 0.766: 5.316e-05, 2.181, 1.089e-01\n",
      "constant factors query and depth with known signs for 0.270: 9.481e-05, 3.889, 1.942e-01\n",
      "constant factors query and depth with known signs for 0.245: 8.275e-05, 3.394, 1.695e-01\n",
      "average constant factor 3.107\n",
      "average error 3.787e-05\n"
     ]
    }
   ],
   "source": [
    "perc = 68\n",
    "avg = 0.0\n",
    "avg_err = 0.0\n",
    "for j in range(len(avals)):\n",
    "    avg += 2*np.percentile(errors1[j], perc) * num_queries[j]/len(avals)\n",
    "    avg_err += np.percentile(errors1[j], perc)/len(avals)\n",
    "    print(f'constant factors query and depth with known signs for {avals[j]:.3f}: {2*np.percentile(errors1[j], perc):.3e}, {2*np.percentile(errors1[j], perc) * num_queries[j]:.3f}, {2*np.percentile(errors1[j], perc) * max_single_query[j]:.3e}')\n",
    "print(f'average constant factor {avg:0.3f}')\n",
    "print(f'average error {avg_err:0.3e}')"
   ]
  },
  {
   "cell_type": "code",
   "execution_count": 92,
   "metadata": {},
   "outputs": [
    {
     "name": "stdout",
     "output_type": "stream",
     "text": [
      "constant factors query and depth (95%) for 0.400: 1.580e-04, 6.480, 3.235e-01\n",
      "constant factors query and depth (95%) for 0.861: 6.514e-05, 2.672, 1.334e-01\n",
      "constant factors query and depth (95%) for 0.686: 6.441e-05, 2.642, 1.319e-01\n",
      "constant factors query and depth (95%) for 0.579: 8.406e-05, 3.448, 1.722e-01\n",
      "constant factors query and depth (95%) for 0.225: 1.342e-04, 5.506, 2.749e-01\n",
      "constant factors query and depth (95%) for 0.225: 2.481e-04, 10.176, 5.081e-01\n",
      "constant factors query and depth (95%) for 0.146: 1.189e-04, 4.878, 2.435e-01\n",
      "constant factors query and depth (95%) for 0.793: 7.055e-05, 2.894, 1.445e-01\n",
      "constant factors query and depth (95%) for 0.581: 7.498e-05, 3.076, 1.536e-01\n",
      "constant factors query and depth (95%) for 0.666: 7.616e-05, 3.124, 1.560e-01\n",
      "constant factors query and depth (95%) for 0.116: 3.943e-04, 16.174, 8.075e-01\n",
      "constant factors query and depth (95%) for 0.876: 4.195e-05, 1.721, 8.591e-02\n",
      "constant factors query and depth (95%) for 0.766: 8.372e-05, 3.434, 1.715e-01\n",
      "constant factors query and depth (95%) for 0.270: 1.144e-04, 4.692, 2.343e-01\n",
      "constant factors query and depth (95%) for 0.245: 1.561e-04, 6.401, 3.196e-01\n",
      "average constant factor 5.155\n",
      "average error 1.257e-04\n"
     ]
    }
   ],
   "source": [
    "perc = 95\n",
    "avg = 0.0\n",
    "avg_err = 0.0\n",
    "for i in range(len(avals)):\n",
    "    avg += np.percentile(errors[i], perc) * num_queries[i]/len(avals)\n",
    "    avg_err += np.percentile(errors[i], perc)/len(avals)\n",
    "    print(f'constant factors query and depth ({perc}%) for {avals[i]:.3f}: {np.percentile(errors[i], perc):.3e}, {np.percentile(errors[i], perc) * num_queries[i]:.3f}, {np.percentile(errors[i], perc) * max_single_query[i]:.3e}')\n",
    "print(f'average constant factor {avg:0.3f}')\n",
    "print(f'average error {avg_err:0.3e}')"
   ]
  },
  {
   "cell_type": "code",
   "execution_count": 93,
   "metadata": {},
   "outputs": [
    {
     "name": "stdout",
     "output_type": "stream",
     "text": [
      "constant factors query and depth with known signs for 0.400: 2.100e-04, 8.616, 4.302e-01\n",
      "constant factors query and depth with known signs for 0.861: 9.106e-05, 3.735, 1.865e-01\n",
      "constant factors query and depth with known signs for 0.686: 1.388e-04, 5.695, 2.843e-01\n",
      "constant factors query and depth with known signs for 0.579: 1.811e-04, 7.430, 3.710e-01\n",
      "constant factors query and depth with known signs for 0.225: 2.033e-04, 8.339, 4.163e-01\n",
      "constant factors query and depth with known signs for 0.225: 2.309e-04, 9.473, 4.730e-01\n",
      "constant factors query and depth with known signs for 0.146: 2.205e-04, 9.043, 4.515e-01\n",
      "constant factors query and depth with known signs for 0.793: 1.086e-04, 4.453, 2.223e-01\n",
      "constant factors query and depth with known signs for 0.581: 1.461e-04, 5.993, 2.992e-01\n",
      "constant factors query and depth with known signs for 0.666: 1.458e-04, 5.981, 2.986e-01\n",
      "constant factors query and depth with known signs for 0.116: 1.737e-04, 7.124, 3.557e-01\n",
      "constant factors query and depth with known signs for 0.876: 7.813e-05, 3.205, 1.600e-01\n",
      "constant factors query and depth with known signs for 0.766: 1.052e-04, 4.313, 2.154e-01\n",
      "constant factors query and depth with known signs for 0.270: 1.785e-04, 7.321, 3.655e-01\n",
      "constant factors query and depth with known signs for 0.245: 1.916e-04, 7.861, 3.925e-01\n",
      "average constant factor 6.572\n",
      "average error 8.011e-05\n"
     ]
    }
   ],
   "source": [
    "perc = 95\n",
    "avg = 0.0\n",
    "avg_err = 0.0\n",
    "for j in range(len(avals)):\n",
    "    avg += 2*np.percentile(errors1[j], perc) * num_queries[j]/len(avals)\n",
    "    avg_err += np.percentile(errors1[j], perc)/len(avals)\n",
    "    print(f'constant factors query and depth with known signs for {avals[j]:.3f}: {2*np.percentile(errors1[j], perc):.3e}, {2*np.percentile(errors1[j], perc) * num_queries[j]:.3f}, {2*np.percentile(errors1[j], perc) * max_single_query[j]:.3e}')\n",
    "print(f'average constant factor {avg:0.3f}')\n",
    "print(f'average error {avg_err:0.3e}')"
   ]
  },
  {
   "cell_type": "code",
   "execution_count": 94,
   "metadata": {},
   "outputs": [
    {
     "name": "stdout",
     "output_type": "stream",
     "text": [
      "constant factors query and depth (99%) for 0.400: 2.487e-04, 10.200, 5.092e-01\n",
      "constant factors query and depth (99%) for 0.861: 1.561e-03, 64.043, 3.197e+00\n",
      "constant factors query and depth (99%) for 0.686: 1.554e-04, 6.376, 3.183e-01\n",
      "constant factors query and depth (99%) for 0.579: 2.493e-04, 10.226, 5.106e-01\n",
      "constant factors query and depth (99%) for 0.225: 3.544e-04, 14.537, 7.258e-01\n",
      "constant factors query and depth (99%) for 0.225: 4.474e-04, 18.354, 9.164e-01\n",
      "constant factors query and depth (99%) for 0.146: 3.279e-04, 13.450, 6.715e-01\n",
      "constant factors query and depth (99%) for 0.793: 1.003e-04, 4.116, 2.055e-01\n",
      "constant factors query and depth (99%) for 0.581: 2.293e-04, 9.406, 4.696e-01\n",
      "constant factors query and depth (99%) for 0.666: 1.404e-04, 5.758, 2.875e-01\n",
      "constant factors query and depth (99%) for 0.116: 4.329e-04, 17.757, 8.866e-01\n",
      "constant factors query and depth (99%) for 0.876: 7.571e-05, 3.105, 1.550e-01\n",
      "constant factors query and depth (99%) for 0.766: 1.400e-04, 5.744, 2.868e-01\n",
      "constant factors query and depth (99%) for 0.270: 5.443e-04, 22.328, 1.115e+00\n",
      "constant factors query and depth (99%) for 0.245: 4.216e-04, 17.294, 8.635e-01\n",
      "average constant factor 14.846\n",
      "average error 3.619e-04\n"
     ]
    }
   ],
   "source": [
    "perc = 99\n",
    "avg = 0.0\n",
    "avg_err = 0.0\n",
    "for i in range(len(avals)):\n",
    "    avg += np.percentile(errors[i], perc) * num_queries[i]/len(avals)\n",
    "    avg_err += np.percentile(errors[i], perc)/len(avals)\n",
    "    print(f'constant factors query and depth ({perc}%) for {avals[i]:.3f}: {np.percentile(errors[i], perc):.3e}, {np.percentile(errors[i], perc) * num_queries[i]:.3f}, {np.percentile(errors[i], perc) * max_single_query[i]:.3e}')\n",
    "print(f'average constant factor {avg:0.3f}')\n",
    "print(f'average error {avg_err:0.3e}')"
   ]
  },
  {
   "cell_type": "code",
   "execution_count": 95,
   "metadata": {},
   "outputs": [
    {
     "name": "stdout",
     "output_type": "stream",
     "text": [
      "constant factors query and depth with known signs for 0.400: 3.324e-04, 13.634, 6.807e-01\n",
      "constant factors query and depth with known signs for 0.861: 1.010e-04, 4.145, 2.069e-01\n",
      "constant factors query and depth with known signs for 0.686: 1.707e-04, 7.004, 3.497e-01\n",
      "constant factors query and depth with known signs for 0.579: 2.185e-04, 8.963, 4.475e-01\n",
      "constant factors query and depth with known signs for 0.225: 2.327e-04, 9.545, 4.766e-01\n",
      "constant factors query and depth with known signs for 0.225: 2.594e-04, 10.640, 5.312e-01\n",
      "constant factors query and depth with known signs for 0.146: 2.888e-04, 11.848, 5.915e-01\n",
      "constant factors query and depth with known signs for 0.793: 1.194e-04, 4.898, 2.445e-01\n",
      "constant factors query and depth with known signs for 0.581: 1.742e-04, 7.144, 3.567e-01\n",
      "constant factors query and depth with known signs for 0.666: 1.574e-04, 6.456, 3.223e-01\n",
      "constant factors query and depth with known signs for 0.116: 1.835e-04, 7.528, 3.759e-01\n",
      "constant factors query and depth with known signs for 0.876: 9.916e-05, 4.067, 2.031e-01\n",
      "constant factors query and depth with known signs for 0.766: 1.827e-04, 7.495, 3.742e-01\n",
      "constant factors query and depth with known signs for 0.270: 2.790e-04, 11.444, 5.714e-01\n",
      "constant factors query and depth with known signs for 0.245: 2.757e-04, 11.309, 5.646e-01\n",
      "average constant factor 8.408\n",
      "average error 1.025e-04\n"
     ]
    }
   ],
   "source": [
    "perc = 99\n",
    "avg = 0.0\n",
    "avg_err = 0.0\n",
    "for j in range(len(avals)):\n",
    "    avg += 2*np.percentile(errors1[j], perc) * num_queries[j]/len(avals)\n",
    "    avg_err += np.percentile(errors1[j], perc)/len(avals)\n",
    "    print(f'constant factors query and depth with known signs for {avals[j]:.3f}: {2*np.percentile(errors1[j], perc):.3e}, {2*np.percentile(errors1[j], perc) * num_queries[j]:.3f}, {2*np.percentile(errors1[j], perc) * max_single_query[j]:.3e}')\n",
    "print(f'average constant factor {avg:0.3f}')\n",
    "print(f'average error {avg_err:0.3e}')"
   ]
  },
  {
   "cell_type": "code",
   "execution_count": null,
   "metadata": {},
   "outputs": [],
   "source": []
  },
  {
   "cell_type": "code",
   "execution_count": null,
   "metadata": {},
   "outputs": [],
   "source": []
  },
  {
   "cell_type": "code",
   "execution_count": null,
   "metadata": {},
   "outputs": [],
   "source": []
  }
 ],
 "metadata": {
  "kernelspec": {
   "display_name": "Python 3 (ipykernel)",
   "language": "python",
   "name": "python3"
  },
  "language_info": {
   "codemirror_mode": {
    "name": "ipython",
    "version": 3
   },
   "file_extension": ".py",
   "mimetype": "text/x-python",
   "name": "python",
   "nbconvert_exporter": "python",
   "pygments_lexer": "ipython3",
   "version": "3.12.8"
  }
 },
 "nbformat": 4,
 "nbformat_minor": 4
}
