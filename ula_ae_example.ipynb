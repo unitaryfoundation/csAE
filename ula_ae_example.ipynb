{
 "cells": [
  {
   "cell_type": "code",
   "execution_count": 1,
   "id": "cabf93de-0b26-4033-9cd0-8d247c43e4f8",
   "metadata": {},
   "outputs": [
    {
     "data": {
      "text/plain": [
       "<Figure size 640x480 with 0 Axes>"
      ]
     },
     "metadata": {},
     "output_type": "display_data"
    }
   ],
   "source": [
    "import numpy as np\n",
    "import matplotlib.pyplot as plt\n",
    "import seaborn as sns\n",
    "from signals import *\n",
    "from frequencyestimator import *\n",
    "import time\n",
    "import copy\n",
    "\n",
    "sns.set_style(\"whitegrid\")\n",
    "sns.despine(left=True, bottom=True)\n",
    "sns.set_context(\"poster\", font_scale = .45, rc={\"grid.linewidth\": 0.8})"
   ]
  },
  {
   "cell_type": "markdown",
   "id": "47fcf5c4-607e-44b7-a74d-bef41ea19882",
   "metadata": {},
   "source": [
    "# Example Implementation\n",
    "\n",
    "Here we provide a minimal working example demonstrating how to use the code to estimate the amplitude using the ESPIRIT algorithm."
   ]
  },
  {
   "cell_type": "code",
   "execution_count": 2,
   "id": "4492b90a-adc8-43b2-8251-1be9e5586583",
   "metadata": {},
   "outputs": [
    {
     "name": "stdout",
     "output_type": "stream",
     "text": [
      "[-2.22424303  2.22424303]\n",
      "[-1.57079633  1.57079633]\n",
      "[ 2.31412221 -2.31412221]\n",
      "[ 2.29494927 -2.29494927]\n",
      "[-1.46703919  1.46703919]\n",
      "[-0.30015046  0.30015046]\n",
      "[ 3.06870573 -3.06870573]\n",
      "[-2.66058629  2.66058629]\n",
      "[ 1.57079633 -1.57079633]\n",
      "[-2.22110994  2.22110994]\n",
      "Array parameters: [2, 2, 2, 2, 2, 2, 2, 2, 2, 2]\n",
      "Number of queries: 20415\n",
      "theta: 0.7853981633974483\n",
      "Ave theta estimated: 0.6582023229393342\n",
      "a = 0.7071067811865475; a_est = 0.6116957111386023\n",
      "Max Single Query: 512\n",
      "99% percentile: 6.066133e-01\n",
      "95% percentile: 5.045081e-01\n",
      "68% percentile: 2.296908e-01\n",
      "\n"
     ]
    }
   ],
   "source": [
    "# For reproducibility\n",
    "# np.random.seed(7)\n",
    "# Set the per oracle noise parameter (See Eq. 18)\n",
    "eta=0\n",
    "# Set the array parameters (See Thm. II.2 and Eq. 12) \n",
    "narray = [2]*10\n",
    "# Set the actual angle\n",
    "theta = np.pi/4 #np.arcsin(a)\n",
    "\n",
    "# This sets up the simulation that simulates the measured amplitudes at the various physical locations.\n",
    "# It uses a C=1.5 value, which corresponds to the sampling schedule given in Eq. 16. The variable C here \n",
    "# is the parameter K in the paper.\n",
    "ula_signal = TwoqULASignal(M=narray, C=5)\n",
    "# Number of Monte Carlo trials used to estimate statistics. We tend to use 500 in the paper. Choose 100 here for speed.\n",
    "num_mc = 10\n",
    "thetas = np.zeros(num_mc, dtype = float)\n",
    "errors = np.zeros(num_mc, dtype = float)\n",
    "\n",
    "# Sets up the ESPIRIT object to estimate the amplitude\n",
    "espirit = ESPIRIT()\n",
    "\n",
    "for k in range(num_mc):\n",
    "    signal = ula_signal.estimate_signal(ula_signal.n_samples, theta, eta=eta)\n",
    "    # This estimates the covariance matrix of Eq. 8 using the approch given in DOI:10.1109/LSP.2015.2409153\n",
    "    R = ula_signal.get_cov_matrix_toeplitz(signal)\n",
    "    '''TODO:\n",
    "    - 2n+1 vs n (phase shift)\n",
    "    ''' \n",
    "    # This estimates the angle using the ESPIRIT algorithm\n",
    "    theta_est, angle = espirit.estimate_theta_toeplitz(R)\n",
    "    # R = ula_signal.get_cov_matrix(signal)\n",
    "    # theta_est, angle = espirit.estimate_theta(R)\n",
    "    print(angle)\n",
    "    # Estimate the error between estimated a and actual a\n",
    "    error = np.abs(np.sin(theta)-np.sin(theta_est)) \n",
    "    thetas[k] = theta_est            \n",
    "    errors[k] = error\n",
    "\n",
    "# Compute the total number of queries. The additional count of ula_signal.n_samples[0] is to \n",
    "# account for the fact that the Grover oracle has two invocations of the unitary U, but is \n",
    "# preceded by a single invocation of U (see Eq. 2 in paper). This accounts for the shots required\n",
    "# for that single U operator, which costs half as much as the Grover oracle.\n",
    "num_queries = 2*np.sum(np.array(ula_signal.depths)*np.array(ula_signal.n_samples)) + ula_signal.n_samples[0]\n",
    "# Compute the maximum single query\n",
    "max_single_query = np.max(ula_signal.depths)\n",
    "\n",
    "print(f'Array parameters: {narray}')\n",
    "print(f'Number of queries: {num_queries}')\n",
    "print(f'theta: {theta}')\n",
    "print(f'Ave theta estimated: {np.mean(thetas)}')\n",
    "print(f'a = {np.sin(theta)}; a_est = {np.sin(np.mean(thetas))}')\n",
    "print(f'Max Single Query: {max_single_query}')\n",
    "print(f'99% percentile: {np.percentile(errors, 99):e}')\n",
    "print(f'95% percentile: {np.percentile(errors, 95):e}')\n",
    "print(f'68% percentile: {np.percentile(errors, 68):e}')\n",
    "print()\n"
   ]
  },
  {
   "cell_type": "code",
   "execution_count": 3,
   "id": "29f943b4",
   "metadata": {},
   "outputs": [
    {
     "name": "stdout",
     "output_type": "stream",
     "text": [
      "Array parameters: [2, 2, 2, 2, 2, 2, 2, 2, 2, 2]\n",
      "Number of queries: 6124\n",
      "theta: 0.6283185307179586\n",
      "Ave theta estimated: 0.6320726819012592\n",
      "a = 0.5877852522924731; a_est = 0.5908182752498093\n",
      "Max Single Query: 512\n",
      "99% percentile: 1.692913e-01\n",
      "95% percentile: 8.130852e-02\n",
      "68% percentile: 1.202905e-04\n",
      "95% percentile constant factor: 4.979334e+02\n",
      "\n"
     ]
    }
   ],
   "source": [
    "# For reproducibility\n",
    "# np.random.seed(7)\n",
    "# Set the per oracle noise parameter (See Eq. 18)\n",
    "eta=0\n",
    "# Set the array parameters (See Thm. II.2 and Eq. 12) \n",
    "narray = [2]*10\n",
    "# Set the actual angle\n",
    "theta = np.pi/5\n",
    "\n",
    "# This sets up the simulation that simulates the measured amplitudes at the various physical locations.\n",
    "# It uses a C=1.5 value, which corresponds to the sampling schedule given in Eq. 16. The variable C here \n",
    "# is the parameter K in the paper.\n",
    "ula_signal = TwoqULASignal(M=narray, C=3)\n",
    "# Number of Monte Carlo trials used to estimate statistics. We tend to use 500 in the paper. Choose 100 here for speed.\n",
    "num_mc = 100\n",
    "thetas = np.zeros(num_mc, dtype = float)\n",
    "errors = np.zeros(num_mc, dtype = float)\n",
    "\n",
    "# Sets up the ESPIRIT object to estimate the amplitude\n",
    "espirit = ESPIRIT()\n",
    "\n",
    "for k in range(num_mc):\n",
    "    signal = ula_signal.estimate_signal(ula_signal.n_samples, theta, eta=eta)\n",
    "    # This estimates the covariance matrix of Eq. 8 using the approch given in DOI:10.1109/LSP.2015.2409153\n",
    "    R = ula_signal.get_cov_matrix_toeplitz(signal)\n",
    "    '''TODO:\n",
    "    - 2n+1 vs n (phase shift)\n",
    "    ''' \n",
    "    # This estimates the angle using fft\n",
    "    fft = np.abs(np.fft.fft(R))\n",
    "\n",
    "    amax = np.argmax(fft[:len(fft)//2])\n",
    "    angle = [np.pi*(len(fft)-amax)/(2*len(fft)) , np.pi*(amax)/(2*len(fft))]\n",
    "    # R = ula_signal.get_cov_matrix(signal)\n",
    "    # theta_est, angle = espirit.estimate_theta(R)\n",
    "    # print(angle)\n",
    "    # Estimate the error between estimated a and actual a\n",
    "    differences = [np.abs(np.sin(theta) - np.sin(angle[0])), np.abs(np.sin(theta) - np.sin(angle[1]))]\n",
    "    idx = np.argmin(differences)\n",
    "    error = differences[idx]\n",
    "    theta_est = angle[idx]\n",
    " \n",
    "    thetas[k] = theta_est            \n",
    "    errors[k] = error\n",
    "\n",
    "# Compute the total number of queries. The additional count of ula_signal.n_samples[0] is to \n",
    "# account for the fact that the Grover oracle has two invocations of the unitary U, but is \n",
    "# preceded by a single invocation of U (see Eq. 2 in paper). This accounts for the shots required\n",
    "# for that single U operator, which costs half as much as the Grover oracle.\n",
    "num_queries = np.sum(np.array(ula_signal.depths)*np.array(ula_signal.n_samples)) + ula_signal.n_samples[0]//2\n",
    "# Compute the maximum single query\n",
    "max_single_query = np.max(ula_signal.depths)\n",
    "\n",
    "print(f'Array parameters: {narray}')\n",
    "print(f'Number of queries: {num_queries}')\n",
    "print(f'theta: {theta}')\n",
    "print(f'Ave theta estimated: {np.mean(thetas)}')\n",
    "print(f'a = {np.sin(theta)}; a_est = {np.sin(np.mean(thetas))}')\n",
    "print(f'Max Single Query: {max_single_query}')\n",
    "print(f'99% percentile: {np.percentile(errors, 99):e}')\n",
    "print(f'95% percentile: {np.percentile(errors, 95):e}')\n",
    "print(f'68% percentile: {np.percentile(errors, 68):e}')\n",
    "print(f'95% percentile constant factor: {num_queries*np.percentile(errors, 95):e}')\n",
    "print()\n"
   ]
  },
  {
   "cell_type": "code",
   "execution_count": 4,
   "id": "fd65ca98",
   "metadata": {},
   "outputs": [
    {
     "name": "stdout",
     "output_type": "stream",
     "text": [
      "0.15462991431125972 0.0821548348770823\n"
     ]
    },
    {
     "data": {
      "text/plain": [
       "(array([0.74241517, 0.66994009]), 0.5877852522924731)"
      ]
     },
     "execution_count": 4,
     "metadata": {},
     "output_type": "execute_result"
    },
    {
     "data": {
      "image/png": "[encoded data removed]",
      "text/plain": [
       "<Figure size 640x480 with 1 Axes>"
      ]
     },
     "metadata": {},
     "output_type": "display_data"
    }
   ],
   "source": [
    "R = R[len(R)//2:]\n",
    "\n",
    "fft = np.abs(np.fft.fft(R))\n",
    "\n",
    "amax = np.argmax(fft[:len(fft)//2])\n",
    "\n",
    "xaxis = [i*np.pi/(2*len(fft)) for i in range(len(fft))]\n",
    "\n",
    "plt.plot(xaxis, fft)\n",
    "\n",
    "print(np.abs(np.sin(theta) - np.sin(np.pi*(len(fft)-amax)/(2*len(fft)))), np.abs(np.sin(theta) - np.sin(np.pi*(amax)/(2*len(fft)))))\n",
    "np.sin( [np.pi*(len(fft)-amax)/(2*len(fft)) , np.pi*(amax)/(2*len(fft))]), np.sin(theta)"
   ]
  },
  {
   "cell_type": "code",
   "execution_count": 6,
   "id": "4f9225c9",
   "metadata": {},
   "outputs": [
    {
     "data": {
      "text/plain": [
       "(0.5235987755982988,\n",
       " 0.6283185307179586,\n",
       " 0.7853981633974483,\n",
       " 1.0471975511965976,\n",
       " 1.5707963267948966)"
      ]
     },
     "execution_count": 6,
     "metadata": {},
     "output_type": "execute_result"
    }
   ],
   "source": [
    "np.pi/6, np.pi/5, np.pi/4, np.pi/3, np.pi/2"
   ]
  },
  {
   "cell_type": "code",
   "execution_count": 12,
   "id": "21b94ca9",
   "metadata": {},
   "outputs": [],
   "source": [
    "eta=0\n",
    "# Set the array parameters (See Thm. II.2 and Eq. 12) \n",
    "narray = [2]*10\n",
    "# Set the actual angle\n",
    "N=6\n",
    "thetas = np.array([((i+1)/(N+1))*np.pi/2 for i in range(N)]) #np.arcsin(a)\n",
    "\n",
    "# This sets up the simulation that simulates the measured amplitudes at the various physical locations.\n",
    "# It uses a C=1.5 value, which corresponds to the sampling schedule given in Eq. 16. The variable C here \n",
    "# is the parameter K in the paper.\n",
    "ula_signal = TwoqULASignal(M=narray, C=5)\n",
    "thetas_est = np.zeros(len(thetas), dtype = float)\n",
    "# Sets up the ESPIRIT object to estimate the amplitude\n",
    "espirit = ESPIRIT()\n",
    "\n",
    "for i,theta in enumerate(thetas):\n",
    "    signal = ula_signal.estimate_signal(ula_signal.n_samples, theta, eta=eta)\n",
    "    # This estimates the covariance matrix of Eq. 8 using the approch given in DOI:10.1109/LSP.2015.2409153\n",
    "    R = ula_signal.get_cov_matrix_toeplitz(signal)\n",
    "    '''TODO:\n",
    "    - 2n+1 vs n (phase shift)\n",
    "    ''' \n",
    "    # This estimates the angle using the ESPIRIT algorithm\n",
    "    theta_est, angle = espirit.estimate_theta_toeplitz(R)\n",
    "    thetas_est[i] = np.abs(angle[0])\n",
    "    "
   ]
  },
  {
   "cell_type": "code",
   "execution_count": 13,
   "id": "911d8627",
   "metadata": {},
   "outputs": [
    {
     "data": {
      "text/plain": [
       "[<matplotlib.lines.Line2D at 0x2a63a5310>]"
      ]
     },
     "execution_count": 13,
     "metadata": {},
     "output_type": "execute_result"
    },
    {
     "data": {
      "image/png": "[encoded data removed]",
      "text/plain": [
       "<Figure size 640x480 with 1 Axes>"
      ]
     },
     "metadata": {},
     "output_type": "display_data"
    }
   ],
   "source": [
    "plt.plot(thetas, thetas_est/thetas)"
   ]
  },
  {
   "cell_type": "code",
   "execution_count": 14,
   "id": "e650e2f9",
   "metadata": {},
   "outputs": [
    {
     "data": {
      "text/plain": [
       "array([6.00201854, 3.00100927, 2.00067285, 1.50050464, 1.20040371,\n",
       "       1.00033642])"
      ]
     },
     "execution_count": 14,
     "metadata": {},
     "output_type": "execute_result"
    }
   ],
   "source": [
    "factors = theta_est/thetas\n",
    "factors"
   ]
  },
  {
   "cell_type": "code",
   "execution_count": 15,
   "id": "f21951a5",
   "metadata": {},
   "outputs": [
    {
     "data": {
      "text/plain": [
       "array([3.00100927, 2.00067285, 1.50050464, 1.20040371, 1.00033642,\n",
       "       1.        ])"
      ]
     },
     "execution_count": 15,
     "metadata": {},
     "output_type": "execute_result"
    }
   ],
   "source": [
    "factors_shifted = np.ones(len(factors))\n",
    "factors_shifted = np.roll(factors, -1)\n",
    "factors_shifted[-1] = 1\n",
    "factors_shifted\n"
   ]
  },
  {
   "cell_type": "code",
   "execution_count": 16,
   "id": "eb9ce357",
   "metadata": {},
   "outputs": [
    {
     "data": {
      "text/plain": [
       "array([2.        , 1.5       , 1.33333333, 1.25      , 1.2       ,\n",
       "       1.00033642])"
      ]
     },
     "execution_count": 16,
     "metadata": {},
     "output_type": "execute_result"
    }
   ],
   "source": [
    "factors/factors_shifted"
   ]
  }
 ],
 "metadata": {
  "kernelspec": {
   "display_name": "Python 3 (ipykernel)",
   "language": "python",
   "name": "python3"
  },
  "language_info": {
   "codemirror_mode": {
    "name": "ipython",
    "version": 3
   },
   "file_extension": ".py",
   "mimetype": "text/x-python",
   "name": "python",
   "nbconvert_exporter": "python",
   "pygments_lexer": "ipython3",
   "version": "3.12.2"
  }
 },
 "nbformat": 4,
 "nbformat_minor": 5
}
