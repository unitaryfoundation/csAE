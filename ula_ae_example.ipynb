{
 "cells": [
  {
   "cell_type": "code",
   "execution_count": 1,
   "id": "cabf93de-0b26-4033-9cd0-8d247c43e4f8",
   "metadata": {},
   "outputs": [
    {
     "data": {
      "text/plain": [
       "<Figure size 640x480 with 0 Axes>"
      ]
     },
     "metadata": {},
     "output_type": "display_data"
    }
   ],
   "source": [
    "import numpy as np\n",
    "import matplotlib.pyplot as plt\n",
    "import seaborn as sns\n",
    "from signals import *\n",
    "from frequencyestimator import *\n",
    "import time\n",
    "import copy\n",
    "\n",
    "sns.set_style(\"whitegrid\")\n",
    "sns.despine(left=True, bottom=True)\n",
    "sns.set_context(\"poster\", font_scale = .45, rc={\"grid.linewidth\": 0.8})"
   ]
  },
  {
   "cell_type": "markdown",
   "id": "47fcf5c4-607e-44b7-a74d-bef41ea19882",
   "metadata": {},
   "source": [
    "# Example Implementation\n",
    "\n",
    "Here we provide a minimal working example demonstrating how to use the code to estimate the amplitude using the ESPIRIT algorithm."
   ]
  },
  {
   "cell_type": "code",
   "execution_count": 2,
   "id": "4492b90a-adc8-43b2-8251-1be9e5586583",
   "metadata": {},
   "outputs": [
    {
     "name": "stdout",
     "output_type": "stream",
     "text": [
      "Array parameters: [2, 2, 2, 2, 2, 2]\n",
      "Number of queries: 413\n",
      "theta: 0.1001674211615598\n",
      "Ave theta estimated: 0.09859784380940485\n",
      "a = 0.1; a_est = 0.09843816771564176\n",
      "Max Single Query: 32\n",
      "99% percentile: 1.491364e-02\n",
      "95% percentile: 1.034658e-02\n",
      "68% percentile: 4.509476e-03\n",
      "\n"
     ]
    }
   ],
   "source": [
    "# For reproducibility\n",
    "np.random.seed(7)\n",
    "# Set the per oracle noise parameter (See Eq. 18)\n",
    "eta=0\n",
    "# Set the array parameters (See Thm. II.2 and Eq. 12) \n",
    "narray = [2,2, 2, 2, 2, 2]\n",
    "# Set the actual amplitude\n",
    "a=0.1\n",
    "theta = np.arcsin(a)\n",
    "\n",
    "# This sets up the simulation that simulates the measured amplitudes at the various physical locations.\n",
    "# It uses a C=1.5 value, which corresponds to the sampling schedule given in Eq. 16. The variable C here \n",
    "# is the parameter K in the paper.\n",
    "ula_signal = TwoqULASignal(M=narray, C=1.5)\n",
    "# Number of Monte Carlo trials used to estimate statistics. We tend to use 500 in the paper. Choose 100 here for speed.\n",
    "num_mc = 100\n",
    "thetas = np.zeros(num_mc, dtype = float)\n",
    "errors = np.zeros(num_mc, dtype = float)\n",
    "\n",
    "# Sets up the ESPIRIT object to estimate the amplitude\n",
    "espirit = ESPIRIT()\n",
    "\n",
    "for k in range(num_mc):\n",
    "    signal = ula_signal.estimate_signal(ula_signal.n_samples, theta, eta=eta)\n",
    "    # This estimates the covariance matrix of Eq. 8 using the approch given in DOI:10.1109/LSP.2015.2409153\n",
    "    R = ula_signal.get_cov_matrix_toeplitz(signal, theta)\n",
    "    # This estimates the angle using the ESPIRIT algorithm\n",
    "    theta_est = espirit.estimate_theta_toeplitz(R)\n",
    "    # Estimate the error between estimated a and actual a\n",
    "    error = np.abs(np.sin(theta)-np.sin(theta_est)) \n",
    "    thetas[k] = theta_est            \n",
    "    errors[k] = error\n",
    "\n",
    "# Compute the total number of queries. The additional count of ula_signal.n_samples[0] is to \n",
    "# account for the fact that the Grover oracle has two invocations of the unitary U, but is \n",
    "# preceded by a single invocation of U (see Eq. 2 in paper). This accounts for the shots required\n",
    "# for that single U operator, which costs half as much as the Grover oracle.\n",
    "num_queries = 2*np.sum(np.array(ula_signal.depths)*np.array(ula_signal.n_samples)) + ula_signal.n_samples[0]\n",
    "# Compute the maximum single query\n",
    "max_single_query = np.max(ula_signal.depths)\n",
    "\n",
    "print(f'Array parameters: {narray}')\n",
    "print(f'Number of queries: {num_queries}')\n",
    "print(f'theta: {theta}')\n",
    "print(f'Ave theta estimated: {np.mean(thetas)}')\n",
    "print(f'a = {a}; a_est = {np.sin(np.mean(thetas))}')\n",
    "print(f'Max Single Query: {max_single_query}')\n",
    "print(f'99% percentile: {np.percentile(errors, 99):e}')\n",
    "print(f'95% percentile: {np.percentile(errors, 95):e}')\n",
    "print(f'68% percentile: {np.percentile(errors, 68):e}')\n",
    "print()\n"
   ]
  },
  {
   "cell_type": "code",
   "execution_count": 3,
   "id": "4c11d5c6",
   "metadata": {},
   "outputs": [
    {
     "name": "stdout",
     "output_type": "stream",
     "text": [
      "[ 0.68181818+0.j -0.44444444+0.j -0.9375    +0.j  0.75      +0.j\n",
      " -0.7       +0.j  0.        +0.j -0.25      +0.j]\n",
      "theta: 0.30469265401539747\n",
      "thetas: [0.46724327 1.10355306 0.46724327 0.46724327 0.46724327 0.46724327\n",
      " 0.46724327 0.46724327 1.10355306 0.46724327 0.46724327 0.46724327\n",
      " 0.46724327 1.10355306 1.10355306 0.46724327 1.10355306 0.46724327\n",
      " 1.10355306 0.46724327 0.46724327 0.46724327 0.46724327 0.46724327\n",
      " 0.46724327 0.46724327 0.46724327 0.46724327 0.46724327 0.46724327\n",
      " 0.46724327 0.46724327 0.46724327 1.10355306 1.10355306 0.46724327\n",
      " 0.46724327 1.10355306 1.10355306 1.10355306 0.46724327 1.10355306\n",
      " 0.46724327 0.46724327 0.46724327 0.46724327 1.10355306 1.10355306\n",
      " 1.10355306 1.10355306]\n",
      "a: 0.3\n",
      "cos values: [0.89281339 0.45042675 0.89281339 0.89281339 0.89281339 0.89281339\n",
      " 0.89281339 0.89281339 0.45042675 0.89281339 0.89281339 0.89281339\n",
      " 0.89281339 0.45042675 0.45042675 0.89281339 0.45042675 0.89281339\n",
      " 0.45042675 0.89281339 0.89281339 0.89281339 0.89281339 0.89281339\n",
      " 0.89281339 0.89281339 0.89281339 0.89281339 0.89281339 0.89281339\n",
      " 0.89281339 0.89281339 0.89281339 0.45042675 0.45042675 0.89281339\n",
      " 0.89281339 0.45042675 0.45042675 0.45042675 0.89281339 0.45042675\n",
      " 0.89281339 0.89281339 0.89281339 0.89281339 0.45042675 0.45042675\n",
      " 0.45042675 0.45042675]\n",
      "\n"
     ]
    }
   ],
   "source": [
    "# Sets up the ESPIRIT object to estimate the amplitude\n",
    "espirit = ESPIRIT()\n",
    "\n",
    "\n",
    "narray = [2,2,2, 2, 2, 2]\n",
    "# Set the actual amplitude\n",
    "a=0.3\n",
    "theta = np.arcsin(a)\n",
    "\n",
    "ula_signal = TwoqULASignal(M=narray, C=1.5)\n",
    "# n_samples = [20 for _ in range(len(ula_signal.n_samples))]\n",
    "n_samples = 2*ula_signal.n_samples\n",
    "signal = ula_signal.estimate_signal(n_samples, theta)\n",
    "cos_signal = ula_signal.cos_signal\n",
    "\n",
    "print(cos_signal)\n",
    "\n",
    "num_mc = 50\n",
    "thetas = np.zeros(num_mc, dtype = float)\n",
    "errors = np.zeros(num_mc, dtype = float)\n",
    "cos_values = np.zeros(num_mc, dtype = float)\n",
    "for k in range(num_mc):\n",
    "    # This estimates the covariance matrix of Eq. 8 using the approch given in DOI:10.1109/LSP.2015.2409153\n",
    "    R = ula_signal.get_cov_matrix_toeplitz(cos_signal, theta)\n",
    "    # This estimates the angle using the ESPIRIT algorithm\n",
    "    theta_est = espirit.estimate_theta_toeplitz(R)\n",
    "    # Estimate the error between estimated a and actual a\n",
    "    error = np.abs(np.cos(theta)-np.cos(theta_est))\n",
    "    cos_values[k] = np.cos(theta_est)\n",
    "    thetas[k] = theta_est            \n",
    "    errors[k] = error\n",
    "\n",
    "print(f'theta: {theta}')\n",
    "print(f'thetas: {thetas}')\n",
    "print(f'a: {a}')\n",
    "print(f'cos values: {cos_values}')\n",
    "print()"
   ]
  },
  {
   "cell_type": "code",
   "execution_count": 172,
   "id": "354fe7f0",
   "metadata": {},
   "outputs": [
    {
     "name": "stdout",
     "output_type": "stream",
     "text": [
      "[ 0.918+0.j  0.342+0.j -0.436+0.j -0.887+0.j  0.831+0.j  0.763+0.j\n",
      "  0.54 +0.j]\n"
     ]
    },
    {
     "data": {
      "text/plain": [
       "[<matplotlib.lines.Line2D at 0x291ba68f0>]"
      ]
     },
     "execution_count": 172,
     "metadata": {},
     "output_type": "execute_result"
    },
    {
     "data": {
      "image/png": "[encoded data removed]",
      "text/plain": [
       "<Figure size 640x480 with 1 Axes>"
      ]
     },
     "metadata": {},
     "output_type": "display_data"
    }
   ],
   "source": [
    "narray = [2,2, 2, 2, 2, 2]\n",
    "# Set the actual amplitude\n",
    "a=0.2\n",
    "theta = np.arcsin(a)\n",
    "\n",
    "ula_signal = TwoqULASignal(M=narray, C=1.5)\n",
    "n_samples = [1000 for _ in range(len(ula_signal.n_samples))]\n",
    "# n_samples = 2*ula_signal.n_samples\n",
    "signal = ula_signal.estimate_signal(n_samples, theta)\n",
    "cos_signal = ula_signal.cos_signal\n",
    "\n",
    "print(cos_signal)\n",
    "\n",
    "cos_signal_ext = ula_signal.get_cov_matrix_toeplitz(cos_signal, C=1.2)\n",
    "\n",
    "fft = np.abs(np.fft.fft(cos_signal_ext))\n",
    "\n",
    "xaxis = [i*np.pi/(2*len(fft)) for i in range(len(fft))]\n",
    "\n",
    "plt.plot(xaxis, fft)"
   ]
  },
  {
   "cell_type": "code",
   "execution_count": 173,
   "id": "afab6f62",
   "metadata": {},
   "outputs": [
    {
     "data": {
      "text/plain": [
       "(1.3768708543510821, 0.1939254724438144)"
      ]
     },
     "execution_count": 173,
     "metadata": {},
     "output_type": "execute_result"
    }
   ],
   "source": [
    "amax = np.argmax(fft[:len(fft)//2])\n",
    "np.pi*(len(fft)-amax)/(2*len(fft)), np.pi*(amax)/(2*len(fft))"
   ]
  },
  {
   "cell_type": "code",
   "execution_count": 174,
   "id": "807bd1a9",
   "metadata": {},
   "outputs": [
    {
     "data": {
      "text/plain": [
       "(0.19271226054808976, 0.9812553106273847)"
      ]
     },
     "execution_count": 174,
     "metadata": {},
     "output_type": "execute_result"
    }
   ],
   "source": [
    "np.cos(np.pi*(len(fft)-amax)/(2*len(fft))), np.cos(np.pi*(amax)/(2*len(fft)))"
   ]
  },
  {
   "cell_type": "code",
   "execution_count": 55,
   "id": "d5dea575",
   "metadata": {},
   "outputs": [
    {
     "data": {
      "text/plain": [
       "0.39269908169872414"
      ]
     },
     "execution_count": 55,
     "metadata": {},
     "output_type": "execute_result"
    }
   ],
   "source": [
    "np.pi/8"
   ]
  }
 ],
 "metadata": {
  "kernelspec": {
   "display_name": "Python 3 (ipykernel)",
   "language": "python",
   "name": "python3"
  },
  "language_info": {
   "codemirror_mode": {
    "name": "ipython",
    "version": 3
   },
   "file_extension": ".py",
   "mimetype": "text/x-python",
   "name": "python",
   "nbconvert_exporter": "python",
   "pygments_lexer": "ipython3",
   "version": "3.10.9"
  }
 },
 "nbformat": 4,
 "nbformat_minor": 5
}
