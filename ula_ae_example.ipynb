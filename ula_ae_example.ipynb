{
 "cells": [
  {
   "cell_type": "code",
   "execution_count": 1,
   "id": "cabf93de-0b26-4033-9cd0-8d247c43e4f8",
   "metadata": {},
   "outputs": [
    {
     "data": {
      "text/plain": [
       "<Figure size 640x480 with 0 Axes>"
      ]
     },
     "metadata": {},
     "output_type": "display_data"
    }
   ],
   "source": [
    "import numpy as np\n",
    "import matplotlib.pyplot as plt\n",
    "import seaborn as sns\n",
    "from signals import *\n",
    "from frequencyestimator import *\n",
    "import time\n",
    "import copy\n",
    "\n",
    "sns.set_style(\"whitegrid\")\n",
    "sns.despine(left=True, bottom=True)\n",
    "sns.set_context(\"poster\", font_scale = .45, rc={\"grid.linewidth\": 0.8})"
   ]
  },
  {
   "cell_type": "markdown",
   "id": "47fcf5c4-607e-44b7-a74d-bef41ea19882",
   "metadata": {},
   "source": [
    "# Example Implementation\n",
    "\n",
    "Here we provide a minimal working example demonstrating how to use the code to estimate the amplitude using the ESPIRIT algorithm."
   ]
  },
  {
   "cell_type": "code",
   "execution_count": 4,
   "id": "4492b90a-adc8-43b2-8251-1be9e5586583",
   "metadata": {},
   "outputs": [
    {
     "name": "stdout",
     "output_type": "stream",
     "text": [
      "Array parameters: [2, 2, 2, 2, 2, 2, 2, 2]\n",
      "Depths: [  0   1   2   4   8  16  32  64 128]\n",
      "Samples: [450, 425, 400, 375, 350, 325, 300, 275, 250]\n",
      "Number of queries: 70150.0\n",
      "theta: 0.03188428042925993\n",
      "Ave theta estimated: 0.031898479438149635\n",
      "a = 0.1; a_est = 0.10004438380460062\n",
      "Max Single Query: 128\n",
      "99% percentile: 5.079959e-04\n",
      "95% percentile: 5.037887e-04\n",
      "68% percentile: 3.964951e-04\n",
      "99% percentile constant: 35.635911\n",
      "95% percentile constant: 35.340779\n",
      "68% percentile constant: 27.814130\n",
      "99% percentile max constant: 0.065023\n",
      "95% percentile max constant: 0.064485\n",
      "68% percentile max constant: 0.050751\n",
      "\n"
     ]
    }
   ],
   "source": [
    "# For reproducibility\n",
    "np.random.seed(8)\n",
    "# Set the per oracle noise parameter (See Eq. 18)\n",
    "# eta=1e-4\n",
    "eta=0\n",
    "# Set the array parameters (See Thm. II.2 and Eq. 12) \n",
    "narray = [3, 3, 3, 3, 2, 2, 2, 2]\n",
    "narray = [2]*8\n",
    "# Set the actual amplitude\n",
    "a=0.1\n",
    "theta = np.arcsin(a)\n",
    "\n",
    "# This sets up the simulation that simulates the measured amplitudes at the various physical locations.\n",
    "# It uses a C=1.5 value, which corresponds to the sampling schedule given in Eq. 16. The variable C here \n",
    "# is the parameter K in the paper.\n",
    "ula_signal = TwoqULASignal(M=narray, C=50)\n",
    "# Number of Monte Carlo trials used to estimate statistics. We tend to use 500 in the paper. Choose 100 here for speed.\n",
    "num_mc = 10\n",
    "thetas = np.zeros(num_mc, dtype = float)\n",
    "errors = np.zeros(num_mc, dtype = float)\n",
    "\n",
    "# Sets up the ESPIRIT object to estimate the amplitude\n",
    "espirit = ESPIRIT()\n",
    "\n",
    "for k in range(num_mc):\n",
    "    # ula_signal.n_samples = [500]*len(ula_signal.n_samples)\n",
    "    signal = ula_signal.estimate_signal(ula_signal.n_samples, theta, eta=eta)\n",
    "    # This estimates the covariance matrix of Eq. 8 using the approch given in DOI:10.1109/LSP.2015.2409153\n",
    "    R = ula_signal.get_cov_matrix_toeplitz(signal)\n",
    "    # This estimates the angle using the ESPIRIT algorithm\n",
    "    theta_est, _ = espirit.estimate_theta_toeplitz(R)\n",
    "    # Estimate the error between estimated a and actual a\n",
    "    error = np.abs(np.sin(theta)-np.sin(theta_est)) \n",
    "    thetas[k] = theta_est            \n",
    "    errors[k] = error\n",
    "\n",
    "# Compute the total number of queries. The additional count of ula_signal.n_samples[0] is to \n",
    "# account for the fact that the Grover oracle has two invocations of the unitary U, but is \n",
    "# preceded by a single invocation of U (see Eq. 2 in paper). This accounts for the shots required\n",
    "# for that single U operator, which costs half as much as the Grover oracle.\n",
    "num_queries = np.sum(np.array(ula_signal.depths)*np.array(ula_signal.n_samples)) + ula_signal.n_samples[0]/2\n",
    "# Compute the maximum single query\n",
    "max_single_query = np.max(ula_signal.depths)\n",
    "\n",
    "print(f'Array parameters: {narray}')\n",
    "print(f'Depths: {ula_signal.depths}')\n",
    "print(f'Samples: {ula_signal.n_samples}')\n",
    "print(f'Number of queries: {num_queries}')\n",
    "print(f'theta: {theta/np.pi}')\n",
    "print(f'Ave theta estimated: {np.mean(thetas)/np.pi}')\n",
    "print(f'a = {a}; a_est = {np.sin(np.mean(thetas))}')\n",
    "print(f'Max Single Query: {max_single_query}')\n",
    "print(f'99% percentile: {np.percentile(errors, 99):e}')\n",
    "print(f'95% percentile: {np.percentile(errors, 95):e}')\n",
    "print(f'68% percentile: {np.percentile(errors, 68):e}')\n",
    "print(f'99% percentile constant: {np.percentile(errors, 99)*num_queries:f}')\n",
    "print(f'95% percentile constant: {np.percentile(errors, 95)*num_queries:f}')\n",
    "print(f'68% percentile constant: {np.percentile(errors, 68)*num_queries:f}')\n",
    "print(f'99% percentile max constant: {np.percentile(errors, 99)*max_single_query:f}')\n",
    "print(f'95% percentile max constant: {np.percentile(errors, 95)*max_single_query:f}')\n",
    "print(f'68% percentile max constant: {np.percentile(errors, 68)*max_single_query:f}')\n",
    "print()\n"
   ]
  },
  {
   "cell_type": "code",
   "execution_count": null,
   "id": "1cb7df74-5821-408d-b876-049f56e22b8e",
   "metadata": {},
   "outputs": [],
   "source": []
  }
 ],
 "metadata": {
  "kernelspec": {
   "display_name": "Python 3 (ipykernel)",
   "language": "python",
   "name": "python3"
  },
  "language_info": {
   "codemirror_mode": {
    "name": "ipython",
    "version": 3
   },
   "file_extension": ".py",
   "mimetype": "text/x-python",
   "name": "python",
   "nbconvert_exporter": "python",
   "pygments_lexer": "ipython3",
   "version": "3.11.8"
  }
 },
 "nbformat": 4,
 "nbformat_minor": 5
}
