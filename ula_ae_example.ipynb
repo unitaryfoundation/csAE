{
 "cells": [
  {
   "cell_type": "code",
   "execution_count": 1,
   "id": "cabf93de-0b26-4033-9cd0-8d247c43e4f8",
   "metadata": {},
   "outputs": [
    {
     "data": {
      "text/plain": [
       "<Figure size 640x480 with 0 Axes>"
      ]
     },
     "metadata": {},
     "output_type": "display_data"
    }
   ],
   "source": [
    "import numpy as np\n",
    "import matplotlib.pyplot as plt\n",
    "import seaborn as sns\n",
    "from signals import *\n",
    "from frequencyestimator import *\n",
    "import time\n",
    "import copy\n",
    "\n",
    "sns.set_style(\"whitegrid\")\n",
    "sns.despine(left=True, bottom=True)\n",
    "sns.set_context(\"poster\", font_scale = .45, rc={\"grid.linewidth\": 0.8})"
   ]
  },
  {
   "cell_type": "markdown",
   "id": "47fcf5c4-607e-44b7-a74d-bef41ea19882",
   "metadata": {},
   "source": [
    "# Example Implementation\n",
    "\n",
    "Here we provide a minimal working example demonstrating how to use the code to estimate the amplitude using the ESPIRIT algorithm."
   ]
  },
  {
   "cell_type": "code",
   "execution_count": 12,
   "id": "4492b90a-adc8-43b2-8251-1be9e5586583",
   "metadata": {},
   "outputs": [
    {
     "ename": "TypeError",
     "evalue": "Lanczost expected 3 arguments, got 1",
     "output_type": "error",
     "traceback": [
      "\u001b[0;31m---------------------------------------------------------------------------\u001b[0m",
      "\u001b[0;31mTypeError\u001b[0m                                 Traceback (most recent call last)",
      "Cell \u001b[0;32mIn[12], line 32\u001b[0m\n\u001b[1;32m     28\u001b[0m \u001b[38;5;250m\u001b[39m\u001b[38;5;124;03m'''TODO:\u001b[39;00m\n\u001b[1;32m     29\u001b[0m \u001b[38;5;124;03m- 2n+1 vs n (phase shift)\u001b[39;00m\n\u001b[1;32m     30\u001b[0m \u001b[38;5;124;03m'''\u001b[39;00m \n\u001b[1;32m     31\u001b[0m \u001b[38;5;66;03m# This estimates the angle using the ESPIRIT algorithm\u001b[39;00m\n\u001b[0;32m---> 32\u001b[0m theta_est, angle \u001b[38;5;241m=\u001b[39m \u001b[43mespirit\u001b[49m\u001b[38;5;241;43m.\u001b[39;49m\u001b[43mestimate_theta_toeplitz\u001b[49m\u001b[43m(\u001b[49m\u001b[43mR\u001b[49m\u001b[43m)\u001b[49m\n\u001b[1;32m     33\u001b[0m \u001b[38;5;66;03m# R = ula_signal.get_cov_matrix(signal)\u001b[39;00m\n\u001b[1;32m     34\u001b[0m \u001b[38;5;66;03m# theta_est = music.estimate_theta(R, lanczos = False)\u001b[39;00m\n\u001b[1;32m     35\u001b[0m \u001b[38;5;66;03m# print(angle)\u001b[39;00m\n\u001b[1;32m     36\u001b[0m \u001b[38;5;66;03m# Estimate the error between estimated a and actual a\u001b[39;00m\n\u001b[1;32m     37\u001b[0m error \u001b[38;5;241m=\u001b[39m np\u001b[38;5;241m.\u001b[39mabs(np\u001b[38;5;241m.\u001b[39msin(theta)\u001b[38;5;241m-\u001b[39mnp\u001b[38;5;241m.\u001b[39msin(theta_est)) \n",
      "File \u001b[0;32m~/Documents/github/csAE/frequencyestimator.py:159\u001b[0m, in \u001b[0;36mestimate_theta_toeplitz\u001b[0;34m(self, R, n, p0mp1)\u001b[0m\n\u001b[1;32m    156\u001b[0m \u001b[38;5;28;01mdef\u001b[39;00m \u001b[38;5;21m__init__\u001b[39m(\u001b[38;5;28mself\u001b[39m):\n\u001b[1;32m    157\u001b[0m     \u001b[38;5;28;01mpass\u001b[39;00m\n\u001b[0;32m--> 159\u001b[0m \u001b[38;5;28;01mdef\u001b[39;00m \u001b[38;5;21mestimate_theta_toeplitz\u001b[39m(\u001b[38;5;28mself\u001b[39m, R, n\u001b[38;5;241m=\u001b[39m\u001b[38;5;241m2\u001b[39m, p0mp1\u001b[38;5;241m=\u001b[39m\u001b[38;5;241m1.0\u001b[39m):\n\u001b[1;32m    160\u001b[0m     \u001b[38;5;28;01mreturn\u001b[39;00m \u001b[38;5;28mself\u001b[39m\u001b[38;5;241m.\u001b[39mestimate_theta(R, \u001b[38;5;28;01mTrue\u001b[39;00m, \u001b[38;5;28;01mTrue\u001b[39;00m, n\u001b[38;5;241m=\u001b[39m\u001b[38;5;241m2\u001b[39m, p0mp1\u001b[38;5;241m=\u001b[39mp0mp1)\n\u001b[1;32m    162\u001b[0m \u001b[38;5;28;01mdef\u001b[39;00m \u001b[38;5;21mestimate_theta\u001b[39m(\u001b[38;5;28mself\u001b[39m, R, lanczos\u001b[38;5;241m=\u001b[39m\u001b[38;5;28;01mFalse\u001b[39;00m, lanczos_toeplitz\u001b[38;5;241m=\u001b[39m\u001b[38;5;28;01mFalse\u001b[39;00m, n\u001b[38;5;241m=\u001b[39m\u001b[38;5;241m2\u001b[39m, p0mp1\u001b[38;5;241m=\u001b[39m\u001b[38;5;241m1.0\u001b[39m):\n",
      "File \u001b[0;32m~/Documents/github/csAE/frequencyestimator.py:167\u001b[0m, in \u001b[0;36mestimate_theta\u001b[0;34m(self, R, lanczos, lanczos_toeplitz, n, p0mp1)\u001b[0m\n\u001b[1;32m    165\u001b[0m \u001b[38;5;28;01mif\u001b[39;00m lanczos:   \n\u001b[1;32m    166\u001b[0m     \u001b[38;5;28mself\u001b[39m\u001b[38;5;241m.\u001b[39mR \u001b[38;5;241m=\u001b[39m np\u001b[38;5;241m.\u001b[39mascontiguousarray(\u001b[38;5;28mself\u001b[39m\u001b[38;5;241m.\u001b[39mR, dtype\u001b[38;5;241m=\u001b[39mnp\u001b[38;5;241m.\u001b[39mcomplex128)\n\u001b[0;32m--> 167\u001b[0m     \u001b[38;5;28;01mif\u001b[39;00m lanczos_toeplitz:\n\u001b[1;32m    168\u001b[0m         \u001b[38;5;28mself\u001b[39m\u001b[38;5;241m.\u001b[39m_eig_decomp_lanczost(n, m\u001b[38;5;241m=\u001b[39m\u001b[38;5;241m100\u001b[39m)\n\u001b[1;32m    169\u001b[0m     \u001b[38;5;28;01melse\u001b[39;00m:\n",
      "File \u001b[0;32m~/Documents/github/csAE/frequencyestimator.py:144\u001b[0m, in \u001b[0;36mEstimateFrequency._eig_decomp_lanczost\u001b[0;34m(self, n, m)\u001b[0m\n\u001b[1;32m    142\u001b[0m \u001b[38;5;28;01mdef\u001b[39;00m \u001b[38;5;21m_eig_decomp_lanczost\u001b[39m(\u001b[38;5;28mself\u001b[39m, n\u001b[38;5;241m=\u001b[39m\u001b[38;5;241m1\u001b[39m, m\u001b[38;5;241m=\u001b[39m\u001b[38;5;241m100\u001b[39m):\n\u001b[1;32m    143\u001b[0m     v0   \u001b[38;5;241m=\u001b[39m np\u001b[38;5;241m.\u001b[39marray(np\u001b[38;5;241m.\u001b[39mrandom\u001b[38;5;241m.\u001b[39mrand( np\u001b[38;5;241m.\u001b[39mshape(\u001b[38;5;28mself\u001b[39m\u001b[38;5;241m.\u001b[39mR)[\u001b[38;5;241m0\u001b[39m]) \u001b[38;5;241m+\u001b[39m \u001b[38;5;241m1.0\u001b[39mj\u001b[38;5;241m*\u001b[39mnp\u001b[38;5;241m.\u001b[39mrandom\u001b[38;5;241m.\u001b[39mrand( np\u001b[38;5;241m.\u001b[39mshape(\u001b[38;5;28mself\u001b[39m\u001b[38;5;241m.\u001b[39mR)[\u001b[38;5;241m0\u001b[39m]), dtype\u001b[38;5;241m=\u001b[39mnp\u001b[38;5;241m.\u001b[39mcomplex128); v0 \u001b[38;5;241m/\u001b[39m\u001b[38;5;241m=\u001b[39m np\u001b[38;5;241m.\u001b[39msqrt( np\u001b[38;5;241m.\u001b[39mabs(np\u001b[38;5;241m.\u001b[39mdot( v0, np\u001b[38;5;241m.\u001b[39mconjugate(v0) ) ) )\n\u001b[0;32m--> 144\u001b[0m     T, V \u001b[38;5;241m=\u001b[39m Lanczost( \u001b[38;5;28mself\u001b[39m\u001b[38;5;241m.\u001b[39mR, v0, m\u001b[38;5;241m=\u001b[39mm )\n\u001b[1;32m    146\u001b[0m     esT, vsT \u001b[38;5;241m=\u001b[39m np\u001b[38;5;241m.\u001b[39mlinalg\u001b[38;5;241m.\u001b[39meigh( T )\n\u001b[1;32m    147\u001b[0m     esT_sort_idx \u001b[38;5;241m=\u001b[39m np\u001b[38;5;241m.\u001b[39margsort(esT)[::\u001b[38;5;241m-\u001b[39m\u001b[38;5;241m1\u001b[39m]\n",
      "\u001b[0;31mTypeError\u001b[0m: Lanczost expected 3 arguments, got 1"
     ]
    }
   ],
   "source": [
    "# For reproducibility\n",
    "# np.random.seed(7)\n",
    "# Set the per oracle noise parameter (See Eq. 18)\n",
    "eta=0\n",
    "# Set the array parameters (See Thm. II.2 and Eq. 12) \n",
    "narray = [2]*12\n",
    "# Set the actual angle\n",
    "a=0.3\n",
    "theta = np.arcsin(a)\n",
    "\n",
    "# This sets up the simulation that simulates the measured amplitudes at the various physical locations.\n",
    "# It uses a C=1.5 value, which corresponds to the sampling schedule given in Eq. 16. The variable C here \n",
    "# is the parameter K in the paper.\n",
    "ula_signal = TwoqULASignal(M=narray, C=5)\n",
    "# Number of Monte Carlo trials used to estimate statistics. We tend to use 500 in the paper. Choose 100 here for speed.\n",
    "num_mc = 100\n",
    "thetas = np.zeros(num_mc, dtype = float)\n",
    "errors = np.zeros(num_mc, dtype = float)\n",
    "\n",
    "# Sets up the ESPIRIT object to estimate the amplitude\n",
    "espirit = ESPIRIT()\n",
    "music = MUSIC()\n",
    "\n",
    "\n",
    "for k in range(num_mc):\n",
    "    signal = ula_signal.estimate_signal(ula_signal.n_samples, theta, eta=eta)\n",
    "    # This estimates the covariance matrix of Eq. 8 using the approch given in DOI:10.1109/LSP.2015.2409153\n",
    "    R = ula_signal.get_cov_matrix_toeplitz(signal)\n",
    "    '''TODO:\n",
    "    - 2n+1 vs n (phase shift)\n",
    "    ''' \n",
    "    # This estimates the angle using the ESPIRIT algorithm\n",
    "    theta_est, angle = espirit.estimate_theta_toeplitz(R)\n",
    "    # R = ula_signal.get_cov_matrix(signal)\n",
    "    # theta_est = music.estimate_theta(R, lanczos = False)\n",
    "    # print(angle)\n",
    "    # Estimate the error between estimated a and actual a\n",
    "    error = np.abs(np.sin(theta)-np.sin(theta_est)) \n",
    "    thetas[k] = theta_est            \n",
    "    errors[k] = error\n",
    "\n",
    "# Compute the total number of queries. The additional count of ula_signal.n_samples[0] is to \n",
    "# account for the fact that the Grover oracle has two invocations of the unitary U, but is \n",
    "# preceded by a single invocation of U (see Eq. 2 in paper). This accounts for the shots required\n",
    "# for that single U operator, which costs half as much as the Grover oracle.\n",
    "num_queries = 2*np.sum(np.array(ula_signal.depths)*np.array(ula_signal.n_samples)) + ula_signal.n_samples[0]\n",
    "# Compute the maximum single query\n",
    "max_single_query = np.max(ula_signal.depths)\n",
    "\n",
    "print(f'Array parameters: {narray}')\n",
    "print(f'Number of queries: {num_queries}')\n",
    "print(f'theta: {theta}')\n",
    "print(f'Ave theta estimated: {np.mean(thetas)}')\n",
    "print(f'a = {np.sin(theta)}; a_est = {np.sin(np.mean(thetas))}')\n",
    "print(f'Max Single Query: {max_single_query}')\n",
    "print(f'99% percentile: {np.percentile(errors, 99):e}')\n",
    "print(f'95% percentile: {np.percentile(errors, 95):e}')\n",
    "print(f'68% percentile: {np.percentile(errors, 68):e}')\n",
    "print()\n"
   ]
  },
  {
   "cell_type": "code",
   "execution_count": 3,
   "id": "29f943b4",
   "metadata": {},
   "outputs": [
    {
     "name": "stdout",
     "output_type": "stream",
     "text": [
      "Array parameters: [2, 2, 2, 2, 2, 2, 2, 2, 2, 2]\n",
      "Number of queries: 6124\n",
      "theta: 0.6981317007977318\n",
      "Ave theta estimated: 1.4977650768449056\n",
      "a = 0.6427876096865393; a_est = 0.9973344033421342\n",
      "Max Single Query: 512\n",
      "99% percentile: 3.571949e-01\n",
      "95% percentile: 3.571671e-01\n",
      "68% percentile: 3.571417e-01\n",
      "95% percentile constant factor: 2.187292e+03\n",
      "\n"
     ]
    }
   ],
   "source": [
    "# For reproducibility\n",
    "# np.random.seed(7)\n",
    "# Set the per oracle noise parameter (See Eq. 18)\n",
    "eta=0\n",
    "# Set the array parameters (See Thm. II.2 and Eq. 12) \n",
    "narray = [2]*10\n",
    "# Set the actual angle\n",
    "theta = np.pi/4.5\n",
    "\n",
    "# This sets up the simulation that simulates the measured amplitudes at the various physical locations.\n",
    "# It uses a C=1.5 value, which corresponds to the sampling schedule given in Eq. 16. The variable C here \n",
    "# is the parameter K in the paper.\n",
    "ula_signal = TwoqULASignal(M=narray, C=3)\n",
    "# Number of Monte Carlo trials used to estimate statistics. We tend to use 500 in the paper. Choose 100 here for speed.\n",
    "num_mc = 100\n",
    "thetas = np.zeros(num_mc, dtype = float)\n",
    "errors = np.zeros(num_mc, dtype = float)\n",
    "\n",
    "# Sets up the ESPIRIT object to estimate the amplitude\n",
    "espirit = ESPIRIT()\n",
    "\n",
    "for k in range(num_mc):\n",
    "    signal = ula_signal.estimate_signal(ula_signal.n_samples, theta, eta=eta)\n",
    "    # This estimates the covariance matrix of Eq. 8 using the approch given in DOI:10.1109/LSP.2015.2409153\n",
    "    R = -1*ula_signal.get_cov_matrix_toeplitz(signal)\n",
    "    '''TODO:\n",
    "    - 2n+1 vs n (phase shift)\n",
    "    ''' \n",
    "    # This estimates the angle using fft\n",
    "    fft = np.abs(np.fft.fft(R))\n",
    "\n",
    "    amax = np.argmax(fft[:len(fft)//2])\n",
    "    angle = [np.pi*(len(fft)-amax)/(2*len(fft)) , np.pi*(amax)/(2*len(fft))]\n",
    "    # R = ula_signal.get_cov_matrix(signal)\n",
    "    # theta_est, angle = espirit.estimate_theta(R)\n",
    "    # print(angle)\n",
    "    # Estimate the error between estimated a and actual a\n",
    "    differences = [np.abs(np.sin(theta) - np.sin(angle[0])), np.abs(np.sin(theta) - np.sin(angle[1]))]\n",
    "    idx = np.argmin(differences)\n",
    "    error = differences[idx]\n",
    "    theta_est = angle[idx]\n",
    " \n",
    "    thetas[k] = theta_est            \n",
    "    errors[k] = error\n",
    "\n",
    "# Compute the total number of queries. The additional count of ula_signal.n_samples[0] is to \n",
    "# account for the fact that the Grover oracle has two invocations of the unitary U, but is \n",
    "# preceded by a single invocation of U (see Eq. 2 in paper). This accounts for the shots required\n",
    "# for that single U operator, which costs half as much as the Grover oracle.\n",
    "num_queries = np.sum(np.array(ula_signal.depths)*np.array(ula_signal.n_samples)) + ula_signal.n_samples[0]//2\n",
    "# Compute the maximum single query\n",
    "max_single_query = np.max(ula_signal.depths)\n",
    "\n",
    "print(f'Array parameters: {narray}')\n",
    "print(f'Number of queries: {num_queries}')\n",
    "print(f'theta: {theta}')\n",
    "print(f'Ave theta estimated: {np.mean(thetas)}')\n",
    "print(f'a = {np.sin(theta)}; a_est = {np.sin(np.mean(thetas))}')\n",
    "print(f'Max Single Query: {max_single_query}')\n",
    "print(f'99% percentile: {np.percentile(errors, 99):e}')\n",
    "print(f'95% percentile: {np.percentile(errors, 95):e}')\n",
    "print(f'68% percentile: {np.percentile(errors, 68):e}')\n",
    "print(f'95% percentile constant factor: {num_queries*np.percentile(errors, 95):e}')\n",
    "print()\n"
   ]
  },
  {
   "cell_type": "code",
   "execution_count": 4,
   "id": "fd65ca98",
   "metadata": {},
   "outputs": [
    {
     "name": "stdout",
     "output_type": "stream",
     "text": [
      "0.3571417203865034 0.6308991758251706\n"
     ]
    },
    {
     "data": {
      "text/plain": [
       "(array([0.99992933, 0.01188843]), 0.6427876096865393)"
      ]
     },
     "execution_count": 4,
     "metadata": {},
     "output_type": "execute_result"
    },
    {
     "data": {
      "image/png": "[encoded data removed]",
      "text/plain": [
       "<Figure size 640x480 with 1 Axes>"
      ]
     },
     "metadata": {},
     "output_type": "display_data"
    }
   ],
   "source": [
    "R = R[len(R)//2:]\n",
    "\n",
    "fft = np.abs(np.fft.fft(R))\n",
    "\n",
    "amax = np.argmax(fft[:len(fft)//2])\n",
    "\n",
    "xaxis = [i*np.pi/(2*len(fft)) for i in range(len(fft))]\n",
    "\n",
    "plt.plot(xaxis, fft)\n",
    "\n",
    "print(np.abs(np.sin(theta) - np.sin(np.pi*(len(fft)-amax)/(2*len(fft)))), np.abs(np.sin(theta) - np.sin(np.pi*(amax)/(2*len(fft)))))\n",
    "np.sin( [np.pi*(len(fft)-amax)/(2*len(fft)) , np.pi*(amax)/(2*len(fft))]), np.sin(theta)"
   ]
  },
  {
   "cell_type": "code",
   "execution_count": 5,
   "id": "4f9225c9",
   "metadata": {},
   "outputs": [
    {
     "data": {
      "text/plain": [
       "(0.5235987755982988,\n",
       " 0.6283185307179586,\n",
       " 0.7853981633974483,\n",
       " 1.0471975511965976,\n",
       " 1.5707963267948966)"
      ]
     },
     "execution_count": 5,
     "metadata": {},
     "output_type": "execute_result"
    }
   ],
   "source": [
    "np.pi/6, np.pi/5, np.pi/4, np.pi/3, np.pi/2"
   ]
  },
  {
   "cell_type": "code",
   "execution_count": 6,
   "id": "21b94ca9",
   "metadata": {},
   "outputs": [],
   "source": [
    "eta=0\n",
    "# Set the array parameters (See Thm. II.2 and Eq. 12) \n",
    "narray = [2]*10\n",
    "# Set the actual angle\n",
    "N=6\n",
    "thetas = np.array([((i+1)/(N+1))*np.pi/2 for i in range(N)]) #np.arcsin(a)\n",
    "\n",
    "# This sets up the simulation that simulates the measured amplitudes at the various physical locations.\n",
    "# It uses a C=1.5 value, which corresponds to the sampling schedule given in Eq. 16. The variable C here \n",
    "# is the parameter K in the paper.\n",
    "ula_signal = TwoqULASignal(M=narray, C=5)\n",
    "thetas_est = np.zeros(len(thetas), dtype = float)\n",
    "# Sets up the ESPIRIT object to estimate the amplitude\n",
    "espirit = ESPIRIT()\n",
    "\n",
    "for i,theta in enumerate(thetas):\n",
    "    signal = ula_signal.estimate_signal(ula_signal.n_samples, theta, eta=eta)\n",
    "    # This estimates the covariance matrix of Eq. 8 using the approch given in DOI:10.1109/LSP.2015.2409153\n",
    "    R = ula_signal.get_cov_matrix_toeplitz(signal)\n",
    "    '''TODO:\n",
    "    - 2n+1 vs n (phase shift)\n",
    "    ''' \n",
    "    # This estimates the angle using the ESPIRIT algorithm\n",
    "    theta_est, angle = espirit.estimate_theta_toeplitz(R)\n",
    "    thetas_est[i] = np.abs(angle[0])\n",
    "    "
   ]
  },
  {
   "cell_type": "code",
   "execution_count": 7,
   "id": "911d8627",
   "metadata": {},
   "outputs": [
    {
     "data": {
      "text/plain": [
       "[<matplotlib.lines.Line2D at 0x17b280460>]"
      ]
     },
     "execution_count": 7,
     "metadata": {},
     "output_type": "execute_result"
    },
    {
     "data": {
      "image/png": "[encoded data removed]",
      "text/plain": [
       "<Figure size 640x480 with 1 Axes>"
      ]
     },
     "metadata": {},
     "output_type": "display_data"
    }
   ],
   "source": [
    "plt.plot(thetas, thetas_est/thetas)"
   ]
  },
  {
   "cell_type": "code",
   "execution_count": 8,
   "id": "e650e2f9",
   "metadata": {},
   "outputs": [
    {
     "data": {
      "text/plain": [
       "array([6.01260186, 3.00630093, 2.00420062, 1.50315046, 1.20252037,\n",
       "       1.00210031])"
      ]
     },
     "execution_count": 8,
     "metadata": {},
     "output_type": "execute_result"
    }
   ],
   "source": [
    "factors = theta_est/thetas\n",
    "factors"
   ]
  },
  {
   "cell_type": "code",
   "execution_count": 9,
   "id": "f21951a5",
   "metadata": {},
   "outputs": [
    {
     "data": {
      "text/plain": [
       "array([3.00630093, 2.00420062, 1.50315046, 1.20252037, 1.00210031,\n",
       "       1.        ])"
      ]
     },
     "execution_count": 9,
     "metadata": {},
     "output_type": "execute_result"
    }
   ],
   "source": [
    "factors_shifted = np.ones(len(factors))\n",
    "factors_shifted = np.roll(factors, -1)\n",
    "factors_shifted[-1] = 1\n",
    "factors_shifted\n"
   ]
  },
  {
   "cell_type": "code",
   "execution_count": 10,
   "id": "eb9ce357",
   "metadata": {},
   "outputs": [
    {
     "data": {
      "text/plain": [
       "array([2.        , 1.5       , 1.33333333, 1.25      , 1.2       ,\n",
       "       1.00210031])"
      ]
     },
     "execution_count": 10,
     "metadata": {},
     "output_type": "execute_result"
    }
   ],
   "source": [
    "factors/factors_shifted"
   ]
  },
  {
   "cell_type": "code",
   "execution_count": 11,
   "id": "90df3871",
   "metadata": {},
   "outputs": [
    {
     "data": {
      "text/plain": [
       "array([3, 4, 6, 8])"
      ]
     },
     "execution_count": 11,
     "metadata": {},
     "output_type": "execute_result"
    }
   ],
   "source": [
    "np.kron([1,2], [3,4])"
   ]
  }
 ],
 "metadata": {
  "kernelspec": {
   "display_name": "Python 3 (ipykernel)",
   "language": "python",
   "name": "python3"
  },
  "language_info": {
   "codemirror_mode": {
    "name": "ipython",
    "version": 3
   },
   "file_extension": ".py",
   "mimetype": "text/x-python",
   "name": "python",
   "nbconvert_exporter": "python",
   "pygments_lexer": "ipython3",
   "version": "3.10.9"
  }
 },
 "nbformat": 4,
 "nbformat_minor": 5
}
