{
 "cells": [
  {
   "cell_type": "code",
   "execution_count": 1,
   "id": "cabf93de-0b26-4033-9cd0-8d247c43e4f8",
   "metadata": {
    "ExecuteTime": {
     "end_time": "2024-09-19T13:19:32.085718Z",
     "start_time": "2024-09-19T13:19:31.895988Z"
    }
   },
   "outputs": [
    {
     "data": {
      "text/plain": "<Figure size 640x480 with 0 Axes>"
     },
     "metadata": {},
     "output_type": "display_data"
    }
   ],
   "source": [
    "import numpy as np\n",
    "import matplotlib.pyplot as plt\n",
    "import seaborn as sns\n",
    "from signals import *\n",
    "from frequencyestimator import *\n",
    "import itertools\n",
    "import time\n",
    "import copy\n",
    "\n",
    "sns.set_style(\"whitegrid\")\n",
    "sns.despine(left=True, bottom=True)\n",
    "sns.set_context(\"poster\", font_scale = .45, rc={\"grid.linewidth\": 0.8})"
   ]
  },
  {
   "cell_type": "markdown",
   "id": "47fcf5c4-607e-44b7-a74d-bef41ea19882",
   "metadata": {},
   "source": [
    "# Example Implementation\n",
    "\n",
    "Here we provide a minimal working example demonstrating how to use the code to estimate the amplitude using the ESPIRIT algorithm."
   ]
  },
  {
   "cell_type": "code",
   "execution_count": 9,
   "id": "4492b90a-adc8-43b2-8251-1be9e5586583",
   "metadata": {
    "ExecuteTime": {
     "end_time": "2024-09-19T13:27:27.380892Z",
     "start_time": "2024-09-19T13:27:26.965286Z"
    }
   },
   "outputs": [
    {
     "name": "stdout",
     "output_type": "stream",
     "text": [
      "[ 0.99730647+0.06576961j -0.07088796+0.99708942j]\n",
      "Objective: 1.5814984495499331\n",
      "Signs: [1, 1, 1, 1, 1, 1, 1]\n",
      "Signs Exact: [1.0, 1.0, -1.0, 1.0, 1.0, 1.0, -1.0]\n",
      "\n",
      "\n"
     ]
    },
    {
     "ename": "NameError",
     "evalue": "name 'itertools' is not defined",
     "output_type": "error",
     "traceback": [
      "\u001B[0;31m---------------------------------------------------------------------------\u001B[0m",
      "\u001B[0;31mNameError\u001B[0m                                 Traceback (most recent call last)",
      "Cell \u001B[0;32mIn[9], line 54\u001B[0m\n\u001B[1;32m     51\u001B[0m thetas[k] \u001B[38;5;241m=\u001B[39m theta_est            \n\u001B[1;32m     52\u001B[0m errors[k] \u001B[38;5;241m=\u001B[39m error\n\u001B[0;32m---> 54\u001B[0m all_signs \u001B[38;5;241m=\u001B[39m itertools\u001B[38;5;241m.\u001B[39mproduct([\u001B[38;5;241m1.0\u001B[39m, \u001B[38;5;241m-\u001B[39m\u001B[38;5;241m1.0\u001B[39m], repeat \u001B[38;5;241m=\u001B[39m \u001B[38;5;28mlen\u001B[39m(ula_signal\u001B[38;5;241m.\u001B[39msigns_exact))\n\u001B[1;32m     55\u001B[0m \u001B[38;5;28mprint\u001B[39m(all_signs)\n\u001B[1;32m     57\u001B[0m signs \u001B[38;5;241m=\u001B[39m [k \u001B[38;5;28;01mfor\u001B[39;00m k \u001B[38;5;129;01min\u001B[39;00m ula_signal\u001B[38;5;241m.\u001B[39msigns_exact]\n",
      "\u001B[0;31mNameError\u001B[0m: name 'itertools' is not defined"
     ]
    }
   ],
   "source": [
    "# For reproducibility\n",
    "np.random.seed(8)\n",
    "# Set the per oracle noise parameter (See Eq. 18)\n",
    "eta=0\n",
    "# Set the array parameters (See Thm. II.2 and Eq. 12) \n",
    "narray = [3, 3, 3, 3, 2, 2, 2, 2]\n",
    "narray = [2,2,2,2,2,2,2,2,2,2]\n",
    "q=6\n",
    "narray = [2]*q\n",
    "# Set the actual amplitude\n",
    "a=0.4\n",
    "theta = np.arcsin(a)\n",
    "\n",
    "# This sets up the simulation that simulates the measured amplitudes at the various physical locations.\n",
    "# It uses a C=1.5 value, which corresponds to the sampling schedule given in Eq. 16. The variable C here \n",
    "# is the parameter K in the paper.\n",
    "ula_signal = TwoqULASignal(M=narray, C=10)\n",
    "# Number of Monte Carlo trials used to estimate statistics. We tend to use 500 in the paper. Choose 100 here for speed.\n",
    "num_mc = 1\n",
    "thetas = np.zeros(num_mc, dtype = float)\n",
    "errors = np.zeros(num_mc, dtype = float)\n",
    "\n",
    "# Sets up the ESPIRIT object to estimate the amplitude\n",
    "espirit = ESPIRIT()\n",
    "\n",
    "signs = [1]*(q+1)\n",
    "signs[0] = 1\n",
    "sign_overlap = 0\n",
    "# signs = [1, 1, 1, -1, 1, 1]\n",
    "# signs = [1.0, 1.0, 1.0, -1.0, 1.0, 1.0]\n",
    "\n",
    "for k in range(num_mc):\n",
    "    # This estimates the covariance matrix of Eq. 8 using the approch given in DOI:10.1109/LSP.2015.2409153\n",
    "\n",
    "    # Greedy search\n",
    "    ula_signal.estimate_signal(n_samples=ula_signal.n_samples, theta=theta, eta=eta)\n",
    "    signal = ula_signal.update_signal_signs(signs)\n",
    "    R = ula_signal.get_cov_matrix_toeplitz(signal)\n",
    "    # This estimates the angle using the ESPIRIT algorithm\n",
    "    theta_est, eigs = espirit.estimate_theta_toeplitz(R)\n",
    "    print(eigs)\n",
    "    objective = np.abs(espirit.eigs[0]) - np.abs(espirit.eigs[1])\n",
    "    print(f'Objective: {objective}')\n",
    "    print(f'Signs: {signs}')\n",
    "    print(f'Signs Exact: {ula_signal.signs_exact}\\n\\n\\n\\n')\n",
    "    # print(f'Error: {np.abs(np.sin(theta)-np.sin(theta_est))}\\n')\n",
    "    \n",
    "\n",
    "    # Estimate the error between estimated a and actual a\n",
    "    error = np.abs(np.sin(theta)-np.sin(theta_est)) \n",
    "    thetas[k] = theta_est            \n",
    "    errors[k] = error\n",
    "\n",
    "    all_signs = itertools.product([1.0, -1.0], repeat = len(ula_signal.signs_exact))\n",
    "    print(all_signs)\n",
    "    \n",
    "    signs = [k for k in ula_signal.signs_exact]\n",
    "    # signal = ula_signal.estimate_signal(n_samples=ula_signal.n_samples, theta=theta, eta=eta, signs=signs)\n",
    "    signal = ula_signal.update_signal_signs(signs)\n",
    "    R = ula_signal.get_cov_matrix_toeplitz(signal)\n",
    "    # This estimates the angle using the ESPIRIT algorithm\n",
    "    theta_est, eigs = espirit.estimate_theta_toeplitz(R)\n",
    "    # print(np.abs(espirit.eigs[0])/np.sum(np.abs(espirit.eigs[1:])))\n",
    "    # print(eigs)\n",
    "    # print(np.angle(eigs[0])/np.pi)\n",
    "    # print(np.angle(eigs[1])/np.pi)\n",
    "    # objective_new = np.abs(np.abs(np.angle(eigs[0])) - np.abs(np.angle(eigs[1])))\n",
    "    # objective_new = np.abs(espirit.eigs[0])/np.sum(np.abs(espirit.eigs[1:]))\n",
    "    objective_new = np.abs(espirit.eigs[0]) - np.abs(espirit.eigs[1])\n",
    "    # print(f'Objective: {objective}')\n",
    "    print(f'Objective New: {objective_new}')\n",
    "    print(f'Signs: {signs}\\n')\n",
    "    # print(f'Error: {np.abs(np.sin(theta)-np.sin(theta_est))}')\n",
    "    \n",
    "\n",
    "    if objective_new > objective:\n",
    "        # print('here')\n",
    "        # print(f'objective: {objective}')\n",
    "        # print(f'objective_new: {objective_new}')\n",
    "        objective = objective_new\n",
    "        signs_found = signs\n",
    "\n",
    "        # Estimate the error between estimated a and actual a\n",
    "        error = np.abs(np.sin(theta)-np.sin(theta_est)) \n",
    "        thetas[k] = theta_est            \n",
    "        errors[k] = error\n",
    "        # print(theta_est)\n",
    "    else:\n",
    "        signs[j+1] = -1*signs[j+1]\n",
    "        signs_found = signs\n",
    "\n",
    "    # print('\\n')\n",
    "\n",
    "    print(f'Signs found: {signs_found}')\n",
    "    # print(f'Signs exact: {ula_signal.signs_exact}')\n",
    "    sign_overlap = sign_overlap + np.abs(np.dot(ula_signal.signs_exact, signs_found))/len(signs_found)/num_mc\n",
    "\n",
    "    # R = ula_signal.get_cov_matrix(theta, n_samples=ula_signal.n_samples, eta=eta)\n",
    "    # theta_est = espirit.estimate_theta(R)\n",
    "    \n",
    "    \n",
    "\n",
    "# Compute the total number of queries. The additional count of ula_signal.n_samples[0]/2 is to \n",
    "# account for the fact that the Grover oracle has two invocations of the unitary U, but is \n",
    "# preceded by a single invocation of U (see Eq. 2 in paper). This accounts for the shots required\n",
    "# for that single U operator, which costs half as much as the Grover oracle.\n",
    "num_queries = np.sum(np.array(ula_signal.depths)*np.array(ula_signal.n_samples)) + ula_signal.n_samples[0]/2\n",
    "# Compute the maximum single query\n",
    "max_single_query = np.max(ula_signal.depths)\n",
    "\n",
    "print(f'Average sign overlap: {sign_overlap}')\n",
    "print(f'Array parameters: {narray}')\n",
    "print(f'Number of queries: {num_queries}')\n",
    "print(f'theta: {theta}')\n",
    "print(f'Ave theta estimated: {np.mean(thetas)}')\n",
    "print(f'a = {a}; a_est = {np.sin(np.mean(thetas))}')\n",
    "print(f'Max Single Query: {max_single_query}')\n",
    "print(f'99% percentile: {np.percentile(errors, 99):e}')\n",
    "print(f'95% percentile: {np.percentile(errors, 95):e}')\n",
    "print(f'68% percentile: {np.percentile(errors, 68):e}')\n",
    "print(f'99% percentile constant: {np.percentile(errors, 99)*num_queries:f}')\n",
    "print(f'95% percentile constant: {np.percentile(errors, 95)*num_queries:f}')\n",
    "print(f'68% percentile constant: {np.percentile(errors, 68)*num_queries:f}')\n",
    "print()"
   ]
  },
  {
   "cell_type": "code",
   "execution_count": null,
   "id": "020d3b42-af68-4a4d-9658-e72213951fe6",
   "metadata": {},
   "outputs": [],
   "source": []
  }
 ],
 "metadata": {
  "kernelspec": {
   "display_name": "Python 3 (ipykernel)",
   "language": "python",
   "name": "python3"
  },
  "language_info": {
   "codemirror_mode": {
    "name": "ipython",
    "version": 3
   },
   "file_extension": ".py",
   "mimetype": "text/x-python",
   "name": "python",
   "nbconvert_exporter": "python",
   "pygments_lexer": "ipython3",
   "version": "3.11.8"
  }
 },
 "nbformat": 4,
 "nbformat_minor": 5
}
